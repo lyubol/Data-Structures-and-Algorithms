{
 "cells": [
  {
   "cell_type": "markdown",
   "metadata": {},
   "source": [
    "# What is a Dictionary?"
   ]
  },
  {
   "cell_type": "markdown",
   "metadata": {},
   "source": [
    "A dictionary is a kind of `data structure` that stores items in `key-value pairs`. A key is a unique identifier for an item, and a value is the data associated with that key. Dictionaries often store information such as words and definitions, but they can be used for much more. Dictionaries are `mutable` in Python, which means they can be changed after they are created. They are also `unordered`, indicating the items in a dictionary are not stored in any particular order."
   ]
  },
  {
   "cell_type": "markdown",
   "metadata": {},
   "source": [
    "## Creating a dictionary"
   ]
  },
  {
   "cell_type": "markdown",
   "metadata": {},
   "source": [
    "### Creating empty dictionary"
   ]
  },
  {
   "cell_type": "code",
   "execution_count": 40,
   "metadata": {},
   "outputs": [
    {
     "name": "stdout",
     "output_type": "stream",
     "text": [
      "{}\n",
      "{}\n"
     ]
    }
   ],
   "source": [
    "# Method 1: Using dict()\n",
    "my_dict = dict()\n",
    "print(my_dict)\n",
    "\n",
    "# Method 2: Using curly braces\n",
    "my_dict2 = {}\n",
    "print(my_dict2)"
   ]
  },
  {
   "cell_type": "markdown",
   "metadata": {},
   "source": [
    "### Creating dictionary with key-value pairs"
   ]
  },
  {
   "cell_type": "code",
   "execution_count": 50,
   "metadata": {},
   "outputs": [
    {
     "name": "stdout",
     "output_type": "stream",
     "text": [
      "{'one': 'uno', 'two': 'dos', 'three': 'tres'}\n",
      "{'one': 'uno', 'two': 'dos', 'three': 'tres'}\n",
      "{'one': 'uno', 'two': 'dos', 'three': 'tres'}\n"
     ]
    }
   ],
   "source": [
    "# Using dict() with keyword arguments\n",
    "eng_sp = dict(one='uno', two='dos', three='tres')\n",
    "print(eng_sp)\n",
    "\n",
    "eng_sp2 = {'one':'uno', 'two':'dos', 'three':'tres'}\n",
    "print(eng_sp2)\n",
    "\n",
    "# Using dict() with a list of tuples\n",
    "eng_sp_list = [('one','uno'), ('two','dos'), ('three','tres')]\n",
    "eng_sp3 = dict(eng_sp_list)\n",
    "print(eng_sp3)"
   ]
  },
  {
   "cell_type": "markdown",
   "metadata": {},
   "source": [
    "`Time complexity` of creating an empty dictionary is O(1) and creating a dictionary with key-value pairs is O(n);\n",
    "\n",
    "`Space complexity` of creating an empty dictionary is O(1) and creating a dictionary with key-value pairs is O(n);"
   ]
  },
  {
   "cell_type": "markdown",
   "metadata": {},
   "source": [
    "## Dictionaries in memory"
   ]
  },
  {
   "cell_type": "markdown",
   "metadata": {},
   "source": [
    "In Python, `dictionaries are implemented as hash tables`, which are `arrays of key-value pairs that are indexed using a hash function`. When a dictionary is created, Python allocates a block of memory to store the hash table and initializes it with a fixed number of empty slots. \n",
    "\n",
    "When a key-value pair is added to the dictionary, Python computes the hash value of the key using a hash function and uses it to determine the index of the slot where the key-value pair should be stored. If the slot is already occupied, Python uses a collision resolution strategy (such as open addressing or chaining) to find an empty slot.\n",
    "\n",
    "To retrieve a value from a dictionary, Python computes the hash value of the key and uses it to look up the corresponding slot in the hash table. If the slot contains the desired key-value pair, Python returns the value. If the slot is empty or contains a different key-value pair, Python uses the collision resolution strategy to find the correct slot.\n",
    "\n",
    "The hash table in a dictionary is dynamically resized as needed to accommodate more key-value pairs. When the number of key-value pairs in the dictionary exceeds a certain threshold, Python allocates a new, larger block of memory for the hash table and rehashes all the key-value pairs to distribute them evenly across the new hash table."
   ]
  },
  {
   "cell_type": "markdown",
   "metadata": {},
   "source": [
    "## Insert / Update an element in a dictionary"
   ]
  },
  {
   "cell_type": "code",
   "execution_count": 51,
   "metadata": {},
   "outputs": [],
   "source": [
    "# Define a dictionary\n",
    "myDict = {'name':'Edy', 'age':26}"
   ]
  },
  {
   "cell_type": "markdown",
   "metadata": {},
   "source": [
    "### Update an element in a dictionary"
   ]
  },
  {
   "cell_type": "code",
   "execution_count": 43,
   "metadata": {},
   "outputs": [
    {
     "name": "stdout",
     "output_type": "stream",
     "text": [
      "{'name': 'Edy', 'age': 27}\n"
     ]
    }
   ],
   "source": [
    "# Set the value for the key 'age' to 27\n",
    "myDict['age'] = 27\n",
    "\n",
    "print(myDict)"
   ]
  },
  {
   "cell_type": "markdown",
   "metadata": {},
   "source": [
    "### Insert an element in a dictionary"
   ]
  },
  {
   "cell_type": "code",
   "execution_count": 44,
   "metadata": {},
   "outputs": [
    {
     "name": "stdout",
     "output_type": "stream",
     "text": [
      "{'name': 'Edy', 'age': 27, 'city': 'London'}\n"
     ]
    }
   ],
   "source": [
    "# If a key doesn't exist, it will be created\n",
    "myDict['city'] = 'London'\n",
    "\n",
    "print(myDict)"
   ]
  },
  {
   "cell_type": "markdown",
   "metadata": {},
   "source": [
    "`Time complexity` is `O(1)` for both update and insert operations;\n",
    "\n",
    "`Space complexity` is `O(1)` for both update and insert operations. It could to `O(n)` change if the dictionary needs to be resized (`amortized O(1) time complexity`)."
   ]
  },
  {
   "cell_type": "markdown",
   "metadata": {},
   "source": [
    "## Traversing a dictionary"
   ]
  },
  {
   "cell_type": "code",
   "execution_count": 45,
   "metadata": {},
   "outputs": [
    {
     "name": "stdout",
     "output_type": "stream",
     "text": [
      "name Edy\n",
      "age 27\n",
      "city London\n"
     ]
    }
   ],
   "source": [
    "def traverseDict(dict):\n",
    "    for key, value in dict.items():\n",
    "        print(key, value)\n",
    "\n",
    "traverseDict(myDict)"
   ]
  },
  {
   "cell_type": "markdown",
   "metadata": {},
   "source": [
    "`Time complexity` is `O(n)`;\n",
    "\n",
    "`Space complexity` is `O(1)`."
   ]
  },
  {
   "cell_type": "markdown",
   "metadata": {},
   "source": [
    "## Searching for an element in a dictionary"
   ]
  },
  {
   "cell_type": "code",
   "execution_count": 46,
   "metadata": {},
   "outputs": [
    {
     "name": "stdout",
     "output_type": "stream",
     "text": [
      "('name', 'Edy')\n"
     ]
    }
   ],
   "source": [
    "def searchDict(dict, value):\n",
    "    for key in dict:\n",
    "        if dict[key] == value:\n",
    "            return key, value\n",
    "    return None\n",
    "\n",
    "print(searchDict(myDict, 'Edy'))"
   ]
  },
  {
   "cell_type": "markdown",
   "metadata": {},
   "source": [
    "`Time complexity` is `O(n)`;\n",
    "\n",
    "`Space complexity` is `O(1)`."
   ]
  },
  {
   "cell_type": "markdown",
   "metadata": {},
   "source": [
    "## Delete / Remove an element from a dictionary"
   ]
  },
  {
   "cell_type": "markdown",
   "metadata": {},
   "source": [
    "`del`"
   ]
  },
  {
   "cell_type": "code",
   "execution_count": 47,
   "metadata": {},
   "outputs": [
    {
     "name": "stdout",
     "output_type": "stream",
     "text": [
      "{'name': 'Edy', 'age': 27, 'city': 'London'}\n",
      "{'name': 'Edy', 'city': 'London'}\n"
     ]
    }
   ],
   "source": [
    "# Before deleting an element\n",
    "print(myDict)\n",
    "\n",
    "# Method 1: Using del\n",
    "del myDict['age']\n",
    "\n",
    "print(myDict)"
   ]
  },
  {
   "cell_type": "markdown",
   "metadata": {},
   "source": [
    "`pop()`"
   ]
  },
  {
   "cell_type": "code",
   "execution_count": 48,
   "metadata": {},
   "outputs": [
    {
     "name": "stdout",
     "output_type": "stream",
     "text": [
      "{'name': 'Edy', 'city': 'London'}\n",
      "{'name': 'Edy'}\n",
      "London\n"
     ]
    }
   ],
   "source": [
    "# Before poping an element\n",
    "print(myDict)\n",
    "\n",
    "# Method 2: Using pop(). Pop takes a key as a parameter and a default value in case the key doesn't exist. Pop returns the value of the removed element\n",
    "removed_element = myDict.pop('city', None)\n",
    "\n",
    "print(myDict)\n",
    "print(removed_element)"
   ]
  },
  {
   "cell_type": "markdown",
   "metadata": {},
   "source": [
    "`popitem()`"
   ]
  },
  {
   "cell_type": "code",
   "execution_count": 49,
   "metadata": {},
   "outputs": [
    {
     "name": "stdout",
     "output_type": "stream",
     "text": [
      "{'name': 'Edy'}\n",
      "{}\n",
      "('name', 'Edy')\n"
     ]
    }
   ],
   "source": [
    "# Before poping an element\n",
    "print(myDict)\n",
    "\n",
    "# Method 3: Using popitem(). Popitem removes the last inserted key-value pair\n",
    "poped_element = myDict.popitem()\n",
    "\n",
    "print(myDict)\n",
    "print(poped_element)"
   ]
  },
  {
   "cell_type": "markdown",
   "metadata": {},
   "source": [
    "`clear()`"
   ]
  },
  {
   "cell_type": "code",
   "execution_count": 52,
   "metadata": {},
   "outputs": [
    {
     "name": "stdout",
     "output_type": "stream",
     "text": [
      "{'name': 'Edy', 'age': 26}\n",
      "{}\n"
     ]
    }
   ],
   "source": [
    "# Before clearing the dictionary\n",
    "print(myDict)\n",
    "\n",
    "# Method 4: Using clear(). Clear removes all the elements from the dictionary\n",
    "myDict.clear()\n",
    "\n",
    "print(myDict)"
   ]
  },
  {
   "cell_type": "markdown",
   "metadata": {},
   "source": [
    "`Time complexity` is `O(1)` for all methods except the `clear()` method. The `clear()` method has a time complexity of `O(n)` because it removes all the elements from the dictionary;\n",
    "\n",
    "`Space complexity` is `O(1)` because the dictionary is modified in-place and additional memory is not allocated."
   ]
  },
  {
   "cell_type": "markdown",
   "metadata": {},
   "source": [
    "## Dictionary methods"
   ]
  },
  {
   "cell_type": "code",
   "execution_count": 87,
   "metadata": {},
   "outputs": [],
   "source": [
    "# Define a dictionary\n",
    "myDict = {'name':'Edy', 'age':26, 'city':'London', 'education':'MSc'}"
   ]
  },
  {
   "cell_type": "markdown",
   "metadata": {},
   "source": [
    "`clear()` - Removes all the elements from the dictionary"
   ]
  },
  {
   "cell_type": "code",
   "execution_count": 88,
   "metadata": {},
   "outputs": [
    {
     "name": "stdout",
     "output_type": "stream",
     "text": [
      "{'name': 'Edy', 'age': 26, 'city': 'London', 'education': 'MSc'}\n",
      "{}\n"
     ]
    }
   ],
   "source": [
    "# Beofre clearing the dictionary\n",
    "print(myDict)\n",
    "\n",
    "myDict.clear()\n",
    "\n",
    "print(myDict)"
   ]
  },
  {
   "cell_type": "markdown",
   "metadata": {},
   "source": [
    "`copy()` - Returns a shallow copy of the dictionary. Does not modify the original dictionary"
   ]
  },
  {
   "cell_type": "code",
   "execution_count": 89,
   "metadata": {},
   "outputs": [
    {
     "name": "stdout",
     "output_type": "stream",
     "text": [
      "{}\n",
      "{}\n"
     ]
    }
   ],
   "source": [
    "myDictCopy = myDict.copy()\n",
    "\n",
    "print(myDict)\n",
    "print(myDictCopy)"
   ]
  },
  {
   "cell_type": "markdown",
   "metadata": {},
   "source": [
    "`fromkeys()` - Returns a new dictionary with the specified keys and values"
   ]
  },
  {
   "cell_type": "code",
   "execution_count": 90,
   "metadata": {},
   "outputs": [
    {
     "name": "stdout",
     "output_type": "stream",
     "text": [
      "{'name': 'unknown', 'age': 'unknown', 'city': 'unknown', 'education': 'unknown'}\n"
     ]
    }
   ],
   "source": [
    "newDict = {}.fromkeys(['name', 'age', 'city', 'education'], 'unknown')\n",
    "\n",
    "print(newDict)"
   ]
  },
  {
   "cell_type": "markdown",
   "metadata": {},
   "source": [
    "`get()` - Returns the value of the specified key. If the key does not exist, returns None"
   ]
  },
  {
   "cell_type": "code",
   "execution_count": 91,
   "metadata": {},
   "outputs": [
    {
     "name": "stdout",
     "output_type": "stream",
     "text": [
      "Not found\n",
      "Not found\n"
     ]
    }
   ],
   "source": [
    "# If value is not specified, it will be set to None or the specified default value\n",
    "print(myDict.get('email', 'Not found'))\n",
    "\n",
    "print(myDict.get('name', 'Not found'))"
   ]
  },
  {
   "cell_type": "markdown",
   "metadata": {},
   "source": [
    "`items()` - Returns a list of key-value pairs in the dictionary"
   ]
  },
  {
   "cell_type": "code",
   "execution_count": 92,
   "metadata": {},
   "outputs": [
    {
     "name": "stdout",
     "output_type": "stream",
     "text": [
      "dict_items([])\n"
     ]
    }
   ],
   "source": [
    "print(myDict.items())"
   ]
  },
  {
   "cell_type": "markdown",
   "metadata": {},
   "source": [
    "`keys()` - Returns a list of keys in the dictionary"
   ]
  },
  {
   "cell_type": "code",
   "execution_count": 93,
   "metadata": {},
   "outputs": [
    {
     "name": "stdout",
     "output_type": "stream",
     "text": [
      "dict_keys([])\n"
     ]
    }
   ],
   "source": [
    "print(myDict.keys())"
   ]
  },
  {
   "cell_type": "markdown",
   "metadata": {},
   "source": [
    "`values()` - Returns a list of values in the dictionary"
   ]
  },
  {
   "cell_type": "code",
   "execution_count": 94,
   "metadata": {},
   "outputs": [
    {
     "name": "stdout",
     "output_type": "stream",
     "text": [
      "dict_values([])\n"
     ]
    }
   ],
   "source": [
    "print(myDict.values())"
   ]
  },
  {
   "cell_type": "markdown",
   "metadata": {},
   "source": [
    "`setdefault()` - Returns the value of the specified key. If the key does not exist, inserts the key, with the specified value"
   ]
  },
  {
   "cell_type": "code",
   "execution_count": 95,
   "metadata": {},
   "outputs": [
    {
     "data": {
      "text/plain": [
       "'Tim'"
      ]
     },
     "execution_count": 95,
     "metadata": {},
     "output_type": "execute_result"
    }
   ],
   "source": [
    "# Returns the value of the key if it exists.\n",
    "myDict.setdefault('name', 'Tim')"
   ]
  },
  {
   "cell_type": "code",
   "execution_count": 96,
   "metadata": {},
   "outputs": [
    {
     "name": "stdout",
     "output_type": "stream",
     "text": [
      "{'name': 'Tim', 'name1': 'Tim'}\n"
     ]
    }
   ],
   "source": [
    "# If the key doesn't exist, it will be created and the value will be set to the default value\n",
    "myDict.setdefault('name1', 'Tim')\n",
    "\n",
    "print(myDict)"
   ]
  },
  {
   "cell_type": "markdown",
   "metadata": {},
   "source": [
    "`pop()` - Removes the element with the specified key"
   ]
  },
  {
   "cell_type": "code",
   "execution_count": 97,
   "metadata": {},
   "outputs": [
    {
     "name": "stdout",
     "output_type": "stream",
     "text": [
      "{'name': 'Tim', 'name1': 'Tim'}\n",
      "{'name': 'Tim'}\n"
     ]
    }
   ],
   "source": [
    "print(myDict)\n",
    "\n",
    "myDict.pop('name1')\n",
    "\n",
    "# If the key doesn't exist, it will return the default value\n",
    "myDict.pop('name1', \"Key does not exist\")\n",
    "\n",
    "print(myDict)"
   ]
  },
  {
   "cell_type": "markdown",
   "metadata": {},
   "source": [
    "`update()` - Updates the dictionary with the specified key-value pairs"
   ]
  },
  {
   "cell_type": "code",
   "execution_count": 106,
   "metadata": {},
   "outputs": [],
   "source": [
    "# Defeine a dictionaries\n",
    "myDict = {'name':'Edy', 'age':26, 'city':'London', 'education':'MSc'}\n",
    "newDict = {'name':'Tim', 'age':36, 'city':'Houston', 'education':'MSc'}"
   ]
  },
  {
   "cell_type": "code",
   "execution_count": 107,
   "metadata": {},
   "outputs": [
    {
     "name": "stdout",
     "output_type": "stream",
     "text": [
      "{'name': 'Edy', 'age': 26, 'city': 'London', 'education': 'MSc'}\n",
      "{'name': 'Tim', 'age': 36, 'city': 'Houston', 'education': 'MSc'}\n"
     ]
    }
   ],
   "source": [
    "# Before updating the dictionary\n",
    "print(myDict)\n",
    "\n",
    "myDict.update(newDict)\n",
    "\n",
    "print(myDict)"
   ]
  },
  {
   "cell_type": "markdown",
   "metadata": {},
   "source": [
    "## Dictionary operations"
   ]
  },
  {
   "cell_type": "code",
   "execution_count": 108,
   "metadata": {},
   "outputs": [],
   "source": [
    "# Define a dictionary\n",
    "myDict = {\n",
    "    3: 'three',\n",
    "    5: 'five',\n",
    "    9: 'nine',\n",
    "    2: 'two',\n",
    "    1: 'one',\n",
    "    4: 'four',\n",
    "}"
   ]
  },
  {
   "cell_type": "markdown",
   "metadata": {},
   "source": [
    "`in / not in` - Returns True if the specified key is in the dictionary"
   ]
  },
  {
   "cell_type": "code",
   "execution_count": 110,
   "metadata": {},
   "outputs": [
    {
     "name": "stdout",
     "output_type": "stream",
     "text": [
      "True\n",
      "False\n"
     ]
    }
   ],
   "source": [
    "# The operator works on the keys not the values\n",
    "print(3 in myDict)\n",
    "print('three' in myDict)"
   ]
  },
  {
   "cell_type": "code",
   "execution_count": 111,
   "metadata": {},
   "outputs": [
    {
     "name": "stdout",
     "output_type": "stream",
     "text": [
      "True\n"
     ]
    }
   ],
   "source": [
    "# Use the values() method to check if a value exists\n",
    "print('three' in myDict.values())"
   ]
  },
  {
   "cell_type": "markdown",
   "metadata": {},
   "source": [
    "`len()` - Returns the number of key-value pairs in the dictionary"
   ]
  },
  {
   "cell_type": "code",
   "execution_count": 114,
   "metadata": {},
   "outputs": [
    {
     "data": {
      "text/plain": [
       "6"
      ]
     },
     "execution_count": 114,
     "metadata": {},
     "output_type": "execute_result"
    }
   ],
   "source": [
    "# Count the number of pairs in the dictionary\n",
    "len(myDict)"
   ]
  },
  {
   "cell_type": "markdown",
   "metadata": {},
   "source": [
    "`all()` - Returns True if all the keys in the dictionary are True"
   ]
  },
  {
   "cell_type": "code",
   "execution_count": 118,
   "metadata": {},
   "outputs": [
    {
     "name": "stdout",
     "output_type": "stream",
     "text": [
      "False\n"
     ]
    }
   ],
   "source": [
    "# All keys are false\n",
    "myDictTemp = {\n",
    "    0: 'zero',\n",
    "    False: 'False'\n",
    "}\n",
    "\n",
    "print(all(myDictTemp))"
   ]
  },
  {
   "cell_type": "code",
   "execution_count": 119,
   "metadata": {},
   "outputs": [
    {
     "name": "stdout",
     "output_type": "stream",
     "text": [
      "False\n"
     ]
    }
   ],
   "source": [
    "# Some keys are false\n",
    "myDictTemp = {\n",
    "    1: 'one',\n",
    "    False: 'False'\n",
    "}\n",
    "\n",
    "print(all(myDictTemp))"
   ]
  },
  {
   "cell_type": "code",
   "execution_count": 120,
   "metadata": {},
   "outputs": [
    {
     "name": "stdout",
     "output_type": "stream",
     "text": [
      "True\n"
     ]
    }
   ],
   "source": [
    "# All keys are true\n",
    "myDictTemp = {\n",
    "    1: 'one',\n",
    "    True: 'True'\n",
    "}\n",
    "\n",
    "print(all(myDictTemp))"
   ]
  },
  {
   "cell_type": "code",
   "execution_count": null,
   "metadata": {},
   "outputs": [],
   "source": [
    "myDictTemp = {\n",
    "    0: 'zero',\n",
    "    False: 'False'\n",
    "}\n",
    "\n",
    "print(all(myDictTemp))"
   ]
  },
  {
   "cell_type": "markdown",
   "metadata": {},
   "source": [
    "`any()` - Returns True if any of the keys in the dictionary are True"
   ]
  },
  {
   "cell_type": "code",
   "execution_count": 123,
   "metadata": {},
   "outputs": [
    {
     "name": "stdout",
     "output_type": "stream",
     "text": [
      "True\n"
     ]
    }
   ],
   "source": [
    "# Some keys are true\n",
    "myDictTemp = {\n",
    "    1: 'one',\n",
    "    False: 'False'\n",
    "}\n",
    "\n",
    "print(any(myDictTemp))"
   ]
  },
  {
   "cell_type": "markdown",
   "metadata": {},
   "source": [
    "`sorted()` - Returns a list of keys in the dictionary, sorted in ascending order"
   ]
  },
  {
   "cell_type": "code",
   "execution_count": 124,
   "metadata": {},
   "outputs": [
    {
     "name": "stdout",
     "output_type": "stream",
     "text": [
      "[1, 2, 3, 4, 5, 9]\n"
     ]
    }
   ],
   "source": [
    "print(sorted(myDict))"
   ]
  },
  {
   "cell_type": "markdown",
   "metadata": {},
   "source": [
    "## Dictionaries vs. Lists"
   ]
  },
  {
   "cell_type": "markdown",
   "metadata": {},
   "source": [
    "| `Dictionary`                                  | `List`                                |\n",
    "| --------------------------------------------- | ------------------------------------- |\n",
    "| Unordered                                     | Ordered                               |\n",
    "| Access via keys                               | Access via indexes                    |\n",
    "| Collection of key value pairs                 | Collection of elements                |\n",
    "| Preferred when you have unique key values     | Preferred when you have ordered data  |\n",
    "| No duplicate members                          | Allow duplicate members               |"
   ]
  },
  {
   "cell_type": "markdown",
   "metadata": {},
   "source": [
    "## Time and Space Complexity of Dictionary Operations"
   ]
  },
  {
   "cell_type": "markdown",
   "metadata": {},
   "source": [
    "| `Operation`                                   | `Time Complexity`                     | `Space complexity`                    |\n",
    "| --------------------------------------------- | ------------------------------------- | ------------------------------------- |\n",
    "| Creating a dictionary                         | O(len(dict))                          | O(n)                                  |\n",
    "| Inserting a value in a dictionary             | O(1)/O(n)                             | O(1)                                  |\n",
    "| Traversing a given dictionary                 | O(n)                                  | O(1)                                  |\n",
    "| Accessing a given cell                        | O(1)                                  | O(1)                                  |\n",
    "| Searching a given value                       | O(n)                                  | O(1)                                  |\n",
    "| Deleting a given value                        | O(1)                                  | O(1)                                  |"
   ]
  },
  {
   "cell_type": "markdown",
   "metadata": {},
   "source": [
    "## Dictionary Comprehension"
   ]
  },
  {
   "cell_type": "code",
   "execution_count": 129,
   "metadata": {},
   "outputs": [
    {
     "name": "stdout",
     "output_type": "stream",
     "text": [
      "{2: 'two', 4: 'four'}\n"
     ]
    }
   ],
   "source": [
    "print({key:value for key, value in myDict.items() if key % 2 == 0})"
   ]
  },
  {
   "cell_type": "code",
   "execution_count": 136,
   "metadata": {},
   "outputs": [
    {
     "name": "stdout",
     "output_type": "stream",
     "text": [
      "{'London': 21, 'Paris': 23, 'Rome': 33, 'Los Angeles': 38, 'New York': 36}\n",
      "{'Rome': 33, 'Los Angeles': 38, 'New York': 36}\n"
     ]
    }
   ],
   "source": [
    "import random\n",
    "\n",
    "# Define a list of cities\n",
    "city_names = ['London', 'Paris', 'Rome', 'Los Angeles', 'New York']\n",
    "\n",
    "# Generate a random temperature for each city and store the result as a key-value pair in a dictionary\n",
    "city_temps = {key: random.randint(20,40) for key in city_names}\n",
    "print(city_temps)\n",
    "\n",
    "# Select cities where the temperature is greater than 25\n",
    "high_city_temps = {city:temp for city, temp in city_temps.items() if temp > 25}\n",
    "print(high_city_temps)"
   ]
  }
 ],
 "metadata": {
  "kernelspec": {
   "display_name": "Python 3",
   "language": "python",
   "name": "python3"
  },
  "language_info": {
   "codemirror_mode": {
    "name": "ipython",
    "version": 3
   },
   "file_extension": ".py",
   "mimetype": "text/x-python",
   "name": "python",
   "nbconvert_exporter": "python",
   "pygments_lexer": "ipython3",
   "version": "3.9.13"
  },
  "orig_nbformat": 4
 },
 "nbformat": 4,
 "nbformat_minor": 2
}
