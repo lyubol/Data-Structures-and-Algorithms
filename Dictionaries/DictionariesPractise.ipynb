{
 "cells": [
  {
   "cell_type": "markdown",
   "metadata": {},
   "source": [
    "## 1. Count Word Frequency"
   ]
  },
  {
   "cell_type": "markdown",
   "metadata": {},
   "source": [
    "Define a function to count the frequency of words in a given list of words.\n",
    "\n",
    "`Example`: words = ['apple', 'orange', 'banana', 'apple', 'orange', 'apple'] \n",
    "count_word_frequency(words) \n",
    "\n",
    "`Output`: {'apple': 3, 'orange': 2, 'banana': 1}"
   ]
  },
  {
   "cell_type": "code",
   "execution_count": 1,
   "metadata": {},
   "outputs": [
    {
     "name": "stdout",
     "output_type": "stream",
     "text": [
      "{'apple': 3, 'orange': 2, 'banana': 1}\n"
     ]
    }
   ],
   "source": [
    "def count_word_frequency(words):\n",
    "    output = {}\n",
    "    for word in words:\n",
    "        if word in output:\n",
    "            output[word] += 1\n",
    "        else:\n",
    "            output[word] = 1\n",
    "    return output\n",
    "\n",
    "\n",
    "words = ['apple', 'orange', 'banana', 'apple', 'orange', 'apple'] \n",
    "print(count_word_frequency(words))"
   ]
  },
  {
   "cell_type": "code",
   "execution_count": 10,
   "metadata": {},
   "outputs": [
    {
     "name": "stdout",
     "output_type": "stream",
     "text": [
      "{'apple': 3, 'orange': 2, 'banana': 1}\n"
     ]
    }
   ],
   "source": [
    "# You can also use the get() method\n",
    "def count_word_frequency(words):\n",
    "    output = {}\n",
    "    for word in words:\n",
    "        output[word] = output.get(word, 0) + 1\n",
    "    return output\n",
    "\n",
    "\n",
    "words = ['apple', 'orange', 'banana', 'apple', 'orange', 'apple'] \n",
    "print(count_word_frequency(words))"
   ]
  },
  {
   "cell_type": "markdown",
   "metadata": {},
   "source": [
    "The `time complexity` of this exercise is `O(n)`, where n is the number of words in the input list. The loop iterates through each word in the list once, and the dictionary operations (get and update) take constant time, O(1), on average.\n",
    "\n",
    "The `space complexity` of this exercise is also `O(n)`, where n is the number of unique words in the input list. In the worst case, all words are unique, and the word_count dictionary will have n entries."
   ]
  },
  {
   "cell_type": "markdown",
   "metadata": {},
   "source": [
    "## 2. Common Keys"
   ]
  },
  {
   "cell_type": "markdown",
   "metadata": {},
   "source": [
    "Define a function which takes two dictionaries as parameters and merge them and sum the values of common keys.\n",
    "\n",
    "`Example`: dict1 = {'a': 1, 'b': 2, 'c': 3}\n",
    "dict2 = {'b': 3, 'c': 4, 'd': 5}\n",
    "merge_dicts(dict1, dict2)\n",
    "\n",
    "`Output`: {'a': 1, 'b': 5, 'c': 7, 'd': 5}"
   ]
  },
  {
   "cell_type": "code",
   "execution_count": 40,
   "metadata": {},
   "outputs": [
    {
     "name": "stdout",
     "output_type": "stream",
     "text": [
      "{'a': 1, 'b': 5, 'c': 7, 'd': 5}\n"
     ]
    }
   ],
   "source": [
    "def merge_dicts(dict1, dict2):\n",
    "    # create a copy of dict1\n",
    "    output = dict1.copy()\n",
    "    # iterate through dict2\n",
    "    for key, value in dict2.items():\n",
    "        # add the value of dict2 at key to the value of dict1 at key\n",
    "        output[key] = dict1.get(key, 0) + value\n",
    "    # return the combined dictionary\n",
    "    return output\n",
    "\n",
    "\n",
    "dict1 = {'a': 1, 'b': 2, 'c': 3}\n",
    "dict2 = {'b': 3, 'c': 4, 'd': 5}\n",
    "print(merge_dicts(dict1, dict2))"
   ]
  },
  {
   "cell_type": "markdown",
   "metadata": {},
   "source": [
    "The overall `time complexity` of this function is `O(n + m)`, where n is the number of elements in dict1 and m is the number of elements in dict2. The copy() method takes O(n) time, and the loop iterates m times with O(1) operations inside the loop.\n",
    "\n",
    "The `space complexity` of this function is `O(n + m)` in the worst case, where all keys in dict1 and dict2 are distinct, and the merged dictionary has n + m elements. In the best case, where dict1 and dict2 have the same keys, the space complexity is O(n) (or O(m), whichever is larger), as the merged dictionary has the same number of elements as the input dictionaries."
   ]
  },
  {
   "cell_type": "markdown",
   "metadata": {},
   "source": [
    "## 3. Key with the Highest Value"
   ]
  },
  {
   "cell_type": "markdown",
   "metadata": {},
   "source": [
    "Define a function which takes a dictionary as a parameter and returns the key with the highest value in a dictionary.\n",
    "\n",
    "`Example`: my_dict = {'a': 5, 'b': 9, 'c': 2}\n",
    "\n",
    "`Output`: b"
   ]
  },
  {
   "cell_type": "code",
   "execution_count": 67,
   "metadata": {},
   "outputs": [
    {
     "data": {
      "text/plain": [
       "'b'"
      ]
     },
     "execution_count": 67,
     "metadata": {},
     "output_type": "execute_result"
    }
   ],
   "source": [
    "def max_value_key(my_dict):\n",
    "    return max(my_dict, key=my_dict.get)\n",
    "\n",
    "my_dict = {'a': 5, 'b': 9, 'c': 2}\n",
    "max_value_key(my_dict)"
   ]
  },
  {
   "cell_type": "markdown",
   "metadata": {},
   "source": [
    "The overall `time complexity` of this function is `O(n)`, where n is the number of elements in the dictionary my_dict. This is determined by the max() function, which iterates through all the keys in the dictionary.\n",
    "\n",
    "The `space complexity` of this function is `O(1)`, as it does not create any additional data structures or store any intermediate values. The max() function only keeps track of the current maximum value and its corresponding key, which requires constant space."
   ]
  },
  {
   "cell_type": "markdown",
   "metadata": {},
   "source": [
    "## 4. Reverse Key-Value Pairs"
   ]
  },
  {
   "cell_type": "markdown",
   "metadata": {},
   "source": [
    "Define a function which takes as a parameter dictionary and returns a dictionary in which the key-value pairs are reversed.\n",
    "\n",
    "`Example`:\n",
    "\n",
    "my_dict = {'a': 1, 'b': 2, 'c': 3}\n",
    "\n",
    "reverse_dict(my_dict)\n",
    "\n",
    "`Output`:\n",
    "\n",
    "{1: 'a', 2: 'b', 3: 'c'}"
   ]
  },
  {
   "cell_type": "code",
   "execution_count": 68,
   "metadata": {},
   "outputs": [
    {
     "data": {
      "text/plain": [
       "{1: 'a', 2: 'b', 3: 'c'}"
      ]
     },
     "execution_count": 68,
     "metadata": {},
     "output_type": "execute_result"
    }
   ],
   "source": [
    "def reverse_dict(my_dict):\n",
    "    return {value:key for key, value in my_dict.items()}\n",
    "\n",
    "\n",
    "my_dict = {'a': 1, 'b': 2, 'c': 3}\n",
    "reverse_dict(my_dict)"
   ]
  },
  {
   "cell_type": "markdown",
   "metadata": {},
   "source": [
    "The overall `time complexity` of this function is `O(n)`, where n is the number of elements in the dictionary my_dict. This is determined by the dictionary comprehension, which iterates through all the key-value pairs in the input dictionary.\n",
    "\n",
    "The `space complexity` of this function is `O(n)`, where n is the number of elements in the dictionary my_dict. This is because the function creates a new dictionary with the same number of elements as the input dictionary but with reversed key-value pairs."
   ]
  },
  {
   "cell_type": "markdown",
   "metadata": {},
   "source": [
    "## 5. Conditional Filter"
   ]
  },
  {
   "cell_type": "markdown",
   "metadata": {},
   "source": [
    "Define a function that takes a dictionary as a parameter and returns a dictionary with elements based on a condition.\n",
    "\n",
    "`Example`:\n",
    "\n",
    "my_dict = {'a': 1, 'b': 2, 'c': 3, 'd': 4} \n",
    "\n",
    "filtered_dict = filter_dict(my_dict, lambda k, v: v % 2 == 0) \n",
    "\n",
    "`Output`:\n",
    "\n",
    "{'b': 2, 'd': 4}"
   ]
  },
  {
   "cell_type": "code",
   "execution_count": 75,
   "metadata": {},
   "outputs": [
    {
     "data": {
      "text/plain": [
       "{'b': 2, 'd': 4}"
      ]
     },
     "execution_count": 75,
     "metadata": {},
     "output_type": "execute_result"
    }
   ],
   "source": [
    "def filter_dict(my_dict, condition):\n",
    "    return {key:value for key, value in my_dict.items() if condition(key, value)}\n",
    "\n",
    "my_dict = {'a': 1, 'b': 2, 'c': 3, 'd': 4} \n",
    "filter_dict(my_dict, lambda k, v: v % 2 == 0) "
   ]
  },
  {
   "cell_type": "markdown",
   "metadata": {},
   "source": [
    "The overall `time complexity` of this function is `O(n)`, where n is the number of elements in the dictionary my_dict. This is determined by the dictionary comprehension, which iterates through all the key-value pairs in the input dictionary.\n",
    "\n",
    "The `space complexity` of this function depends on the number of elements in the filtered dictionary, which in turn depends on the condition function. In the worst case, when all key-value pairs meet the condition, the space complexity is `O(n)`, where n is the number of elements in the dictionary my_dict. In the best case, when no key-value pairs meet the condition, the space complexity is O(1) as the function creates an empty dictionary."
   ]
  },
  {
   "cell_type": "markdown",
   "metadata": {},
   "source": [
    "## 6. Same Frequency"
   ]
  },
  {
   "cell_type": "markdown",
   "metadata": {},
   "source": [
    "Define a function which takes two lists as parameters and check if two given lists have the same frequency of elements.\n",
    "\n",
    "`Example`:\n",
    "\n",
    "list1 = [1, 2, 3, 2, 1]\n",
    "list2 = [3, 1, 2, 1, 3]\n",
    "\n",
    "check_same_frequency(list1, list2)\n",
    "\n",
    "`Output`:\n",
    "\n",
    "False"
   ]
  },
  {
   "cell_type": "code",
   "execution_count": 81,
   "metadata": {},
   "outputs": [
    {
     "data": {
      "text/plain": [
       "True"
      ]
     },
     "execution_count": 81,
     "metadata": {},
     "output_type": "execute_result"
    }
   ],
   "source": [
    "def check_same_frequency(list1, list2):\n",
    "    my_dict = {}\n",
    "    my_dict2 = {}\n",
    "    for i in list1:\n",
    "        my_dict[i] = my_dict.get(i, 0) + 1\n",
    "    for y in list2:\n",
    "        my_dict2[y] = my_dict2.get(y, 0) + 1\n",
    "    for key, value in my_dict.items():\n",
    "        if value != my_dict2.get(key, 0):\n",
    "            return False\n",
    "        return True\n",
    "\n",
    "list1 = [1, 2, 3, 2, 1]\n",
    "list2 = [3, 1, 2, 1, 3]\n",
    "check_same_frequency(list1, list2)"
   ]
  },
  {
   "cell_type": "code",
   "execution_count": null,
   "metadata": {},
   "outputs": [],
   "source": []
  }
 ],
 "metadata": {
  "kernelspec": {
   "display_name": "Python 3",
   "language": "python",
   "name": "python3"
  },
  "language_info": {
   "codemirror_mode": {
    "name": "ipython",
    "version": 3
   },
   "file_extension": ".py",
   "mimetype": "text/x-python",
   "name": "python",
   "nbconvert_exporter": "python",
   "pygments_lexer": "ipython3",
   "version": "3.9.13"
  },
  "orig_nbformat": 4
 },
 "nbformat": 4,
 "nbformat_minor": 2
}
