{
 "cells": [
  {
   "cell_type": "markdown",
   "metadata": {},
   "source": [
    "# What is a Python list?"
   ]
  },
  {
   "cell_type": "markdown",
   "metadata": {},
   "source": [
    "A list is a `data structure` that `holds` an `ordered collection of items` i.e. you can store a sequence of items in a list. A list is similar to an array in other programming languages but has additional functionality."
   ]
  },
  {
   "cell_type": "code",
   "execution_count": 2,
   "metadata": {},
   "outputs": [
    {
     "name": "stdout",
     "output_type": "stream",
     "text": [
      "['Milk', 'Eggs', 'Cheese', 'Butter']\n"
     ]
    }
   ],
   "source": [
    "# Example\n",
    "\n",
    "shopping_list = [\"Milk\", \"Eggs\", \"Cheese\", \"Butter\"]\n",
    "\n",
    "print(shopping_list)"
   ]
  },
  {
   "cell_type": "markdown",
   "metadata": {},
   "source": [
    "You can store various types of data in a list e.g. the list below contains an `integer`, a `string`, a `float`, a `boolean` and another `list`."
   ]
  },
  {
   "cell_type": "code",
   "execution_count": 3,
   "metadata": {},
   "outputs": [
    {
     "name": "stdout",
     "output_type": "stream",
     "text": [
      "[1, 'one', 0.0013, True, [2, 3, 4, 5, 6]]\n"
     ]
    }
   ],
   "source": [
    "mixed_list = [1, \"one\", 0.0013, True, [2, 3, 4, 5, 6]]\n",
    "\n",
    "print(mixed_list)"
   ]
  },
  {
   "cell_type": "markdown",
   "metadata": {},
   "source": [
    "## Accessing list items"
   ]
  },
  {
   "cell_type": "code",
   "execution_count": 4,
   "metadata": {},
   "outputs": [
    {
     "name": "stdout",
     "output_type": "stream",
     "text": [
      "Eggs\n"
     ]
    }
   ],
   "source": [
    "print(shopping_list[1])"
   ]
  },
  {
   "cell_type": "code",
   "execution_count": 5,
   "metadata": {},
   "outputs": [
    {
     "name": "stdout",
     "output_type": "stream",
     "text": [
      "True\n"
     ]
    }
   ],
   "source": [
    "print(\"Milk\" in shopping_list)"
   ]
  },
  {
   "cell_type": "code",
   "execution_count": 6,
   "metadata": {},
   "outputs": [
    {
     "name": "stdout",
     "output_type": "stream",
     "text": [
      "Butter\n"
     ]
    }
   ],
   "source": [
    "print(shopping_list[-1])"
   ]
  },
  {
   "cell_type": "markdown",
   "metadata": {},
   "source": [
    "## Traversing a list"
   ]
  },
  {
   "cell_type": "code",
   "execution_count": 7,
   "metadata": {},
   "outputs": [
    {
     "name": "stdout",
     "output_type": "stream",
     "text": [
      "Milk\n",
      "Eggs\n",
      "Cheese\n",
      "Butter\n"
     ]
    }
   ],
   "source": [
    "for i in shopping_list:\n",
    "    print(i)"
   ]
  },
  {
   "cell_type": "code",
   "execution_count": 8,
   "metadata": {},
   "outputs": [
    {
     "name": "stdout",
     "output_type": "stream",
     "text": [
      "Milk+\n",
      "Eggs+\n",
      "Cheese+\n",
      "Butter+\n"
     ]
    }
   ],
   "source": [
    "for i in range(len(shopping_list)):\n",
    "    i = shopping_list[i] + \"+\"\n",
    "    print(i)"
   ]
  },
  {
   "cell_type": "markdown",
   "metadata": {},
   "source": [
    "## Updating an element in a list"
   ]
  },
  {
   "cell_type": "code",
   "execution_count": 9,
   "metadata": {},
   "outputs": [
    {
     "name": "stdout",
     "output_type": "stream",
     "text": [
      "[1, 2, 3, 4, 5, 6, 7]\n",
      "[1, 2, 33, 4, 5, 6, 7]\n"
     ]
    }
   ],
   "source": [
    "my_list = [1, 2, 3, 4, 5, 6, 7]\n",
    "print(my_list)\n",
    "\n",
    "# Update element\n",
    "my_list[2] = 33\n",
    "print(my_list)"
   ]
  },
  {
   "cell_type": "markdown",
   "metadata": {},
   "source": [
    "## Inserting an element in a list"
   ]
  },
  {
   "cell_type": "code",
   "execution_count": 10,
   "metadata": {},
   "outputs": [
    {
     "name": "stdout",
     "output_type": "stream",
     "text": [
      "[1, 2, 22, 33, 4, 5, 6, 7]\n"
     ]
    }
   ],
   "source": [
    "# Insert an element at any given position, using insert() method\n",
    "# Time complexity is O(n) because we have to shift all the elements to the right\n",
    "my_list.insert(2, 22)\n",
    "print(my_list)"
   ]
  },
  {
   "cell_type": "code",
   "execution_count": 11,
   "metadata": {},
   "outputs": [
    {
     "name": "stdout",
     "output_type": "stream",
     "text": [
      "[1, 2, 22, 33, 4, 5, 6, 7, 8]\n"
     ]
    }
   ],
   "source": [
    "# Insert an element at the end of the list, using append() method\n",
    "# The time complexity is O(1) because we don't have to shift any elements\n",
    "my_list.append(8)\n",
    "print(my_list)"
   ]
  },
  {
   "cell_type": "code",
   "execution_count": 12,
   "metadata": {},
   "outputs": [
    {
     "name": "stdout",
     "output_type": "stream",
     "text": [
      "[1, 2, 22, 33, 4, 5, 6, 7, 8, 9, 10, 11]\n"
     ]
    }
   ],
   "source": [
    "# Extend the list by adding all elements of another list to the end of the list, using extend() method\n",
    "# The time complexity is O(n) where n is the length of the list that we want to add\n",
    "my_list.extend([9, 10, 11])\n",
    "print(my_list)"
   ]
  },
  {
   "cell_type": "markdown",
   "metadata": {},
   "source": [
    "## Sliceing a list"
   ]
  },
  {
   "cell_type": "code",
   "execution_count": 13,
   "metadata": {},
   "outputs": [
    {
     "name": "stdout",
     "output_type": "stream",
     "text": [
      "[1, 2, 22, 33, 4, 5, 6, 7, 8, 9, 10, 11]\n"
     ]
    }
   ],
   "source": [
    "print(my_list[:])"
   ]
  },
  {
   "cell_type": "code",
   "execution_count": 14,
   "metadata": {},
   "outputs": [
    {
     "name": "stdout",
     "output_type": "stream",
     "text": [
      "[22, 33, 4]\n"
     ]
    }
   ],
   "source": [
    "print(my_list[2:5])"
   ]
  },
  {
   "cell_type": "code",
   "execution_count": 15,
   "metadata": {},
   "outputs": [
    {
     "name": "stdout",
     "output_type": "stream",
     "text": [
      "[11, 10, 9, 8, 7, 6, 5, 4, 33, 22, 2]\n"
     ]
    }
   ],
   "source": [
    "print(my_list[-1:0:-1])"
   ]
  },
  {
   "cell_type": "markdown",
   "metadata": {},
   "source": [
    "## Deleting an element from a list"
   ]
  },
  {
   "cell_type": "code",
   "execution_count": 16,
   "metadata": {},
   "outputs": [
    {
     "name": "stdout",
     "output_type": "stream",
     "text": [
      "1\n",
      "[2, 22, 33, 4, 5, 6, 7, 8, 9, 10, 11]\n"
     ]
    }
   ],
   "source": [
    "# Deleteing an element from a list by providing an index to the pop() method\n",
    "poped_valus = my_list.pop(0)\n",
    "# The pop() method returns the deleted value\n",
    "print(poped_valus)\n",
    "print(my_list)\n",
    "\n",
    "# The time complexity is O(n) because we have to shift all the elements to the left. If we are poping the last element the time complexity is O(1) because we don't have to shift any elements.\n",
    "# The space complexity is O(1) because we are not creating any new data structure."
   ]
  },
  {
   "cell_type": "code",
   "execution_count": 17,
   "metadata": {},
   "outputs": [
    {
     "name": "stdout",
     "output_type": "stream",
     "text": [
      "[22, 33, 4, 5, 6, 7, 8, 9, 10, 11]\n",
      "[4, 5, 6, 7, 8, 9, 10, 11]\n"
     ]
    }
   ],
   "source": [
    "# Deleteing an element from a list using the delete() method. This method does not return the deleted value\n",
    "del my_list[0]\n",
    "print(my_list)\n",
    "\n",
    "# You can also delete a range of elements from a list using the del keyword\n",
    "del my_list[0:2]\n",
    "print(my_list)\n",
    "\n",
    "# The time complexity is O(n) because we have to shift all the elements to the left. If we are deleting the last element the time complexity is O(1) because we don't have to shift any elements.\n",
    "# The space complexity is O(1) because we are not creating any new data structure."
   ]
  },
  {
   "cell_type": "code",
   "execution_count": 18,
   "metadata": {},
   "outputs": [
    {
     "name": "stdout",
     "output_type": "stream",
     "text": [
      "[4, 5, 6, 7, 8, 9, 10]\n"
     ]
    }
   ],
   "source": [
    "# Deleteing an element from a list by providing the element value to the remove() method. It is useful if you know the value of the element you want to delete.\n",
    "my_list.remove(11)\n",
    "print(my_list)\n",
    "\n",
    "# The time complexity is O(n) because we have to shift all the elements to the left. If we are removing the last element the time complexity is O(1) because we don't have to shift any elements.\n",
    "# The space complexity is O(1) because we are not creating any new data structure."
   ]
  },
  {
   "cell_type": "markdown",
   "metadata": {},
   "source": [
    "## Searching for an element in a list"
   ]
  },
  {
   "cell_type": "code",
   "execution_count": 19,
   "metadata": {},
   "outputs": [],
   "source": [
    "my_list = [10, 20 , 30, 40, 50, 60, 70, 80, 90, 100]"
   ]
  },
  {
   "cell_type": "code",
   "execution_count": 20,
   "metadata": {},
   "outputs": [
    {
     "name": "stdout",
     "output_type": "stream",
     "text": [
      "Element found!\n"
     ]
    }
   ],
   "source": [
    "target_element = 30\n",
    "\n",
    "if target_element in my_list:\n",
    "    print(\"Element found!\")\n",
    "else:\n",
    "    print(\"Element not found!\")\n",
    "\n",
    "# The time complexity is O(n) because Python have to iterate through all the elements in the list.\n",
    "# The space complexity is O(1)."
   ]
  },
  {
   "cell_type": "code",
   "execution_count": 21,
   "metadata": {},
   "outputs": [
    {
     "name": "stdout",
     "output_type": "stream",
     "text": [
      "2\n"
     ]
    }
   ],
   "source": [
    "# Linear search\n",
    "def linearSearch(input_list, target_element):\n",
    "    for index, value in enumerate(input_list):\n",
    "        if value == target_element:\n",
    "            return index\n",
    "        \n",
    "print(linearSearch(my_list, 30))\n",
    "\n",
    "# The time complexity is O(n) because Python have to iterate through all the elements in the list.\n",
    "# The space complexity is O(1)."
   ]
  },
  {
   "cell_type": "markdown",
   "metadata": {},
   "source": [
    "## List operations"
   ]
  },
  {
   "cell_type": "code",
   "execution_count": 22,
   "metadata": {},
   "outputs": [
    {
     "name": "stdout",
     "output_type": "stream",
     "text": [
      "[1, 2, 3, 4, 5, 6]\n"
     ]
    }
   ],
   "source": [
    "a = [1, 2, 3]\n",
    "b = [4, 5, 6]\n",
    "c = a + b\n",
    "\n",
    "print(c)"
   ]
  },
  {
   "cell_type": "code",
   "execution_count": 23,
   "metadata": {},
   "outputs": [
    {
     "name": "stdout",
     "output_type": "stream",
     "text": [
      "[0, 0, 0, 0]\n"
     ]
    }
   ],
   "source": [
    "d = [0]\n",
    "d = d * 4\n",
    "\n",
    "print(d)"
   ]
  },
  {
   "cell_type": "code",
   "execution_count": 24,
   "metadata": {},
   "outputs": [
    {
     "name": "stdout",
     "output_type": "stream",
     "text": [
      "[1, 2, 3]\n",
      "3\n",
      "3\n",
      "1\n",
      "6\n",
      "2.0\n",
      "[1, 2, 3]\n",
      "[3, 2, 1]\n",
      "1\n",
      "0\n"
     ]
    }
   ],
   "source": [
    "# Various list methods\n",
    "print(a)\n",
    "\n",
    "print(len(a))\n",
    "print(max(a))\n",
    "print(min(a))\n",
    "print(sum(a))\n",
    "print(sum(a) / len(a))\n",
    "print(sorted(a))\n",
    "print(sorted(a, reverse=True))\n",
    "print(a.count(1))\n",
    "print(a.index(1))"
   ]
  },
  {
   "cell_type": "markdown",
   "metadata": {},
   "source": [
    "## Lists and strings"
   ]
  },
  {
   "cell_type": "code",
   "execution_count": 14,
   "metadata": {},
   "outputs": [
    {
     "name": "stdout",
     "output_type": "stream",
     "text": [
      "['spam', 'spam', 'spam']\n",
      "['spam spam spam']\n",
      "Join these words together\n"
     ]
    }
   ],
   "source": [
    "e = \"spam spam spam\"\n",
    "f = \"spam1-spam2-spam3\"\n",
    "g = [\"Join\", \"these\", \"words\", \"together\"]\n",
    "\n",
    "print(e.split())\n",
    "print(e.split(\"-\"))\n",
    "print(\" \".join(g))"
   ]
  },
  {
   "cell_type": "markdown",
   "metadata": {},
   "source": [
    "## Common list pitfalls and ways to avoid them"
   ]
  },
  {
   "cell_type": "code",
   "execution_count": 24,
   "metadata": {},
   "outputs": [],
   "source": [
    "myList = [1, 2, 3, 4, 5, 6, 7, 8, 9]"
   ]
  },
  {
   "cell_type": "code",
   "execution_count": 25,
   "metadata": {},
   "outputs": [
    {
     "name": "stdout",
     "output_type": "stream",
     "text": [
      "None\n"
     ]
    }
   ],
   "source": [
    "# Many methods in Python modify the original list and return None value\n",
    "\n",
    "myList2 = myList.sort()\n",
    "print(myList2)"
   ]
  },
  {
   "cell_type": "code",
   "execution_count": 27,
   "metadata": {},
   "outputs": [
    {
     "name": "stdout",
     "output_type": "stream",
     "text": [
      "[1, 2, 3, 4, 5, 6, 7, 8, 9, 10, 11, 10]\n",
      "[1, 2, 3, 4, 5, 6, 7, 8, 9, 10, 11, 10, 11]\n",
      "[1, 2, 3, 4, 5, 6, 7, 8, 9, 10, 11, 10, 11, [12]]\n"
     ]
    }
   ],
   "source": [
    "# Be sure to use the various methods correctly. Syntax can easily trip you up.\n",
    "\n",
    "myList.append(10)\n",
    "print(myList)\n",
    "\n",
    "myList = myList + [11]\n",
    "print(myList)\n",
    "\n",
    "# If you mix the methods, you can get unexpected results\n",
    "myList.append([12])\n",
    "print(myList)"
   ]
  },
  {
   "cell_type": "code",
   "execution_count": 29,
   "metadata": {},
   "outputs": [
    {
     "name": "stdout",
     "output_type": "stream",
     "text": [
      "[1, 3, 5, 7, 8, 9]\n",
      "[5, 7, 1, 8, 3, 9]\n"
     ]
    }
   ],
   "source": [
    "# Some methods modify the original list, without assigning the result to a variable\n",
    "# Be sure to create a copy of the original list if you want to keep it\n",
    "\n",
    "myList = [5, 7, 1, 8, 3, 9]\n",
    "orgList = myList.copy()\n",
    "\n",
    "myList.sort()\n",
    "print(myList)\n",
    "\n",
    "# When sorting, you can use another method - sorted()\n",
    "sorted(orgList)\n",
    "print(orgList)"
   ]
  },
  {
   "cell_type": "code",
   "execution_count": 30,
   "metadata": {},
   "outputs": [
    {
     "name": "stdout",
     "output_type": "stream",
     "text": [
      "[1, 2, 3, 7]\n"
     ]
    }
   ],
   "source": [
    "# Be sure to use the copy() method when you want to keep the original list\n",
    "# Don't assign the list to another variable, because it will only create a reference to the original list\n",
    "\n",
    "lst = [7, 1, 2, 3]\n",
    "lst_copy = a\n",
    "\n",
    "lst_copy.sort()\n",
    "\n",
    "print(lst)"
   ]
  },
  {
   "cell_type": "markdown",
   "metadata": {},
   "source": [
    "## Lists vs. Arrays"
   ]
  },
  {
   "cell_type": "markdown",
   "metadata": {},
   "source": [
    "### Similarities"
   ]
  },
  {
   "cell_type": "markdown",
   "metadata": {},
   "source": [
    "- Both data structures are mutable;\n",
    "- Both can be indexed and iterated through;\n",
    "- Both can be sliced."
   ]
  },
  {
   "cell_type": "markdown",
   "metadata": {},
   "source": [
    "### Differences"
   ]
  },
  {
   "cell_type": "markdown",
   "metadata": {},
   "source": [
    "- Arrays can contain only one type of data whereas lists can contain any data type;\n",
    "- Arithmetic operations on arrays are element-wise whereas lists are concatenated element-wise;"
   ]
  },
  {
   "cell_type": "code",
   "execution_count": 33,
   "metadata": {},
   "outputs": [
    {
     "name": "stdout",
     "output_type": "stream",
     "text": [
      "[0.5 1.  1.5 2.  2.5]\n"
     ]
    },
    {
     "ename": "TypeError",
     "evalue": "unsupported operand type(s) for /: 'list' and 'int'",
     "output_type": "error",
     "traceback": [
      "\u001b[1;31m---------------------------------------------------------------------------\u001b[0m",
      "\u001b[1;31mTypeError\u001b[0m                                 Traceback (most recent call last)",
      "\u001b[1;32mc:\\Users\\L_L\\Documents\\GitHub Repositories\\Data-Structures-and-Algorithms\\Lists\\Lists.ipynb Cell 47\u001b[0m line \u001b[0;36m<cell line: 9>\u001b[1;34m()\u001b[0m\n\u001b[0;32m      <a href='vscode-notebook-cell:/c%3A/Users/L_L/Documents/GitHub%20Repositories/Data-Structures-and-Algorithms/Lists/Lists.ipynb#Y116sZmlsZQ%3D%3D?line=5'>6</a>\u001b[0m python_list \u001b[39m=\u001b[39m [\u001b[39m1\u001b[39m, \u001b[39m2\u001b[39m, \u001b[39m3\u001b[39m, \u001b[39m4\u001b[39m, \u001b[39m5\u001b[39m]\n\u001b[0;32m      <a href='vscode-notebook-cell:/c%3A/Users/L_L/Documents/GitHub%20Repositories/Data-Structures-and-Algorithms/Lists/Lists.ipynb#Y116sZmlsZQ%3D%3D?line=7'>8</a>\u001b[0m \u001b[39mprint\u001b[39m(np_array\u001b[39m/\u001b[39m\u001b[39m2\u001b[39m)\n\u001b[1;32m----> <a href='vscode-notebook-cell:/c%3A/Users/L_L/Documents/GitHub%20Repositories/Data-Structures-and-Algorithms/Lists/Lists.ipynb#Y116sZmlsZQ%3D%3D?line=8'>9</a>\u001b[0m \u001b[39mprint\u001b[39m(python_list\u001b[39m/\u001b[39;49m\u001b[39m2\u001b[39;49m)\n",
      "\u001b[1;31mTypeError\u001b[0m: unsupported operand type(s) for /: 'list' and 'int'"
     ]
    }
   ],
   "source": [
    "# The main difference is the operations that you can perfrom on them\n",
    "\n",
    "import numpy as np\n",
    "\n",
    "np_array = np.array([1, 2, 3, 4, 5])\n",
    "python_list = [1, 2, 3, 4, 5]\n",
    "\n",
    "print(np_array/2)\n",
    "print(python_list/2)"
   ]
  },
  {
   "cell_type": "markdown",
   "metadata": {},
   "source": [
    "## Time and space complexity of lists - Conclusion"
   ]
  },
  {
   "cell_type": "markdown",
   "metadata": {},
   "source": [
    "| Operation | Time Complexity | Space Complexity |\n",
    "| -------- | -------- | -------- |\n",
    "| Creating an empty array               | O(1)       | O(1)       |\n",
    "| Creating an array with elements       | O(n)       | O(n)       |\n",
    "| Inserting a row/column in an array    | O(n)       | O(1)       |\n",
    "| Traversing a given array              | O(n)       | O(1)       |\n",
    "| Accessing a given cell                | O(1)       | O(1)       |\n",
    "| Searching a given cell                | O(n)       | O(1)       |\n",
    "| Deleting a row/column                 | O(1)       | O(1)       |"
   ]
  },
  {
   "cell_type": "markdown",
   "metadata": {},
   "source": [
    "## List comprehensions"
   ]
  },
  {
   "cell_type": "code",
   "execution_count": 34,
   "metadata": {},
   "outputs": [
    {
     "data": {
      "text/plain": [
       "[2, 4, 6, 8, 10]"
      ]
     },
     "execution_count": 34,
     "metadata": {},
     "output_type": "execute_result"
    }
   ],
   "source": [
    "myList = [1, 2, 3, 4, 5]\n",
    "newList = [i * 2 for i in myList]\n",
    "\n",
    "print(myList)\n",
    "print(newList)"
   ]
  },
  {
   "cell_type": "markdown",
   "metadata": {},
   "source": [
    "## Conditional list comprehensions"
   ]
  },
  {
   "cell_type": "code",
   "execution_count": 38,
   "metadata": {},
   "outputs": [
    {
     "name": "stdout",
     "output_type": "stream",
     "text": [
      "['Python']\n"
     ]
    }
   ],
   "source": [
    "languages_list = [\"Python\", \"Java\", \"C++\", \"Ruby\", \"C\"]\n",
    "print([i for i in languages_list if i == \"Python\"])"
   ]
  },
  {
   "cell_type": "code",
   "execution_count": 39,
   "metadata": {},
   "outputs": [
    {
     "name": "stdout",
     "output_type": "stream",
     "text": [
      "[-90, 34, -3, 67, 0, 12, 1, -5, 3, 5, 7, 9, 11, 13, 15, 17, 19]\n",
      "[34, 67, 0, 12, 1, 3, 5, 7, 9, 11, 13, 15, 17, 19]\n"
     ]
    }
   ],
   "source": [
    "my_list = [-90, 34, -3, 67, 0, 12, 1, -5, 3, 5, 7, 9, 11, 13, 15, 17, 19]\n",
    "new_list = [i for i in my_list if i >= 0]\n",
    "\n",
    "print(my_list)\n",
    "print(new_list)"
   ]
  },
  {
   "cell_type": "code",
   "execution_count": 40,
   "metadata": {},
   "outputs": [
    {
     "name": "stdout",
     "output_type": "stream",
     "text": [
      "[False, False, True, False, True, False, False, True, True, True, True, False, True]\n"
     ]
    }
   ],
   "source": [
    "sentance = \"I love Python\"\n",
    "vowels = 'aeiou'\n",
    "\n",
    "def is_consonant(letter):\n",
    "    return letter.isalpha() and letter.lower() not in vowels\n",
    "\n",
    "print([is_consonant(i) for i in sentance])"
   ]
  }
 ],
 "metadata": {
  "kernelspec": {
   "display_name": "Python 3",
   "language": "python",
   "name": "python3"
  },
  "language_info": {
   "codemirror_mode": {
    "name": "ipython",
    "version": 3
   },
   "file_extension": ".py",
   "mimetype": "text/x-python",
   "name": "python",
   "nbconvert_exporter": "python",
   "pygments_lexer": "ipython3",
   "version": "3.9.13"
  },
  "orig_nbformat": 4
 },
 "nbformat": 4,
 "nbformat_minor": 2
}
