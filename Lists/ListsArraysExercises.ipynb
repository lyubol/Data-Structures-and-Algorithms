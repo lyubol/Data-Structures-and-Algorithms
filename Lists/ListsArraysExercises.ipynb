{
 "cells": [
  {
   "cell_type": "code",
   "execution_count": 61,
   "metadata": {},
   "outputs": [
    {
     "data": {
      "text/plain": [
       "(20.5, 1)"
      ]
     },
     "execution_count": 61,
     "metadata": {},
     "output_type": "execute_result"
    }
   ],
   "source": [
    "import array\n",
    "\n",
    "def daysTemperature():\n",
    "\n",
    "    # get the number of days\n",
    "    days_count = input(\"How many day's temperature?: \")\n",
    "    try: days_count = int(days_count)\n",
    "    except:ValueError; print(\"You need to insert a number!\")\n",
    "\n",
    "    # get the temperature for each day\n",
    "    temperature_values = array.array(\"i\", [])\n",
    "    for day in range(days_count):\n",
    "        value = input(f\"{day + 1}?: \")\n",
    "        try: value = int(value)\n",
    "        except: ValueError; print(\"You need to insert a number!\")\n",
    "        temperature_values.append(value)\n",
    "\n",
    "    # calculate the average temperature\n",
    "    avg_temp = sum(temperature_values) / len(temperature_values)\n",
    "\n",
    "    # find the number of days that were above the average temperature\n",
    "    days_above_avg = 0\n",
    "    for i in temperature_values:\n",
    "        if i > avg_temp:\n",
    "            days_above_avg += 1\n",
    "\n",
    "    return avg_temp, days_above_avg\n",
    "\n",
    "\n",
    "\n",
    "daysTemperature()"
   ]
  },
  {
   "cell_type": "markdown",
   "metadata": {},
   "source": [
    "### 1. Write a function to find the missing number in a given integer array of 1 to 100."
   ]
  },
  {
   "cell_type": "markdown",
   "metadata": {},
   "source": [
    "You can use the arithmetic progression formula to find the sum of the numbers from 1 to n and then subtract the sum of the numbers in the array to get the missing number"
   ]
  },
  {
   "cell_type": "code",
   "execution_count": 81,
   "metadata": {},
   "outputs": [
    {
     "data": {
      "text/plain": [
       "5"
      ]
     },
     "execution_count": 81,
     "metadata": {},
     "output_type": "execute_result"
    }
   ],
   "source": [
    "# Arithmetic progression formula is n * (n + 1) // 2\n",
    "# The formula assumes that you are summing a consecutive sequence of natural numbers starting from 1 and ending at 'n'. \n",
    "# If there is a missing number in the sequence, the formula will not work correctly for finding the sum of the numbers.\n",
    "\n",
    "def missing_number(arr, n):\n",
    "    total_arr = sum(arr)\n",
    "    total_expected = n * (n + 1) // 2\n",
    "    \n",
    "    return total_expected - total_arr\n",
    "\n",
    "missing_number([1, 2, 3, 4, 6], 6)"
   ]
  },
  {
   "cell_type": "markdown",
   "metadata": {},
   "source": [
    "This function calculates the sum of the first n natural numbers using the arithmetic progression formula and then subtracts the sum of the numbers in the array to find the missing number. The time complexity of this function is O(n) because it iterates through the array once to calculate the sum of its elements."
   ]
  },
  {
   "cell_type": "markdown",
   "metadata": {},
   "source": [
    "The `time` and `space complexity` of the `missing_number` function is `O(n)` and `O(1)`, respectively."
   ]
  },
  {
   "cell_type": "markdown",
   "metadata": {},
   "source": [
    "Another, `less efficient`, `option` is to create an array of all consecutive numbers and use the sum() method to iterate through the array and find the expected total."
   ]
  },
  {
   "cell_type": "code",
   "execution_count": null,
   "metadata": {},
   "outputs": [],
   "source": [
    "def missing_number2(arr, n):\n",
    "    total_arr = sum(arr)\n",
    "    total_expected = sum(list(range(n + 1)))\n",
    "    \n",
    "    return total_expected - total_arr\n",
    "\n",
    "missing_number([1, 2, 3, 4, 6], 6)"
   ]
  },
  {
   "cell_type": "markdown",
   "metadata": {},
   "source": [
    "The `time` and `space complexity` of the `missing_number2` function is `O(n)` and `O(n)`, respectively."
   ]
  }
 ],
 "metadata": {
  "kernelspec": {
   "display_name": "Python 3",
   "language": "python",
   "name": "python3"
  },
  "language_info": {
   "codemirror_mode": {
    "name": "ipython",
    "version": 3
   },
   "file_extension": ".py",
   "mimetype": "text/x-python",
   "name": "python",
   "nbconvert_exporter": "python",
   "pygments_lexer": "ipython3",
   "version": "3.9.13"
  },
  "orig_nbformat": 4
 },
 "nbformat": 4,
 "nbformat_minor": 2
}
