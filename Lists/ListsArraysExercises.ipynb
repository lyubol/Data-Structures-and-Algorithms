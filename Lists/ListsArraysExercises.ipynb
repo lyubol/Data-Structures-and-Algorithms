{
 "cells": [
  {
   "cell_type": "code",
   "execution_count": 112,
   "metadata": {},
   "outputs": [
    {
     "name": "stdout",
     "output_type": "stream",
     "text": [
      "You need to insert a number!\n"
     ]
    },
    {
     "ename": "TypeError",
     "evalue": "'str' object cannot be interpreted as an integer",
     "output_type": "error",
     "traceback": [
      "\u001b[1;31m---------------------------------------------------------------------------\u001b[0m",
      "\u001b[1;31mTypeError\u001b[0m                                 Traceback (most recent call last)",
      "\u001b[1;32mc:\\Users\\L_L\\Documents\\GitHub Repositories\\Data-Structures-and-Algorithms\\Lists\\ListsArraysExercises.ipynb Cell 1\u001b[0m line \u001b[0;36m<cell line: 31>\u001b[1;34m()\u001b[0m\n\u001b[0;32m     <a href='vscode-notebook-cell:/c%3A/Users/L_L/Documents/GitHub%20Repositories/Data-Structures-and-Algorithms/Lists/ListsArraysExercises.ipynb#W0sZmlsZQ%3D%3D?line=24'>25</a>\u001b[0m             days_above_avg \u001b[39m+\u001b[39m\u001b[39m=\u001b[39m \u001b[39m1\u001b[39m\n\u001b[0;32m     <a href='vscode-notebook-cell:/c%3A/Users/L_L/Documents/GitHub%20Repositories/Data-Structures-and-Algorithms/Lists/ListsArraysExercises.ipynb#W0sZmlsZQ%3D%3D?line=26'>27</a>\u001b[0m     \u001b[39mreturn\u001b[39;00m avg_temp, days_above_avg\n\u001b[1;32m---> <a href='vscode-notebook-cell:/c%3A/Users/L_L/Documents/GitHub%20Repositories/Data-Structures-and-Algorithms/Lists/ListsArraysExercises.ipynb#W0sZmlsZQ%3D%3D?line=30'>31</a>\u001b[0m daysTemperature()\n",
      "\u001b[1;32mc:\\Users\\L_L\\Documents\\GitHub Repositories\\Data-Structures-and-Algorithms\\Lists\\ListsArraysExercises.ipynb Cell 1\u001b[0m line \u001b[0;36mdaysTemperature\u001b[1;34m()\u001b[0m\n\u001b[0;32m     <a href='vscode-notebook-cell:/c%3A/Users/L_L/Documents/GitHub%20Repositories/Data-Structures-and-Algorithms/Lists/ListsArraysExercises.ipynb#W0sZmlsZQ%3D%3D?line=9'>10</a>\u001b[0m \u001b[39m# get the temperature for each day\u001b[39;00m\n\u001b[0;32m     <a href='vscode-notebook-cell:/c%3A/Users/L_L/Documents/GitHub%20Repositories/Data-Structures-and-Algorithms/Lists/ListsArraysExercises.ipynb#W0sZmlsZQ%3D%3D?line=10'>11</a>\u001b[0m temperature_values \u001b[39m=\u001b[39m array\u001b[39m.\u001b[39marray(\u001b[39m\"\u001b[39m\u001b[39mi\u001b[39m\u001b[39m\"\u001b[39m, [])\n\u001b[1;32m---> <a href='vscode-notebook-cell:/c%3A/Users/L_L/Documents/GitHub%20Repositories/Data-Structures-and-Algorithms/Lists/ListsArraysExercises.ipynb#W0sZmlsZQ%3D%3D?line=11'>12</a>\u001b[0m \u001b[39mfor\u001b[39;00m day \u001b[39min\u001b[39;00m \u001b[39mrange\u001b[39;49m(days_count):\n\u001b[0;32m     <a href='vscode-notebook-cell:/c%3A/Users/L_L/Documents/GitHub%20Repositories/Data-Structures-and-Algorithms/Lists/ListsArraysExercises.ipynb#W0sZmlsZQ%3D%3D?line=12'>13</a>\u001b[0m     value \u001b[39m=\u001b[39m \u001b[39minput\u001b[39m(\u001b[39mf\u001b[39m\u001b[39m\"\u001b[39m\u001b[39m{\u001b[39;00mday \u001b[39m+\u001b[39m \u001b[39m1\u001b[39m\u001b[39m}\u001b[39;00m\u001b[39m?: \u001b[39m\u001b[39m\"\u001b[39m)\n\u001b[0;32m     <a href='vscode-notebook-cell:/c%3A/Users/L_L/Documents/GitHub%20Repositories/Data-Structures-and-Algorithms/Lists/ListsArraysExercises.ipynb#W0sZmlsZQ%3D%3D?line=13'>14</a>\u001b[0m     \u001b[39mtry\u001b[39;00m: value \u001b[39m=\u001b[39m \u001b[39mint\u001b[39m(value)\n",
      "\u001b[1;31mTypeError\u001b[0m: 'str' object cannot be interpreted as an integer"
     ]
    }
   ],
   "source": [
    "import array\n",
    "\n",
    "def daysTemperature():\n",
    "\n",
    "    # get the number of days\n",
    "    days_count = input(\"How many day's temperature?: \")\n",
    "    try: days_count = int(days_count)\n",
    "    except:ValueError; print(\"You need to insert a number!\")\n",
    "\n",
    "    # get the temperature for each day\n",
    "    temperature_values = array.array(\"i\", [])\n",
    "    for day in range(days_count):\n",
    "        value = input(f\"{day + 1}?: \")\n",
    "        try: value = int(value)\n",
    "        except: ValueError; print(\"You need to insert a number!\")\n",
    "        temperature_values.append(value)\n",
    "\n",
    "    # calculate the average temperature\n",
    "    avg_temp = sum(temperature_values) / len(temperature_values)\n",
    "\n",
    "    # find the number of days that were above the average temperature\n",
    "    days_above_avg = 0\n",
    "    for i in temperature_values:\n",
    "        if i > avg_temp:\n",
    "            days_above_avg += 1\n",
    "\n",
    "    return avg_temp, days_above_avg\n",
    "\n",
    "\n",
    "\n",
    "daysTemperature()"
   ]
  },
  {
   "cell_type": "markdown",
   "metadata": {},
   "source": [
    "### 1. Write a function to find the missing number in a given integer array of 1 to 100."
   ]
  },
  {
   "cell_type": "markdown",
   "metadata": {},
   "source": [
    "You can use the arithmetic progression formula to find the sum of the numbers from 1 to n and then subtract the sum of the numbers in the array to get the missing number"
   ]
  },
  {
   "cell_type": "code",
   "execution_count": null,
   "metadata": {},
   "outputs": [
    {
     "data": {
      "text/plain": [
       "5"
      ]
     },
     "execution_count": 81,
     "metadata": {},
     "output_type": "execute_result"
    }
   ],
   "source": [
    "# Arithmetic progression formula is n * (n + 1) // 2\n",
    "# The formula assumes that you are summing a consecutive sequence of natural numbers starting from 1 and ending at 'n'. \n",
    "# If there is a missing number in the sequence, the formula will not work correctly for finding the sum of the numbers.\n",
    "\n",
    "def missing_number(arr, n):\n",
    "    total_arr = sum(arr)\n",
    "    total_expected = n * (n + 1) // 2\n",
    "    \n",
    "    return total_expected - total_arr\n",
    "\n",
    "missing_number([1, 2, 3, 4, 6], 6)"
   ]
  },
  {
   "cell_type": "markdown",
   "metadata": {},
   "source": [
    "This function calculates the sum of the first n natural numbers using the arithmetic progression formula and then subtracts the sum of the numbers in the array to find the missing number. The time complexity of this function is O(n) because it iterates through the array once to calculate the sum of its elements."
   ]
  },
  {
   "cell_type": "markdown",
   "metadata": {},
   "source": [
    "The `time` and `space complexity` of the `missing_number` function is `O(n)` and `O(1)`, respectively."
   ]
  },
  {
   "cell_type": "markdown",
   "metadata": {},
   "source": [
    "Another, `less efficient`, `option` is to create an array of all consecutive numbers and use the sum() method to iterate through the array and find the expected total."
   ]
  },
  {
   "cell_type": "code",
   "execution_count": null,
   "metadata": {},
   "outputs": [],
   "source": [
    "def missing_number2(arr, n):\n",
    "    total_arr = sum(arr)\n",
    "    total_expected = sum(list(range(n + 1)))\n",
    "    \n",
    "    return total_expected - total_arr\n",
    "\n",
    "missing_number([1, 2, 3, 4, 6], 6)"
   ]
  },
  {
   "cell_type": "markdown",
   "metadata": {},
   "source": [
    "The `time` and `space complexity` of the `missing_number2` function is `O(n)` and `O(n)`, respectively."
   ]
  },
  {
   "cell_type": "markdown",
   "metadata": {},
   "source": [
    "### 2. Given an array of integers ann integer, return indices of the two numbers such that they add up to a specific target."
   ]
  },
  {
   "cell_type": "code",
   "execution_count": null,
   "metadata": {},
   "outputs": [
    {
     "data": {
      "text/plain": [
       "(0, 6)"
      ]
     },
     "execution_count": 61,
     "metadata": {},
     "output_type": "execute_result"
    }
   ],
   "source": [
    "input_array = [2, 7, 11, 15]\n",
    "target_int = 9\n",
    "\n",
    "def twoSum(input_array, target_int):\n",
    "    \"\"\"\n",
    "    The function twoSum takes in an array of integers and a target integer. It then\n",
    "    finds which two numbers in the array add up to the target integer. The output\n",
    "    is the indexes of the two numbers in the array.\n",
    "\n",
    "    >>> twoSum([2, 7, 11, 15], 9)\n",
    "    (0, 1)\n",
    "\n",
    "    >>> twoSum([2, 7, 11, 15], 18)\n",
    "    (1, 2)\n",
    "\n",
    "    >>> twoSum([2, 7, 11, 15], 26)\n",
    "    (2, 3)\n",
    "    \"\"\"\n",
    "\n",
    "    for i in range(len(input_array)):\n",
    "        for y in range(i + 1, len(input_array)):\n",
    "            if input_array[i] != input_array[y] and input_array[i] + input_array[y] == target_int:\n",
    "                return (i, y)\n",
    "\n",
    "twoSum([1, 2, 3, 2, 3, 4, 5, 6], 6)"
   ]
  },
  {
   "cell_type": "markdown",
   "metadata": {},
   "source": [
    "### 3. Find a number in an Array"
   ]
  },
  {
   "cell_type": "code",
   "execution_count": null,
   "metadata": {},
   "outputs": [
    {
     "data": {
      "text/plain": [
       "3"
      ]
     },
     "execution_count": 69,
     "metadata": {},
     "output_type": "execute_result"
    }
   ],
   "source": [
    "# Linear search\n",
    "\n",
    "def linearSearch(input_array, target):\n",
    "    for i in range(len(input_array)):\n",
    "        if input_array[i] == target:\n",
    "            return i\n",
    "    return None\n",
    "        \n",
    "linearSearch([2, 7, 11, 15], 15)"
   ]
  },
  {
   "cell_type": "markdown",
   "metadata": {},
   "source": [
    "### 4. Find the maximum product of two integers in an array where all elements are positive"
   ]
  },
  {
   "cell_type": "code",
   "execution_count": null,
   "metadata": {},
   "outputs": [
    {
     "name": "stdout",
     "output_type": "stream",
     "text": [
      "63\n"
     ]
    }
   ],
   "source": [
    "def max_product(arr):\n",
    "    max = 0\n",
    "    for i in range(len(arr)):\n",
    "        for y in range(i + 1, len(arr)):\n",
    "            if arr[i] * arr[y] > max:\n",
    "                max = arr[i] * arr[y]\n",
    "    return max\n",
    "\n",
    "print(max_product([1, 7, 3, 4, 9, 5]))"
   ]
  },
  {
   "cell_type": "code",
   "execution_count": null,
   "metadata": {},
   "outputs": [
    {
     "data": {
      "text/plain": [
       "63"
      ]
     },
     "execution_count": 74,
     "metadata": {},
     "output_type": "execute_result"
    }
   ],
   "source": [
    "def max_product(arr):\n",
    "    # Initialize two variables to store the two largest numbers\n",
    "    max1, max2 = 0, 0  # O(1), constant time initialization\n",
    " \n",
    "    # Iterate through the array\n",
    "    for num in arr:  # O(n), where n is the length of the array\n",
    "        # If the current number is greater than max1, update max1 and max2\n",
    "        if num > max1:  # O(1), constant time comparison\n",
    "            max2 = max1  # O(1), constant time assignment\n",
    "            max1 = num  # O(1), constant time assignment\n",
    "        # If the current number is greater than max2 but not max1, update max2\n",
    "        elif num > max2:  # O(1), constant time comparison\n",
    "            max2 = num  # O(1), constant time assignment\n",
    " \n",
    "    # Return the product of the two largest numbers\n",
    "    return max1 * max2  # O(1), constant time multiplication\n",
    " \n",
    "arr = [1, 7, 3, 4, 9, 5]\n",
    "max_product(arr)"
   ]
  },
  {
   "cell_type": "markdown",
   "metadata": {},
   "source": [
    "### 5. Write a function called middle that takes a list and returns a new list that contains all but the first and last elements"
   ]
  },
  {
   "cell_type": "code",
   "execution_count": null,
   "metadata": {},
   "outputs": [
    {
     "data": {
      "text/plain": [
       "[2, 3]"
      ]
     },
     "execution_count": 83,
     "metadata": {},
     "output_type": "execute_result"
    }
   ],
   "source": [
    "def middle(lst):\n",
    "    return lst[1:-1]\n",
    "\n",
    "myList = [1, 2, 3, 4]\n",
    "middle(myList) "
   ]
  },
  {
   "cell_type": "markdown",
   "metadata": {},
   "source": [
    "### 6. Given 2D list calculate the sum of diagonal elements"
   ]
  },
  {
   "cell_type": "code",
   "execution_count": null,
   "metadata": {},
   "outputs": [
    {
     "data": {
      "text/plain": [
       "15"
      ]
     },
     "execution_count": 96,
     "metadata": {},
     "output_type": "execute_result"
    }
   ],
   "source": [
    "def diagonal_sum(matrix):\n",
    "    # Initialize the sum to 0\n",
    "    total = 0\n",
    "    # Iterate through the rows of the matrix\n",
    "    for i in range(len(matrix)):\n",
    "        total += matrix[i][i]\n",
    "    return total\n",
    "\n",
    "myList2D= [[1,2,3],[4,5,6],[7,8,9]] \n",
    "diagonal_sum(myList2D) # 15"
   ]
  },
  {
   "cell_type": "markdown",
   "metadata": {},
   "source": [
    "### 7. Given a list, write a function to get first, second best scores from the list. The list may contain duplicates."
   ]
  },
  {
   "cell_type": "markdown",
   "metadata": {},
   "source": [
    "`float('inf')`, `float('-inf')` indicate positive and negative infinity"
   ]
  },
  {
   "cell_type": "code",
   "execution_count": 9,
   "metadata": {},
   "outputs": [
    {
     "data": {
      "text/plain": [
       "(42, 0)"
      ]
     },
     "execution_count": 9,
     "metadata": {},
     "output_type": "execute_result"
    }
   ],
   "source": [
    "def first_second(my_list):\n",
    "\n",
    "    if len(my_list) == 0:\n",
    "        # if the list is empty, return 0 for both values\n",
    "        return 0, 0\n",
    "    elif len(my_list) == 1:\n",
    "        # if the list has one value, return that value as the first value,\n",
    "        # and 0 as the second value\n",
    "        return my_list[0], 0\n",
    "    \n",
    "    # initialize the first and second values as negative infinity\n",
    "    first, second = float('-inf'), float('-inf')\n",
    "\n",
    "    # loop through each number in the list\n",
    "    for number in my_list:\n",
    "        # if the number is greater than the first value, then update the\n",
    "        # second value to the first value, and update the first value to\n",
    "        # be the number\n",
    "        if number > first:\n",
    "            second = first\n",
    "            first = number\n",
    "        # if the number is greater than the second value, then update the\n",
    "        # second value to be the number\n",
    "        if number > second and number != first:\n",
    "            second = number\n",
    "\n",
    "    # if the second value is still negative infinity, then the list only\n",
    "    # has one unique value, so set the second value to be the first value\n",
    "    if second == float('-inf'):\n",
    "        second = first\n",
    "\n",
    "    # return the first and second values\n",
    "    return first, second\n",
    "\n",
    "\n",
    "\n",
    "myList = [84,85,86,87,85,90,85,83,23,45,84,1,2,0]\n",
    "myList2 = [1, 2, 3, 4, 5, 5, 4, 3, 2, 1]\n",
    "myList3 = [1, 1, 1, 1, 1, 1, 1, 1, 1, 1]\n",
    "myList4 = [42]\n",
    "first_second(myList4) # 90 87"
   ]
  },
  {
   "cell_type": "markdown",
   "metadata": {},
   "source": [
    "### 8. Write a function to remove the duplicate numbers on given integer array/list."
   ]
  },
  {
   "cell_type": "code",
   "execution_count": 13,
   "metadata": {},
   "outputs": [
    {
     "data": {
      "text/plain": [
       "array('i', [1, 2, 3, 4, 5])"
      ]
     },
     "execution_count": 13,
     "metadata": {},
     "output_type": "execute_result"
    }
   ],
   "source": [
    "def remove_duplicates(arr):\n",
    "    # Create an empty array to hold our output\n",
    "    # of unique values\n",
    "    output = array.array(\"i\", [])\n",
    "    # Iterate through all values in the input array\n",
    "    for i in arr:\n",
    "        # If this value is not already in the output array,\n",
    "        # add it to the output array\n",
    "        if i not in output:\n",
    "            output.append(i)\n",
    "    # Return the output array\n",
    "    return output\n",
    "\n",
    "\n",
    "remove_duplicates([1, 1, 2, 2, 3, 4, 5]) # [1, 2, 3, 4, 5]"
   ]
  },
  {
   "cell_type": "markdown",
   "metadata": {},
   "source": [
    "### 9. Write a function to find all pairs of an integer array whose sum is equal to a given number. Do not consider commutative pairs."
   ]
  },
  {
   "cell_type": "code",
   "execution_count": 34,
   "metadata": {},
   "outputs": [
    {
     "data": {
      "text/plain": [
       "['2+5', '4+3', '-2+9']"
      ]
     },
     "execution_count": 34,
     "metadata": {},
     "output_type": "execute_result"
    }
   ],
   "source": [
    "# This is a function that takes in a list of integers and a sum, and returns a list of pairs of integers that sum to the given sum. It does not consider commutative pairs (i.e. only one of (1, 5) or (5, 1) will be included in the output).\n",
    "\n",
    "def pair_sum(myList, sum):\n",
    "    output = []\n",
    "    for i in range(len(myList)):\n",
    "        for y in range(i + 1, len(myList)):\n",
    "            if myList[i] + myList[y] == sum:\n",
    "                # not considering commutative pairs\n",
    "                if f\"{myList[i]}+{myList[y]}\" not in output and f\"{myList[y]}+{myList[i]}\" not in output:\n",
    "                    output.append(f\"{myList[i]}+{myList[y]}\")\n",
    "    return output\n",
    "\n",
    "\n",
    "pair_sum([2, 4, 3, 5, 6, -2, 4, 7, 8, 9],7) # ['2+5', '4+3', '3+4', '-2+9']"
   ]
  },
  {
   "cell_type": "markdown",
   "metadata": {},
   "source": [
    "### 10. Given an integer array nums, return true if any value appears at least twice in the array, and return false if every element is distinct."
   ]
  },
  {
   "cell_type": "markdown",
   "metadata": {},
   "source": [
    "Searching for a number in a set with the `in` operator is more efficient than searching for a number in a list because sets are implemented as hash tables in Python, while lists are implemented as arrays. \n",
    "\n",
    "When you search for a number in a set using the `in` operator, Python computes the hash value of the number and uses it to look up the number in the hash table. This operation has an average time complexity of O(1), which means that it takes constant time on average, regardless of the size of the set.\n",
    "\n",
    "In contrast, when you search for a number in a list using the `in` operator, Python needs to iterate over each element in the list until it finds the number (or reaches the end of the list). This operation has a time complexity of O(n), where n is the length of the list. Therefore, searching for a number in a list takes longer as the list gets larger."
   ]
  },
  {
   "cell_type": "code",
   "execution_count": 41,
   "metadata": {},
   "outputs": [
    {
     "data": {
      "text/plain": [
       "True"
      ]
     },
     "execution_count": 41,
     "metadata": {},
     "output_type": "execute_result"
    }
   ],
   "source": [
    "def contains_duplicate2(nums):\n",
    "    if nums is None:\n",
    "        return False\n",
    "    nums_set = set()\n",
    "    for num in nums:\n",
    "        if num in nums_set:\n",
    "            return True\n",
    "        else:\n",
    "            nums_set.append(num)\n",
    "    return False\n",
    "\n",
    "\n",
    "contains_duplicate([1,2,3,1]) # Output: true"
   ]
  },
  {
   "cell_type": "markdown",
   "metadata": {},
   "source": [
    "### 11. Permutation"
   ]
  },
  {
   "cell_type": "code",
   "execution_count": 59,
   "metadata": {},
   "outputs": [
    {
     "data": {
      "text/plain": [
       "True"
      ]
     },
     "execution_count": 59,
     "metadata": {},
     "output_type": "execute_result"
    }
   ],
   "source": [
    "def permutation(arr1, arr2):\n",
    "    if len(arr1) != len(arr2):\n",
    "        return False\n",
    "    # Here, you can also sort both lists and compare them\n",
    "    for i in arr1:\n",
    "        if i not in arr2:\n",
    "            return False\n",
    "    return True\n",
    "\n",
    "permutation([1,2,3], [3,1,2])\n",
    "# permutation([\"a\", \"b\", \"c\"], [\"b\", \"c\", \"a\"])"
   ]
  },
  {
   "cell_type": "markdown",
   "metadata": {},
   "source": [
    "### 12. Rotate Matrix/ Image/"
   ]
  },
  {
   "cell_type": "markdown",
   "metadata": {},
   "source": [
    "You are given an n x n 2D matrix representing an image, rotate the image by 90 degrees (clockwise).\n",
    "You have to rotate the image in-place, which means you have to modify the input 2D matrix directly.\n",
    "DO NOT allocate another 2D matrix and do the rotation.\n",
    "\n",
    "Example:\n",
    "\n",
    "Input: matrix = [[1,2,3],[4,5,6],[7,8,9]]\n",
    "Output: [[7,4,1],[8,5,2],[9,6,3]]"
   ]
  },
  {
   "cell_type": "code",
   "execution_count": 65,
   "metadata": {},
   "outputs": [
    {
     "data": {
      "text/plain": [
       "[[1, 2, 1], [5, 5, 6], [7, 9, 9]]"
      ]
     },
     "execution_count": 65,
     "metadata": {},
     "output_type": "execute_result"
    }
   ],
   "source": [
    "def rotate(matrix):\n",
    "    for i in range(len(matrix)):\n",
    "        matrix[i][i - 1] = matrix[i][i]\n",
    "    return matrix\n",
    "\n",
    "\n",
    "rotate([[1,2,3],[4,5,6],[7,8,9]])"
   ]
  },
  {
   "cell_type": "code",
   "execution_count": 62,
   "metadata": {},
   "outputs": [
    {
     "name": "stdout",
     "output_type": "stream",
     "text": [
      "0\n",
      "1\n",
      "2\n"
     ]
    }
   ],
   "source": [
    "matrix = [[1,2,3],[4,5,6],[7,8,9]]\n",
    "\n",
    "for i in range(len(matrix)):\n",
    "    print(i)"
   ]
  },
  {
   "cell_type": "code",
   "execution_count": null,
   "metadata": {},
   "outputs": [],
   "source": []
  }
 ],
 "metadata": {
  "kernelspec": {
   "display_name": "Python 3",
   "language": "python",
   "name": "python3"
  },
  "language_info": {
   "codemirror_mode": {
    "name": "ipython",
    "version": 3
   },
   "file_extension": ".py",
   "mimetype": "text/x-python",
   "name": "python",
   "nbconvert_exporter": "python",
   "pygments_lexer": "ipython3",
   "version": "3.9.13"
  },
  "orig_nbformat": 4
 },
 "nbformat": 4,
 "nbformat_minor": 2
}
