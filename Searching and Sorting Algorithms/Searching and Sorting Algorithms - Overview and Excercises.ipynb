{
 "cells": [
  {
   "cell_type": "markdown",
   "id": "d4f1efc2",
   "metadata": {},
   "source": [
    "# Searching Algorithms"
   ]
  },
  {
   "cell_type": "markdown",
   "id": "638ef2fb",
   "metadata": {},
   "source": [
    "#### What is a searching algorithm?\n",
    "\n",
    "<b>Search algorithm</b> is an algorithm for finding an item with specified properties among a collection of items"
   ]
  },
  {
   "cell_type": "markdown",
   "id": "920d18d7",
   "metadata": {},
   "source": [
    "### Linear Search"
   ]
  },
  {
   "cell_type": "markdown",
   "id": "a7cc88b3",
   "metadata": {},
   "source": [
    "* Finds a particular value in a list.\n",
    "\n",
    "    1. Checking every element;\n",
    "    \n",
    "    2. One at a time, in sequence;\n",
    "    \n",
    "    3. Until the desired one is found.\n",
    "\n",
    "\n",
    "\n",
    "* Linear complexity;\n",
    "* Worst and average performance: O(n).\n"
   ]
  },
  {
   "cell_type": "code",
   "execution_count": 1,
   "id": "e73d94ae",
   "metadata": {},
   "outputs": [
    {
     "name": "stdout",
     "output_type": "stream",
     "text": [
      "True\n"
     ]
    }
   ],
   "source": [
    "nums = [1, 2, 3, 4, 5, 6, 7, 8, 9]\n",
    "\n",
    "for i in nums:\n",
    "    if i == 7:\n",
    "        print(True)\n",
    "        break"
   ]
  },
  {
   "cell_type": "code",
   "execution_count": 2,
   "id": "074b4b53",
   "metadata": {},
   "outputs": [
    {
     "data": {
      "text/plain": [
       "8"
      ]
     },
     "execution_count": 2,
     "metadata": {},
     "output_type": "execute_result"
    }
   ],
   "source": [
    "nums = [1, 2, 3, 4, 5, 6, 7, 8, 9]\n",
    "target = 7\n",
    "\n",
    "def linear_search(nums, target):\n",
    "    for index, num in enumerate(nums):\n",
    "        if num == target:\n",
    "            return index\n",
    "    return -1\n",
    "\n",
    "linear_search(nums, 9)"
   ]
  },
  {
   "cell_type": "markdown",
   "id": "4f6d21fb",
   "metadata": {},
   "source": [
    "### Binary Search"
   ]
  },
  {
   "attachments": {},
   "cell_type": "markdown",
   "id": "91f8f67b",
   "metadata": {},
   "source": [
    "* Finds an item within an <b>ordered</b> data structure.\n",
    "\n",
    "    At each step, compare the input with the middle element;\n",
    "    \n",
    "    The algorithm repeat its action to the left or right sub-structure.\n",
    "\n",
    "\n",
    "* Works for sorted arrays ONLY!\n",
    "\n",
    "* Average performance: O(log(n))."
   ]
  },
  {
   "cell_type": "code",
   "execution_count": 4,
   "id": "c30918a2",
   "metadata": {},
   "outputs": [
    {
     "data": {
      "text/plain": [
       "7"
      ]
     },
     "execution_count": 4,
     "metadata": {},
     "output_type": "execute_result"
    }
   ],
   "source": [
    "# Recursive solution\n",
    "\n",
    "# Define:\n",
    "def binary_search(nums, target, low=0, high=len(nums)-1):\n",
    "    if target > len(nums):\n",
    "        return -1\n",
    "    \n",
    "    middle_value = nums[(low + high) // 2]\n",
    "    middle_index = nums.index(middle_value)\n",
    "\n",
    "    if target == middle_value:\n",
    "        return middle_index\n",
    "    elif target > middle_value:\n",
    "        return binary_search(nums, target, middle_value+1, high)\n",
    "    elif target <= middle_value:\n",
    "        return binary_search(nums, target, low, middle_value-1)\n",
    "\n",
    "# Execute:\n",
    "nums = [1, 2, 3, 4, 5, 6, 7, 8, 9]    \n",
    "target = 8\n",
    "binary_search(nums, target)"
   ]
  },
  {
   "cell_type": "code",
   "execution_count": 6,
   "id": "e5209e74",
   "metadata": {},
   "outputs": [
    {
     "name": "stdout",
     "output_type": "stream",
     "text": [
      "1 2 3 4 5 6 7 8 9\n",
      "8\n",
      "7\n"
     ]
    }
   ],
   "source": [
    "# Iterative solution\n",
    "\n",
    "# Define:\n",
    "def binary_search(nums, target):\n",
    "    left = 0\n",
    "    right = len(nums) - 1\n",
    "    while left <= right:\n",
    "        mid_idx = (left + right) // 2\n",
    "        mid_el = nums[mid_idx]\n",
    "        \n",
    "        if mid_el == target:\n",
    "            return mid_idx\n",
    "        \n",
    "        if target > mid_el:\n",
    "            left = mid_idx + 1\n",
    "        else:\n",
    "            right = mid_idx - 1\n",
    "    return -1\n",
    "\n",
    "# Execute:\n",
    "nums = [int(x) for x in input().split()]\n",
    "target = int(input())\n",
    "\n",
    "print(binary_search(nums, target))"
   ]
  },
  {
   "cell_type": "markdown",
   "id": "4f50944b",
   "metadata": {},
   "source": [
    "# Simple Sorting Algorithms"
   ]
  },
  {
   "cell_type": "markdown",
   "id": "395c142c",
   "metadata": {},
   "source": [
    "#### What is a Sorting Algorithm?\n",
    "\n",
    "An algorithm that rearranges elements in a list, in non-decreasing order.\n",
    "\n",
    "* Elements must be comparable!\n",
    "\n",
    "\n",
    "* The <b>input</b> is a sequence / list of elements.\n",
    "\n",
    "\n",
    "* The <b>output</b> is a rearrangement / <b>permutation</b> of elements."
   ]
  },
  {
   "cell_type": "markdown",
   "id": "9026d6c6",
   "metadata": {},
   "source": [
    "#### Sorting Algorithms: Classification\n",
    "\n",
    "Sorting algorithms are often classified by:\n",
    "    \n",
    "* Computational <b>complexity</b> and memory usage\n",
    "    Worst, average and best-case behaviour\n",
    "    \n",
    "    \n",
    "* <b>Recursive</b> / non-recursive\n",
    "* <b>Stability</b> - stable /unstable\n",
    "* <b>Comparison-based</b> sort / non-comparison based"
   ]
  },
  {
   "cell_type": "markdown",
   "id": "572333f8",
   "metadata": {},
   "source": [
    "#### Stability of Sorting Algorithms\n",
    "\n",
    "<b>Stable</b> sorting algorithms:\n",
    "\n",
    "* Maintain the order of equal elements;\n",
    "\n",
    "* If two items compare as equal, their relative order is preserved\n",
    "\n",
    "\n",
    "<b> Unstable </b> sorting algorithms\n",
    "\n",
    "* Rearrange the equal elements in unpredictable order\n",
    "\n",
    "Often <b>different elements</b> have <b>same key</b> used for equality comparing"
   ]
  },
  {
   "cell_type": "markdown",
   "id": "083faff9",
   "metadata": {},
   "source": [
    "### Selection Sort"
   ]
  },
  {
   "cell_type": "markdown",
   "id": "4d7caff1",
   "metadata": {},
   "source": [
    "Simple, but inefficient algorithm.\n",
    "\n",
    "* Swap the first with the min element on the right, the the second, etc.\n",
    "* Memory: O(1)\n",
    "* Time: O(n**2)\n",
    "* Stable: No\n",
    "* Method: Selection"
   ]
  },
  {
   "cell_type": "code",
   "execution_count": 93,
   "id": "827533d4",
   "metadata": {},
   "outputs": [
    {
     "name": "stdout",
     "output_type": "stream",
     "text": [
      "-5 -1 2 3 4 5 10 67 100 100 100 207 1001\n"
     ]
    }
   ],
   "source": [
    "# Iterative solution\n",
    "\n",
    "nums = [int(x) for x in input().split()]\n",
    "\n",
    "for idx in range(len(nums)):\n",
    "    min_number = nums[idx]\n",
    "    min_idx = idx\n",
    "    for next_idx in range(idx+1, len(nums)):\n",
    "        next_number = nums[next_idx]\n",
    "        if next_number < min_number:\n",
    "            min_number = next_number\n",
    "            min_idx = next_idx\n",
    "    nums[idx], nums[min_idx] = nums[min_idx], nums[idx]\n",
    "    \n",
    "print(*nums, sep=\" \")"
   ]
  },
  {
   "cell_type": "markdown",
   "id": "3f35d19b",
   "metadata": {},
   "source": [
    "### Bubble Sort"
   ]
  },
  {
   "cell_type": "markdown",
   "id": "99c678d2",
   "metadata": {},
   "source": [
    "Simple, but inefficient algorithm.\n",
    "\n",
    "* Simple but inefficient\n",
    "* Swaps to neighbor elements when not in order until sorted\n",
    "* Memory: O(1)\n",
    "* Time: O(n**2)\n",
    "* Stable: Yes\n",
    "* Method: Exchange"
   ]
  },
  {
   "cell_type": "code",
   "execution_count": 112,
   "id": "1b8834a2",
   "metadata": {},
   "outputs": [
    {
     "name": "stdout",
     "output_type": "stream",
     "text": [
      "0 5 7 7 10 13 14 15 16 17 17 21 27 28 29 31 32 34 36 36 37 38 42 44 51 52 55 61 64 65 65 65 68 70 74 75 86 86 86 89 93 93 96 97\n"
     ]
    }
   ],
   "source": [
    "# Iterative solution\n",
    "\n",
    "nums = [2, 5, 3, 10, 100, 4, 100, 207, -1, -5, 67, 100, 1001]\n",
    "\n",
    "def bubble_sort(nums):\n",
    "    for i in range(len(nums)):\n",
    "        for y in range(len(nums) - 1):\n",
    "            if nums[y] > nums[y+1]:\n",
    "                nums[y], nums[y+1] = nums[y+1], nums[y]\n",
    "    return nums\n",
    "            \n",
    "print(*bubble_sort(nums_2))"
   ]
  },
  {
   "cell_type": "code",
   "execution_count": 124,
   "id": "cfafc17e",
   "metadata": {},
   "outputs": [
    {
     "name": "stdout",
     "output_type": "stream",
     "text": [
      "-5 -1 2 3 4 5 10 67 100 100 100 207 1001\n"
     ]
    }
   ],
   "source": [
    "# Iterative solution (while loop)\n",
    "\n",
    "nums = [2, 5, 3, 10, 100, 4, 100, 207, -1, -5, 67, 100, 1001]\n",
    "\n",
    "def bubble_sort_while(nums):\n",
    "    iteration = 0\n",
    "    while iteration <= len(nums):\n",
    "        for y in range(1, len(nums)-iteration): # '-iteration helps to not iterate over numbers that have been sorted'\n",
    "            if nums[y] < nums[y-1]:\n",
    "                nums[y], nums[y-1] = nums[y-1], nums[y]\n",
    "        iteration += 1\n",
    "    return nums\n",
    "            \n",
    "print(*bubble_sort_while(nums))"
   ]
  },
  {
   "cell_type": "code",
   "execution_count": 116,
   "id": "7b68c668",
   "metadata": {},
   "outputs": [
    {
     "name": "stdout",
     "output_type": "stream",
     "text": [
      "0 5 7 7 10 13 14 15 16 17 17 21 27 28 29 31 32 34 36 36 37 38 42 44 51 52 55 61 64 65 65 65 68 70 74 75 86 86 86 89 93 93 96 97\n"
     ]
    }
   ],
   "source": [
    "# Recursive solution\n",
    "\n",
    "nums = [2, 5, 3, 10, 100, 4, 100, 207, -1, -5, 67, 100, 1001]\n",
    "\n",
    "def bubble_sort_rec(nums, idx=0):\n",
    "    if idx == len(nums):\n",
    "        return nums\n",
    "    else:\n",
    "        for y in range(len(nums) - 1):\n",
    "            if nums[y] > nums[y+1]:\n",
    "                nums[y], nums[y+1] = nums[y+1], nums[y]\n",
    "    return bubble_sort(nums, idx+1)\n",
    "            \n",
    "print(*bubble_sort_rec(nums_2))"
   ]
  },
  {
   "cell_type": "markdown",
   "id": "b04e6429",
   "metadata": {},
   "source": [
    "### Insertion Sort"
   ]
  },
  {
   "cell_type": "markdown",
   "id": "625e867a",
   "metadata": {},
   "source": [
    "Simple, but inefficient algorithm.\n",
    "\n",
    "* Simple but inefficient\n",
    "* Move the first unsorted element left to its place\n",
    "* Memory: O(1)\n",
    "* Time: O(n**2)\n",
    "* Stable: Yes\n",
    "* Method: Insertion"
   ]
  },
  {
   "cell_type": "code",
   "execution_count": 147,
   "id": "f5804535",
   "metadata": {},
   "outputs": [
    {
     "name": "stdout",
     "output_type": "stream",
     "text": [
      "-7 10 11 56 1000\n"
     ]
    }
   ],
   "source": [
    "# Iterative solution\n",
    "\n",
    "def insertion_sort(nums):\n",
    "    for i in range(1, len(nums)):\n",
    "        for y in range(i, 0, -1):\n",
    "            if nums[y] < nums[y-1]:\n",
    "                nums[y], nums[y-1] = nums[y-1], nums[y]\n",
    "    return nums\n",
    "            \n",
    "# nums = [int(x) for x in input().split()]\n",
    "print(*insertion_sort([11, 10, -7, 1000, 56]))"
   ]
  },
  {
   "cell_type": "code",
   "execution_count": 157,
   "id": "423045fa",
   "metadata": {},
   "outputs": [
    {
     "name": "stdout",
     "output_type": "stream",
     "text": [
      "-5 -1 2 3 4 5 10 67 100 100 100 207 1001\n"
     ]
    }
   ],
   "source": [
    "# Recursive solution\n",
    "\n",
    "def insertion_sort_rec(nums, idx=1):\n",
    "    if idx == len(nums):\n",
    "        return nums\n",
    "    for y in range(idx, 0, -1):\n",
    "        if nums[y] < nums[y-1]:\n",
    "            nums[y], nums[y-1] = nums[y-1], nums[y]\n",
    "    return insertion_sort_rec(nums, idx+1)\n",
    "            \n",
    "# nums = [int(x) for x in input().split()]\n",
    "print(*insertion_sort_rec(nums))"
   ]
  },
  {
   "cell_type": "markdown",
   "id": "cdc9a5ae",
   "metadata": {},
   "source": [
    "# Advanced Sorting Algorithms"
   ]
  },
  {
   "cell_type": "markdown",
   "id": "e7cd9f40",
   "metadata": {},
   "source": [
    "### Quick Sort"
   ]
  },
  {
   "cell_type": "markdown",
   "id": "f9d1703f",
   "metadata": {},
   "source": [
    "Efficient sorting algorithm.\n",
    "\n",
    "* Choose a pivot; move smaller elements to the left and larger to the right; sort left and rigt\n",
    "* Memory: O(log(n)) stack space (recursion)\n",
    "* Time: O(n**2)\n",
    "* Stable: Depends\n",
    "* Method: Partitioning"
   ]
  },
  {
   "cell_type": "code",
   "execution_count": 8,
   "id": "118aeda9",
   "metadata": {},
   "outputs": [
    {
     "name": "stdout",
     "output_type": "stream",
     "text": [
      "10 5 3 4 21 100 73 4\n",
      "3 4 4 5 10 21 73 100\n"
     ]
    }
   ],
   "source": [
    "# Recursive solution\n",
    "\n",
    "def quick_sort(start, end, nums):\n",
    "    if start >= end:\n",
    "        return\n",
    "    pivot = start\n",
    "    left = start + 1\n",
    "    right = end\n",
    "    \n",
    "    while left <= right:\n",
    "        if nums[left] > nums[pivot] > nums[right]:\n",
    "            nums[left], nums[right] = nums[right], nums[left]\n",
    "        if nums[left] <= nums[pivot]:\n",
    "            left += 1\n",
    "        if nums[right] >= nums[pivot]:\n",
    "            right -= 1\n",
    "    \n",
    "    nums[pivot], nums[right] = nums[right], nums[pivot]\n",
    "    quick_sort(start, right - 1, nums)\n",
    "    quick_sort(left, end, nums)\n",
    "    \n",
    "nums = [int(x) for x in input().split()]    \n",
    "quick_sort(0, len(nums)-1, nums)\n",
    "print(*nums, sep=\" \")"
   ]
  },
  {
   "cell_type": "markdown",
   "id": "62292a4f",
   "metadata": {},
   "source": [
    "### Merge Sort"
   ]
  },
  {
   "cell_type": "markdown",
   "id": "c4237c2e",
   "metadata": {},
   "source": [
    "Efficient sorting algorithm.\n",
    "\n",
    "* Divide the list into sub-lists (typically 2 sub-lists):\n",
    "    1. Sort each sub-list recursively (call merge-sort);\n",
    "    2. Merge the sorted sub-lists into a single list\n",
    "* Memory: O(n) / O(n*log(n))\n",
    "* Time: O(n*log(n))\n",
    "* Highly parallelizable on multiple cores / machines, up to O(log(n))"
   ]
  },
  {
   "cell_type": "code",
   "execution_count": 9,
   "id": "e6e0de27",
   "metadata": {},
   "outputs": [
    {
     "name": "stdout",
     "output_type": "stream",
     "text": [
      "10 5 3 4 21 100 73 4\n",
      "3 4 4 5 10 21 73 100\n"
     ]
    }
   ],
   "source": [
    "# Define:\n",
    "def merge_arrays(left, right):\n",
    "    result = [None] * (len(left) + len(right))\n",
    "    left_idx = 0\n",
    "    right_idx = 0\n",
    "    result_idx = 0\n",
    "\n",
    "    while left_idx < len(left) and right_idx < (len(right)):\n",
    "        if left[left_idx] < right[right_idx]:\n",
    "            result[result_idx] = left[left_idx]\n",
    "            left_idx += 1\n",
    "        else:\n",
    "            result[result_idx] = right[right_idx]\n",
    "            right_idx += 1\n",
    "        result_idx += 1\n",
    "    \n",
    "    while left_idx < len(left):\n",
    "        result[result_idx] = left[left_idx]\n",
    "        left_idx += 1\n",
    "        result_idx += 1\n",
    "        \n",
    "    while right_idx < len(right):\n",
    "        result[result_idx] = right[right_idx]\n",
    "        right_idx += 1\n",
    "        result_idx += 1\n",
    "        \n",
    "    return result\n",
    "      \n",
    "    \n",
    "def merge_sort(nums):\n",
    "    if len(nums) == 1:\n",
    "        return nums\n",
    "    \n",
    "    mid_idx = len(nums) // 2\n",
    "    left = nums[:mid_idx]\n",
    "    right = nums[mid_idx:]\n",
    "    \n",
    "    return merge_arrays(merge_sort(left), merge_sort(right))\n",
    "   \n",
    "    \n",
    "# Execute:    \n",
    "nums = [int(x) for x in input().split()]        \n",
    "result = merge_sort(nums)\n",
    "print(*result, sep=\" \")"
   ]
  }
 ],
 "metadata": {
  "kernelspec": {
   "display_name": "Python 3",
   "language": "python",
   "name": "python3"
  },
  "language_info": {
   "codemirror_mode": {
    "name": "ipython",
    "version": 3
   },
   "file_extension": ".py",
   "mimetype": "text/x-python",
   "name": "python",
   "nbconvert_exporter": "python",
   "pygments_lexer": "ipython3",
   "version": "3.8.5"
  }
 },
 "nbformat": 4,
 "nbformat_minor": 5
}
