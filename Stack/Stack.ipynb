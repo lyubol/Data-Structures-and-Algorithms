{
 "cells": [
  {
   "cell_type": "markdown",
   "metadata": {},
   "source": [
    "# What is stack?"
   ]
  },
  {
   "cell_type": "markdown",
   "metadata": {},
   "source": [
    "A stack is a linear data structure that follows the Last-In, First-Out (LIFO) principle. It consists of a collection of elements with two primary operations: push, which adds an element to the top of the stack, and pop, which removes the top element. Stacks are commonly used for managing function calls, tracking execution history, and solving problems where the order of operations matters, such as parsing expressions and managing undo functionality. They are essential in implementing algorithms and data structures like recursion, expression evaluation, and backtracking."
   ]
  },
  {
   "cell_type": "markdown",
   "metadata": {},
   "source": [
    "## Why do we need a Stack?"
   ]
  },
  {
   "cell_type": "markdown",
   "metadata": {},
   "source": [
    "One example where stack is used is in the browser. When you visit a website, the URL is pushed onto the stack. When you click the back button, the URL is popped from the stack. The browser loads the URL at the top of the stack."
   ]
  },
  {
   "cell_type": "markdown",
   "metadata": {},
   "source": [
    "## Stack Operations"
   ]
  },
  {
   "cell_type": "markdown",
   "metadata": {},
   "source": [
    "- `push()` method: Adds an element to the top of the stack;\n",
    "- `pop()` method: Removes an element from the top of the stack;\n",
    "- `peek()` method: Returns the top element of the stack;\n",
    "- `isEmpty()` method: Returns true if the stack is empty;\n",
    "- `isFull()` method: Returns true if the stack is full. This method is not needed, if you use a stack without a size limit;\n",
    "- `delete()` method: Deletes entire stack."
   ]
  },
  {
   "cell_type": "markdown",
   "metadata": {},
   "source": [
    "### Create Stack using List without size limit"
   ]
  },
  {
   "cell_type": "code",
   "execution_count": 2,
   "metadata": {},
   "outputs": [],
   "source": [
    "class Stack:\n",
    "    def __init__(self):\n",
    "        self.list = []\n",
    "\n",
    "    def __str__(self):\n",
    "        values = self.list.reverse()\n",
    "        values = [str(i) for i in self.list]\n",
    "        return '\\n'.join(values)"
   ]
  },
  {
   "cell_type": "markdown",
   "metadata": {},
   "source": [
    "`Time Complexity: O(1)`;\n",
    "\n",
    "`Space Complexity: O(1)`."
   ]
  },
  {
   "cell_type": "markdown",
   "metadata": {},
   "source": [
    "#### isEmpty() method"
   ]
  },
  {
   "cell_type": "code",
   "execution_count": 3,
   "metadata": {},
   "outputs": [],
   "source": [
    "def isEmpty(self):\n",
    "    if self.list == []:\n",
    "        return True\n",
    "    else:\n",
    "        return False"
   ]
  },
  {
   "cell_type": "markdown",
   "metadata": {},
   "source": [
    "`Time Complexity: O(1)`;\n",
    "\n",
    "`Space Complexity: O(1)`."
   ]
  },
  {
   "cell_type": "markdown",
   "metadata": {},
   "source": [
    "#### push() method"
   ]
  },
  {
   "cell_type": "code",
   "execution_count": 12,
   "metadata": {},
   "outputs": [],
   "source": [
    "def push(self, value):\n",
    "    self.list.append(value)\n",
    "    return 'The element has been successfully inserted'"
   ]
  },
  {
   "cell_type": "markdown",
   "metadata": {},
   "source": [
    "The time needed to append an element to the list is amortized O(1). This is because the list has a dynamic array as an underlying data structure. `When the array is full, it is replaced with a new array with twice the capacity. This operation takes O(n) time, but it doesn’t happen every time an element is appended to the list. Therefore, the time complexity of the push() method is O(1).`"
   ]
  },
  {
   "cell_type": "markdown",
   "metadata": {},
   "source": [
    "`Time Complexity: O(1)`;\n",
    "\n",
    "`Space Complexity: O(1)`."
   ]
  },
  {
   "cell_type": "markdown",
   "metadata": {},
   "source": [
    "#### pop() method"
   ]
  },
  {
   "cell_type": "code",
   "execution_count": 18,
   "metadata": {},
   "outputs": [],
   "source": [
    "def pop(self):\n",
    "    if self.isEmpty() == True:\n",
    "        return None\n",
    "    else:\n",
    "        return self.list.pop()"
   ]
  },
  {
   "cell_type": "markdown",
   "metadata": {},
   "source": [
    "`Time Complexity: O(1)`;\n",
    "\n",
    "`Space Complexity: O(1)`."
   ]
  },
  {
   "cell_type": "markdown",
   "metadata": {},
   "source": [
    "#### peek() method"
   ]
  },
  {
   "cell_type": "code",
   "execution_count": 24,
   "metadata": {},
   "outputs": [],
   "source": [
    "def peek(self):\n",
    "    if self.isEmpty() == True:\n",
    "        return None\n",
    "    else:\n",
    "        return self.list[-1]"
   ]
  },
  {
   "cell_type": "markdown",
   "metadata": {},
   "source": [
    "`Time Complexity: O(1)`;\n",
    "\n",
    "`Space Complexity: O(1)`."
   ]
  },
  {
   "cell_type": "markdown",
   "metadata": {},
   "source": [
    "#### delete() method"
   ]
  },
  {
   "cell_type": "code",
   "execution_count": null,
   "metadata": {},
   "outputs": [],
   "source": [
    "def delete(self):\n",
    "    self.list = None"
   ]
  },
  {
   "cell_type": "markdown",
   "metadata": {},
   "source": [
    "`Time Complexity: O(1)`;\n",
    "\n",
    "`Space Complexity: O(1)`."
   ]
  },
  {
   "cell_type": "markdown",
   "metadata": {},
   "source": [
    "#### Implementing all methods (without size limit)"
   ]
  },
  {
   "cell_type": "code",
   "execution_count": 38,
   "metadata": {},
   "outputs": [],
   "source": [
    "class Stack:\n",
    "    def __init__(self):\n",
    "        self.list = []\n",
    "\n",
    "    def __str__(self):\n",
    "        values = self.list.reverse()\n",
    "        values = [str(i) for i in self.list]\n",
    "        return '\\n'.join(values)\n",
    "    \n",
    "    def isEmpty(self):\n",
    "        if self.list == []:\n",
    "            return True\n",
    "        else:\n",
    "            return False\n",
    "        \n",
    "    def push(self, value):\n",
    "        self.list.append(value)\n",
    "        return 'The element has been successfully inserted'\n",
    "    \n",
    "    def pop(self):\n",
    "        if self.isEmpty() == True:\n",
    "            return None\n",
    "        else:\n",
    "            return self.list.pop()\n",
    "        \n",
    "    def peek(self):\n",
    "        if self.isEmpty() == True:\n",
    "            return None\n",
    "        else:\n",
    "            return self.list[-1]\n",
    "        \n",
    "    def delete(self):\n",
    "        self.list = None"
   ]
  },
  {
   "cell_type": "markdown",
   "metadata": {},
   "source": [
    "#### Sample execution"
   ]
  },
  {
   "cell_type": "code",
   "execution_count": 39,
   "metadata": {},
   "outputs": [
    {
     "name": "stdout",
     "output_type": "stream",
     "text": [
      "\n",
      "1. Create an empty stack:\n",
      "\n",
      "2. Check if the stack is empty:\n",
      "True\n",
      "\n",
      "3. Push an element to the stack:\n",
      "The element has been successfully inserted\n",
      "\n",
      "4. Push an element to the stack:\n",
      "The element has been successfully inserted\n",
      "\n",
      "5. Push an element to the stack:\n",
      "The element has been successfully inserted\n",
      "\n",
      "5. Pop an element from the stack:\n",
      "3\n",
      "\n",
      "6. Peek an element from the stack:\n",
      "2\n",
      "\n",
      "7. Print the stack:\n",
      "2\n",
      "1\n",
      "\n",
      "8. Delete all element from the stack:\n",
      "None\n"
     ]
    }
   ],
   "source": [
    "print(\"\\n1. Create an empty stack:\")\n",
    "mystack = Stack()\n",
    "\n",
    "print(\"\\n2. Check if the stack is empty:\")\n",
    "print(mystack.isEmpty())\n",
    "\n",
    "print(\"\\n3. Push an element to the stack:\")\n",
    "print(mystack.push(1))\n",
    "\n",
    "print(\"\\n4. Push an element to the stack:\")\n",
    "print(mystack.push(2))\n",
    "\n",
    "print(\"\\n5. Push an element to the stack:\")\n",
    "print(mystack.push(3))\n",
    "\n",
    "print(\"\\n5. Pop an element from the stack:\")\n",
    "print(mystack.pop())\n",
    "\n",
    "print(\"\\n6. Peek an element from the stack:\")\n",
    "print(mystack.peek())\n",
    "\n",
    "print(\"\\n7. Print the stack:\")\n",
    "print(mystack)\n",
    "\n",
    "print(\"\\n8. Delete all element from the stack:\")\n",
    "print(mystack.delete())"
   ]
  },
  {
   "cell_type": "markdown",
   "metadata": {},
   "source": [
    "### Create Stack using List with limit"
   ]
  },
  {
   "cell_type": "code",
   "execution_count": 40,
   "metadata": {},
   "outputs": [],
   "source": [
    "class Stack:\n",
    "    def __init__(self, limit=10):\n",
    "        self.limit = limit\n",
    "        self.list = []\n",
    "\n",
    "    def __str__(self):\n",
    "        values = self.list.reverse()\n",
    "        values = [str(i) for i in self.list]\n",
    "        return '\\n'.join(values)"
   ]
  },
  {
   "cell_type": "markdown",
   "metadata": {},
   "source": [
    "`Time Complexity: O(1)`;\n",
    "\n",
    "`Space Complexity: O(1)`."
   ]
  },
  {
   "cell_type": "markdown",
   "metadata": {},
   "source": [
    "#### isEmpty() method"
   ]
  },
  {
   "cell_type": "code",
   "execution_count": null,
   "metadata": {},
   "outputs": [],
   "source": [
    "def isEmpty(self):\n",
    "    if self.list == []:\n",
    "        return True\n",
    "    else:\n",
    "        return False"
   ]
  },
  {
   "cell_type": "markdown",
   "metadata": {},
   "source": [
    "`Time Complexity: O(1)`;\n",
    "\n",
    "`Space Complexity: O(1)`."
   ]
  },
  {
   "cell_type": "markdown",
   "metadata": {},
   "source": [
    "#### isFull() method"
   ]
  },
  {
   "cell_type": "code",
   "execution_count": 43,
   "metadata": {},
   "outputs": [],
   "source": [
    "def isFull(self):\n",
    "    if len(self.list) == self.limit:\n",
    "        return True\n",
    "    else:\n",
    "        return False"
   ]
  },
  {
   "cell_type": "markdown",
   "metadata": {},
   "source": [
    "`Time Complexity: O(1)`;\n",
    "\n",
    "`Space Complexity: O(1)`."
   ]
  },
  {
   "cell_type": "markdown",
   "metadata": {},
   "source": [
    "#### push() method"
   ]
  },
  {
   "cell_type": "code",
   "execution_count": 51,
   "metadata": {},
   "outputs": [],
   "source": [
    "def push(self, value):\n",
    "    if self.isFull() == True:\n",
    "        return 'Stack limit reached'\n",
    "    else:\n",
    "        self.list.append(value)\n",
    "        return 'The element has been successfully inserted'"
   ]
  },
  {
   "cell_type": "markdown",
   "metadata": {},
   "source": [
    "`Time Complexity: O(1)`;\n",
    "\n",
    "`Space Complexity: O(1)`."
   ]
  },
  {
   "cell_type": "markdown",
   "metadata": {},
   "source": [
    "#### pop() method"
   ]
  },
  {
   "cell_type": "code",
   "execution_count": 53,
   "metadata": {},
   "outputs": [],
   "source": [
    "def pop(self):\n",
    "    if self.isEmpty():\n",
    "        return None\n",
    "    else:\n",
    "        return self.list.pop()"
   ]
  },
  {
   "cell_type": "markdown",
   "metadata": {},
   "source": [
    "`Time Complexity: O(1)`;\n",
    "\n",
    "`Space Complexity: O(1)`."
   ]
  },
  {
   "cell_type": "markdown",
   "metadata": {},
   "source": [
    "#### peek() method"
   ]
  },
  {
   "cell_type": "code",
   "execution_count": 56,
   "metadata": {},
   "outputs": [],
   "source": [
    "def peek(self):\n",
    "    if self.isEmpty() == True:\n",
    "        return None\n",
    "    else:\n",
    "        return self.list[-1]"
   ]
  },
  {
   "cell_type": "markdown",
   "metadata": {},
   "source": [
    "`Time Complexity: O(1)`;\n",
    "\n",
    "`Space Complexity: O(1)`."
   ]
  },
  {
   "cell_type": "markdown",
   "metadata": {},
   "source": [
    "#### delete() method"
   ]
  },
  {
   "cell_type": "code",
   "execution_count": 57,
   "metadata": {},
   "outputs": [],
   "source": [
    "def delete(self):\n",
    "    self.list = None"
   ]
  },
  {
   "cell_type": "markdown",
   "metadata": {},
   "source": [
    "`Time Complexity: O(1)`;\n",
    "\n",
    "`Space Complexity: O(1)`."
   ]
  },
  {
   "cell_type": "markdown",
   "metadata": {},
   "source": [
    "#### Implementing all methods (with size limit)"
   ]
  },
  {
   "cell_type": "code",
   "execution_count": 60,
   "metadata": {},
   "outputs": [],
   "source": [
    "class Stack:\n",
    "    def __init__(self, limit=10):\n",
    "        self.limit = limit\n",
    "        self.list = []\n",
    "\n",
    "    def __str__(self):\n",
    "        values = self.list.reverse()\n",
    "        values = [str(i) for i in self.list]\n",
    "        return '\\n'.join(values)\n",
    "    \n",
    "    def push(self, value):\n",
    "        if self.isFull() == True:\n",
    "            return 'Stack limit reached'\n",
    "        else:\n",
    "            self.list.append(value)\n",
    "            return 'The element has been successfully inserted'\n",
    "        \n",
    "    def pop(self):\n",
    "        if self.isEmpty():\n",
    "            return None\n",
    "        else:\n",
    "            return self.list.pop()\n",
    "        \n",
    "    def isEmpty(self):\n",
    "        if self.list == []:\n",
    "            return True\n",
    "        else:\n",
    "            return False\n",
    "        \n",
    "    def isFull(self):\n",
    "        if len(self.list) == self.limit:\n",
    "            return True\n",
    "        else:\n",
    "            return False\n",
    "        \n",
    "    def peek(self):\n",
    "        if self.isEmpty() == True:\n",
    "            return None\n",
    "        else:\n",
    "            return self.list[-1]\n",
    "        \n",
    "    def delete(self):\n",
    "        self.list = None"
   ]
  },
  {
   "cell_type": "markdown",
   "metadata": {},
   "source": [
    "#### Sample execution"
   ]
  },
  {
   "cell_type": "code",
   "execution_count": 61,
   "metadata": {},
   "outputs": [
    {
     "name": "stdout",
     "output_type": "stream",
     "text": [
      "\n",
      "1. Create an empty stack:\n",
      "\n",
      "2. Check if the stack is empty:\n",
      "True\n",
      "\n",
      "3. Push an element to the stack:\n",
      "The element has been successfully inserted\n",
      "\n",
      "4. Push an element to the stack:\n",
      "The element has been successfully inserted\n",
      "\n",
      "5. Push an element to the stack:\n",
      "The element has been successfully inserted\n",
      "\n",
      "6. Check if the stack is full:\n",
      "False\n",
      "\n",
      "7. Pop an element from the stack:\n",
      "3\n",
      "\n",
      "8. Peek an element from the stack:\n",
      "2\n",
      "\n",
      "9. Print the stack:\n",
      "2\n",
      "1\n",
      "\n",
      "10. Delete all element from the stack:\n",
      "None\n"
     ]
    }
   ],
   "source": [
    "print(\"\\n1. Create an empty stack:\")\n",
    "mystack = Stack()\n",
    "\n",
    "print(\"\\n2. Check if the stack is empty:\")\n",
    "print(mystack.isEmpty())\n",
    "\n",
    "print(\"\\n3. Push an element to the stack:\")\n",
    "print(mystack.push(1))\n",
    "\n",
    "print(\"\\n4. Push an element to the stack:\")\n",
    "print(mystack.push(2))\n",
    "\n",
    "print(\"\\n5. Push an element to the stack:\")\n",
    "print(mystack.push(3))\n",
    "\n",
    "print(\"\\n6. Check if the stack is full:\")\n",
    "print(mystack.isFull())\n",
    "\n",
    "print(\"\\n7. Pop an element from the stack:\")\n",
    "print(mystack.pop())\n",
    "\n",
    "print(\"\\n8. Peek an element from the stack:\")\n",
    "print(mystack.peek())\n",
    "\n",
    "print(\"\\n9. Print the stack:\")\n",
    "print(mystack)\n",
    "\n",
    "print(\"\\n10. Delete all element from the stack:\")\n",
    "print(mystack.delete())"
   ]
  },
  {
   "cell_type": "markdown",
   "metadata": {},
   "source": [
    "## Time and Space Complexity of Stack operations with List"
   ]
  },
  {
   "cell_type": "markdown",
   "metadata": {},
   "source": [
    "| `Operation`                                   | `Time Complexity`                     | `Space complexity`                    |\n",
    "| --------------------------------------------- | ------------------------------------- | ------------------------------------- |\n",
    "| Create                                        | O(1)                                  | O(1)                                  |\n",
    "| Push                                          | O(1) / O(n^2)                         | O(1)                                  |\n",
    "| Pop                                           | O(1)                                  | O(1)                                  |\n",
    "| Peak                                          | O(1)                                  | O(1)                                  |\n",
    "| isEmpty                                       | O(1)                                  | O(1)                                  |\n",
    "| Delete Entire Stack                           | O(1)                                  | O(1)                                  |"
   ]
  }
 ],
 "metadata": {
  "kernelspec": {
   "display_name": "Python 3",
   "language": "python",
   "name": "python3"
  },
  "language_info": {
   "codemirror_mode": {
    "name": "ipython",
    "version": 3
   },
   "file_extension": ".py",
   "mimetype": "text/x-python",
   "name": "python",
   "nbconvert_exporter": "python",
   "pygments_lexer": "ipython3",
   "version": "3.9.13"
  }
 },
 "nbformat": 4,
 "nbformat_minor": 2
}
