{
 "cells": [
  {
   "cell_type": "markdown",
   "metadata": {},
   "source": [
    "# What is a Binary Search Tree?"
   ]
  },
  {
   "cell_type": "markdown",
   "metadata": {},
   "source": [
    "Binary Search Tree is a node-based binary tree data structure which has the following properties:\n",
    "\n",
    "- The left subtree of a node contains only nodes with keys lesser than the node’s key;\n",
    "- The right subtree of a node contains only nodes with keys greater than the node’s key;\n",
    "- The left and right subtree each must also be a binary search tree."
   ]
  },
  {
   "cell_type": "markdown",
   "metadata": {},
   "source": [
    "![My Local Image](BinarySearchTree.png)"
   ]
  },
  {
   "cell_type": "markdown",
   "metadata": {},
   "source": [
    "## Create a Binary Search Tree"
   ]
  },
  {
   "cell_type": "code",
   "execution_count": 1,
   "metadata": {},
   "outputs": [],
   "source": [
    "class BSTNode:\n",
    "    def __init__(self, data):\n",
    "        self.data = data\n",
    "        self.leftChild = None\n",
    "        self.rightChild = None"
   ]
  },
  {
   "cell_type": "markdown",
   "metadata": {},
   "source": [
    "`Time Complexity: O(1)`;\n",
    "\n",
    "`Space Complexity: O(1)`."
   ]
  },
  {
   "cell_type": "markdown",
   "metadata": {},
   "source": [
    "## Insert a node"
   ]
  },
  {
   "cell_type": "code",
   "execution_count": 5,
   "metadata": {},
   "outputs": [],
   "source": [
    "def insertNode(self, rootNode, value):\n",
    "    newNode = BSTNode(value)\n",
    "    if self.rootNode.data == None:\n",
    "        self.rootNode = newNode\n",
    "    else:\n",
    "        currentNode = rootNode\n",
    "        while currentNode:\n",
    "            if currentNode.data > value:\n",
    "                currentNode = currentNode.leftChild\n",
    "            else:\n",
    "                currentNode = currentNode.rightChild\n",
    "        currentNode = newNode\n",
    "    return 'Node has been inserted!'"
   ]
  },
  {
   "cell_type": "markdown",
   "metadata": {},
   "source": [
    "`Time Complexity: O(1)`;\n",
    "\n",
    "`Space Complexity: O(1)`."
   ]
  },
  {
   "cell_type": "markdown",
   "metadata": {},
   "source": [
    "## Traverse all nodes"
   ]
  },
  {
   "cell_type": "markdown",
   "metadata": {},
   "source": [
    "## Implement all methods"
   ]
  },
  {
   "cell_type": "code",
   "execution_count": 42,
   "metadata": {},
   "outputs": [],
   "source": [
    "class BSTNode:\n",
    "    def __init__(self, data):\n",
    "        self.data = data\n",
    "        self.leftChild = None\n",
    "        self.rightChild = None\n",
    "\n",
    "    def insertNode(self, rootNode, newNode):\n",
    "        # newNode = BSTNode(value)\n",
    "        if rootNode.data == None:\n",
    "            rootNode.data = newNode\n",
    "        else:\n",
    "            currentNode = rootNode\n",
    "            while currentNode:\n",
    "                if currentNode.data > newNode:\n",
    "                    currentNode = currentNode.leftChild\n",
    "                else:\n",
    "                    currentNode = currentNode.rightChild\n",
    "            currentNode.data = newNode\n",
    "        return 'Node has been inserted!'"
   ]
  },
  {
   "cell_type": "markdown",
   "metadata": {},
   "source": [
    "## Sample execution"
   ]
  },
  {
   "cell_type": "code",
   "execution_count": 44,
   "metadata": {},
   "outputs": [
    {
     "data": {
      "text/plain": [
       "'Node has been inserted!'"
      ]
     },
     "execution_count": 44,
     "metadata": {},
     "output_type": "execute_result"
    }
   ],
   "source": [
    "newBST = BSTNode(None)\n",
    "newBST.insertNode(newBST, 10)\n",
    "# newBST.insertNode(newBST, 5)"
   ]
  },
  {
   "cell_type": "code",
   "execution_count": 46,
   "metadata": {},
   "outputs": [
    {
     "name": "stdout",
     "output_type": "stream",
     "text": [
      "10\n"
     ]
    }
   ],
   "source": [
    "print(newBST.data)"
   ]
  },
  {
   "cell_type": "code",
   "execution_count": null,
   "metadata": {},
   "outputs": [],
   "source": []
  }
 ],
 "metadata": {
  "kernelspec": {
   "display_name": "Python 3",
   "language": "python",
   "name": "python3"
  },
  "language_info": {
   "codemirror_mode": {
    "name": "ipython",
    "version": 3
   },
   "file_extension": ".py",
   "mimetype": "text/x-python",
   "name": "python",
   "nbconvert_exporter": "python",
   "pygments_lexer": "ipython3",
   "version": "3.9.13"
  }
 },
 "nbformat": 4,
 "nbformat_minor": 2
}
