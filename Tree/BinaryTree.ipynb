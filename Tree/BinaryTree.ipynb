{
 "cells": [
  {
   "cell_type": "markdown",
   "metadata": {},
   "source": [
    "## What is a Binary Tree?"
   ]
  },
  {
   "cell_type": "markdown",
   "metadata": {},
   "source": [
    "Binary Tree is defined as a tree data structure where each node has at most 2 children. Since each element in a binary tree can have only 2 children, we typically name them the left and right child."
   ]
  },
  {
   "cell_type": "markdown",
   "metadata": {},
   "source": [
    "![My Local Image](BinaryTreeDataStructure.png)"
   ]
  },
  {
   "cell_type": "markdown",
   "metadata": {},
   "source": [
    "## Why Binary Tree?"
   ]
  },
  {
   "cell_type": "markdown",
   "metadata": {},
   "source": [
    "- Binary trees are a prerequisite for more advanced tree data structures, such as Binary Search Trees and AVL Trees, Red Black Trees;\n",
    "\n",
    "- Huffman coding problem, heap priority problem and expression parsing problems can be solved efficiently using binary trees;"
   ]
  },
  {
   "cell_type": "markdown",
   "metadata": {},
   "source": [
    "## Types of Binary Trees"
   ]
  },
  {
   "cell_type": "markdown",
   "metadata": {},
   "source": [
    "![My Local Image](BinaryTreeTypes.png)"
   ]
  },
  {
   "cell_type": "markdown",
   "metadata": {},
   "source": [
    "- `Full Binary Tree`: A Binary Tree is a full binary tree if every node has 0 or 2 children. The following are the examples of a full binary tree;\n",
    "\n",
    "- `Perfect Binary Tree`: A Binary tree is a Perfect Binary Tree in which all the internal nodes have two children and all leaf nodes are at the same level;\n",
    "\n",
    "- `Complete Binary Tree`: A Binary Tree is a Complete Binary Tree if all the levels are completely filled except possibly the last level and the last level has all keys as left as possible;\n",
    "\n",
    "- `Balanced Binary Tree`: A binary tree is balanced if the height of the tree is O(Log n) where n is the number of nodes. For Example, AVL tree maintains O(Log n) height by making sure that the difference between heights of left and right subtrees is 1. Red-Black trees maintain O(Log n) height by making sure that the number of Black nodes on every root to leaf paths are same and there are no adjacent red nodes. Balanced Binary Search trees are performance-wise good as they provide O(log n) time for search, insert and delete;"
   ]
  },
  {
   "cell_type": "markdown",
   "metadata": {},
   "source": [
    "## Binary Tree Representation"
   ]
  },
  {
   "cell_type": "markdown",
   "metadata": {},
   "source": [
    "### Linked List Representation"
   ]
  },
  {
   "cell_type": "markdown",
   "metadata": {},
   "source": [
    "![My Local Image](BinaryTreeLinkedListRepresentation.png)"
   ]
  },
  {
   "cell_type": "markdown",
   "metadata": {},
   "source": [
    "### Python List Representation"
   ]
  },
  {
   "cell_type": "markdown",
   "metadata": {},
   "source": [
    "![My Local Image](BinaryTreePythonListRepresentation.png)"
   ]
  },
  {
   "cell_type": "markdown",
   "metadata": {},
   "source": [
    "- `Left child`: cell[2x] (where x is the list index of the node)\n",
    "- `Right Child`: cell[2x+1] (where x is the list index of the node)"
   ]
  },
  {
   "cell_type": "markdown",
   "metadata": {},
   "source": [
    "## Linked List implementation of Binary Tree"
   ]
  },
  {
   "cell_type": "markdown",
   "metadata": {},
   "source": [
    "### Create a Binary Tree"
   ]
  },
  {
   "cell_type": "code",
   "execution_count": 1,
   "metadata": {},
   "outputs": [],
   "source": [
    "class TreeNode:\n",
    "    def __init__(self, data):\n",
    "        self.data = data\n",
    "        self.leftChild = None\n",
    "        self.rightChild = None"
   ]
  },
  {
   "cell_type": "code",
   "execution_count": 2,
   "metadata": {},
   "outputs": [],
   "source": [
    "newBT = TreeNode('Drinks')"
   ]
  },
  {
   "cell_type": "markdown",
   "metadata": {},
   "source": [
    "`Time Complexity: O(1)`;\n",
    "\n",
    "`Space Complexity: O(1)`."
   ]
  },
  {
   "cell_type": "markdown",
   "metadata": {},
   "source": [
    "### Traversal of a Binary Tree"
   ]
  },
  {
   "cell_type": "markdown",
   "metadata": {},
   "source": [
    "`Depth first search:`\n",
    "- `Pre-order traversal`: Root -> Left -> Right\n",
    "- `In-order traversal`: Left -> Root -> Right\n",
    "- `Post-order traversal`: Left -> Right -> Root\n",
    "\n",
    "`Breadth first search:`\n",
    "- `Level order traversal`: Level by level from left to right"
   ]
  },
  {
   "cell_type": "markdown",
   "metadata": {},
   "source": [
    "#### PreOrder Traversal"
   ]
  },
  {
   "cell_type": "code",
   "execution_count": null,
   "metadata": {},
   "outputs": [],
   "source": [
    "def preOrderTraversal(rootNode):\n",
    "    if rootNode == None:\n",
    "        return None\n",
    "    else:\n",
    "        print(rootNode.data)\n",
    "        preOrderTraversal(rootNode.leftChild)\n",
    "        preOrderTraversal(rootNode.rightChild)"
   ]
  },
  {
   "cell_type": "markdown",
   "metadata": {},
   "source": [
    "`Time Complexity: O(n)`;\n",
    "\n",
    "`Space Complexity: O(n)`."
   ]
  },
  {
   "cell_type": "markdown",
   "metadata": {},
   "source": [
    "#### InOrder Traversal"
   ]
  },
  {
   "cell_type": "code",
   "execution_count": 6,
   "metadata": {},
   "outputs": [],
   "source": [
    "def inOrderTraversal(rootNode):\n",
    "    if rootNode == None:\n",
    "        return None\n",
    "    else:\n",
    "        inOrderTraversal(rootNode.leftChild)\n",
    "        print(rootNode.data)\n",
    "        inOrderTraversal(rootNode.rightChild)"
   ]
  },
  {
   "cell_type": "markdown",
   "metadata": {},
   "source": [
    "`Time Complexity: O(n)`;\n",
    "\n",
    "`Space Complexity: O(n)`."
   ]
  },
  {
   "cell_type": "markdown",
   "metadata": {},
   "source": [
    "#### PostOrder Traversal"
   ]
  },
  {
   "cell_type": "code",
   "execution_count": 10,
   "metadata": {},
   "outputs": [],
   "source": [
    "def postOrderTraversal(rootNode):\n",
    "    if rootNode == None:\n",
    "        return None\n",
    "    else:\n",
    "        postOrderTraversal(rootNode.leftChild)\n",
    "        postOrderTraversal(rootNode.rightChild)\n",
    "        print(rootNode.data)"
   ]
  },
  {
   "cell_type": "markdown",
   "metadata": {},
   "source": [
    "`Time Complexity: O(n)`;\n",
    "\n",
    "`Space Complexity: O(n)`."
   ]
  },
  {
   "cell_type": "markdown",
   "metadata": {},
   "source": [
    "#### LevelOrder Traversal"
   ]
  },
  {
   "cell_type": "code",
   "execution_count": 35,
   "metadata": {},
   "outputs": [
    {
     "name": "stdout",
     "output_type": "stream",
     "text": [
      "Drinks\n",
      "Hot\n",
      "Cold\n",
      "Tea\n",
      "Coffee\n"
     ]
    }
   ],
   "source": [
    "import queue\n",
    "\n",
    "def levelOrderTraversal(rootNode):\n",
    "    if rootNode == None:\n",
    "        return None\n",
    "    else:\n",
    "        customQueue = queue.Queue()\n",
    "        customQueue.put(rootNode)\n",
    "        while not (customQueue.empty()):\n",
    "            root = customQueue.get()\n",
    "            print(root.data)\n",
    "            if (root.leftChild is not None):\n",
    "                customQueue.put(root.leftChild)\n",
    "            if (root.rightChild is not None):\n",
    "                customQueue.put(root.rightChild)\n",
    "\n",
    "levelOrderTraversal(newBT)"
   ]
  },
  {
   "cell_type": "markdown",
   "metadata": {},
   "source": [
    "`Time Complexity: O(n)`;\n",
    "\n",
    "`Space Complexity: O(n)`."
   ]
  },
  {
   "cell_type": "markdown",
   "metadata": {},
   "source": [
    "### Search a Binary Tree"
   ]
  },
  {
   "cell_type": "code",
   "execution_count": null,
   "metadata": {},
   "outputs": [],
   "source": [
    "def searchTree(rootNode):\n",
    "    if rootNode == "
   ]
  },
  {
   "cell_type": "markdown",
   "metadata": {},
   "source": [
    "`Time Complexity: O(n)`;\n",
    "\n",
    "`Space Complexity: O(n)`."
   ]
  },
  {
   "cell_type": "markdown",
   "metadata": {},
   "source": [
    "### Implement all methods"
   ]
  },
  {
   "cell_type": "code",
   "execution_count": null,
   "metadata": {},
   "outputs": [],
   "source": [
    "class TreeNode:\n",
    "    def __init__(self, data):\n",
    "        self.data = data\n",
    "        self.leftChild = None\n",
    "        self.rightChild = None"
   ]
  },
  {
   "cell_type": "markdown",
   "metadata": {},
   "source": [
    "### Sample execution"
   ]
  },
  {
   "cell_type": "code",
   "execution_count": 12,
   "metadata": {},
   "outputs": [
    {
     "name": "stdout",
     "output_type": "stream",
     "text": [
      "Tea\n",
      "Coffee\n",
      "Hot\n",
      "Cold\n",
      "Drinks\n"
     ]
    }
   ],
   "source": [
    "newBT = TreeNode('Drinks')\n",
    "leftChild = TreeNode('Hot')\n",
    "rightChild = TreeNode('Cold')\n",
    "hotLeftChild = TreeNode('Tea')\n",
    "hotRightChild = TreeNode('Coffee')\n",
    "\n",
    "newBT.leftChild = leftChild\n",
    "newBT.rightChild = rightChild\n",
    "leftChild.leftChild = hotLeftChild\n",
    "leftChild.rightChild = hotRightChild\n",
    "\n",
    "\n",
    "def preOrderTraversal(rootNode):\n",
    "    if rootNode == None:\n",
    "        return None\n",
    "    else:\n",
    "        print(rootNode.data)\n",
    "        preOrderTraversal(rootNode.leftChild)\n",
    "        preOrderTraversal(rootNode.rightChild)\n",
    "\n",
    "def inOrderTraversal(rootNode):\n",
    "    if rootNode == None:\n",
    "        return None\n",
    "    else:\n",
    "        inOrderTraversal(rootNode.leftChild)\n",
    "        print(rootNode.data)\n",
    "        inOrderTraversal(rootNode.rightChild)\n",
    "\n",
    "def postOrderTraversal(rootNode):\n",
    "    if rootNode == None:\n",
    "        return None\n",
    "    else:\n",
    "        postOrderTraversal(rootNode.leftChild)\n",
    "        postOrderTraversal(rootNode.rightChild)\n",
    "        print(rootNode.data)\n",
    "\n",
    "# preOrderTraversal(newBT)\n",
    "# inOrderTraversal(newBT)\n",
    "postOrderTraversal(newBT)"
   ]
  },
  {
   "cell_type": "code",
   "execution_count": null,
   "metadata": {},
   "outputs": [],
   "source": []
  }
 ],
 "metadata": {
  "kernelspec": {
   "display_name": "Python 3",
   "language": "python",
   "name": "python3"
  },
  "language_info": {
   "codemirror_mode": {
    "name": "ipython",
    "version": 3
   },
   "file_extension": ".py",
   "mimetype": "text/x-python",
   "name": "python",
   "nbconvert_exporter": "python",
   "pygments_lexer": "ipython3",
   "version": "3.9.13"
  }
 },
 "nbformat": 4,
 "nbformat_minor": 2
}
