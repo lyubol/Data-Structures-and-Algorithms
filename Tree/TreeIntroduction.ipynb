{
 "cells": [
  {
   "cell_type": "markdown",
   "metadata": {},
   "source": [
    "# What is a Tree?"
   ]
  },
  {
   "cell_type": "markdown",
   "metadata": {},
   "source": [
    "A tree data structure is a hierarchical structure that is used to represent and organize data in a way that is easy to navigate and search. It is a collection of nodes that are connected by edges and has a hierarchical relationship between the nodes. \n",
    "\n",
    "The topmost node of the tree is called the root, and the nodes below it are called the child nodes. Each node can have multiple child nodes, and these child nodes can also have their own child nodes, forming a recursive structure."
   ]
  },
  {
   "cell_type": "markdown",
   "metadata": {},
   "source": [
    "![My Local Image](TreeDataStructure.png)"
   ]
  },
  {
   "cell_type": "markdown",
   "metadata": {},
   "source": [
    "## Why a Tree?"
   ]
  },
  {
   "cell_type": "markdown",
   "metadata": {},
   "source": [
    "- Quicker and easier access to data;\n",
    "- Store hierarchival data, like folder structure, organization structure, XML/HTML data;\n",
    "- There are many different types of tree data structures, which performs better in various situations (Binary Search Tree, AVL, Red Black Tree, Trie, etc.)"
   ]
  },
  {
   "cell_type": "markdown",
   "metadata": {},
   "source": [
    "## Tree Terminology"
   ]
  },
  {
   "cell_type": "markdown",
   "metadata": {},
   "source": [
    "- `Root`: Top node without a parent node;\n",
    "- `Edge`: Link between two a parent and a child node;\n",
    "- `Leef`: Node without any child node;\n",
    "- `Sibling`: Nodes with the same parent node;\n",
    "- `Ancesstor`: A node that is on the path from the root node to a given node;\n",
    "- `Depth of node`: Number of edges from the root node to the given node;\n",
    "- `Heigh of node`: Number of edges from the given node to the deepest leaf node;\n",
    "- `Depth of tree`: Depth of the root node;\n",
    "- `Height of tree`: Height of the root node;"
   ]
  },
  {
   "cell_type": "markdown",
   "metadata": {},
   "source": [
    "## How to create a basic tree in Python?"
   ]
  },
  {
   "cell_type": "code",
   "execution_count": 2,
   "metadata": {},
   "outputs": [
    {
     "name": "stdout",
     "output_type": "stream",
     "text": [
      "Drinks\n",
      " Cold\n",
      " Hot\n",
      "\n"
     ]
    }
   ],
   "source": [
    "class TreeNode:\n",
    "    def __init__(self, data, children=[]):\n",
    "        self.data = data\n",
    "        self.children = children\n",
    "\n",
    "    def __str__(self, level=0):\n",
    "        ret = ' ' * level + str(self.data) + '\\n'\n",
    "        for child in self.children:\n",
    "            ret += child.__str__(level+1)\n",
    "        return ret\n",
    "\n",
    "    def addChild(self, TreeNode):\n",
    "        self.children.append(TreeNode)"
   ]
  },
  {
   "cell_type": "code",
   "execution_count": 4,
   "metadata": {},
   "outputs": [
    {
     "name": "stdout",
     "output_type": "stream",
     "text": [
      "Drinks\n",
      " Cold\n",
      "  Fanta\n",
      "  Cola\n",
      " Hot\n",
      "  Coffee\n",
      "  Tea\n",
      "\n"
     ]
    }
   ],
   "source": [
    "# Create a trees\n",
    "tree = TreeNode('Drinks', [])\n",
    "cold = TreeNode('Cold', [])\n",
    "hot = TreeNode('Hot', [])\n",
    "fanta = TreeNode('Fanta', [])\n",
    "cola = TreeNode('Cola', [])\n",
    "coffee = TreeNode('Coffee', [])\n",
    "tea =TreeNode('Tea', [])\n",
    "\n",
    "# Add childs to the trees\n",
    "tree.addChild(cold)\n",
    "tree.addChild(hot)\n",
    "cold.addChild(fanta)\n",
    "cold.addChild(cola)\n",
    "hot.addChild(coffee)\n",
    "hot.addChild(tea)\n",
    "\n",
    "# Print the tree\n",
    "print(tree)"
   ]
  }
 ],
 "metadata": {
  "kernelspec": {
   "display_name": "Python 3",
   "language": "python",
   "name": "python3"
  },
  "language_info": {
   "codemirror_mode": {
    "name": "ipython",
    "version": 3
   },
   "file_extension": ".py",
   "mimetype": "text/x-python",
   "name": "python",
   "nbconvert_exporter": "python",
   "pygments_lexer": "ipython3",
   "version": "3.9.13"
  }
 },
 "nbformat": 4,
 "nbformat_minor": 2
}
