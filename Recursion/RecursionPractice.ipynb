{
 "cells": [
  {
   "cell_type": "markdown",
   "metadata": {},
   "source": [
    "## 1. Power"
   ]
  },
  {
   "cell_type": "markdown",
   "metadata": {},
   "source": [
    "Write a function called power which accepts a base and an exponent. The function should return the power of the base to the exponent. This function should mimic the functionality of math.pow() - do not worry about negative bases and exponents.\n",
    "\n",
    "Examples:\n",
    "- power(2,0) # 1\n",
    "- power(2,2) # 4\n",
    "- power(2,4) # 16"
   ]
  },
  {
   "cell_type": "code",
   "execution_count": null,
   "metadata": {},
   "outputs": [],
   "source": [
    "def power(base, exponent):\n",
    "    if exponent == 1:\n",
    "        return base\n",
    "    return base * power(base, exponent - 1)\n",
    "\n",
    "power(2,4)"
   ]
  },
  {
   "cell_type": "markdown",
   "metadata": {},
   "source": [
    "## Factorial"
   ]
  },
  {
   "cell_type": "markdown",
   "metadata": {},
   "source": [
    "Write a function factorial which accepts a number and returns the factorial of that number. A factorial is the product of an integer and all the integers below it; e.g., factorial four ( 4! ) is equal to 24, because 4 * 3 * 2 * 1 equals 24. factorial zero (0!) is always 1.\n",
    "\n",
    "Examples:\n",
    "\n",
    "- factorial(1) # 1\n",
    "- factorial(2) # 2\n",
    "- factorial(4) # 24\n",
    "- factorial(7) # 5040\n"
   ]
  },
  {
   "cell_type": "code",
   "execution_count": 8,
   "metadata": {},
   "outputs": [
    {
     "data": {
      "text/plain": [
       "5040"
      ]
     },
     "execution_count": 8,
     "metadata": {},
     "output_type": "execute_result"
    }
   ],
   "source": [
    "def factorial(n):\n",
    "    if n == 1:\n",
    "        return n\n",
    "    return n * factorial(n - 1)\n",
    "\n",
    "factorial(7)"
   ]
  },
  {
   "cell_type": "markdown",
   "metadata": {},
   "source": [
    "## Product of Array"
   ]
  },
  {
   "cell_type": "markdown",
   "metadata": {},
   "source": [
    "Write a function called productOfArray which takes in an array of numbers and returns the product of them all.\n",
    "\n",
    "Examples:\n",
    "\n",
    "- productOfArray([1,2,3]) #6\n",
    "- productOfArray([1,2,3,10]) #60"
   ]
  },
  {
   "cell_type": "code",
   "execution_count": 15,
   "metadata": {},
   "outputs": [
    {
     "data": {
      "text/plain": [
       "6"
      ]
     },
     "execution_count": 15,
     "metadata": {},
     "output_type": "execute_result"
    }
   ],
   "source": [
    "def productOfArray(array):\n",
    "    if len(array) == 0:\n",
    "        return 1\n",
    "    return array[0] * productOfArray(array[1:])\n",
    "\n",
    "productOfArray([1,2,3])"
   ]
  },
  {
   "cell_type": "markdown",
   "metadata": {},
   "source": [
    "## Recursive Range"
   ]
  },
  {
   "cell_type": "markdown",
   "metadata": {},
   "source": [
    "Write a function called recursiveRange which accepts a number and adds up all the numbers from 0 to the number passed to the function.\n",
    "\n",
    "Examples:\n",
    "\n",
    "- recursiveRange(6) # 21\n",
    "- recursiveRange(10) # 55 "
   ]
  },
  {
   "cell_type": "code",
   "execution_count": 17,
   "metadata": {},
   "outputs": [
    {
     "data": {
      "text/plain": [
       "55"
      ]
     },
     "execution_count": 17,
     "metadata": {},
     "output_type": "execute_result"
    }
   ],
   "source": [
    "def recursiveRange(n):\n",
    "    if n == 1:\n",
    "        return n\n",
    "    return n + recursiveRange(n - 1)\n",
    "\n",
    "recursiveRange(10)"
   ]
  },
  {
   "cell_type": "markdown",
   "metadata": {},
   "source": [
    "## Fibonacci"
   ]
  },
  {
   "cell_type": "markdown",
   "metadata": {},
   "source": [
    "Write a recursive function called fib which accepts a number and returns the nth number in the Fibonacci sequence. Recall that the Fibonacci sequence is the sequence of whole numbers 0,1, 1, 2, 3, 5, 8, ... which starts with 0 and 1, and where every number thereafter is equal to the sum of the previous two numbers.\n",
    "\n",
    "Examples:\n",
    "\n",
    "- fib(4) # 3\n",
    "- fib(10) # 55\n",
    "- fib(28) # 317811\n",
    "- fib(35) # 9227465"
   ]
  },
  {
   "cell_type": "code",
   "execution_count": 2,
   "metadata": {},
   "outputs": [
    {
     "data": {
      "text/plain": [
       "55"
      ]
     },
     "execution_count": 2,
     "metadata": {},
     "output_type": "execute_result"
    }
   ],
   "source": [
    "def fib(n):\n",
    "    if n <= 1:\n",
    "        return n\n",
    "    return fib(n - 1) + fib(n - 2)\n",
    "\n",
    "fib(10)"
   ]
  },
  {
   "cell_type": "markdown",
   "metadata": {},
   "source": [
    "## Reverse"
   ]
  },
  {
   "cell_type": "markdown",
   "metadata": {},
   "source": [
    "Write a recursive function called reverse which accepts a string and returns a new string in reverse.\n",
    "\n",
    "Examples:\n",
    "\n",
    "- reverse('python') # 'nohtyp'\n",
    "- reverse('appmillers') # 'srellimppa'"
   ]
  },
  {
   "cell_type": "code",
   "execution_count": 16,
   "metadata": {},
   "outputs": [
    {
     "data": {
      "text/plain": [
       "'nohtyp'"
      ]
     },
     "execution_count": 16,
     "metadata": {},
     "output_type": "execute_result"
    }
   ],
   "source": [
    "def reverse(word):\n",
    "    if len(word) == 0:\n",
    "        return ''\n",
    "    return word[-1] + reverse(word[0:len(word) - 1])\n",
    "\n",
    "reverse('python')"
   ]
  },
  {
   "cell_type": "markdown",
   "metadata": {},
   "source": [
    "## Is Palindrome"
   ]
  },
  {
   "cell_type": "markdown",
   "metadata": {},
   "source": [
    "Write a recursive function called isPalindrome which returns true if the string passed to it is a palindrome (reads the same forward and backward). Otherwise it returns false.\n",
    "\n",
    "Examples:\n",
    "\n",
    "- isPalindrome('awesome') # false\n",
    "- isPalindrome('foobar') # false\n",
    "- isPalindrome('tacocat') # true\n",
    "- isPalindrome('amanaplanacanalpanama') # true\n",
    "- isPalindrome('amanaplanacanalpandemonium') # false"
   ]
  },
  {
   "cell_type": "code",
   "execution_count": 47,
   "metadata": {},
   "outputs": [
    {
     "data": {
      "text/plain": [
       "True"
      ]
     },
     "execution_count": 47,
     "metadata": {},
     "output_type": "execute_result"
    }
   ],
   "source": [
    "def isPalindrome(word):\n",
    "    if len(word) <= 1:\n",
    "        return True\n",
    "    elif word[0] != word[-1]:\n",
    "        return False\n",
    "    else:\n",
    "        return isPalindrome(word[len(word) - 1])\n",
    "    \n",
    "isPalindrome('tacocat')"
   ]
  },
  {
   "cell_type": "markdown",
   "metadata": {},
   "source": [
    "## Some Recursive"
   ]
  },
  {
   "cell_type": "markdown",
   "metadata": {},
   "source": [
    "Write a recursive function called someRecursive which accepts an array and a callback. The function returns true if a single value in the array returns true when passed to the callback. Otherwise it returns false.\n",
    "\n",
    "Examples:\n",
    "\n",
    "- someRecursive([1,2,3,4], isOdd) # true\n",
    "- someRecursive([4,6,8,9], isOdd) # true\n",
    "- someRecursive([4,6,8], isOdd) # false"
   ]
  },
  {
   "cell_type": "code",
   "execution_count": 58,
   "metadata": {},
   "outputs": [
    {
     "name": "stdout",
     "output_type": "stream",
     "text": [
      "False\n"
     ]
    }
   ],
   "source": [
    "def isOdd(num):\n",
    "    if num%2==0:\n",
    "        return False\n",
    "    else:\n",
    "        return True\n",
    "        \n",
    "def someRecursive(arr):\n",
    "    if len(arr) == 0:\n",
    "        return False\n",
    "    if isOdd(arr[-1]) == True:\n",
    "        return True\n",
    "    else:\n",
    "        return someRecursive(arr[0:len(arr) -1])\n",
    "\n",
    "print(someRecursive([4,6,8]))"
   ]
  },
  {
   "cell_type": "markdown",
   "metadata": {},
   "source": [
    "## Flatten"
   ]
  },
  {
   "cell_type": "markdown",
   "metadata": {},
   "source": [
    "Write a recursive function called flatten which accepts an array of arrays and returns a new array with all values flattened.\n",
    "\n",
    "Examples:\n",
    "\n",
    "- flatten([1, 2, 3, [4, 5]]) # [1, 2, 3, 4, 5]\n",
    "- flatten([1, [2, [3, 4], [[5]]]]) # [1, 2, 3, 4, 5]\n",
    "- flatten([[1], [2], [3]]) # [1, 2, 3]\n",
    "- flatten([[[[1], [[[2]]], [[[[[[[3]]]]]]]]]]) # [1, 2, 3]"
   ]
  },
  {
   "cell_type": "code",
   "execution_count": 68,
   "metadata": {},
   "outputs": [
    {
     "data": {
      "text/plain": [
       "[1, 2, 3]"
      ]
     },
     "execution_count": 68,
     "metadata": {},
     "output_type": "execute_result"
    }
   ],
   "source": [
    "def flatten(arr):\n",
    "    if arr == []:\n",
    "        return arr\n",
    "    elif isinstance(arr[0], list):\n",
    "        return flatten(arr[0]) + flatten(arr[1:])\n",
    "    else:\n",
    "        return arr[:1] + flatten(arr[1:])\n",
    "    \n",
    "flatten([1, [2], [[[3]]]])"
   ]
  },
  {
   "cell_type": "code",
   "execution_count": 70,
   "metadata": {},
   "outputs": [
    {
     "data": {
      "text/plain": [
       "[1, 2, 3]"
      ]
     },
     "execution_count": 70,
     "metadata": {},
     "output_type": "execute_result"
    }
   ],
   "source": [
    "def flatten(arr):\n",
    "    result = []\n",
    "    for i in arr:\n",
    "        if type(i) == list:\n",
    "            result.extend(flatten(i))\n",
    "        else:\n",
    "            result.append(i)\n",
    "    return result\n",
    "\n",
    "flatten([1, [2], [[[3]]]])"
   ]
  },
  {
   "cell_type": "markdown",
   "metadata": {},
   "source": [
    "## Capitalize First"
   ]
  },
  {
   "cell_type": "markdown",
   "metadata": {},
   "source": [
    "Write a recursive function called capitalizeFirst. Given an array of strings, capitalize the first letter of each string in the array.\n",
    "\n",
    "Example:\n",
    "\n",
    "- capitalizeFirst(['car', 'taco', 'banana']) # ['Car','Taco','Banana']"
   ]
  },
  {
   "cell_type": "code",
   "execution_count": 77,
   "metadata": {},
   "outputs": [
    {
     "data": {
      "text/plain": [
       "['Car', 'Taco', 'Banana']"
      ]
     },
     "execution_count": 77,
     "metadata": {},
     "output_type": "execute_result"
    }
   ],
   "source": [
    "# Method 1:\n",
    "def capitalizeFirst(arr):\n",
    "    result = []\n",
    "    if len(arr) == 0:\n",
    "        return arr\n",
    "    for i in arr:\n",
    "        result.append(i.capitalize())\n",
    "    return result\n",
    "\n",
    "capitalizeFirst(['car', 'taco', 'banana'])"
   ]
  },
  {
   "cell_type": "code",
   "execution_count": 81,
   "metadata": {},
   "outputs": [
    {
     "data": {
      "text/plain": [
       "['Car', 'Taco', 'Banana']"
      ]
     },
     "execution_count": 81,
     "metadata": {},
     "output_type": "execute_result"
    }
   ],
   "source": [
    "# Method 2:\n",
    "def capitalizeFirst(arr):\n",
    "    result = []\n",
    "    if len(arr) == 0:\n",
    "        return arr\n",
    "    else:\n",
    "        result.append(arr[0].capitalize())\n",
    "        return result + capitalizeFirst(arr[1:])\n",
    "\n",
    "capitalizeFirst(['car', 'taco', 'banana'])"
   ]
  }
 ],
 "metadata": {
  "kernelspec": {
   "display_name": "Python 3",
   "language": "python",
   "name": "python3"
  },
  "language_info": {
   "codemirror_mode": {
    "name": "ipython",
    "version": 3
   },
   "file_extension": ".py",
   "mimetype": "text/x-python",
   "name": "python",
   "nbconvert_exporter": "python",
   "pygments_lexer": "ipython3",
   "version": "3.9.13"
  }
 },
 "nbformat": 4,
 "nbformat_minor": 2
}
