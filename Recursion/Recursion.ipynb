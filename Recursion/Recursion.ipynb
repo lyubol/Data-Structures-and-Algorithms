{
 "cells": [
  {
   "cell_type": "markdown",
   "metadata": {},
   "source": [
    "# What is Recursion?"
   ]
  },
  {
   "cell_type": "markdown",
   "metadata": {},
   "source": [
    "In computer science, recursion is a method of solving a computational problem where the solution depends on solutions to smaller instances of the same problem. Such problems can generally be solve by iteration as well.\n",
    "\n",
    "Main properties of recursion are:\n",
    "- Performing the same operation multiple times with different inputs;\n",
    "- In every step, we try to make the problem smaller;\n",
    "- Base condition is needed to stop the recursion, otherwise it will run forever."
   ]
  },
  {
   "cell_type": "markdown",
   "metadata": {},
   "source": [
    "## Why Recursion?"
   ]
  },
  {
   "cell_type": "markdown",
   "metadata": {},
   "source": [
    "1. Recursive thinking is really important in programmin and it helps you break down big problems into smaller ones;\n",
    "\n",
    "    When to use recursion?\n",
    "    - if you can divide the problem into similar sub problems;\n",
    "    - design an algorithm to compute nth...;\n",
    "    - write code to list the n...;\n",
    "    - implement a method to compute all...<br>\n",
    "<br/>\n",
    "2. The prominent usage of recursion if data structures like trees and graphs;\n",
    "\n",
    "3. Interviews;\n",
    "\n",
    "4. It is used in many algorithms like divide and conquer, greedy and dynamic programming."
   ]
  },
  {
   "cell_type": "markdown",
   "metadata": {},
   "source": [
    "## How recursion works?"
   ]
  },
  {
   "cell_type": "markdown",
   "metadata": {},
   "source": [
    "1. A method calls itself;\n",
    "2. Exit from infinite loop;"
   ]
  },
  {
   "cell_type": "code",
   "execution_count": 4,
   "metadata": {},
   "outputs": [],
   "source": [
    "# def recusionMethod(parameters):\n",
    "#     if exit from condition satisfied:\n",
    "#         return some value\n",
    "#     else:\n",
    "#         recusionMethod(modified parameters)"
   ]
  },
  {
   "cell_type": "markdown",
   "metadata": {},
   "source": [
    "## Reciusive vs Iterative Solutions"
   ]
  },
  {
   "cell_type": "code",
   "execution_count": 6,
   "metadata": {},
   "outputs": [],
   "source": [
    "# recursive solution\n",
    "def powerOfTwo(n):\n",
    "    if n == 0:\n",
    "        return 1\n",
    "    else:\n",
    "        power = powerOfTwo(n-1)\n",
    "        return power * 2\n",
    "\n",
    "# iterative solution   \n",
    "def powerOfTwoIt(n):\n",
    "    i = 0\n",
    "    power = 1\n",
    "    while i < n:\n",
    "        power = power * 2\n",
    "        i = i + 1\n",
    "    return power"
   ]
  },
  {
   "cell_type": "markdown",
   "metadata": {},
   "source": [
    "| `Points`                   | `Recursion`                | `Iteration`                | `Comment`                  |\n",
    "| -------------------------- | -------------------------- | -------------------------- | -------------------------- |\n",
    "| Space efficient            | No                         | Yes                        | No stack memory required in case of iteration |\n",
    "| Time efficient             | No                         | Yes                        | In case of recursion system needs more time for pop and push elements to stack memory which makes recursion less time efficient |\n",
    "| Easy to code?              | Yes                        | No                         | We use recursion especially in the cases we know that a problem can be divided into similar sub problems |"
   ]
  },
  {
   "cell_type": "markdown",
   "metadata": {},
   "source": [
    "## When to use/avoid recursion?"
   ]
  },
  {
   "cell_type": "markdown",
   "metadata": {},
   "source": [
    "When to use recursion?\n",
    "- When we can easily break a problem into similar sub problems;\n",
    "- When we are fine with extra overhead (both time and space) that comes with recursion;\n",
    "- When we need a quick working solution instead of an efficient one;\n",
    "- When traversing a tree;\n",
    "- When we use memoization.\n",
    "\n",
    "When to avoid recursion?\n",
    "- If time and space complexity matters;\n",
    "- Recursion uses more memory. If we use embedded memory. For example an application that takes more memory in the phone is not efficient;\n",
    "- Recursion can be slow."
   ]
  },
  {
   "cell_type": "markdown",
   "metadata": {},
   "source": [
    "## How to write recursion in 3 steps?"
   ]
  },
  {
   "cell_type": "markdown",
   "metadata": {},
   "source": [
    "Step 1: Recursive case - the flow;\n",
    "\n",
    "Step 2: Base case - the stopping criterion;\n",
    "\n",
    "Step 3: Unintentional case - the constraint."
   ]
  },
  {
   "cell_type": "markdown",
   "metadata": {},
   "source": [
    "### Factorial recursive and iterative implementation"
   ]
  },
  {
   "cell_type": "markdown",
   "metadata": {},
   "source": [
    "Factorial:\n",
    "\n",
    "Example 1:\n",
    "- 4! = 4*3*2*1 = 24\n",
    "\n",
    "Example 2:\n",
    "- 10! = 10*9*8*7*6*5*4*3*2*1 = 3628800\n",
    "\n",
    "Formula:\n",
    "- n! = n * (n-1)*(n-2)*...*1\n",
    "\n"
   ]
  },
  {
   "cell_type": "code",
   "execution_count": 57,
   "metadata": {},
   "outputs": [
    {
     "data": {
      "text/plain": [
       "24"
      ]
     },
     "execution_count": 57,
     "metadata": {},
     "output_type": "execute_result"
    }
   ],
   "source": [
    "def factorial(n):\n",
    "    # Step 3: Unintentional case - the constraint\n",
    "    assert n >= 0 and int(n) == n, 'The input must be a positive integer!'\n",
    "    # Step 2: Base case - the stopping criterion\n",
    "    if n == 0:\n",
    "        return 1\n",
    "    # Step 1: Recursive case - the flow\n",
    "    else:\n",
    "        return n * factorial(n-1)\n",
    "\n",
    "factorial(4)"
   ]
  },
  {
   "cell_type": "code",
   "execution_count": 56,
   "metadata": {},
   "outputs": [
    {
     "data": {
      "text/plain": [
       "24"
      ]
     },
     "execution_count": 56,
     "metadata": {},
     "output_type": "execute_result"
    }
   ],
   "source": [
    "def factorial(n):\n",
    "    assert n >= 0 and int(n) == n, 'The input must be a positive integer!'\n",
    "    result = 1\n",
    "    for i in range(n+1):\n",
    "        if i != 0:\n",
    "            result = result * i\n",
    "    return result\n",
    "\n",
    "factorial(4)"
   ]
  },
  {
   "cell_type": "markdown",
   "metadata": {},
   "source": [
    "## Factorial recursive implementation"
   ]
  },
  {
   "cell_type": "markdown",
   "metadata": {},
   "source": [
    "Fibonacci sequence is a sequence of numbers where each number is the sum of the two previous numbers."
   ]
  },
  {
   "cell_type": "code",
   "execution_count": 4,
   "metadata": {},
   "outputs": [
    {
     "data": {
      "text/plain": [
       "13"
      ]
     },
     "execution_count": 4,
     "metadata": {},
     "output_type": "execute_result"
    }
   ],
   "source": [
    "def fibonacci(n):\n",
    "    # Step 3: Unintentional case - the constraint\n",
    "    assert n >= 0 and int(n) == n, 'The input must be a positive integer!'\n",
    "    # Step 2: Base case - the stopping criterion\n",
    "    if n in [0,1]:\n",
    "        return n\n",
    "    # Step 1: Recursive case - the flow\n",
    "    else:\n",
    "        return fibonacci(n-1) + fibonacci(n-2)\n",
    "\n",
    "fibonacci(7)"
   ]
  },
  {
   "cell_type": "markdown",
   "metadata": {},
   "source": [
    "## How to measure the performance of a recursive function?"
   ]
  },
  {
   "cell_type": "code",
   "execution_count": 13,
   "metadata": {},
   "outputs": [
    {
     "data": {
      "text/plain": [
       "9"
      ]
     },
     "execution_count": 13,
     "metadata": {},
     "output_type": "execute_result"
    }
   ],
   "source": [
    "def findMaxNum(input_array, n): # --------------------------------------> M(n)\n",
    "    if n == 1: # -------------------------------------------------------> O(1)\n",
    "        return input_array[0] # ----------------------------------------> O(1)\n",
    "    else:\n",
    "        return max(input_array[n-1], findMaxNum(input_array, n-1)) # ---> M(n-1)\n",
    "    \n",
    "findMaxNum([i for i in range(10)], 10)"
   ]
  },
  {
   "cell_type": "markdown",
   "metadata": {},
   "source": [
    "The `time and space complexity` of a recursive function is `O(branches^depth)`, where branches is the number of times each recursive call branches."
   ]
  }
 ],
 "metadata": {
  "kernelspec": {
   "display_name": "Python 3",
   "language": "python",
   "name": "python3"
  },
  "language_info": {
   "codemirror_mode": {
    "name": "ipython",
    "version": 3
   },
   "file_extension": ".py",
   "mimetype": "text/x-python",
   "name": "python",
   "nbconvert_exporter": "python",
   "pygments_lexer": "ipython3",
   "version": "3.9.13"
  }
 },
 "nbformat": 4,
 "nbformat_minor": 2
}
