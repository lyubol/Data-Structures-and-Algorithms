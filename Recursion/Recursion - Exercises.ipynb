{
 "cells": [
  {
   "cell_type": "markdown",
   "id": "f2d60e16",
   "metadata": {},
   "source": [
    "# Recursion exercises"
   ]
  },
  {
   "cell_type": "markdown",
   "id": "4fc4a0ed",
   "metadata": {},
   "source": [
    "### 1. Reverse Array"
   ]
  },
  {
   "cell_type": "markdown",
   "id": "5f1d1da6",
   "metadata": {},
   "source": [
    "Write a program that reverses and prints an array. Use recursion."
   ]
  },
  {
   "cell_type": "code",
   "execution_count": 11,
   "id": "027a28c5",
   "metadata": {},
   "outputs": [
    {
     "name": "stdout",
     "output_type": "stream",
     "text": [
      "1 2 3 4 5 6\n",
      "6 5 4 3 2 1\n"
     ]
    }
   ],
   "source": [
    "input_array = [1, 2, 3, 4, 5, 6]\n",
    "expected_output = [6, 5, 4, 3, 2, 1]\n",
    "\n",
    "def reverse_array(idx, elements):\n",
    "    if idx == len(elements) // 2:\n",
    "        return\n",
    "    swap_idx = len(elements) - 1 - idx\n",
    "    elements[idx], elements[swap_idx] = elements[swap_idx], elements[idx]\n",
    "    reverse_array(idx+1, elements)\n",
    "    \n",
    "elements = input().split()\n",
    "\n",
    "reverse_array(0, elements)\n",
    "\n",
    "print(\" \".join(elements))\n",
    "\n",
    "# reverse_array(0, input_array)"
   ]
  },
  {
   "cell_type": "markdown",
   "id": "b9aaf532",
   "metadata": {},
   "source": [
    "### 2. Nasted Loops To Recursion"
   ]
  },
  {
   "cell_type": "markdown",
   "id": "07b83368",
   "metadata": {},
   "source": [
    "Write a program that simulates the execution of n nested loops from 1 to n which prints the values of all its iteration variables at any given time on a single line. Use recursion."
   ]
  },
  {
   "cell_type": "code",
   "execution_count": 10,
   "id": "0cb70b97",
   "metadata": {},
   "outputs": [
    {
     "name": "stdout",
     "output_type": "stream",
     "text": [
      "2\n",
      "1 1\n",
      "1 2\n",
      "2 1\n",
      "2 2\n"
     ]
    }
   ],
   "source": [
    "def nested_loops(idx, arr):\n",
    "    if idx >= len(arr):\n",
    "        print(*arr, sep=\" \")\n",
    "        return\n",
    "    for num in range(1, len(arr) + 1):\n",
    "        arr[idx] = num\n",
    "        nested_loops(idx + 1, arr)\n",
    "        \n",
    "n = int(input())\n",
    "arr = [None] * n        \n",
    "\n",
    "nested_loops(0, arr)"
   ]
  },
  {
   "cell_type": "markdown",
   "id": "c3046348",
   "metadata": {},
   "source": [
    "### 3. Move Down / Right"
   ]
  },
  {
   "cell_type": "markdown",
   "id": "b22131b1",
   "metadata": {},
   "source": [
    "Marinette has the ability to transform into Ladybug. She is stuck on a grid. Her initial location is at the top-left corner and tries to move to the bottom-right corner. However, she can only move either down or right at any point in time.\n",
    "\n",
    "Write a program that prints the number of all possible unique paths that Marinette can take to reach the bottom-right corner.\n",
    "\n",
    "Input\n",
    "\n",
    "* On the first line you will receive an integer – m – number of rows.\n",
    "\n",
    "* On the second line you will receive an integer – n – number of cols.\n",
    "\n",
    "Output\n",
    "\n",
    "* Print the number of all possible unique paths to the bottom-right corner.\n",
    "\n",
    "Constraints\n",
    "\n",
    "* m and n will always be in the range [0… 1000]."
   ]
  },
  {
   "cell_type": "code",
   "execution_count": 119,
   "id": "c685d3f2",
   "metadata": {},
   "outputs": [
    {
     "name": "stdout",
     "output_type": "stream",
     "text": [
      "15\n"
     ]
    }
   ],
   "source": [
    "def count_all_paths(row, col, rows, cols):\n",
    "    if row >= rows or col >= cols:\n",
    "        return 0\n",
    "    if row == rows - 1 and col == cols - 1:\n",
    "        return 1\n",
    "    \n",
    "    result = 0\n",
    "    result += count_all_paths(row, col+1, rows, cols)\n",
    "    result += count_all_paths(row+1, col, rows, cols)\n",
    "    \n",
    "    return result\n",
    "\n",
    "rows = int(input())\n",
    "cols = int(input())\n",
    "\n",
    "print(count_all_paths(0, 0, rows, cols))"
   ]
  },
  {
   "cell_type": "markdown",
   "id": "9268e7d7",
   "metadata": {},
   "source": [
    "### 4. Connected Areas in a Matrix"
   ]
  },
  {
   "cell_type": "markdown",
   "id": "11a7b0f2",
   "metadata": {},
   "source": [
    "Let’s define a connected area in a matrix as an area of cells in which there is a path between every two cells.\n",
    "\n",
    "Write a program to find all connected areas in a matrix.\n",
    "\n",
    "Input\n",
    "\n",
    "* On the first line, you will get the number of rows.\n",
    "\n",
    "* On the second line, you will get the number of columns.\n",
    "\n",
    "* The rest of the input will be the actual matrix.\n",
    "\n",
    "Output\n",
    "\n",
    "* Print on the console the total number of areas found.\n",
    "\n",
    "* On a separate line for each area print its starting coordinates and size.\n",
    "\n",
    "* Order the areas by size (in descending order) so that the largest area is printed first.\n",
    "\n",
    "    If several areas have the same size, order them by their position, first by the row, then by the column of the top-left corner.\n",
    "\n",
    "    If there are two connected areas of the same size, the one which is above and/or to the left of the other will be printed first."
   ]
  },
  {
   "cell_type": "code",
   "execution_count": 7,
   "id": "5ba4ff8f",
   "metadata": {},
   "outputs": [
    {
     "name": "stdout",
     "output_type": "stream",
     "text": [
      "5\n",
      "10\n",
      "*--*---*--\n",
      "*--*---*--\n",
      "*--*****--\n",
      "*--*---*--\n",
      "*--*---*--\n",
      "Total areas found: 4\n",
      "Area #1 at (0, 1), size: 10\n",
      "Area #2 at (0, 8), size: 10\n",
      "Area #3 at (0, 4), size: 6\n",
      "Area #4 at (3, 4), size: 6\n"
     ]
    }
   ],
   "source": [
    "class Area:\n",
    "    def __init__(self, row, col, size):\n",
    "        self.row = row\n",
    "        self.col = col\n",
    "        self.size = size\n",
    "\n",
    "def explore_area(row, col, matrix):\n",
    "    if row < 0 or col < 0 or row >= len(matrix) or col >= len(matrix[0]):\n",
    "        return 0\n",
    "    if matrix[row][col] != \"-\":\n",
    "        return 0\n",
    "    \n",
    "    matrix[row][col] = \"v\"\n",
    "    \n",
    "    result = 1\n",
    "    result += explore_area(row - 1, col, matrix)\n",
    "    result += explore_area(row + 1, col, matrix)\n",
    "    result += explore_area(row, col - 1, matrix)\n",
    "    result += explore_area(row, col + 1, matrix)\n",
    "    \n",
    "    return result\n",
    "    \n",
    "rows = int(input())\n",
    "cols = int(input())\n",
    "\n",
    "matrix = []\n",
    "for _ in range(rows):\n",
    "    matrix.append(list(input()))\n",
    "\n",
    "areas = []\n",
    "for row in range(rows):\n",
    "    for col in range(cols):\n",
    "        size = explore_area(row, col, matrix)\n",
    "        if size == 0:\n",
    "            continue\n",
    "        areas.append(Area(row, col, size))\n",
    "        \n",
    "print(f\"Total areas found: {len(areas)}\")\n",
    "for idx, area in enumerate(sorted(areas, key=lambda a: a.size, reverse=True)):\n",
    "    print(f\"Area #{idx+1} at ({area.row}, {area.col}), size: {area.size}\")"
   ]
  },
  {
   "cell_type": "markdown",
   "id": "92d31796",
   "metadata": {},
   "source": [
    "### 5. Word Cruncher"
   ]
  },
  {
   "cell_type": "markdown",
   "id": "76189554",
   "metadata": {},
   "source": [
    "Write a program that receives some strings and forms another string that is required. On the first line, you will be given all of the strings separated by comma and space. On the next line, you will be given the string that needs to be formed from the given strings. For more clarification see the examples below.\n",
    "\n",
    "Input\n",
    "\n",
    "* On the first line, you will receive the strings (separated by comma and space \", \")\n",
    "\n",
    "* On the next line, you will receive the target string\n",
    "\n",
    "Output\n",
    "\n",
    "* Print each of them found ways to form the required string as shown in the examples\n",
    "\n",
    "Constrains\n",
    "\n",
    "* There might be repeating elements in the input"
   ]
  },
  {
   "cell_type": "code",
   "execution_count": 5,
   "id": "49eb8781",
   "metadata": {},
   "outputs": [
    {
     "name": "stdout",
     "output_type": "stream",
     "text": [
      "Word, cruncher, cr, h, unch, c, r, un, ch, er\n",
      "Wordcruncher\n",
      "Word cruncher cr c r unch un ch er\n"
     ]
    }
   ],
   "source": [
    "def find_all_solutions(idx, target, words_by_idx, words_count, used_words):\n",
    "    if idx >= len(target):\n",
    "        print(\" \".join(used_words))\n",
    "        return\n",
    "    if idx not in words_by_idx:\n",
    "        return\n",
    "    for word in words_by_idx[idx]:\n",
    "        if words_count[word] == 0:\n",
    "            continue\n",
    "        used_words.append(word)\n",
    "        words_count[word] -=1\n",
    "        \n",
    "    find_all_solutions(idx + len(word), target, words_by_idx, words_count, used_words)\n",
    "    \n",
    "    used_words.pop()\n",
    "    words_count[word] += 1\n",
    "    \n",
    "words = input().split(\", \")\n",
    "target = input()\n",
    "\n",
    "words_by_idx = {}\n",
    "words_count = {}\n",
    "\n",
    "for word in words:\n",
    "    if word in words_count:\n",
    "        words_count[word] += 1\n",
    "        continue\n",
    "        \n",
    "    words_count[word] = 1\n",
    "    \n",
    "    try:\n",
    "        idx = 0\n",
    "        while True:\n",
    "            idx = target.index(word, idx)\n",
    "            \n",
    "            if idx not in words_by_idx:\n",
    "                words_by_idx[idx] = []\n",
    "            words_by_idx[idx].append(word)\n",
    "            idx += len(word)\n",
    "    except ValueError:\n",
    "        pass\n",
    "    \n",
    "find_all_solutions(0, target, words_by_idx, words_count, [])"
   ]
  }
 ],
 "metadata": {
  "kernelspec": {
   "display_name": "Python 3.9.13 64-bit (windows store)",
   "language": "python",
   "name": "python3"
  },
  "language_info": {
   "codemirror_mode": {
    "name": "ipython",
    "version": 3
   },
   "file_extension": ".py",
   "mimetype": "text/x-python",
   "name": "python",
   "nbconvert_exporter": "python",
   "pygments_lexer": "ipython3",
   "version": "3.9.13"
  },
  "vscode": {
   "interpreter": {
    "hash": "5c97fa1f9b07749f3893c20d789bb6e8e7e5232e14e71ea1bdae3008f6b6d041"
   }
  }
 },
 "nbformat": 4,
 "nbformat_minor": 5
}
