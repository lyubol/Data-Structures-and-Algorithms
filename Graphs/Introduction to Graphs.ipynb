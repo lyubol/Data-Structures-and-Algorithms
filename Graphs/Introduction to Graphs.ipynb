{
 "cells": [
  {
   "cell_type": "markdown",
   "id": "51f5f792",
   "metadata": {},
   "source": [
    "# Representing graphs"
   ]
  },
  {
   "cell_type": "markdown",
   "id": "f2aeaca9",
   "metadata": {},
   "source": [
    "### Adjacency lists"
   ]
  },
  {
   "cell_type": "markdown",
   "id": "4cadc141",
   "metadata": {},
   "source": [
    "Each node holds a list of its neighbors"
   ]
  },
  {
   "cell_type": "code",
   "execution_count": 1,
   "id": "088b41db",
   "metadata": {},
   "outputs": [
    {
     "name": "stdout",
     "output_type": "stream",
     "text": [
      "[2, 3, 4, 5, 6]\n"
     ]
    }
   ],
   "source": [
    "graph = [\n",
    "    [3, 6],\n",
    "    [2, 3, 4, 5, 6],\n",
    "    [1, 4, 5],\n",
    "    [0, 1, 5],\n",
    "    [1, 2, 6],\n",
    "    [1, 2, 3],\n",
    "    [0, 1, 4]\n",
    "]\n",
    "\n",
    "# Add an edge\n",
    "graph[3].append(6)\n",
    "graph[6].append(3)\n",
    "\n",
    "# Get child nodes\n",
    "child_nodes = graph[1]\n",
    "print(child_nodes)"
   ]
  },
  {
   "cell_type": "markdown",
   "id": "8cdf82d8",
   "metadata": {},
   "source": [
    "### Adjacency matrix"
   ]
  },
  {
   "cell_type": "markdown",
   "id": "3906c97b",
   "metadata": {},
   "source": [
    "* Matrix where each cell indicates whether and how two nodes are connected (using 1 and 0)"
   ]
  },
  {
   "cell_type": "code",
   "execution_count": 2,
   "id": "787a893a",
   "metadata": {},
   "outputs": [
    {
     "name": "stdout",
     "output_type": "stream",
     "text": [
      "[0, 0, 1, 1, 1, 1, 1]\n"
     ]
    }
   ],
   "source": [
    "graph = [\n",
    "    #1, 2, 3, 4\n",
    "    [0, 0, 0, 1, 0, 0, 1], # node 0\n",
    "    [0, 0, 1, 1, 1, 1, 1], # node 1\n",
    "    [0, 1, 0, 0, 1, 1, 0], # node 2\n",
    "    [1, 1, 0, 0, 0, 1, 0], # node 3\n",
    "    [0, 1, 1, 0, 0, 0, 1], # node 4\n",
    "    [0, 1, 1, 1, 0, 0, 0], # node 5\n",
    "    [1, 1, 0, 0, 1, 0, 0]  # node 6\n",
    "]\n",
    "\n",
    "# Add an edge\n",
    "graph[3][6] = 1\n",
    "\n",
    "# List the child nodes of 1\n",
    "child_nodes = graph[1]\n",
    "print(child_nodes)"
   ]
  },
  {
   "cell_type": "markdown",
   "id": "db804719",
   "metadata": {},
   "source": [
    "### List of edges"
   ]
  },
  {
   "cell_type": "code",
   "execution_count": 4,
   "id": "e0de4b3d",
   "metadata": {},
   "outputs": [
    {
     "name": "stdout",
     "output_type": "stream",
     "text": [
      "[<__main__.Edge object at 0x000002078708B9D0>, <__main__.Edge object at 0x000002078708B580>]\n"
     ]
    }
   ],
   "source": [
    "class Edge:\n",
    "    def __init__(self, parent, child):\n",
    "        self.parent = parent\n",
    "        self.child = child \n",
    "\n",
    "graph = [\n",
    "    Edge(0, 3),\n",
    "    Edge(0, 6)\n",
    "]\n",
    "\n",
    "# Add an edge\n",
    "graph.append(Edge(3, 6))\n",
    "\n",
    "# List the children of node 1\n",
    "child_nodes = [e for e in graph if e.parent == 1]"
   ]
  },
  {
   "cell_type": "markdown",
   "id": "0635fd26",
   "metadata": {},
   "source": [
    "### Dictionary"
   ]
  },
  {
   "cell_type": "code",
   "execution_count": 5,
   "id": "098058b1",
   "metadata": {},
   "outputs": [
    {
     "name": "stdout",
     "output_type": "stream",
     "text": [
      "['Plovdiv', 'Ruse', 'Varna']\n"
     ]
    }
   ],
   "source": [
    "graph = {\n",
    "    \"Sofia\": [\"Plovdiv\", \"Ruse\", \"Varna\"],\n",
    "    \"Plovdiv\": [\"Ruse\", \"Sofia\"],\n",
    "    \"Ruse\": [\"Plovdiv\", \"Varna\"],\n",
    "    \"Varna\": [\"Ruse\", \"Sofia\"],\n",
    "}\n",
    "\n",
    "# Adding a new edge\n",
    "graph[\"Varna\"].append(\"Plovdiv\")\n",
    "graph[\"Plovdiv\"].append(\"Varna\")\n",
    "\n",
    "# All neighbours of node with id \"Sofia\"\n",
    "child_nodes = graph[\"Sofia\"]\n",
    "print(child_nodes)"
   ]
  },
  {
   "cell_type": "markdown",
   "id": "61b64b92",
   "metadata": {},
   "source": [
    "### OOP based graph Representation"
   ]
  },
  {
   "cell_type": "markdown",
   "id": "802eaa3d",
   "metadata": {},
   "source": [
    "* Class <b>Node</b>;\n",
    "* Class <b>Edge(Connection)</b>;\n",
    "* Class <b>Graph</b>;\n",
    "* Optional classes;\n",
    "* Algorithm classes."
   ]
  },
  {
   "cell_type": "markdown",
   "id": "783ed9c1",
   "metadata": {},
   "source": [
    "# Graph Traversal Algorithms"
   ]
  },
  {
   "cell_type": "markdown",
   "id": "66069d4a",
   "metadata": {},
   "source": [
    "* Traversing a graph means to visit each of its nodes exactly once\n",
    "* The order of visiting nodes may vary on the traversal algorithm"
   ]
  },
  {
   "cell_type": "markdown",
   "id": "d9afdb39",
   "metadata": {},
   "source": [
    "### Depth-First Search (DFS)"
   ]
  },
  {
   "cell_type": "markdown",
   "id": "c5651cea",
   "metadata": {},
   "source": [
    "* Visit node's successors first\n",
    "* Usually implemented by recursion"
   ]
  },
  {
   "cell_type": "code",
   "execution_count": 36,
   "id": "9e0f9863",
   "metadata": {},
   "outputs": [
    {
     "name": "stdout",
     "output_type": "stream",
     "text": [
      "1 19 7 12 31 21 14 23 6 "
     ]
    }
   ],
   "source": [
    "# DFS in Action\n",
    "\n",
    "def dfs(node, graph, visited):\n",
    "    if node in visited:\n",
    "        return\n",
    "    \n",
    "    visited.add(node)\n",
    "    \n",
    "    for child in graph[node]:\n",
    "        dfs(node, graph, visited)\n",
    "    \n",
    "    print(node, end=\" \")\n",
    "    \n",
    "    \n",
    "graph = {\n",
    "    1:[19, 21, 14],\n",
    "    19:[7, 12, 31, 21],\n",
    "    7:[1],\n",
    "    12:[],\n",
    "    31:[21],\n",
    "    21:[14],\n",
    "    14:[23, 6],\n",
    "    23:[21],\n",
    "    6:[]\n",
    "}\n",
    "\n",
    "\n",
    "visited = set()\n",
    "\n",
    "for node in graph:\n",
    "    dfs(node, graph, visited)"
   ]
  },
  {
   "cell_type": "code",
   "execution_count": 48,
   "id": "4d0f3d0c",
   "metadata": {},
   "outputs": [
    {
     "name": "stdout",
     "output_type": "stream",
     "text": [
      "4 6 1 2 5 3 0 "
     ]
    }
   ],
   "source": [
    "def dfs(node, graph, visited):\n",
    "    if visited[node]:\n",
    "        return\n",
    "    \n",
    "    visited[node] = True\n",
    "    \n",
    "    for child in graph[node]:\n",
    "        dfs(child, graph, visited)\n",
    "        \n",
    "    print(node, end=\" \")\n",
    "\n",
    "\n",
    "graph = [\n",
    "    [3, 6],\n",
    "    [3, 6, 4, 2, 5],\n",
    "    [1, 4, 5],\n",
    "    [5, 0, 1],\n",
    "    [1, 2, 6],\n",
    "    [2, 1, 3],\n",
    "    [0, 1, 4]\n",
    "]\n",
    "\n",
    "visited = [False] * len(graph)\n",
    "\n",
    "for node in range(len(graph)):\n",
    "    dfs(node, graph, visited)"
   ]
  },
  {
   "cell_type": "markdown",
   "id": "62dcd273",
   "metadata": {},
   "source": [
    "### Breadth-First Search (BFS)"
   ]
  },
  {
   "cell_type": "markdown",
   "id": "8cbcb29f",
   "metadata": {},
   "source": [
    "* First visits the neighbor nodes, then the neighbors of neighbors, then their neighbors, etc.\n",
    "* Implemented with a queue"
   ]
  },
  {
   "cell_type": "code",
   "execution_count": 54,
   "id": "96df19c9",
   "metadata": {},
   "outputs": [
    {
     "name": "stdout",
     "output_type": "stream",
     "text": [
      "7 19 21 14 1 12 31 23 6 "
     ]
    }
   ],
   "source": [
    "from collections import deque\n",
    "\n",
    "def bfs(node, graph, visited):#\n",
    "    if node in visited:\n",
    "        return\n",
    "    queue = deque([node])\n",
    "    visited.add(node)\n",
    "    \n",
    "    while queue:\n",
    "        current_node = queue.popleft()\n",
    "        print(current_node, end=\" \")\n",
    "        \n",
    "        for child in graph[current_node]:\n",
    "            if child not in visited:\n",
    "                visited.add(child)\n",
    "                queue.append(child)\n",
    "\n",
    "\n",
    "graph = {\n",
    "    7:[19, 21, 14],\n",
    "    19:[1, 12, 31, 21],\n",
    "    1:[7],\n",
    "    12:[],\n",
    "    31:[21],\n",
    "    21:[14],\n",
    "    14:[23, 6],\n",
    "    6:[],\n",
    "    23:[21]\n",
    "}\n",
    "\n",
    "visited = set()\n",
    "\n",
    "for node in graph:\n",
    "    bfs(node, graph, visited)"
   ]
  },
  {
   "cell_type": "markdown",
   "id": "44e5e549",
   "metadata": {},
   "source": [
    "# Graph Connectivity"
   ]
  },
  {
   "cell_type": "markdown",
   "id": "264ffe95",
   "metadata": {},
   "source": [
    "A sub-graph in which <b>any two nodes are connected</b> to each other by paths.\n",
    "\n",
    "Finding all connected components in a graph.\n",
    "* Loop through all nodes and start a DFS/BFS traversing from any <b>unvisited</b> node;\n",
    "* Each time you start a new traversal;\n",
    "* You find a new connected component.\n",
    "\n"
   ]
  },
  {
   "cell_type": "code",
   "execution_count": null,
   "id": "3a3d0aec",
   "metadata": {},
   "outputs": [],
   "source": [
    "def dfs(node, graph, visited, component):\n",
    "    if visited[node]:\n",
    "        return\n",
    "    visited[node] = True\n",
    "    \n",
    "    for child in graph[node]:\n",
    "        dfs(child, graph, visited, component) \n",
    "        \n",
    "    component.append(node)\n",
    "    \n",
    "    \n",
    "nodes = int(input())\n",
    "graph = []    \n",
    "\n",
    "    \n",
    "for node in range(nodes):\n",
    "    line = input()\n",
    "    children = [] if line == \"\" else [int(x) for x in line.split()]\n",
    "    graph.append(children)    \n",
    "    \n",
    "    \n",
    "visited = [False] * nodes   \n",
    "for node in range(nodes):\n",
    "    if visited[node]:\n",
    "        continue\n",
    "    component = []\n",
    "    dfs(node, graph, visited, component)\n",
    "    print(f\"Connected component: {' '.join([str(x) for x in component])}\")"
   ]
  },
  {
   "cell_type": "markdown",
   "id": "9246ee7c",
   "metadata": {},
   "source": [
    "# Topological Sorting"
   ]
  },
  {
   "cell_type": "markdown",
   "id": "5736bb02",
   "metadata": {},
   "source": [
    "<b> Topological sorting</b> (ordering) of a directed graph\n",
    "* Linear ordering of its vertices, such that:\n",
    "    \n",
    "    For every directed edge from vertex <b>u</b> to vertex <b>v</b>, <b>u</b> comes before <b>v</b> in the ordering.\n",
    "\n",
    "<b>Rules</b>:\n",
    "\n",
    "* Undirected graphs cannot be sorted;\n",
    "\n",
    "* Graphs with cycles cannot be sorted;\n",
    "\n",
    "* Sorting is not unique;\n",
    "\n",
    "* Various sorting algorithms exists, and they give different results."
   ]
  },
  {
   "cell_type": "markdown",
   "id": "38939207",
   "metadata": {},
   "source": [
    "### Source removal top-sort algorithm"
   ]
  },
  {
   "cell_type": "markdown",
   "id": "f0644e98",
   "metadata": {},
   "source": [
    "* Create an empty list\n",
    "* Repeat until the graph is empty\n",
    "    * Find a node withoug incoming edges\n",
    "    * Print this node\n",
    "    * Remove the edges from the graph"
   ]
  },
  {
   "cell_type": "code",
   "execution_count": null,
   "id": "ddd4f24a",
   "metadata": {},
   "outputs": [],
   "source": [
    "def find_dependencies(graph):\n",
    "    result = {}\n",
    "    for node, children in graph.items():\n",
    "        if node not in result:\n",
    "            result[node] = 0\n",
    "        for child in children:\n",
    "            if child not in result:\n",
    "                result[child] = 1\n",
    "            else:\n",
    "                result[child] += 1\n",
    "    return result\n",
    "\n",
    "def find_node_without_dependencies(dependencies_by_node):\n",
    "    for node, dependencies in dependencies_by_node.items():\n",
    "        if dependencies == 0:\n",
    "            return node\n",
    "    return None\n",
    "\n",
    "nodes = int(input())\n",
    "graph = {}\n",
    "\n",
    "for _ in range(nodes):\n",
    "    line_parts = input().split('->')\n",
    "    node = line_parts[0].strip()\n",
    "    children = line_parts[1].strip().split(', ') if line_parts[1] else []\n",
    "    graph[node] = children\n",
    "    \n",
    "dependencies_by_node = find_dependencies(graph)\n",
    "\n",
    "has_cycles = False\n",
    "sorted_nodes = []\n",
    "\n",
    "while dependencies_by_node:\n",
    "    node_to_remove = find_node_without_dependencies(dependencies_by_node)\n",
    "    if node_to_remove is None:\n",
    "        has_cycles = True\n",
    "        break\n",
    "    dependencies_by_node.pop(node_to_remove)\n",
    "    sorted_nodes.append(node_to_remove)\n",
    "    for child in graph[node_to_remove]:\n",
    "        dependencies_by_node[child] -= 1\n",
    "        \n",
    "if has_cycles:\n",
    "    print(\"Invalid topological sorting\")\n",
    "else:\n",
    "    print(f\"Topological sorting: {', '.join(sorted_nodes)}\")"
   ]
  }
 ],
 "metadata": {
  "kernelspec": {
   "display_name": "Python 3.9.13 64-bit (windows store)",
   "language": "python",
   "name": "python3"
  },
  "language_info": {
   "codemirror_mode": {
    "name": "ipython",
    "version": 3
   },
   "file_extension": ".py",
   "mimetype": "text/x-python",
   "name": "python",
   "nbconvert_exporter": "python",
   "pygments_lexer": "ipython3",
   "version": "3.9.13"
  },
  "vscode": {
   "interpreter": {
    "hash": "5c97fa1f9b07749f3893c20d789bb6e8e7e5232e14e71ea1bdae3008f6b6d041"
   }
  }
 },
 "nbformat": 4,
 "nbformat_minor": 5
}
