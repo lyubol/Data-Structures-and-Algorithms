{
 "cells": [
  {
   "cell_type": "markdown",
   "metadata": {},
   "source": [
    "# Arrays"
   ]
  },
  {
   "cell_type": "markdown",
   "metadata": {},
   "source": [
    "An array is a `special variable`, which can `hold more than one value` at a time. \n",
    "- All values in an array must be of the `same data type`;\n",
    "- Elements of an array are stored in `contiguous memory locations`;\n",
    "- Each element of an array has a `unique index`."
   ]
  },
  {
   "cell_type": "markdown",
   "metadata": {},
   "source": [
    "Python does not have a built-in support for arrays, but Python lists can be used instead. To implement arrays in Python, we can use the module `array` or the module `numpy`."
   ]
  },
  {
   "cell_type": "markdown",
   "metadata": {},
   "source": [
    "## Types of Arrays"
   ]
  },
  {
   "cell_type": "markdown",
   "metadata": {},
   "source": [
    "### One Dimensional"
   ]
  },
  {
   "cell_type": "markdown",
   "metadata": {},
   "source": [
    "A `one-dimensional array` is a data structure that contains a set of elements of the same data type. To access an element of an array, you use an index number. This specifies the position of the element in the array."
   ]
  },
  {
   "cell_type": "markdown",
   "metadata": {},
   "source": [
    "### Multi-Dimensional"
   ]
  },
  {
   "cell_type": "markdown",
   "metadata": {},
   "source": [
    "The `2D array` is an array that is organized in rows and columns. We can identify each element in a 2D array using the position of rows and columns. For example, in a 3×3 2D array, the element in the second row and third column would be accessed using the indices (1, 2) or row 1, column 2."
   ]
  },
  {
   "cell_type": "markdown",
   "metadata": {},
   "source": [
    "A `3D array` is a multi-dimensional array(array of arrays). A 3D array is a collection of 2D arrays. It is specified by using three subscripts:Block size, row size and column size. More dimensions in an array means more data can be stored in that array."
   ]
  },
  {
   "cell_type": "markdown",
   "metadata": {},
   "source": [
    "## Arrays in Memory"
   ]
  },
  {
   "cell_type": "markdown",
   "metadata": {},
   "source": [
    "### Why are Arrays of the same data type?"
   ]
  },
  {
   "cell_type": "markdown",
   "metadata": {},
   "source": [
    "In Python arrays, elements are typically of the same data type for:\n",
    "\n",
    "`Memory Efficiency`: Elements of the same data type enable a contiguous block of memory, making storage and access efficient;\n",
    "\n",
    "`Efficient Operations`: Homogeneous data types allow for efficient element-wise operations;\n",
    "\n",
    "`Performance Gains`: Similar data types enable CPU optimizations like SIMD for faster processing;\n",
    "\n",
    "`Predictability`: Homogeneous arrays offer consistent and predictable behavior."
   ]
  },
  {
   "cell_type": "markdown",
   "metadata": {},
   "source": [
    "### 1D Array in Memory"
   ]
  },
  {
   "cell_type": "code",
   "execution_count": null,
   "metadata": {},
   "outputs": [],
   "source": [
    "Memory Address:   1000    1004    1008    1012\n",
    "NumPy Array:      [item1] [item2] [item3] [item4]"
   ]
  },
  {
   "cell_type": "markdown",
   "metadata": {},
   "source": [
    "Arrays are typically stored as contiguous blocks of memory, and the elements in the array are of the same data type, ensuring efficient storage and operations."
   ]
  },
  {
   "cell_type": "markdown",
   "metadata": {},
   "source": [
    "### 2D Array in Memory"
   ]
  },
  {
   "cell_type": "code",
   "execution_count": null,
   "metadata": {},
   "outputs": [],
   "source": [
    "Memory Address:   1000    1004    1008    1012    1016    1020    1024    1028    1032\n",
    "NumPy Array:      [item1] [item2] [item3] [item4] [item5] [item6] [item7] [item8] [item8]\n",
    "Rows:             0       0       0       1       1       1       2       2       2"
   ]
  },
  {
   "cell_type": "markdown",
   "metadata": {},
   "source": [
    "![My Local Image](row-major-2D.png)\n"
   ]
  },
  {
   "cell_type": "markdown",
   "metadata": {},
   "source": [
    "### 3D Array in Memory"
   ]
  },
  {
   "cell_type": "markdown",
   "metadata": {},
   "source": [
    "![My Local Image](row-major-3D.png)"
   ]
  },
  {
   "cell_type": "markdown",
   "metadata": {},
   "source": [
    "## Create an Array"
   ]
  },
  {
   "cell_type": "markdown",
   "metadata": {},
   "source": [
    "### Using Array Module"
   ]
  },
  {
   "cell_type": "code",
   "execution_count": 7,
   "metadata": {},
   "outputs": [
    {
     "name": "stdout",
     "output_type": "stream",
     "text": [
      "array('i')\n",
      "array('i', [1, 2, 3, 4, 5])\n"
     ]
    }
   ],
   "source": [
    "import array\n",
    "\n",
    "my_array = array.array('i', [])\n",
    "my_array1 = array.array('i', [1, 2, 3, 4, 5])\n",
    "\n",
    "print(my_array)\n",
    "print(my_array1)"
   ]
  },
  {
   "cell_type": "markdown",
   "metadata": {},
   "source": [
    "### Using Numpy Module"
   ]
  },
  {
   "cell_type": "code",
   "execution_count": 8,
   "metadata": {},
   "outputs": [
    {
     "name": "stdout",
     "output_type": "stream",
     "text": [
      "[]\n",
      "[1 2 3 4 5]\n"
     ]
    }
   ],
   "source": [
    "import numpy as np\n",
    "\n",
    "np_array = np.array([], dtype=int)\n",
    "np_array1 = np.array([1, 2, 3, 4, 5], dtype=int)\n",
    "\n",
    "print(np_array)\n",
    "print(np_array1)"
   ]
  },
  {
   "cell_type": "markdown",
   "metadata": {},
   "source": [
    "### Time and Space Complexity of Arrays Defined in Array and Numpy Modules"
   ]
  },
  {
   "cell_type": "markdown",
   "metadata": {},
   "source": [
    "#### Empty Array"
   ]
  },
  {
   "cell_type": "markdown",
   "metadata": {},
   "source": [
    "The `time complexity is constant` O(1) because creating an empty array involves minimal operations, such as initializing the array metadata and allocating a minimal amount of memory for the array elements.\n",
    "\n",
    "The `space complexity is` also `constant` O(1) because an empty array has no memory, therefore the memory allocated for the elements is minimal or none depending on the used module."
   ]
  },
  {
   "cell_type": "code",
   "execution_count": null,
   "metadata": {},
   "outputs": [],
   "source": [
    "# my_array = array.array('i', []) -----> O(1)\n",
    "# np_array = np.array([], dtype=int) --> O(1)"
   ]
  },
  {
   "cell_type": "markdown",
   "metadata": {},
   "source": [
    "#### Array with Elements"
   ]
  },
  {
   "cell_type": "markdown",
   "metadata": {},
   "source": [
    "The `time complexity is linear` O(n), where n represents the number of elements in the array. The process of creating an array with elements involves copying the elements from the input iterable (in this case list) to the newly created array. As the number of elements increases, the time to copy the elements also increases.\n",
    "\n",
    "The `space complexity is` also `linear` O(n), because as the number of elements increases, the memory allocated for the elements also increases."
   ]
  },
  {
   "cell_type": "code",
   "execution_count": null,
   "metadata": {},
   "outputs": [],
   "source": [
    "# my_array1 = array.array('i', [1, 2, 3, 4, 5]) -----> O(n)\n",
    "# np_array1 = np.array([1, 2, 3, 4, 5], dtype=int) --> O(n)"
   ]
  }
 ],
 "metadata": {
  "kernelspec": {
   "display_name": "Python 3",
   "language": "python",
   "name": "python3"
  },
  "language_info": {
   "codemirror_mode": {
    "name": "ipython",
    "version": 3
   },
   "file_extension": ".py",
   "mimetype": "text/x-python",
   "name": "python",
   "nbconvert_exporter": "python",
   "pygments_lexer": "ipython3",
   "version": "3.9.13"
  },
  "orig_nbformat": 4
 },
 "nbformat": 4,
 "nbformat_minor": 2
}
