{
 "cells": [
  {
   "cell_type": "markdown",
   "metadata": {},
   "source": [
    "# Arrays"
   ]
  },
  {
   "cell_type": "markdown",
   "metadata": {},
   "source": [
    "An array is a `special variable`, which can `hold more than one value` at a time. \n",
    "- All values in an array must be of the `same data type`;\n",
    "- Elements of an array are stored in `contiguous memory locations`;\n",
    "- Each element of an array has a `unique index`."
   ]
  },
  {
   "cell_type": "markdown",
   "metadata": {},
   "source": [
    "Python does not have a built-in support for arrays, but Python lists can be used instead. To implement arrays in Python, we can use the module `array` or the module `numpy`."
   ]
  },
  {
   "cell_type": "markdown",
   "metadata": {},
   "source": [
    "## Types of Arrays"
   ]
  },
  {
   "cell_type": "markdown",
   "metadata": {},
   "source": [
    "### One Dimensional"
   ]
  },
  {
   "cell_type": "markdown",
   "metadata": {},
   "source": [
    "A `one-dimensional array` is a data structure that contains a set of elements of the same data type. To access an element of an array, you use an index number. This specifies the position of the element in the array."
   ]
  },
  {
   "cell_type": "markdown",
   "metadata": {},
   "source": [
    "### Multi-Dimensional"
   ]
  },
  {
   "cell_type": "markdown",
   "metadata": {},
   "source": [
    "The `2D array` is an array that is organized in rows and columns. We can identify each element in a 2D array using the position of rows and columns. For example, in a 3×3 2D array, the element in the second row and third column would be accessed using the indices (1, 2) or row 1, column 2."
   ]
  },
  {
   "cell_type": "markdown",
   "metadata": {},
   "source": [
    "A `3D array` is a multi-dimensional array(array of arrays). A 3D array is a collection of 2D arrays. It is specified by using three subscripts:Block size, row size and column size. More dimensions in an array means more data can be stored in that array."
   ]
  },
  {
   "cell_type": "markdown",
   "metadata": {},
   "source": [
    "## Arrays in Memory"
   ]
  },
  {
   "cell_type": "markdown",
   "metadata": {},
   "source": [
    "### Why are Arrays of the same data type?"
   ]
  },
  {
   "cell_type": "markdown",
   "metadata": {},
   "source": [
    "In Python arrays, elements are typically of the same data type for:\n",
    "\n",
    "`Memory Efficiency`: Elements of the same data type enable a contiguous block of memory, making storage and access efficient;\n",
    "\n",
    "`Efficient Operations`: Homogeneous data types allow for efficient element-wise operations;\n",
    "\n",
    "`Performance Gains`: Similar data types enable CPU optimizations like SIMD for faster processing;\n",
    "\n",
    "`Predictability`: Homogeneous arrays offer consistent and predictable behavior."
   ]
  },
  {
   "cell_type": "markdown",
   "metadata": {},
   "source": [
    "### 1D Array in Memory"
   ]
  },
  {
   "cell_type": "code",
   "execution_count": null,
   "metadata": {},
   "outputs": [],
   "source": [
    "Memory Address:   1000    1004    1008    1012\n",
    "NumPy Array:      [item1] [item2] [item3] [item4]"
   ]
  },
  {
   "cell_type": "markdown",
   "metadata": {},
   "source": [
    "Arrays are typically stored as contiguous blocks of memory, and the elements in the array are of the same data type, ensuring efficient storage and operations."
   ]
  },
  {
   "cell_type": "markdown",
   "metadata": {},
   "source": [
    "### 2D Array in Memory"
   ]
  },
  {
   "cell_type": "code",
   "execution_count": null,
   "metadata": {},
   "outputs": [],
   "source": [
    "Memory Address:   1000    1004    1008    1012    1016    1020    1024    1028    1032\n",
    "NumPy Array:      [item1] [item2] [item3] [item4] [item5] [item6] [item7] [item8] [item8]\n",
    "Rows:             0       0       0       1       1       1       2       2       2"
   ]
  },
  {
   "cell_type": "markdown",
   "metadata": {},
   "source": [
    "![My Local Image](row-major-2D.png)\n"
   ]
  },
  {
   "cell_type": "markdown",
   "metadata": {},
   "source": [
    "### 3D Array in Memory"
   ]
  },
  {
   "cell_type": "markdown",
   "metadata": {},
   "source": [
    "![My Local Image](row-major-3D.png)"
   ]
  },
  {
   "cell_type": "markdown",
   "metadata": {},
   "source": [
    "## Create an Array"
   ]
  },
  {
   "cell_type": "markdown",
   "metadata": {},
   "source": [
    "### Using Array Module"
   ]
  },
  {
   "cell_type": "code",
   "execution_count": 16,
   "metadata": {},
   "outputs": [
    {
     "name": "stdout",
     "output_type": "stream",
     "text": [
      "array('i')\n",
      "array('i', [1, 2, 3, 4, 5])\n"
     ]
    }
   ],
   "source": [
    "import array\n",
    "\n",
    "my_array = array.array('i', [])\n",
    "my_array1 = array.array('i', [1, 2, 3, 4, 5])\n",
    "\n",
    "print(my_array)\n",
    "print(my_array1)"
   ]
  },
  {
   "cell_type": "markdown",
   "metadata": {},
   "source": [
    "### Using Numpy Module"
   ]
  },
  {
   "cell_type": "code",
   "execution_count": 8,
   "metadata": {},
   "outputs": [
    {
     "name": "stdout",
     "output_type": "stream",
     "text": [
      "[]\n",
      "[1 2 3 4 5]\n"
     ]
    }
   ],
   "source": [
    "import numpy as np\n",
    "\n",
    "np_array = np.array([], dtype=int)\n",
    "np_array1 = np.array([1, 2, 3, 4, 5], dtype=int)\n",
    "\n",
    "print(np_array)\n",
    "print(np_array1)"
   ]
  },
  {
   "cell_type": "markdown",
   "metadata": {},
   "source": [
    "### Time and Space Complexity of Arrays Defined in Array and Numpy Modules"
   ]
  },
  {
   "cell_type": "markdown",
   "metadata": {},
   "source": [
    "#### Empty Array"
   ]
  },
  {
   "cell_type": "markdown",
   "metadata": {},
   "source": [
    "The `time complexity is constant` O(1) because creating an empty array involves minimal operations, such as initializing the array metadata and allocating a minimal amount of memory for the array elements.\n",
    "\n",
    "The `space complexity is` also `constant` O(1) because an empty array has no memory, therefore the memory allocated for the elements is minimal or none depending on the used module."
   ]
  },
  {
   "cell_type": "code",
   "execution_count": null,
   "metadata": {},
   "outputs": [],
   "source": [
    "# my_array = array.array('i', []) -----> O(1)\n",
    "# np_array = np.array([], dtype=int) --> O(1)"
   ]
  },
  {
   "cell_type": "markdown",
   "metadata": {},
   "source": [
    "#### Array with Elements"
   ]
  },
  {
   "cell_type": "markdown",
   "metadata": {},
   "source": [
    "The `time complexity is linear` O(n), where n represents the number of elements in the array. The process of creating an array with elements involves copying the elements from the input iterable (in this case list) to the newly created array. As the number of elements increases, the time to copy the elements also increases.\n",
    "\n",
    "The `space complexity is` also `linear` O(n), because as the number of elements increases, the memory allocated for the elements also increases."
   ]
  },
  {
   "cell_type": "code",
   "execution_count": null,
   "metadata": {},
   "outputs": [],
   "source": [
    "# my_array1 = array.array('i', [1, 2, 3, 4, 5]) -----> O(n)\n",
    "# np_array1 = np.array([1, 2, 3, 4, 5], dtype=int) --> O(n)"
   ]
  },
  {
   "cell_type": "markdown",
   "metadata": {},
   "source": [
    "## Insertion to Array"
   ]
  },
  {
   "cell_type": "code",
   "execution_count": 17,
   "metadata": {},
   "outputs": [
    {
     "name": "stdout",
     "output_type": "stream",
     "text": [
      "array('i', [1, 2, 3, 4, 5])\n",
      "array('i', [1, 2, 3, 4, 5, 6])\n",
      "array('i', [1, 2, 3, 4, 5, 6, 7])\n"
     ]
    }
   ],
   "source": [
    "# Before insertion\n",
    "print(my_array1)\n",
    "\n",
    "my_array1.insert(5, 6)\n",
    "# After insertion\n",
    "print(my_array1)\n",
    "\n",
    "# Even if you pass an index number that is higher than the maximum index in the existing array, the value will be inserted at the end.\n",
    "my_array1.insert(100, 7)\n",
    "print(my_array1)"
   ]
  },
  {
   "cell_type": "markdown",
   "metadata": {},
   "source": [
    "### Time and Space Complexity of Insertion to Array"
   ]
  },
  {
   "cell_type": "markdown",
   "metadata": {},
   "source": [
    "`Time complexity` is `O(n)` because the worst-case scenario is that the element to be inserted is at the beginning of the array, and we need to shift all the elements to the right by one position.\n",
    "\n",
    "`Space complexity` is `O(1)` because when inserting an element, only one place is needed."
   ]
  },
  {
   "cell_type": "markdown",
   "metadata": {},
   "source": [
    "## Traversal Operations"
   ]
  },
  {
   "cell_type": "code",
   "execution_count": 23,
   "metadata": {},
   "outputs": [
    {
     "name": "stdout",
     "output_type": "stream",
     "text": [
      "1\n",
      "2\n",
      "3\n",
      "4\n",
      "5\n",
      "6\n",
      "7\n"
     ]
    }
   ],
   "source": [
    "def traverseArray(input_array):\n",
    "    for i in input_array:\n",
    "        print(i)\n",
    "\n",
    "traverseArray(my_array1)"
   ]
  },
  {
   "cell_type": "markdown",
   "metadata": {},
   "source": [
    "### Time and Space Complexity of trasversal operations"
   ]
  },
  {
   "cell_type": "code",
   "execution_count": 24,
   "metadata": {},
   "outputs": [],
   "source": [
    "# def traverseArray(input_array):\n",
    "#     for i in input_array: -----> O(n)\n",
    "#         print(i) --------------> O(1)"
   ]
  },
  {
   "cell_type": "markdown",
   "metadata": {},
   "source": [
    "`Time complexity` is `O(n)`\n",
    "\n",
    "`Space complexity` is `O(1)`"
   ]
  },
  {
   "cell_type": "markdown",
   "metadata": {},
   "source": [
    "## Accessing Elements of an Array"
   ]
  },
  {
   "cell_type": "code",
   "execution_count": 39,
   "metadata": {},
   "outputs": [
    {
     "name": "stdout",
     "output_type": "stream",
     "text": [
      "Index does not exist! Maximum available index is 6\n"
     ]
    }
   ],
   "source": [
    "def accessElement(input_array, index):\n",
    "    max_index = len(input_array) - 1\n",
    "    if index > max_index:\n",
    "        print(f\"Index does not exist! Maximum available index is {max_index}\")\n",
    "    else:\n",
    "        return input_array[index]\n",
    "\n",
    "accessElement(my_array1, 7)"
   ]
  },
  {
   "cell_type": "code",
   "execution_count": 28,
   "metadata": {},
   "outputs": [
    {
     "data": {
      "text/plain": [
       "array('i', [7, 6, 5, 4, 3, 2])"
      ]
     },
     "execution_count": 28,
     "metadata": {},
     "output_type": "execute_result"
    }
   ],
   "source": [
    "my_array1[-1:0:-1]"
   ]
  },
  {
   "cell_type": "markdown",
   "metadata": {},
   "source": [
    "### Time and Space Complexity of accessing elements of an array"
   ]
  },
  {
   "cell_type": "code",
   "execution_count": null,
   "metadata": {},
   "outputs": [],
   "source": [
    "# def accessElement(input_array, index):\n",
    "#     max_index = len(input_array) - 1 -----------------------------------------------> O(1)\n",
    "#     if index > max_index: ----------------------------------------------------------> O(1)\n",
    "#         print(f\"Index does not exist! Maximum available index is {max_index}\") -----> O(1)\n",
    "#     else:\n",
    "#         return input_array[index] --------------------------------------------------> O(1)"
   ]
  },
  {
   "cell_type": "markdown",
   "metadata": {},
   "source": [
    "`Time complexity` is `O(1)`\n",
    "\n",
    "`Space complexity` is `O(1)`"
   ]
  },
  {
   "cell_type": "markdown",
   "metadata": {},
   "source": [
    "## Searching for an Element in an Array"
   ]
  },
  {
   "cell_type": "code",
   "execution_count": 56,
   "metadata": {},
   "outputs": [
    {
     "name": "stdout",
     "output_type": "stream",
     "text": [
      "2\n"
     ]
    }
   ],
   "source": [
    "def linear_search(input_array, element):\n",
    "    for i in range(len(input_array)):\n",
    "        if input_array[i] == element:\n",
    "            return i\n",
    "    return -1\n",
    "        \n",
    "print(linear_search(my_array1, 3))"
   ]
  },
  {
   "cell_type": "markdown",
   "metadata": {},
   "source": [
    "### Time and Space Complexity of searching for an element in an array"
   ]
  },
  {
   "cell_type": "code",
   "execution_count": null,
   "metadata": {},
   "outputs": [],
   "source": [
    "# def linear_search(input_array, element):\n",
    "#     for i in range(len(input_array)): -----> O(n)\n",
    "#         if input_array[i] == element: -----> O(1)\n",
    "#             return i \n",
    "#     return -1"
   ]
  },
  {
   "cell_type": "markdown",
   "metadata": {},
   "source": [
    "`Time complexity` is `O(n)`\n",
    "\n",
    "`Space complexity` is `O(1)`"
   ]
  },
  {
   "cell_type": "markdown",
   "metadata": {},
   "source": [
    "## Deleting an Element in an Array"
   ]
  },
  {
   "cell_type": "code",
   "execution_count": 59,
   "metadata": {},
   "outputs": [
    {
     "name": "stdout",
     "output_type": "stream",
     "text": [
      "array('i', [1, 2, 3, 4, 5, 6, 7])\n",
      "array('i', [2, 3, 4, 5, 6, 7])\n"
     ]
    }
   ],
   "source": [
    "# Before deletion\n",
    "print(my_array1)\n",
    "\n",
    "my_array1.remove(1)\n",
    "# After deletion\n",
    "print(my_array1)"
   ]
  },
  {
   "cell_type": "markdown",
   "metadata": {},
   "source": [
    "### Time and Space Complexity of deleting an element in an array"
   ]
  },
  {
   "cell_type": "markdown",
   "metadata": {},
   "source": [
    "`Time complexity` is `O(n)`. If you delete the last element the time complexity will be O(1), because you don't need to shift any elements. If you remove the first element, you need to shift all the elements to the left by one position, so the time complexity will be O(n).\n",
    "\n",
    "`Space complexity` is `O(1)`"
   ]
  },
  {
   "cell_type": "markdown",
   "metadata": {},
   "source": [
    "## Time and Space Complexity of One Dimensional Array - Conclusion"
   ]
  },
  {
   "cell_type": "markdown",
   "metadata": {},
   "source": [
    "| Operation | Time Complexity | Space Complexity |\n",
    "| -------- | -------- | -------- |\n",
    "| Creating an empty array           | O(1)        | O(1)        |\n",
    "| Creating an array with elements   | O(N)        | O(N)        |\n",
    "| Inserting a value in an array     | O(N)        | O(1)        |\n",
    "| Traversing a given array          | O(N)        | O(1)        |\n",
    "| Accessing a given cell            | O(1)        | O(1)        |\n",
    "| Searching a given cell            | O(N)        | O(1)        |\n",
    "| Deleting a given cell             | O(N)        | O(1)        |"
   ]
  }
 ],
 "metadata": {
  "kernelspec": {
   "display_name": "Python 3",
   "language": "python",
   "name": "python3"
  },
  "language_info": {
   "codemirror_mode": {
    "name": "ipython",
    "version": 3
   },
   "file_extension": ".py",
   "mimetype": "text/x-python",
   "name": "python",
   "nbconvert_exporter": "python",
   "pygments_lexer": "ipython3",
   "version": "3.9.13"
  },
  "orig_nbformat": 4
 },
 "nbformat": 4,
 "nbformat_minor": 2
}
