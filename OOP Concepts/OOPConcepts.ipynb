{
 "cells": [
  {
   "cell_type": "markdown",
   "metadata": {},
   "source": [
    "# What is Object Oriented Programming?"
   ]
  },
  {
   "cell_type": "markdown",
   "metadata": {},
   "source": [
    "Object-oriented programming (OOP) is a programming paradigm that is based on the concept of \"objects\", which can contain data and code to manipulate that data. In OOP, programs are designed by creating objects that interact with each other to perform tasks.\n",
    "\n",
    "An object is an instance of a class, which is a blueprint that defines the properties and methods of the object. The properties of an object are its attributes, which can be any type of data, such as integers, strings, or other objects. The methods of an object are its functions, which can be used to manipulate the object's data or perform other tasks.\n",
    "\n",
    "OOP provides several benefits over other programming paradigms, such as procedural programming. For example, OOP allows for code reuse and modularity, since objects can be created and reused in different parts of a program. OOP also provides encapsulation, which means that the data and methods of an object are hidden from other objects, making it easier to manage and maintain large programs."
   ]
  },
  {
   "cell_type": "markdown",
   "metadata": {},
   "source": [
    "## OOP Concepts"
   ]
  },
  {
   "cell_type": "markdown",
   "metadata": {},
   "source": [
    "Object-oriented programming (OOP) is based on the following four main concepts:\n",
    "\n",
    "1. `Encapsulation`: Encapsulation is the practice of hiding the internal details of an object from the outside world, and only exposing a public interface that can be used to interact with the object. This helps to prevent the object's internal state from being modified in unexpected ways, and makes it easier to change the implementation of the object without affecting other parts of the program.\n",
    "\n",
    "2. `Inheritance`: Inheritance is the process of creating a new class that is a modified version of an existing class. The new class inherits all the properties and methods of the existing class, and can add new properties and methods or modify the existing ones. Inheritance is useful for creating specialized classes that share common functionality with other classes.\n",
    "\n",
    "3. `Polymorphism`: Polymorphism is the ability of objects of different classes to be used interchangeably, as long as they implement the same interface. This allows for more flexible and modular code, since objects can be used in different contexts without needing to know their specific class.\n",
    "\n",
    "4. `Abstraction`: Abstraction is the process of identifying the essential features of an object and ignoring the non-essential details. This allows for more general and reusable code, since objects can be abstracted into more general classes or interfaces that can be used in a wider variety of contexts.\n",
    "\n",
    "These four concepts are the building blocks of object-oriented programming, and are used to create complex programs that are modular, flexible, and easy to maintain."
   ]
  },
  {
   "cell_type": "markdown",
   "metadata": {},
   "source": [
    "## Create Objects and Access Attributes and Methods"
   ]
  },
  {
   "cell_type": "code",
   "execution_count": 32,
   "metadata": {},
   "outputs": [
    {
     "name": "stdout",
     "output_type": "stream",
     "text": [
      "Shape: circle, Flavor: chocolate, Color: brown\n",
      "0.1\n",
      "0.1\n",
      "{'shape': 'circle', 'flavor': 'chocolate', 'color': 'brown'}\n",
      "{'shape': 'star', 'flavor': 'vanilla', 'color': 'white'}\n",
      "{'__module__': '__main__', 'milk': 0.1, '__init__': <function StarCookie.__init__ at 0x000002AEADEB8430>, 'print_cookie': <function StarCookie.print_cookie at 0x000002AEADEB83A0>, 'bake': <function StarCookie.bake at 0x000002AEADEB8310>, '__dict__': <attribute '__dict__' of 'StarCookie' objects>, '__weakref__': <attribute '__weakref__' of 'StarCookie' objects>, '__doc__': None}\n"
     ]
    }
   ],
   "source": [
    "class StarCookie:\n",
    "\n",
    "    # Class attribute\n",
    "    milk = 0.1\n",
    "\n",
    "    def __init__(self, shape, flavor, color):\n",
    "        self.shape = shape\n",
    "        self.flavor = flavor\n",
    "        self.color = color\n",
    "\n",
    "    def print_cookie(self):\n",
    "        print(f\"Shape: {self.shape}, Flavor: {self.flavor}, Color: {self.color}\")\n",
    "\n",
    "    def bake(self):\n",
    "        print(f\"Baking the {self.color} star cookie...\")\n",
    "\n",
    "\n",
    "# Create an instance of the StarCookie class\n",
    "cookie1 = StarCookie(\"circle\", \"chocolate\", \"brown\")\n",
    "cookie2 = StarCookie(\"star\", \"vanilla\", \"white\")\n",
    "cookie1.print_cookie()\n",
    "print(cookie1.milk)\n",
    "print(cookie2.milk)\n",
    "\n",
    "# __dict__ is a dictionary that contains all the attributes of an object\n",
    "print(cookie1.__dict__)\n",
    "print(cookie2.__dict__)\n",
    "print(StarCookie.__dict__)"
   ]
  },
  {
   "cell_type": "code",
   "execution_count": 40,
   "metadata": {},
   "outputs": [
    {
     "name": "stdout",
     "output_type": "stream",
     "text": [
      "user1 subscribers: 0; subscriptions: 1\n",
      "user2 subscribers: 1; subscriptions: 0\n"
     ]
    }
   ],
   "source": [
    "class YouTube:\n",
    "\n",
    "    def __init__(self, username, subscribers=0, subscriptions=0):\n",
    "        self.username = username\n",
    "        self.subscribers = subscribers\n",
    "        self.subscriptions = subscriptions\n",
    "\n",
    "    def subscribe(self, user):\n",
    "        self.subscriptions += 1\n",
    "        user.subscribers += 1\n",
    "\n",
    "\n",
    "\n",
    "# Create two instances of the YouTube class\n",
    "user1 = YouTube(\"John\")\n",
    "user2 = YouTube(\"Jane\")\n",
    " \n",
    "# User1 subscribes to User2\n",
    "user1.subscribe(user2)\n",
    "\n",
    "print(f\"user1 subscribers: {user1.subscribers}; subscriptions: {user1.subscriptions}\")\n",
    "print(f\"user2 subscribers: {user2.subscribers}; subscriptions: {user2.subscriptions}\")"
   ]
  }
 ],
 "metadata": {
  "kernelspec": {
   "display_name": "Python 3",
   "language": "python",
   "name": "python3"
  },
  "language_info": {
   "codemirror_mode": {
    "name": "ipython",
    "version": 3
   },
   "file_extension": ".py",
   "mimetype": "text/x-python",
   "name": "python",
   "nbconvert_exporter": "python",
   "pygments_lexer": "ipython3",
   "version": "3.9.13"
  },
  "orig_nbformat": 4
 },
 "nbformat": 4,
 "nbformat_minor": 2
}
