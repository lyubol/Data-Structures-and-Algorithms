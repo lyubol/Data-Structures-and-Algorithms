{
 "cells": [
  {
   "cell_type": "code",
   "execution_count": null,
   "id": "0a602795",
   "metadata": {},
   "outputs": [],
   "source": [
    "import time"
   ]
  },
  {
   "cell_type": "markdown",
   "id": "7e4c911d",
   "metadata": {},
   "source": [
    "# What is Dynamic Programming?"
   ]
  },
  {
   "cell_type": "markdown",
   "id": "3db9a5c3",
   "metadata": {},
   "source": [
    "'<b>Controlled</b>' brute force / exhaustive search"
   ]
  },
  {
   "cell_type": "markdown",
   "id": "5d564b82",
   "metadata": {},
   "source": [
    "### Key Ideas:"
   ]
  },
  {
   "cell_type": "markdown",
   "id": "6ee71c19",
   "metadata": {},
   "source": [
    "* <b>Subproblems</b>: like original problem, but smaller; \n",
    "\n",
    "    Write solution to one subproblem in terms of solutions to smaller acyclic subproblems.\n",
    "    \n",
    "    \n",
    "* <b>Memoization</b>: remember the <b>solution</b> to subproblems we have already solved and <b>re-use</b>; \n",
    "\n",
    "    <b>Avoid</b> exponentials.\n",
    "    \n",
    "    \n",
    "* <b>Guessing</b>: if you don't know something, <b>guess it!</b> (try all possibilities).\n"
   ]
  },
  {
   "cell_type": "markdown",
   "id": "d4524b3f",
   "metadata": {},
   "source": [
    "###  Fibonacci Sequence (Recursive Approach)"
   ]
  },
  {
   "cell_type": "markdown",
   "id": "64ad9543",
   "metadata": {},
   "source": [
    "* The <b>first two</b> numbers are <b>0</b> and <b>1</b>;\n",
    "\n",
    "\n",
    "* Each subsequent number is the sum of the previous two numbers."
   ]
  },
  {
   "cell_type": "code",
   "execution_count": 43,
   "id": "3ffc6e95",
   "metadata": {},
   "outputs": [
    {
     "data": {
      "text/plain": [
       "55"
      ]
     },
     "execution_count": 43,
     "metadata": {},
     "output_type": "execute_result"
    }
   ],
   "source": [
    "def calc_fib_recursion(n):\n",
    "    if n <= 2:\n",
    "        return 1\n",
    "    return calc_fib_recursion(n - 1) + calc_fib_recursion(n - 2)\n",
    "\n",
    "calc_fib_recursion(10)"
   ]
  },
  {
   "cell_type": "markdown",
   "id": "88757744",
   "metadata": {},
   "source": [
    "### Memoization"
   ]
  },
  {
   "cell_type": "markdown",
   "id": "00232d5a",
   "metadata": {},
   "source": [
    "* DP -> sub-problems <b>overlap</b>;\n",
    "\n",
    "\n",
    "* In order to <b>avoid solving</b> problems <b>multiple times</b>, memorize;\n",
    "\n",
    "    <b>Memoization</b> -> <b>save/cache</b> sub-problem solutions <b>for later use</b>.\n",
    "    \n",
    "    \n",
    "* Typically using an <b>array</b>, <b>matrix</b> or a <b>hash table</b>.\n"
   ]
  },
  {
   "cell_type": "code",
   "execution_count": 44,
   "id": "869b9e33",
   "metadata": {},
   "outputs": [
    {
     "data": {
      "text/plain": [
       "354224848179261915075"
      ]
     },
     "execution_count": 44,
     "metadata": {},
     "output_type": "execute_result"
    }
   ],
   "source": [
    "# Fibonacci sequence\n",
    "\n",
    "def calc_fib_dp(n, memo):\n",
    "    if n in memo:\n",
    "        return memo[n]\n",
    "    if n in [0,1,2]:\n",
    "        return 1\n",
    "    result = calc_fib_dp(n-1, memo) + calc_fib_dp(n-2, memo)\n",
    "    memo[n] = result\n",
    "    return result\n",
    "\n",
    "calc_fib_dp(100, {})"
   ]
  },
  {
   "cell_type": "markdown",
   "id": "d3ef5a10",
   "metadata": {},
   "source": [
    "Compare execution times to find fibonacci of 50, using the recursive functon and the DP one"
   ]
  },
  {
   "cell_type": "code",
   "execution_count": 47,
   "id": "ed0610a1",
   "metadata": {},
   "outputs": [
    {
     "name": "stdout",
     "output_type": "stream",
     "text": [
      "2548.023918390274\n"
     ]
    }
   ],
   "source": [
    "# Execution time to find fibonacci of 50 using recursion\n",
    "\n",
    "start_time_recursion = time.time()\n",
    "calc_fib_recursion(50)\n",
    "end_time_recursion = time.time()\n",
    "\n",
    "print(end_time_recursion - start_time_recursion)\n",
    "# result: 2548.023918390274"
   ]
  },
  {
   "cell_type": "code",
   "execution_count": 49,
   "id": "86b3af37",
   "metadata": {},
   "outputs": [
    {
     "name": "stdout",
     "output_type": "stream",
     "text": [
      "0.0\n"
     ]
    }
   ],
   "source": [
    "# Execution time to find fibonacci of 50 using dynamic programming approach\n",
    "\n",
    "start_time_recursion = time.time()\n",
    "calc_fib_dp(50, {})\n",
    "end_time_recursion = time.time()\n",
    "\n",
    "print(end_time_recursion - start_time_recursion)\n",
    "# result: 0.0"
   ]
  },
  {
   "cell_type": "markdown",
   "id": "a229b44e",
   "metadata": {},
   "source": [
    "###  \"Move Down / Right Sum\" Problem"
   ]
  },
  {
   "cell_type": "markdown",
   "id": "ff0ec3e7",
   "metadata": {},
   "source": [
    "You are given a matrix of numbers\n",
    "* Find the <b>path with largest sum</b>;\n",
    "\n",
    "\n",
    "* Start -> top left;\n",
    "\n",
    "\n",
    "* End -> bottom right;\n",
    "\n",
    "\n",
    "* Move only right/down;\n",
    "\n",
    "\n",
    "* There won't be negative numbers."
   ]
  },
  {
   "cell_type": "code",
   "execution_count": 1,
   "id": "bf96b605",
   "metadata": {},
   "outputs": [
    {
     "name": "stdout",
     "output_type": "stream",
     "text": [
      "3\n",
      "3\n",
      "1 1 1\n",
      "1 1 1\n",
      "1 1 1\n",
      "[1, 1, 1]\n",
      "[1, 1, 1]\n",
      "[1, 1, 1]\n",
      "[0, 0] [0, 1] [0, 2] [1, 2] [2, 2]\n"
     ]
    }
   ],
   "source": [
    "from collections import deque\n",
    "\n",
    "rows = int(input())\n",
    "cols = int(input())\n",
    "\n",
    "matrix = []\n",
    "dp = []\n",
    "\n",
    "for _ in range(rows):\n",
    "    matrix.append([int(x) for x in input().split()])\n",
    "    dp.append([0] * cols)\n",
    "    \n",
    "dp[0][0] = matrix[0][0]\n",
    "\n",
    "for col in range(1, cols):\n",
    "    dp[0][col] = dp[0][col - 1] + matrix[0][col]\n",
    "    \n",
    "for row in range(1, rows):\n",
    "    dp[row][0] = dp[row - 1][0] + matrix[row][0]\n",
    "    \n",
    "for row in matrix:\n",
    "    print(row)\n",
    "    \n",
    "row = rows - 1\n",
    "col = cols - 1\n",
    "result = deque()\n",
    "\n",
    "while row > 0 and col > 0:\n",
    "    result.appendleft([row, col])\n",
    "    if dp[row][col-1] > dp[row-1][col]:\n",
    "        col -= 1\n",
    "    else:\n",
    "        row -= 1\n",
    "        \n",
    "while row > 0:\n",
    "    result.appendleft([row, col])\n",
    "    row -= 1\n",
    "    \n",
    "while col > 0:\n",
    "    result.appendleft([row, col])\n",
    "    col -= 1\n",
    "    \n",
    "result.appendleft([0, 0])\n",
    "print(*result, sep=\" \")\n",
    "                "
   ]
  },
  {
   "cell_type": "markdown",
   "id": "b73e530e",
   "metadata": {},
   "source": [
    "### Longest Common Subsequence (LCS)"
   ]
  },
  {
   "cell_type": "markdown",
   "id": "f7ba8cb2",
   "metadata": {},
   "source": [
    "* Given two sequences x[1...m] and y[1...n]\n",
    "\n",
    "\n",
    "* Find a longest common subsequence (LCS) to them both"
   ]
  },
  {
   "cell_type": "code",
   "execution_count": 27,
   "id": "313760b7",
   "metadata": {},
   "outputs": [
    {
     "data": {
      "text/plain": [
       "4"
      ]
     },
     "execution_count": 27,
     "metadata": {},
     "output_type": "execute_result"
    }
   ],
   "source": [
    "# Recursive solution (with subtraction)\n",
    "\n",
    "def lcs(first, second, len1, len2):\n",
    "    if len1 == 0 or len2 == 0:\n",
    "        return 0\n",
    "    elif first[len1 - 1] == second[len2 - 1]:\n",
    "        return 1 + lcs(first, second, len1-1, len2-1)\n",
    "    else:\n",
    "        return max(lcs(first, second, len1-1, len2), lcs(first, second, len1, len2-1))\n",
    "    \n",
    "first = \"oxcpqrsvwf\"\n",
    "second = \"BABCE\"\n",
    "\n",
    "lcs(first, second, len(first), len(second))"
   ]
  },
  {
   "cell_type": "code",
   "execution_count": 5,
   "id": "48b9d84c",
   "metadata": {},
   "outputs": [
    {
     "data": {
      "text/plain": [
       "2"
      ]
     },
     "execution_count": 5,
     "metadata": {},
     "output_type": "execute_result"
    }
   ],
   "source": [
    "# Recursive solution (with addition)\n",
    "\n",
    "def lcs(first, second, len1=0, len2=0):\n",
    "    if len(first) == 0 or len(second) == 0:\n",
    "        return 0\n",
    "    if len(first) == len1 or len(second) == len2:\n",
    "        return 0\n",
    "    elif first[len1] == second[len2]:\n",
    "        return 1 + lcs(first, second, len1+1, len2+1)\n",
    "    else:\n",
    "        return max(lcs(first, second, len1+1, len2), lcs(first, second, len1, len2+1))\n",
    "    \n",
    "first = \"oxcpqrsvwf\"\n",
    "second = \"shmtulqrypy\"\n",
    "\n",
    "lcs(first, second)"
   ]
  },
  {
   "cell_type": "code",
   "execution_count": 4,
   "id": "28dee869",
   "metadata": {},
   "outputs": [
    {
     "name": "stdout",
     "output_type": "stream",
     "text": [
      "4\n"
     ]
    }
   ],
   "source": [
    "# Dynamic Programming solution\n",
    "\n",
    "def lcs_dp(first, second):\n",
    "    len1 = len(first)\n",
    "    len2 = len(second)\n",
    "    \n",
    "    matrix = [[None] * len1 for i in range(len2)]\n",
    "\n",
    "    for i in first:\n",
    "        for y in second:\n",
    "            if i == y:\n",
    "                matrix[second.index(y)][first.index(i)] = 1\n",
    "    \n",
    "    total = 0\n",
    "    for row in matrix:\n",
    "        if 1 in row:\n",
    "            total += 1\n",
    "                \n",
    "    print(total)\n",
    "        \n",
    "    \n",
    "first = \"oxcpqrsvwf\"\n",
    "second = \"shmtulqrypy\"\n",
    "\n",
    "lcs_dp(first, second)"
   ]
  },
  {
   "cell_type": "code",
   "execution_count": null,
   "id": "7ea2a820",
   "metadata": {},
   "outputs": [],
   "source": []
  }
 ],
 "metadata": {
  "kernelspec": {
   "display_name": "Python 3",
   "language": "python",
   "name": "python3"
  },
  "language_info": {
   "codemirror_mode": {
    "name": "ipython",
    "version": 3
   },
   "file_extension": ".py",
   "mimetype": "text/x-python",
   "name": "python",
   "nbconvert_exporter": "python",
   "pygments_lexer": "ipython3",
   "version": "3.8.5"
  }
 },
 "nbformat": 4,
 "nbformat_minor": 5
}
