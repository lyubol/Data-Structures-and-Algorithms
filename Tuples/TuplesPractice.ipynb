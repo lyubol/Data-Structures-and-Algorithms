{
 "cells": [
  {
   "cell_type": "markdown",
   "metadata": {},
   "source": [
    "## 1. Sum and Product"
   ]
  },
  {
   "cell_type": "markdown",
   "metadata": {},
   "source": [
    "Write a function that calculates the sum and product of all elements in a tuple of numbers.\n",
    "\n",
    "`Example`:\n",
    "\n",
    "input_tuple = (1, 2, 3, 4)\n",
    "\n",
    "sum_result, product_result = sum_product(input_tuple)\n",
    "\n",
    "print(sum_result, product_result)  \n",
    "\n",
    "`Output`: 10, 24\n"
   ]
  },
  {
   "cell_type": "code",
   "execution_count": 12,
   "metadata": {},
   "outputs": [
    {
     "name": "stdout",
     "output_type": "stream",
     "text": [
      "10 24\n"
     ]
    }
   ],
   "source": [
    "def sum_product(input_tuple):\n",
    "    sum_result = sum(input_tuple)\n",
    "    product_result = 1\n",
    "    for i in input_tuple:\n",
    "        product_result *= i\n",
    "    return sum_result, product_result\n",
    "\n",
    "input_tuple = (1, 2, 3, 4)\n",
    "sum_result, product_result = sum_product(input_tuple)\n",
    "print(sum_result, product_result)"
   ]
  },
  {
   "cell_type": "markdown",
   "metadata": {},
   "source": [
    "Overall `time complexity` of the function is `O(n)` because the loop iterates through each element in the tuple once. The rest of the operations have constant time complexity O(1);\n",
    "\n",
    "The overall `space complexity` is `O(1)` because the function uses a constant amount of additional memory to store the sum and product, regardless of the size of the input tuple."
   ]
  },
  {
   "cell_type": "markdown",
   "metadata": {},
   "source": [
    "## 2. Elementwise Sum"
   ]
  },
  {
   "cell_type": "markdown",
   "metadata": {},
   "source": [
    "Create a function that takes two tuples and returns a tuple containing the element-wise sum of the input tuples.\n",
    "\n",
    "`Example`:\n",
    "\n",
    "tuple1 = (1, 2, 3)\n",
    "\n",
    "tuple2 = (4, 5, 6)\n",
    "\n",
    "output_tuple = tuple_elementwise_sum(tuple1, tuple2)\n",
    "\n",
    "print(output_tuple)  \n",
    "\n",
    "`Output`: (5, 7, 9)"
   ]
  },
  {
   "cell_type": "code",
   "execution_count": 21,
   "metadata": {},
   "outputs": [
    {
     "name": "stdout",
     "output_type": "stream",
     "text": [
      "(5, 7, 9)\n"
     ]
    }
   ],
   "source": [
    "def tuple_elementwise_sum(tuple1, tuple2):\n",
    "    return tuple(map(sum, zip(tuple1, tuple2)))\n",
    "\n",
    "tuple1 = (1, 2, 3)\n",
    "tuple2 = (4, 5, 6)\n",
    "output_tuple = tuple_elementwise_sum(tuple1, tuple2)\n",
    "print(output_tuple)  # Expected output: (5, 7, 9)"
   ]
  },
  {
   "cell_type": "markdown",
   "metadata": {},
   "source": [
    "The `time complexities` of the `zip`, `map`, and `tuple` operations are all linear, `O(n)`, but they are combined in a single line, so the overall time complexity for this line is still O(n).\n",
    "\n",
    "The overall `time complexity` of the function is `O(n)` because it iterates through each pair of elements in the input tuples once. \n",
    "\n",
    "The overall `space complexity` is `O(n)` because the function creates a new tuple with the same length as the input tuples to store the element-wise sums."
   ]
  },
  {
   "cell_type": "markdown",
   "metadata": {},
   "source": [
    "## 3. Insert at the Beginning"
   ]
  },
  {
   "cell_type": "markdown",
   "metadata": {},
   "source": [
    "Write a function that takes a tuple and a value, and returns a new tuple with the value inserted at the beginning of the original tuple.\n",
    "\n",
    "`Example`: \n",
    "\n",
    "input_tuple = (2, 3, 4)\n",
    "\n",
    "value_to_insert = 1\n",
    "\n",
    "output_tuple = insert_value_front(input_tuple, value_to_insert)\n",
    "\n",
    "print(output_tuple)  \n",
    "\n",
    "`Output`: (1, 2, 3, 4)\n"
   ]
  },
  {
   "cell_type": "code",
   "execution_count": 24,
   "metadata": {},
   "outputs": [
    {
     "name": "stdout",
     "output_type": "stream",
     "text": [
      "(1, 2, 3, 4)\n"
     ]
    }
   ],
   "source": [
    "# Method 1: Unpacking\n",
    "def insert_value_front(input_tuple, value_to_insert):\n",
    "    return (value_to_insert, *input_tuple)\n",
    "\n",
    "# Method 2: Concatenation\n",
    "def insert_value_front(input_tuple, value_to_insert):\n",
    "    return (value_to_insert,) + input_tuple\n",
    "\n",
    "input_tuple = (2, 3, 4)\n",
    "value_to_insert = 1\n",
    "output_tuple = insert_value_front(input_tuple, value_to_insert)\n",
    "print(output_tuple)  # Expected output: (1, 2, 3, 4)"
   ]
  },
  {
   "cell_type": "markdown",
   "metadata": {},
   "source": [
    "The overall `time complexity` of the function is `O(n)` because it iterates through the elements of the input tuple once to create a new tuple;\n",
    "\n",
    "The overall `space complexity` is `O(n)` because it creates a new tuple with n+1 elements."
   ]
  },
  {
   "cell_type": "markdown",
   "metadata": {},
   "source": [
    "## 4. Concatenate"
   ]
  },
  {
   "cell_type": "markdown",
   "metadata": {},
   "source": [
    "Write a function that takes a tuple of strings and concatenates them, separating each string with a space.\n",
    "\n",
    "`Example`:\n",
    "\n",
    "input_tuple = ('Hello', 'World', 'from', 'Python')\n",
    "\n",
    "output_string = concatenate_strings(input_tuple)\n",
    "\n",
    "print(output_string)  \n",
    "\n",
    "`Output`: 'Hello World from Python'\n"
   ]
  },
  {
   "cell_type": "code",
   "execution_count": 37,
   "metadata": {},
   "outputs": [
    {
     "name": "stdout",
     "output_type": "stream",
     "text": [
      "Hello World from Python\n"
     ]
    }
   ],
   "source": [
    "def concatenate_strings(input_tuple):\n",
    "    return \" \".join([*input_tuple])\n",
    "\n",
    "\n",
    "input_tuple = ('Hello', 'World', 'from', 'Python')\n",
    "output_string = concatenate_strings(input_tuple)\n",
    "print(output_string)  # Expected output: 'Hello World from Python'"
   ]
  },
  {
   "cell_type": "markdown",
   "metadata": {},
   "source": [
    "The overall `time complexity` of the function is `O(n)` because it iterates through the strings in the input tuple once to create a new concatenated string;\n",
    "\n",
    "The overall `space complexity` is `O(n)` because it creates a new concatenated string with the length equal to the sum of the lengths of the strings in the input tuple plus the spaces in between."
   ]
  },
  {
   "cell_type": "markdown",
   "metadata": {},
   "source": [
    "## 5. Diagonal"
   ]
  },
  {
   "cell_type": "markdown",
   "metadata": {},
   "source": [
    "Create a function that takes a tuple of tuples and returns a tuple containing the diagonal elements of the input.\n",
    "\n",
    "`Example`:\n",
    "\n",
    "input_tuple = (\n",
    "    (1, 2, 3),\n",
    "    (4, 5, 6),\n",
    "    (7, 8, 9)\n",
    ")\n",
    "\n",
    "output_tuple = get_diagonal(input_tuple)\n",
    "\n",
    "print(output_tuple)  \n",
    "\n",
    "`Output`: (1, 5, 9)"
   ]
  },
  {
   "cell_type": "code",
   "execution_count": 45,
   "metadata": {},
   "outputs": [
    {
     "name": "stdout",
     "output_type": "stream",
     "text": [
      "(1, 5, 9)\n"
     ]
    }
   ],
   "source": [
    "def get_diagonal(tup):\n",
    "    return tuple(tup[i][i] for i in range(len(tup)))\n",
    "\n",
    "input_tuple = (\n",
    "    (1, 2, 3),\n",
    "    (4, 5, 6),\n",
    "    (7, 8, 9)\n",
    ")\n",
    "output_tuple = get_diagonal(input_tuple)\n",
    "print(output_tuple)  # Expected output: (1, 5, 9)"
   ]
  },
  {
   "cell_type": "markdown",
   "metadata": {},
   "source": [
    "The overall `time complexity` of the function is `O(n)` because it iterates through the indices of the input tuple once to create a new tuple with the diagonal elements;\n",
    "\n",
    "The overall `space complexity` is `O(n)` because it creates a new tuple containing the diagonal elements, which has a length equal to the length of the input tuple."
   ]
  },
  {
   "cell_type": "markdown",
   "metadata": {},
   "source": [
    "## 6. Common Elements"
   ]
  },
  {
   "cell_type": "markdown",
   "metadata": {},
   "source": [
    "Write a function that takes two tuples and returns a tuple containing the common elements of the input tuples.\n",
    "\n",
    "`Example`:\n",
    "\n",
    "tuple1 = (1, 2, 3, 4, 5)\n",
    "\n",
    "tuple2 = (4, 5, 6, 7, 8)\n",
    "\n",
    "output_tuple = common_elements(tuple1, tuple2)\n",
    "\n",
    "print(output_tuple)  \n",
    "\n",
    "`Output`: (4, 5)"
   ]
  },
  {
   "cell_type": "code",
   "execution_count": 46,
   "metadata": {},
   "outputs": [
    {
     "name": "stdout",
     "output_type": "stream",
     "text": [
      "(4, 5)\n"
     ]
    }
   ],
   "source": [
    "def common_elements(tuple1, tuple2):\n",
    "    return tuple(i for i in tuple1 if i in tuple2)\n",
    "\n",
    "\n",
    "tuple1 = (1, 2, 3, 4, 5)\n",
    "tuple2 = (4, 5, 6, 7, 8)\n",
    "output_tuple = common_elements(tuple1, tuple2)\n",
    "print(output_tuple)  # Expected output: (4, 5)"
   ]
  },
  {
   "cell_type": "markdown",
   "metadata": {},
   "source": [
    "The overall `time complexity` of the function is `O(n)`;\n",
    "\n",
    "The overall `space complexity` is also `O(n)`, where n is the length of the input tuples."
   ]
  }
 ],
 "metadata": {
  "kernelspec": {
   "display_name": "Python 3",
   "language": "python",
   "name": "python3"
  },
  "language_info": {
   "codemirror_mode": {
    "name": "ipython",
    "version": 3
   },
   "file_extension": ".py",
   "mimetype": "text/x-python",
   "name": "python",
   "nbconvert_exporter": "python",
   "pygments_lexer": "ipython3",
   "version": "3.9.13"
  },
  "orig_nbformat": 4
 },
 "nbformat": 4,
 "nbformat_minor": 2
}
