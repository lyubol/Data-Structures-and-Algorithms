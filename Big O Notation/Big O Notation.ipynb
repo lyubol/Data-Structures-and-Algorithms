{
 "cells": [
  {
   "cell_type": "markdown",
   "metadata": {},
   "source": [
    "# **Big O Notation**"
   ]
  },
  {
   "cell_type": "markdown",
   "metadata": {},
   "source": [
    "## Big O Notations - Theta, Omega and Big O"
   ]
  },
  {
   "cell_type": "markdown",
   "metadata": {},
   "source": [
    "- **Big O**: It is a complexity that is going to be less or equal to the worst case;\n",
    "- **Big - Ω** (Omega): It is a complexity that is going to be at least more than the best case;\n",
    "- **Big - Θ** (Theta): It is a complexity that is within the bounds of the worst and the best case."
   ]
  },
  {
   "cell_type": "markdown",
   "metadata": {},
   "source": [
    "## Big O - O(1) (Constant Time Complexity)"
   ]
  },
  {
   "cell_type": "markdown",
   "metadata": {},
   "source": [
    "It doesn't matter if the input number n will be 1 or 1000000. The number of operations will always be 1."
   ]
  },
  {
   "cell_type": "code",
   "execution_count": 4,
   "metadata": {},
   "outputs": [
    {
     "name": "stdout",
     "output_type": "stream",
     "text": [
      "25\n",
      "10000\n"
     ]
    }
   ],
   "source": [
    "def multiply_numbers(n):\n",
    "    return n*n\n",
    "\n",
    "print(multiply_numbers(5))\n",
    "print(multiply_numbers(100))"
   ]
  },
  {
   "cell_type": "markdown",
   "metadata": {},
   "source": [
    "## Big O - O(N) (Linear Time Complexity)"
   ]
  },
  {
   "cell_type": "markdown",
   "metadata": {},
   "source": [
    "Time taken to execute increases linearly with the increase in the number of inputs"
   ]
  },
  {
   "cell_type": "code",
   "execution_count": 15,
   "metadata": {},
   "outputs": [
    {
     "name": "stdout",
     "output_type": "stream",
     "text": [
      "0\n",
      "1\n",
      "0\n",
      "1\n",
      "2\n",
      "3\n",
      "4\n"
     ]
    }
   ],
   "source": [
    "def print_items(n):\n",
    "    for i in range(n):\n",
    "        print(i)\n",
    "\n",
    "print_items(2)\n",
    "print_items(5)"
   ]
  },
  {
   "cell_type": "markdown",
   "metadata": {},
   "source": [
    "## Drop Constants (Simplifying Big O Expressions)"
   ]
  },
  {
   "cell_type": "markdown",
   "metadata": {},
   "source": [
    "Dropping constants in Big O notation is a simplification technique used to analyze and describe the time or space complexity of an algorithm by disregarding constant factors. It allows us to focus on the most significant factor that influences an algorithm's time or space complexity as the input size grows, making it easier to compare and analyze different algorithms."
   ]
  },
  {
   "cell_type": "markdown",
   "metadata": {},
   "source": [
    "Both of the loops below take O(N) complexity. The sum of them is going to take n + n = 2n or O(2N) complexity. It doesn't matter if it is 2 or 100. We can drop the constant and simplify the complexity to O(N)."
   ]
  },
  {
   "cell_type": "code",
   "execution_count": 17,
   "metadata": {},
   "outputs": [
    {
     "name": "stdout",
     "output_type": "stream",
     "text": [
      "0\n",
      "1\n",
      "2\n",
      "3\n",
      "4\n",
      "0\n",
      "1\n",
      "2\n",
      "3\n",
      "4\n"
     ]
    }
   ],
   "source": [
    "def print_items(n):\n",
    "    for i in range(n):\n",
    "        print(i)\n",
    "    for j in range(n):\n",
    "        print(j)\n",
    "\n",
    "print_items(5)"
   ]
  },
  {
   "cell_type": "markdown",
   "metadata": {},
   "source": [
    "## Big O - O(n^2) (Quadratic Time Complexity)"
   ]
  },
  {
   "cell_type": "markdown",
   "metadata": {},
   "source": [
    "Quadratic Time Complexity represents an algorithm whose performance is directly proportional to the squared size of the input data set (think of Linear, but squared)."
   ]
  },
  {
   "cell_type": "markdown",
   "metadata": {},
   "source": [
    "In the example below, both loops are going to run n times (thus each of them have a complexity of O(n)). Since for each number n in the first loop, we are going to execute n times the second loop, the complexity of the function will be n*n = n^2."
   ]
  },
  {
   "cell_type": "code",
   "execution_count": 20,
   "metadata": {},
   "outputs": [
    {
     "name": "stdout",
     "output_type": "stream",
     "text": [
      "0 0\n",
      "0 1\n",
      "0 2\n",
      "1 0\n",
      "1 1\n",
      "1 2\n",
      "2 0\n",
      "2 1\n",
      "2 2\n"
     ]
    }
   ],
   "source": [
    "def print_items(n):\n",
    "    for i in range(n): # O(n)\n",
    "        for j in range(n): # O(n)\n",
    "            print(i, j) # n * n = n^2\n",
    "\n",
    "print_items(3)"
   ]
  },
  {
   "cell_type": "markdown",
   "metadata": {},
   "source": [
    "n^3 is worse than n^2. However, it is still simplified to O(n^2) comlexity in terms of Big O Notation. Code with O(n^2) complexity is **inefficient** because as the number of elements increase, the operations increase in quadratic (exponential) manner."
   ]
  },
  {
   "cell_type": "code",
   "execution_count": 22,
   "metadata": {},
   "outputs": [
    {
     "name": "stdout",
     "output_type": "stream",
     "text": [
      "0 0 0\n",
      "0 0 1\n",
      "0 0 2\n",
      "0 1 0\n",
      "0 1 1\n",
      "0 1 2\n",
      "0 2 0\n",
      "0 2 1\n",
      "0 2 2\n",
      "1 0 0\n",
      "1 0 1\n",
      "1 0 2\n",
      "1 1 0\n",
      "1 1 1\n",
      "1 1 2\n",
      "1 2 0\n",
      "1 2 1\n",
      "1 2 2\n",
      "2 0 0\n",
      "2 0 1\n",
      "2 0 2\n",
      "2 1 0\n",
      "2 1 1\n",
      "2 1 2\n",
      "2 2 0\n",
      "2 2 1\n",
      "2 2 2\n"
     ]
    }
   ],
   "source": [
    "def print_items(n):\n",
    "    for i in range(n): # O(n)\n",
    "        for j in range(n): # O(n)\n",
    "            for k in range(n): # O(n)\n",
    "                print(i, j, k) # n * n * n = n^3\n",
    "\n",
    "print_items(3)"
   ]
  },
  {
   "cell_type": "markdown",
   "metadata": {},
   "source": [
    "## Drop Non Dominant Terms"
   ]
  },
  {
   "cell_type": "markdown",
   "metadata": {},
   "source": [
    "Dropping non-dominant terms is a simplification technique in Big O notation used to express the time complexity of an algorithm more concisely. It involves focusing on the most significant or dominant term in a mathematical expression that describes the algorithm's running time and discarding the less significant terms. When analyzing the efficiency of an algorithm, it's common to have expressions that include multiple terms, each representing a different aspect of the algorithm's performance. By dropping non-dominant terms, you focus on the most significant factor that influences the algorithm's efficiency as the input size increases."
   ]
  },
  {
   "cell_type": "markdown",
   "metadata": {},
   "source": [
    "The first part of the function contains two loops with complexity of O(n^2). The second part of the function contains a single loop with complexity of O(n). The total complexity of the function is O(n^2 + n). The **greater complexity is the dominant term** and the **lower complexity is the non dominant term**, so the lower complexity is getting excluded. Since, n^2 > n, the complexity of the function is going to be O(n^2)."
   ]
  },
  {
   "cell_type": "code",
   "execution_count": 23,
   "metadata": {},
   "outputs": [
    {
     "name": "stdout",
     "output_type": "stream",
     "text": [
      "0 0\n",
      "0 1\n",
      "0 2\n",
      "1 0\n",
      "1 1\n",
      "1 2\n",
      "2 0\n",
      "2 1\n",
      "2 2\n",
      "0\n",
      "1\n",
      "2\n"
     ]
    }
   ],
   "source": [
    "# Total complexity of the function is O(n^2 + n) or O(n^2) when non dominant terms are droped.\n",
    "def print_items(n):\n",
    "    # O(n^2)\n",
    "    for i in range(n):\n",
    "        for j in range(n):\n",
    "            print(i, j)\n",
    "    # O(n)\n",
    "    for k in range(n):\n",
    "        print(k)\n",
    "\n",
    "print_items(3)"
   ]
  },
  {
   "cell_type": "markdown",
   "metadata": {},
   "source": [
    "## Big O - O(log n) (Logarithmic Time Complexity)"
   ]
  },
  {
   "cell_type": "markdown",
   "metadata": {},
   "source": [
    "An algorithm is said to have a logarithmic time complexity when it **reduces the size of the input data in each step** (it don’t need to look at all values of the input data)\n",
    "\n",
    "When an algorithm has O(log n) running time, it means that as the input size grows, the **number of operations grows very slowly**.\n",
    "\n",
    "An example of a logarithmic time complexity is a divide and conquer algorithm. For example, when looking for a given number within a sorted array, we divide the array in two halfs until we find the number."
   ]
  },
  {
   "cell_type": "code",
   "execution_count": 1,
   "metadata": {},
   "outputs": [],
   "source": [
    "def binary_search(data, value):\n",
    "    n = len(data)\n",
    "    left = 0\n",
    "    right = n - 1\n",
    "    while left <= right:\n",
    "        middle = (left + right) // 2\n",
    "        if value < data[middle]:\n",
    "            right = middle - 1\n",
    "        elif value > data[middle]:\n",
    "            left = middle + 1\n",
    "        else:\n",
    "            return middle\n",
    "    raise ValueError('Value is not in the list')"
   ]
  }
 ],
 "metadata": {
  "kernelspec": {
   "display_name": "Python 3",
   "language": "python",
   "name": "python3"
  },
  "language_info": {
   "codemirror_mode": {
    "name": "ipython",
    "version": 3
   },
   "file_extension": ".py",
   "mimetype": "text/x-python",
   "name": "python",
   "nbconvert_exporter": "python",
   "pygments_lexer": "ipython3",
   "version": "3.9.13"
  },
  "orig_nbformat": 4
 },
 "nbformat": 4,
 "nbformat_minor": 2
}
