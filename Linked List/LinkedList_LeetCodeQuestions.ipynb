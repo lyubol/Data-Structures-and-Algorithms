{
 "cells": [
  {
   "cell_type": "markdown",
   "metadata": {},
   "source": [
    "# Singly Linked List - LeetCode Questions"
   ]
  },
  {
   "cell_type": "markdown",
   "metadata": {},
   "source": [
    "## Merge Two Sorted Linked List"
   ]
  },
  {
   "cell_type": "markdown",
   "metadata": {},
   "source": [
    "You are given the heads of two sorted linked lists list1 and list2. \n",
    "\n",
    "Merge the two lists in a one sorted list. The list should be made by splicing together the nodes of the first two lists.\n",
    "\n",
    "Return the head of the merged linked list.   "
   ]
  },
  {
   "cell_type": "markdown",
   "metadata": {},
   "source": [
    "`Example 1`: \n",
    "\n",
    "- Input: list1 = [1,2,4], list2 = [1,3,4]\n",
    "- Output: [1,1,2,3,4,4]\n",
    "\n",
    "`Example 2`:\n",
    "\n",
    "- Input: list1 = [], list2 = []\n",
    "- Output: []\n",
    "\n",
    "`Example 3`: \n",
    "\n",
    "- Input: list1 = [], list2 = [0]\n",
    "- Output: [0]"
   ]
  },
  {
   "cell_type": "markdown",
   "metadata": {},
   "source": [
    "`Constraints`: \n",
    "\n",
    "- The number of nodes in both lists is in the range [0, 50];\n",
    "- -100 <= Node.val <= 100;\n",
    "- Both list1 and list2 are sorted in non-decreasing order."
   ]
  },
  {
   "cell_type": "code",
   "execution_count": 126,
   "metadata": {},
   "outputs": [],
   "source": [
    "class ListNode(object):\n",
    "\n",
    "    def __init__(self, val=0, next=None):\n",
    "        self.val = val\n",
    "        self.next = next\n",
    "\n",
    "\n",
    "class Solution(object):\n",
    "\n",
    "    def __str__(self):\n",
    "        elements = ''\n",
    "        current_node = self.head\n",
    "        while current_node != None:\n",
    "            elements += str(current_node.val)\n",
    "            if current_node.next != None:\n",
    "                elements += ' -> '\n",
    "            current_node = current_node.next\n",
    "        return elements\n",
    "\n",
    "    def mergeTwoLists(self, l1, l2):\n",
    "        \"\"\"\n",
    "        :type list1: Optional[ListNode]\n",
    "        :type list2: Optional[ListNode]\n",
    "        :rtype: Optional[ListNode]\n",
    "        \"\"\"\n",
    "        \n",
    "        dummy_node = ListNode()\n",
    "        prev_node = dummy_node\n",
    "\n",
    "        while l1 and l2:\n",
    "            if l1.val <= l2.val:\n",
    "                prev_node.next = l1\n",
    "                l1 = l1.next\n",
    "            else:\n",
    "                prev_node.next = l2\n",
    "                l2 = l2.next\n",
    "            prev_node = prev_node.next\n",
    "\n",
    "        if l1:\n",
    "            prev_node.next = l1\n",
    "        elif l2:\n",
    "            prev_node.next = l2\n",
    "\n",
    "        return dummy_node.next"
   ]
  },
  {
   "cell_type": "code",
   "execution_count": 125,
   "metadata": {},
   "outputs": [
    {
     "data": {
      "text/plain": [
       "<__main__.ListNode at 0x1c24705aca0>"
      ]
     },
     "execution_count": 125,
     "metadata": {},
     "output_type": "execute_result"
    }
   ],
   "source": [
    "# Create the first linked list\n",
    "l1 = ListNode(1)\n",
    "l1.next = ListNode(2)\n",
    "l1.next.next = ListNode(4)\n",
    "\n",
    "# Create the second linked list\n",
    "l2 = ListNode(1)\n",
    "l2.next = ListNode(3)\n",
    "l2.next.next = ListNode(4)\n",
    "\n",
    "s = Solution()\n",
    "\n",
    "s.mergeTwoLists(l1, l2)"
   ]
  },
  {
   "cell_type": "markdown",
   "metadata": {},
   "source": [
    "The `mergeTwoLists` method has a `time complexity of O(m+n)`, where m and n are the lengths of the input lists `l1` and `l2`, respectively. The method has a `space complexity of O(1)`, since it only uses a constant amount of extra memory to store pointers and does not create any new nodes or data structures."
   ]
  },
  {
   "cell_type": "markdown",
   "metadata": {},
   "source": [
    "## Remove Duplicates"
   ]
  },
  {
   "cell_type": "markdown",
   "metadata": {},
   "source": [
    "Given the head of a sorted linked list, delete all duplicates such that each element appears only once. Return the linked list sorted as well. "
   ]
  },
  {
   "cell_type": "markdown",
   "metadata": {},
   "source": [
    "`Example 1`:\n",
    "\n",
    "- Input: head = [1,1,2]\n",
    "- Output: [1,2]\n",
    "\n",
    "`Example 2`:\n",
    "\n",
    "- Input: head = [1,1,2,3,3]\n",
    "- Output: [1,2,3]"
   ]
  },
  {
   "cell_type": "code",
   "execution_count": 128,
   "metadata": {},
   "outputs": [],
   "source": [
    "class ListNode(object):\n",
    "    def __init__(self, val=0, next=None):\n",
    "        self.val = val\n",
    "        self.next = next\n",
    "\n",
    "class Solution(object):\n",
    "    def deleteDuplicates(self, head):\n",
    "        if not head:\n",
    "            return None\n",
    "        seen = set()\n",
    "        prev_node = None\n",
    "        current_node = head\n",
    "        while current_node != None:\n",
    "            next_node = current_node.next\n",
    "            if current_node.val not in seen:\n",
    "                seen.add(current_node.val)\n",
    "                prev_node = current_node\n",
    "            else:\n",
    "                current_node.next = None\n",
    "                prev_node.next = next_node\n",
    "            current_node = next_node\n",
    "\n",
    "        return head"
   ]
  },
  {
   "cell_type": "markdown",
   "metadata": {},
   "source": [
    "The `deleteDuplicates` method has a `time complexity of O(n)`, where n is the length of the input linked list. The method has a `space complexity of O(n)`, since it uses a set to store the unique values seen so far, which can grow up to the size of the input list."
   ]
  },
  {
   "cell_type": "markdown",
   "metadata": {},
   "source": [
    "## Remove Linked List Elements"
   ]
  },
  {
   "cell_type": "markdown",
   "metadata": {},
   "source": [
    "Given the head of a linked list and an integer val, remove all the nodes of the linked list that has Node.val == val, and return the new head."
   ]
  },
  {
   "cell_type": "markdown",
   "metadata": {},
   "source": [
    "`Example 1`:\n",
    "\n",
    "- Input: head = [1,2,6,3,4,5,6], val = 6\n",
    "- Output: [1,2,3,4,5]\n",
    "\n",
    "`Example 2`:\n",
    "\n",
    "- Input: head = [], val = 1\n",
    "- Output: []\n",
    "\n",
    "`Example 3`:\n",
    "\n",
    "- Input: head = [7,7,7,7], val = 7\n",
    "- Output: []"
   ]
  },
  {
   "cell_type": "markdown",
   "metadata": {},
   "source": [
    "`Constraints`:\n",
    "\n",
    "- The number of nodes in the list is in the range [0, 104];\n",
    "- 1 <= Node.val <= 50;\n",
    "- 0 <= val <= 50."
   ]
  },
  {
   "cell_type": "code",
   "execution_count": 138,
   "metadata": {},
   "outputs": [],
   "source": [
    "class ListNode(object):\n",
    "    def __init__(self, val=0, next=None):\n",
    "        self.val = val\n",
    "        self.next = next\n",
    "\n",
    "class Solution(object):   \n",
    "    def removeElements(self, head, val):\n",
    "        if head is None:\n",
    "            return None\n",
    "        prev_node = ListNode()\n",
    "        output = prev_node\n",
    "        prev_node.next = head\n",
    "        current_node = head\n",
    "        while current_node.next != None:\n",
    "            next_node = current_node.next\n",
    "            if current_node.val == val:\n",
    "                prev_node.next = next_node\n",
    "            else:\n",
    "                prev_node = current_node\n",
    "            current_node = next_node\n",
    "        if current_node.val == val:\n",
    "            prev_node.next = None\n",
    "        return output.next"
   ]
  },
  {
   "cell_type": "markdown",
   "metadata": {},
   "source": [
    "The `removeElements` method has a `time complexity of O(n)`, where n is the length of the input linked list. The method has a `space complexity of O(1)`, since it only uses a constant amount of extra memory to store pointers and does not create any new nodes or data structures."
   ]
  },
  {
   "cell_type": "markdown",
   "metadata": {},
   "source": [
    "## Reverse Linked List"
   ]
  },
  {
   "cell_type": "markdown",
   "metadata": {},
   "source": [
    "Given the head of a singly linked list, reverse the list, and return the reversed list."
   ]
  },
  {
   "cell_type": "markdown",
   "metadata": {},
   "source": [
    "`Example 1`:\n",
    "\n",
    "- Input: head = [1,2,3,4,5]\n",
    "- Output: [5,4,3,2,1]\n",
    "\n",
    "`Example 2`:\n",
    "\n",
    "- Input: head = [1,2]\n",
    "- Output: [2,1]\n",
    "\n",
    "`Example 3`:\n",
    "\n",
    "- Input: head = []\n",
    "- Output: []"
   ]
  },
  {
   "cell_type": "markdown",
   "metadata": {},
   "source": [
    "`Constraints`:\n",
    "\n",
    "- The number of nodes in the list is the range [0, 5000];\n",
    "- -5000 <= Node.val <= 5000."
   ]
  },
  {
   "cell_type": "code",
   "execution_count": 179,
   "metadata": {},
   "outputs": [],
   "source": [
    "class ListNode(object):\n",
    "    def __init__(self, val=0, next=None):\n",
    "        self.val = val\n",
    "        self.next = next\n",
    "\n",
    "class Solution(object):\n",
    "    def reverseList(self, head):\n",
    "        prev_node = None\n",
    "        current_node = head\n",
    "        while current_node != None:\n",
    "            next_node = current_node.next\n",
    "            current_node.next = prev_node\n",
    "            prev_node = current_node\n",
    "            current_node = next_node\n",
    "            head = prev_node\n",
    "        return prev_node"
   ]
  },
  {
   "cell_type": "markdown",
   "metadata": {},
   "source": [
    "The `reverseList` method has a `time complexity of O(n)`, where n is the length of the input linked list. The method has a `space complexity of O(1)`, since it only uses a constant amount of extra memory to store pointers and does not create any new nodes or data structures."
   ]
  },
  {
   "cell_type": "markdown",
   "metadata": {},
   "source": [
    "## Palindrome Linked List"
   ]
  },
  {
   "cell_type": "markdown",
   "metadata": {},
   "source": [
    "Given the head of a singly linked list, return true if it is a palindrome or false otherwise."
   ]
  },
  {
   "cell_type": "markdown",
   "metadata": {},
   "source": [
    "`Example 1`:\n",
    "\n",
    "- Input: head = [1,2,2,1]\n",
    "- Output: true\n",
    "\n",
    "`Example 2`:\n",
    "\n",
    "- Input: head = [1,2]\n",
    "- Output: false"
   ]
  },
  {
   "cell_type": "markdown",
   "metadata": {},
   "source": [
    "`Constraints`:\n",
    "\n",
    "- The number of nodes in the list is in the range [1, 105];\n",
    "- <= Node.val <= 9."
   ]
  },
  {
   "cell_type": "code",
   "execution_count": null,
   "metadata": {},
   "outputs": [],
   "source": [
    "    # def isPalindrome(self, head):\n",
    "    #     stack = []\n",
    "    #     current_node = head\n",
    "    #     while current_node != None:\n",
    "    #         stack.append(current_node.val)\n",
    "    #         current_node = current_node.next\n",
    "    #     return stack[:] == stack[::-1]"
   ]
  },
  {
   "cell_type": "code",
   "execution_count": 216,
   "metadata": {},
   "outputs": [],
   "source": [
    "class ListNode(object):\n",
    "    def __init__(self, val=0, next=None):\n",
    "        self.val = val\n",
    "        self.next = next\n",
    "\n",
    "class Solution(object):\n",
    "    def isPalindrome(self, head):\n",
    "\n",
    "        stack = []\n",
    "        current_node = head\n",
    "        while current_node:\n",
    "            stack.append(current_node.val)\n",
    "            current_node = current_node.next\n",
    "        \n",
    "        current_node = head\n",
    "        while current_node:\n",
    "            if current_node.val == stack.pop():\n",
    "                current_node = current_node.next\n",
    "            else:\n",
    "                return False\n",
    "                \n",
    "        return True"
   ]
  },
  {
   "cell_type": "markdown",
   "metadata": {},
   "source": [
    "## Middle of the Linked List"
   ]
  },
  {
   "cell_type": "markdown",
   "metadata": {},
   "source": [
    "Given the head of a singly linked list, return the middle node of the linked list.\n",
    "\n",
    "If there are two middle nodes, return the second middle node."
   ]
  },
  {
   "cell_type": "markdown",
   "metadata": {},
   "source": [
    "`Example 1`:\n",
    "\n",
    "- Input: head = [1,2,3,4,5]\n",
    "- Output: [3,4,5]\n",
    "- Explanation: The middle node of the list is node 3.\n",
    "\n",
    "`Example 2`:\n",
    "\n",
    "- Input: head = [1,2,3,4,5,6]\n",
    "- Output: [4,5,6]\n",
    "- Explanation: Since the list has two middle nodes with values 3 and 4, we return the second one."
   ]
  },
  {
   "cell_type": "markdown",
   "metadata": {},
   "source": [
    "`Constraints`:\n",
    "\n",
    "- The number of nodes in the list is in the range [1, 100];\n",
    "- 1 <= Node.val <= 100."
   ]
  },
  {
   "cell_type": "code",
   "execution_count": 197,
   "metadata": {},
   "outputs": [],
   "source": [
    "class ListNode(object):\n",
    "    def __init__(self, val=0, next=None):\n",
    "        self.val = val\n",
    "        self.next = next\n",
    "\n",
    "class Solution(object):\n",
    "    def middleNode(self, head):\n",
    "        if head == None:\n",
    "            return None\n",
    "        first = head\n",
    "        second = head\n",
    "        while second != None and second.next != None:\n",
    "            first = first.next\n",
    "            second = second.next.next\n",
    "        return first        "
   ]
  },
  {
   "cell_type": "code",
   "execution_count": 196,
   "metadata": {},
   "outputs": [
    {
     "data": {
      "text/plain": [
       "<__main__.ListNode at 0x1c24743f220>"
      ]
     },
     "execution_count": 196,
     "metadata": {},
     "output_type": "execute_result"
    }
   ],
   "source": [
    "l1 = ListNode(1)\n",
    "l1.next = ListNode(2)\n",
    "l1.next.next = ListNode(3)\n",
    "l1.next.next.next = ListNode(4)\n",
    "l1.next.next.next.next = ListNode(5)\n",
    "l1.next.next.next.next.next = ListNode(6)\n",
    "\n",
    "s = Solution()\n",
    "s.middle(l1)"
   ]
  }
 ],
 "metadata": {
  "kernelspec": {
   "display_name": "Python 3",
   "language": "python",
   "name": "python3"
  },
  "language_info": {
   "codemirror_mode": {
    "name": "ipython",
    "version": 3
   },
   "file_extension": ".py",
   "mimetype": "text/x-python",
   "name": "python",
   "nbconvert_exporter": "python",
   "pygments_lexer": "ipython3",
   "version": "3.9.13"
  }
 },
 "nbformat": 4,
 "nbformat_minor": 2
}
