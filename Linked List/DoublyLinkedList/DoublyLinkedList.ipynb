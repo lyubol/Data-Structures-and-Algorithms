{
 "cells": [
  {
   "cell_type": "markdown",
   "metadata": {},
   "source": [
    "## What is Doubly Linked List?"
   ]
  },
  {
   "cell_type": "markdown",
   "metadata": {},
   "source": [
    "A doubly linked list (DLL) is a special type of linked list in which each node contains a pointer to the previous node as well as the next node of the linked list."
   ]
  },
  {
   "cell_type": "markdown",
   "metadata": {},
   "source": [
    "![My Local Image](DLL1.png)"
   ]
  },
  {
   "cell_type": "markdown",
   "metadata": {},
   "source": [
    "## Creating a Doubly Linked List"
   ]
  },
  {
   "cell_type": "code",
   "execution_count": 4,
   "metadata": {},
   "outputs": [],
   "source": [
    "class Node:\n",
    "    def __init__(self, value=0, next=None, prev=None):\n",
    "        self.value = value\n",
    "        self.next = next\n",
    "        self.prev = prev\n",
    "\n",
    "class DoublyLinkedList:\n",
    "    def __init__(self):\n",
    "        self.head = None\n",
    "        self.tail = None\n",
    "        self.length = 0\n",
    "\n",
    "    def __iter__(self):\n",
    "        current_node = self.head\n",
    "        while current_node != None:\n",
    "            yield current_node\n",
    "            current_node = current_node.next\n",
    "\n",
    "    def createDLL(self, value):\n",
    "        new_node = Node(value)\n",
    "        new_node.next = None\n",
    "        new_node.prev = None\n",
    "        self.head = new_node\n",
    "        self.tail = new_node\n",
    "        self.length += 1\n",
    "        return \"Doubly Linked List is created!\""
   ]
  },
  {
   "cell_type": "code",
   "execution_count": 6,
   "metadata": {},
   "outputs": [
    {
     "name": "stdout",
     "output_type": "stream",
     "text": [
      "[5]\n"
     ]
    }
   ],
   "source": [
    "dllist = DoublyLinkedList()\n",
    "dllist.createDLL(5)\n",
    "print([current_node.value for current_node in dllist])"
   ]
  },
  {
   "cell_type": "markdown",
   "metadata": {},
   "source": [
    "`Time Complexity: O(1)`;\n",
    "\n",
    "`Space Complexity: O(1)`."
   ]
  },
  {
   "cell_type": "markdown",
   "metadata": {},
   "source": [
    "## Insertion"
   ]
  },
  {
   "cell_type": "markdown",
   "metadata": {},
   "source": [
    "### Insertion at the beginning"
   ]
  },
  {
   "cell_type": "code",
   "execution_count": null,
   "metadata": {},
   "outputs": [],
   "source": [
    "def append(self, value):\n",
    "    if self.head == None:\n",
    "        return self.createDLL(value)\n",
    "    else:\n",
    "        new_node = Node(value)\n",
    "        new_node.prev = None\n",
    "        new_node.next = self.head\n",
    "        self.head.prev = new_node\n",
    "        self.head = new_node\n",
    "        self.length += 1"
   ]
  },
  {
   "cell_type": "markdown",
   "metadata": {},
   "source": [
    "`Time Complexity: O(1)`;\n",
    "\n",
    "`Space Complexity: O(1)`."
   ]
  },
  {
   "cell_type": "markdown",
   "metadata": {},
   "source": [
    "### Insertion at the end"
   ]
  },
  {
   "cell_type": "code",
   "execution_count": null,
   "metadata": {},
   "outputs": [],
   "source": [
    "def prepand(self, value):\n",
    "    if self.head == None:\n",
    "        return self.createDLL(value)\n",
    "    else:\n",
    "        new_node = Node(value)\n",
    "        self.tail.next = new_node\n",
    "        new_node.prev = self.tail\n",
    "        new_node.next = None\n",
    "        self.tail = new_node\n",
    "        self.length += 1"
   ]
  },
  {
   "cell_type": "markdown",
   "metadata": {},
   "source": [
    "`Time Complexity: O(1)`;\n",
    "\n",
    "`Space Complexity: O(1)`."
   ]
  },
  {
   "cell_type": "markdown",
   "metadata": {},
   "source": [
    "### Insertion at a given position"
   ]
  },
  {
   "cell_type": "code",
   "execution_count": null,
   "metadata": {},
   "outputs": [],
   "source": [
    "def insert(self, index, value):\n",
    "    if index < 0 or index > self.length:\n",
    "        print(\"Index do not exist!\")\n",
    "    elif self.head == None:\n",
    "        return self.createDLL(value)\n",
    "    elif index == self.length:\n",
    "        return self.prepand(value)\n",
    "    elif index == 0:\n",
    "        return self.append(value)\n",
    "    else:\n",
    "        current_index = 0\n",
    "        current_node = self.head\n",
    "        while current_index != index - 1:\n",
    "            current_index += 1\n",
    "            current_node = current_node.next\n",
    "        new_node = Node(value)\n",
    "        next_node = current_node.next\n",
    "        current_node.next = new_node\n",
    "        new_node.prev = current_node\n",
    "        new_node.next = next_node\n",
    "        next_node.prev = new_node\n",
    "        self.length += 1"
   ]
  },
  {
   "cell_type": "markdown",
   "metadata": {},
   "source": [
    "`Time Complexity: O(n)`;\n",
    "\n",
    "`Space Complexity: O(1)`."
   ]
  },
  {
   "cell_type": "markdown",
   "metadata": {},
   "source": [
    "## Traversal"
   ]
  },
  {
   "cell_type": "code",
   "execution_count": 35,
   "metadata": {},
   "outputs": [],
   "source": [
    "def traverse(self):\n",
    "    if self.head == None:\n",
    "        return None\n",
    "    current_node = self.head\n",
    "    while current_node != None:\n",
    "        print(current_node.value)\n",
    "        current_node = current_node.next"
   ]
  },
  {
   "cell_type": "markdown",
   "metadata": {},
   "source": [
    "`Time Complexity: O(n)`;\n",
    "\n",
    "`Space Complexity: O(1)`."
   ]
  },
  {
   "cell_type": "markdown",
   "metadata": {},
   "source": [
    "## Reverse Traversal"
   ]
  },
  {
   "cell_type": "code",
   "execution_count": null,
   "metadata": {},
   "outputs": [],
   "source": [
    "def reverse_traversal(self):\n",
    "    if self.head == None:\n",
    "        return None\n",
    "    current_node = self.tail\n",
    "    while current_node != None:\n",
    "        print(current_node.value)\n",
    "        current_node = current_node.prev"
   ]
  },
  {
   "cell_type": "markdown",
   "metadata": {},
   "source": [
    "`Time Complexity: O(n)`;\n",
    "\n",
    "`Space Complexity: O(1)`."
   ]
  },
  {
   "cell_type": "markdown",
   "metadata": {},
   "source": [
    "## Searching for an Element"
   ]
  },
  {
   "cell_type": "code",
   "execution_count": null,
   "metadata": {},
   "outputs": [],
   "source": [
    "def search(self, value):\n",
    "    if self.head == None:\n",
    "        return None\n",
    "    current_index = 0\n",
    "    current_node = self.head\n",
    "    while current_node:\n",
    "        if current_node.value == value:\n",
    "            return current_index\n",
    "        current_index += 1\n",
    "        current_node = current_node.next\n",
    "    return None"
   ]
  },
  {
   "cell_type": "markdown",
   "metadata": {},
   "source": [
    "`Time Complexity: O(n)`;\n",
    "\n",
    "`Space Complexity: O(1)`."
   ]
  },
  {
   "cell_type": "markdown",
   "metadata": {},
   "source": [
    "## Deleting an Element at a Given Index"
   ]
  },
  {
   "cell_type": "code",
   "execution_count": 54,
   "metadata": {},
   "outputs": [],
   "source": [
    "def delete(self, index):\n",
    "    # if index out of range\n",
    "    if index < 0 or index >= self.length:\n",
    "        print(\"Index do not exist!\")\n",
    "        return None\n",
    "    # if linked list is empty\n",
    "    if self.head == None:\n",
    "        return None\n",
    "    else:\n",
    "        if index == 0:\n",
    "            if self.length > 1:\n",
    "                self.head = self.head.next\n",
    "                self.head.prev = None\n",
    "            else:\n",
    "                self.head = None\n",
    "                self.tail = None\n",
    "        elif index == self.length - 1:\n",
    "            self.tail = self.tail.prev\n",
    "            self.tail.next = None\n",
    "        else:\n",
    "            current_index = 0\n",
    "            current_node = self.head\n",
    "            while current_node:\n",
    "                if current_index == index:\n",
    "                    current_node_holder = current_node\n",
    "                    current_node.prev.next = current_node_holder.next\n",
    "                    current_node.next.prev = current_node_holder.prev\n",
    "                    current_node.next = None\n",
    "                    current_node.prev = None\n",
    "                current_index += 1\n",
    "                current_node = current_node.next\n",
    "        self.length -= 1"
   ]
  },
  {
   "cell_type": "markdown",
   "metadata": {},
   "source": [
    "`Time Complexity: O(n)`;\n",
    "\n",
    "`Space Complexity: O(1)`."
   ]
  },
  {
   "cell_type": "markdown",
   "metadata": {},
   "source": [
    "## Deleting all Elements"
   ]
  },
  {
   "cell_type": "code",
   "execution_count": null,
   "metadata": {},
   "outputs": [],
   "source": [
    "def delete_all(self):\n",
    "    if self.head == None:\n",
    "        return None\n",
    "    current_node = self.head\n",
    "    while current_node != self.tail:\n",
    "        current_node = current_node.next\n",
    "        current_node.prev = None\n",
    "    self.head = None\n",
    "    self.tail = None"
   ]
  },
  {
   "cell_type": "markdown",
   "metadata": {},
   "source": [
    "`Time Complexity: O(n)`;\n",
    "\n",
    "`Space Complexity: O(1)`."
   ]
  },
  {
   "cell_type": "markdown",
   "metadata": {},
   "source": [
    "## Time and Space Complexity of Doubly Linked Lists"
   ]
  },
  {
   "cell_type": "markdown",
   "metadata": {},
   "source": [
    "| `Operation`                                   | `Time Complexity`                     | `Space complexity`                    |\n",
    "| --------------------------------------------- | ------------------------------------- | ------------------------------------- |\n",
    "| Create                                        | O(1)                                  | O(1)                                  |\n",
    "| Insert                                        | O(n)                                  | O(1)                                  |\n",
    "| Search                                        | O(n)                                  | O(1)                                  |\n",
    "| Traverse (forward, backward)                  | O(n)                                  | O(1)                                  |\n",
    "| Delete a node                                 | O(n)                                  | O(1)                                  |\n",
    "| Delete all nodes                              | O(n)                                  | O(1)                                  |"
   ]
  },
  {
   "cell_type": "markdown",
   "metadata": {},
   "source": [
    "## Implementating All Methods"
   ]
  },
  {
   "cell_type": "code",
   "execution_count": 63,
   "metadata": {},
   "outputs": [],
   "source": [
    "class Node:\n",
    "    def __init__(self, value=0, next=None, prev=None):\n",
    "        self.value = value\n",
    "        self.next = next\n",
    "        self.prev = prev\n",
    "\n",
    "class DoublyLinkedList:\n",
    "    def __init__(self):\n",
    "        self.head = None\n",
    "        self.tail = None\n",
    "        self.length = 0\n",
    "\n",
    "    def __iter__(self):\n",
    "        current_node = self.head\n",
    "        while current_node != None:\n",
    "            yield current_node\n",
    "            current_node = current_node.next\n",
    "\n",
    "    def createDLL(self, value):\n",
    "        new_node = Node(value)\n",
    "        new_node.next = None\n",
    "        new_node.prev = None\n",
    "        self.head = new_node\n",
    "        self.tail = new_node\n",
    "        self.length = 1\n",
    "        return \"Doubly Linked List is created!\"\n",
    "    \n",
    "    def append(self, value):\n",
    "        if self.head == None:\n",
    "            return self.createDLL(value)\n",
    "        else:\n",
    "            new_node = Node(value)\n",
    "            new_node.prev = None\n",
    "            new_node.next = self.head\n",
    "            self.head.prev = new_node\n",
    "            self.head = new_node\n",
    "            self.length += 1\n",
    "\n",
    "    def prepand(self, value):\n",
    "        if self.head == None:\n",
    "            return self.createDLL(value)\n",
    "        else:\n",
    "            new_node = Node(value)\n",
    "            self.tail.next = new_node\n",
    "            new_node.prev = self.tail\n",
    "            new_node.next = None\n",
    "            self.tail = new_node\n",
    "            self.length += 1\n",
    "\n",
    "    def insert(self, index, value):\n",
    "        if index < 0 or index > self.length:\n",
    "            print(\"Index do not exist!\")\n",
    "            return None\n",
    "        elif self.head == None:\n",
    "            return self.createDLL(value)\n",
    "        elif index == self.length:\n",
    "            return self.prepand(value)\n",
    "        elif index == 0:\n",
    "            return self.append(value)\n",
    "        else:\n",
    "            current_index = 0\n",
    "            current_node = self.head\n",
    "            while current_index != index - 1:\n",
    "                current_index += 1\n",
    "                current_node = current_node.next\n",
    "            new_node = Node(value)\n",
    "            next_node = current_node.next\n",
    "            current_node.next = new_node\n",
    "            new_node.prev = current_node\n",
    "            new_node.next = next_node\n",
    "            next_node.prev = new_node\n",
    "            self.length += 1\n",
    "\n",
    "    def traverse(self):\n",
    "        if self.head == None:\n",
    "            return None\n",
    "        current_node = self.head\n",
    "        while current_node != None:\n",
    "            print(current_node.value)\n",
    "            current_node = current_node.next\n",
    "\n",
    "    def reverse_traversal(self):\n",
    "        if self.head == None:\n",
    "            return None\n",
    "        current_node = self.tail\n",
    "        while current_node != None:\n",
    "            print(current_node.value)\n",
    "            current_node = current_node.prev\n",
    "\n",
    "    def search(self, value):\n",
    "        if self.head == None:\n",
    "            return None\n",
    "        current_index = 0\n",
    "        current_node = self.head\n",
    "        while current_node:\n",
    "            if current_node.value == value:\n",
    "                return current_index\n",
    "            current_index += 1\n",
    "            current_node = current_node.next\n",
    "        return None\n",
    "    \n",
    "    def delete(self, index):\n",
    "        # if index out of range\n",
    "        if index < 0 or index >= self.length:\n",
    "            print(\"Index do not exist!\")\n",
    "            return None\n",
    "        # if linked list is empty\n",
    "        if self.head == None:\n",
    "            return None\n",
    "        else:\n",
    "            if index == 0:\n",
    "                if self.length > 1:\n",
    "                    self.head = self.head.next\n",
    "                    self.head.prev = None\n",
    "                else:\n",
    "                    self.head = None\n",
    "                    self.tail = None\n",
    "            elif index == self.length - 1:\n",
    "                self.tail = self.tail.prev\n",
    "                self.tail.next = None\n",
    "            else:\n",
    "                current_index = 0\n",
    "                current_node = self.head\n",
    "                while current_node:\n",
    "                    if current_index == index:\n",
    "                        current_node_holder = current_node\n",
    "                        current_node.prev.next = current_node_holder.next\n",
    "                        current_node.next.prev = current_node_holder.prev\n",
    "                        current_node.next = None\n",
    "                        current_node.prev = None\n",
    "                    current_index += 1\n",
    "                    current_node = current_node.next\n",
    "            self.length -= 1\n",
    "\n",
    "    def delete_all(self):\n",
    "        if self.head == None:\n",
    "            return None\n",
    "        current_node = self.head\n",
    "        while current_node != self.tail:\n",
    "            current_node = current_node.next\n",
    "            current_node.prev = None\n",
    "        self.head = None\n",
    "        self.tail = None"
   ]
  },
  {
   "cell_type": "markdown",
   "metadata": {},
   "source": [
    "## Sample Execution"
   ]
  },
  {
   "cell_type": "code",
   "execution_count": 48,
   "metadata": {},
   "outputs": [
    {
     "name": "stdout",
     "output_type": "stream",
     "text": [
      "13\n",
      "10\n",
      "[7, 10, 13]\n"
     ]
    }
   ],
   "source": [
    "dllist = DoublyLinkedList()\n",
    "dllist.append(13)\n",
    "print([current_node.value for current_node in dllist])"
   ]
  },
  {
   "cell_type": "code",
   "execution_count": 65,
   "metadata": {},
   "outputs": [
    {
     "name": "stdout",
     "output_type": "stream",
     "text": [
      "\n",
      "1. Create a linked list:\n",
      "head:       <__main__.Node object at 0x000002179793AA00>\n",
      "tail:       <__main__.Node object at 0x000002179793AA00>\n",
      "head.next:  None\n",
      "tail.next:  None\n",
      "length:     1\n",
      "\n",
      "2. Append to linked list:\n",
      "head:       <__main__.Node object at 0x000002179891AA00>\n",
      "tail:       <__main__.Node object at 0x000002179793AA00>\n",
      "head.next:  <__main__.Node object at 0x000002179793AA00>\n",
      "tail.next:  None\n",
      "length:     2\n",
      "\n",
      "3. Prepand to linked list:\n",
      "head:       <__main__.Node object at 0x000002179891AA00>\n",
      "tail:       <__main__.Node object at 0x0000021798B49F70>\n",
      "head.next:  <__main__.Node object at 0x000002179793AA00>\n",
      "tail.next:  None\n",
      "length:     3\n",
      "\n",
      "4. Insert to linked list:\n",
      "head:       <__main__.Node object at 0x000002179891AA00>\n",
      "tail:       <__main__.Node object at 0x0000021798B49F70>\n",
      "head.next:  <__main__.Node object at 0x000002179793AA00>\n",
      "tail.next:  None\n",
      "length:     4\n",
      "\n",
      "5. Traverse the linked list:\n",
      "3\n",
      "5\n",
      "6\n",
      "7\n",
      "\n",
      "6. Traverse (reverse order) the linked list:\n",
      "7\n",
      "6\n",
      "5\n",
      "3\n",
      "\n",
      "7. Search for an element in linked list:\n",
      "2\n",
      "\n",
      "8. Delete an element in linked list:\n",
      "\n",
      "9. Print the linked list:\n",
      "[3, 5, 7]\n",
      "\n",
      "8. Delete all elements in the linked list:\n",
      "\n",
      "11. Print the linked list:\n",
      "[]\n",
      "None\n"
     ]
    }
   ],
   "source": [
    "dllist = DoublyLinkedList()\n",
    "\n",
    "print(\"\\n1. Create a linked list:\")\n",
    "dllist.createDLL(5)\n",
    "print(f\"head:       {dllist.head}\")\n",
    "print(f\"tail:       {dllist.tail}\")\n",
    "print(f\"head.next:  {dllist.head.next}\")\n",
    "print(f\"tail.next:  {dllist.tail.next}\")\n",
    "print(f\"length:     {dllist.length}\")\n",
    "\n",
    "print(\"\\n2. Append to linked list:\")\n",
    "dllist.append(3)\n",
    "print(f\"head:       {dllist.head}\")\n",
    "print(f\"tail:       {dllist.tail}\")\n",
    "print(f\"head.next:  {dllist.head.next}\")\n",
    "print(f\"tail.next:  {dllist.tail.next}\")\n",
    "print(f\"length:     {dllist.length}\")\n",
    "\n",
    "print(\"\\n3. Prepand to linked list:\")\n",
    "dllist.prepand(7)\n",
    "print(f\"head:       {dllist.head}\")\n",
    "print(f\"tail:       {dllist.tail}\")\n",
    "print(f\"head.next:  {dllist.head.next}\")\n",
    "print(f\"tail.next:  {dllist.tail.next}\")\n",
    "print(f\"length:     {dllist.length}\")\n",
    "\n",
    "print(\"\\n4. Insert to linked list:\")\n",
    "dllist.insert(2, 6)\n",
    "print(f\"head:       {dllist.head}\")\n",
    "print(f\"tail:       {dllist.tail}\")\n",
    "print(f\"head.next:  {dllist.head.next}\")\n",
    "print(f\"tail.next:  {dllist.tail.next}\")\n",
    "print(f\"length:     {dllist.length}\")\n",
    "\n",
    "print(\"\\n5. Traverse the linked list:\")\n",
    "dllist.traverse()\n",
    "\n",
    "print(\"\\n6. Traverse (reverse order) the linked list:\")\n",
    "dllist.reverse_traversal()\n",
    "\n",
    "print(\"\\n7. Search for an element in linked list:\")\n",
    "print(dllist.search(6))\n",
    "\n",
    "print(\"\\n8. Delete an element in linked list:\")\n",
    "dllist.delete(2)\n",
    "\n",
    "print(\"\\n9. Print the linked list:\")\n",
    "print([current_node.value for current_node in dllist])\n",
    "\n",
    "print(\"\\n8. Delete all elements in the linked list:\")\n",
    "dllist.delete_all()\n",
    "\n",
    "print(\"\\n11. Print the linked list:\")\n",
    "print([current_node.value for current_node in dllist])"
   ]
  },
  {
   "cell_type": "code",
   "execution_count": null,
   "metadata": {},
   "outputs": [],
   "source": []
  }
 ],
 "metadata": {
  "kernelspec": {
   "display_name": "Python 3",
   "language": "python",
   "name": "python3"
  },
  "language_info": {
   "codemirror_mode": {
    "name": "ipython",
    "version": 3
   },
   "file_extension": ".py",
   "mimetype": "text/x-python",
   "name": "python",
   "nbconvert_exporter": "python",
   "pygments_lexer": "ipython3",
   "version": "3.9.13"
  }
 },
 "nbformat": 4,
 "nbformat_minor": 2
}
