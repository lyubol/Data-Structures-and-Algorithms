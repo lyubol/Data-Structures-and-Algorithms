{
 "cells": [
  {
   "cell_type": "markdown",
   "metadata": {},
   "source": [
    "# Linked List Interview Questions"
   ]
  },
  {
   "cell_type": "markdown",
   "metadata": {},
   "source": [
    "Create class Node and class LinkedList, which will be used in all questions below."
   ]
  },
  {
   "cell_type": "code",
   "execution_count": 4,
   "metadata": {},
   "outputs": [],
   "source": [
    "from random import randint"
   ]
  },
  {
   "cell_type": "code",
   "execution_count": 10,
   "metadata": {},
   "outputs": [],
   "source": [
    "class Node:\n",
    "    def __init__(self, value, next=None, prev=None):\n",
    "        self.value = value\n",
    "        self.next = next\n",
    "        self.prev = prev\n",
    "\n",
    "    def __str__(self):\n",
    "        return str(self.value)\n",
    "\n",
    "class LinkedList:\n",
    "    def __init__(self):\n",
    "        self.head = None\n",
    "        self.tail = None\n",
    "\n",
    "    def __iter__(self):\n",
    "        current_node = self.head\n",
    "        while current_node:\n",
    "            yield(current_node)\n",
    "            current_node = current_node.next\n",
    "\n",
    "    def __str__(self):\n",
    "        values = [str(i.value) for i in self]\n",
    "        return ' -> '.join(values)\n",
    "\n",
    "    def __len__(self):\n",
    "        length = 0\n",
    "        current_node = self.head\n",
    "        while current_node:\n",
    "            length += 1\n",
    "            current_node = current_node.next\n",
    "        return length\n",
    "    \n",
    "    def add(self, value):\n",
    "        new_node = Node(value)\n",
    "        if self.head == None:\n",
    "            self.head = new_node\n",
    "            self.tail = new_node\n",
    "        else:\n",
    "            self.tail.next = new_node\n",
    "            new_node.prev = self.tail\n",
    "            self.tail = new_node\n",
    "        return self.tail\n",
    "\n",
    "    def generate(self, length, min_value, max_value):\n",
    "        self.head = None\n",
    "        self.tail = None\n",
    "        for i in range(length):\n",
    "            self.add(randint(min_value, max_value))\n",
    "        return self\n",
    "    \n",
    "    def remove_duplicates(ll):\n",
    "        if ll.head is None:\n",
    "            return\n",
    "        current_node = ll.head\n",
    "        prev_node = None\n",
    "        while current_node:\n",
    "            runner = current_node\n",
    "            while runner.next:\n",
    "                if runner.next.value == current_node.value:\n",
    "                    runner.next = runner.next.next\n",
    "                else:\n",
    "                    runner = runner.next\n",
    "            prev_node = current_node\n",
    "            current_node = current_node.next\n",
    "        ll.tail = prev_node  \n",
    "        return ll.head\n",
    "    \n",
    "    def remove_duplicates2(self):\n",
    "        if self.head == None:\n",
    "            return None\n",
    "        seen = set()\n",
    "        current_node = self.head\n",
    "        while current_node:\n",
    "            if current_node.value not in seen:\n",
    "                seen.add(current_node.value)\n",
    "            else:\n",
    "                if current_node == self.head:\n",
    "                    self.head = current_node.next\n",
    "                    self.head.prev = None\n",
    "                elif current_node == self.tail:\n",
    "                    self.tail = self.tail.prev\n",
    "                    self.tail.next = None\n",
    "                else:\n",
    "                    current_node.prev.next = current_node.next\n",
    "                    current_node.next.prev = current_node.prev\n",
    "            current_node = current_node.next"
   ]
  },
  {
   "cell_type": "code",
   "execution_count": 11,
   "metadata": {},
   "outputs": [
    {
     "name": "stdout",
     "output_type": "stream",
     "text": [
      "Generated list:     1 -> 3 -> 3\n",
      "Duplicates removed: 1 -> 3\n",
      "1\n",
      "3\n",
      "None\n",
      "\n",
      "3\n",
      "None\n",
      "1\n"
     ]
    }
   ],
   "source": [
    "customll = LinkedList()\n",
    "# customll.generate(2, 0, 99)\n",
    "customll.add(1)\n",
    "customll.add(3)\n",
    "customll.add(3)\n",
    "print(f\"Generated list:     {customll}\")\n",
    "# print(len(customll))\n",
    "customll.remove_duplicates()\n",
    "print(f\"Duplicates removed: {customll}\")\n",
    "print(customll.head.value)\n",
    "print(customll.head.next.value)\n",
    "print(customll.head.prev)\n",
    "print()\n",
    "print(customll.tail.value)\n",
    "print(customll.tail.next)\n",
    "print(customll.tail.prev.value)"
   ]
  },
  {
   "cell_type": "code",
   "execution_count": 12,
   "metadata": {},
   "outputs": [
    {
     "name": "stdout",
     "output_type": "stream",
     "text": [
      "Generated list:     23 -> 35 -> 32 -> 51 -> 51 -> 63 -> 81 -> 89 -> 89 -> 74\n"
     ]
    }
   ],
   "source": [
    "customll = LinkedList()\n",
    "customll.generate(10, 0, 99)\n",
    "print(f\"Generated list:     {customll}\")\n",
    "# print(len(customll))\n",
    "customll.remove_duplicates2()\n",
    "print(f\"Duplicates removed: {customll}\")"
   ]
  },
  {
   "cell_type": "markdown",
   "metadata": {},
   "source": [
    "## 1. Remove duplicates from an unsorted linked list"
   ]
  },
  {
   "cell_type": "code",
   "execution_count": null,
   "metadata": {},
   "outputs": [],
   "source": [
    "def remove_duplicates(ll):\n",
    "    if ll.head is None:\n",
    "        return\n",
    "    current_node = ll.head\n",
    "    prev_node = None\n",
    "    while current_node:\n",
    "        runner = current_node\n",
    "        while runner.next:\n",
    "            if runner.next.value == current_node.value:\n",
    "                runner.next = runner.next.next\n",
    "            else:\n",
    "                runner = runner.next\n",
    "        prev_node = current_node\n",
    "        current_node = current_node.next\n",
    "    ll.tail = prev_node  \n",
    "    return ll.head"
   ]
  },
  {
   "cell_type": "markdown",
   "metadata": {},
   "source": [
    "`Time Complexity: O(log n)` - due to the nested while loops;\n",
    "\n",
    "`Space Complexity: O(1)`."
   ]
  },
  {
   "cell_type": "markdown",
   "metadata": {},
   "source": [
    "## 2. Return Kth to Last"
   ]
  },
  {
   "cell_type": "code",
   "execution_count": null,
   "metadata": {},
   "outputs": [],
   "source": [
    "# Method 1: using 2 pointers\n",
    "def kth_to_last(self, index):\n",
    "    pointer1 = self.head\n",
    "    pointer2 = self.head\n",
    "    current_index = 0\n",
    "    while current_index != index:\n",
    "        current_index += 1\n",
    "        pointer2 = pointer2.next\n",
    "    while pointer2:\n",
    "        pointer1 = pointer1.next\n",
    "        pointer2 = pointer2.next\n",
    "    return pointer1.value\n",
    "\n",
    "# Method 2: find the length of the list and iterate it until you reach the kth element from the end\n",
    "def kth_to_last(self, index):\n",
    "    length = 0\n",
    "    current_node = self.head\n",
    "    while current_node:\n",
    "        length += 1\n",
    "        current_node = current_node.next\n",
    "    current_index = 0\n",
    "    current_node = self.head\n",
    "    while current_index != length - (index  - 1):\n",
    "        current_node = current_node.next\n",
    "        current_index += 1\n",
    "    return current_node.value"
   ]
  },
  {
   "cell_type": "markdown",
   "metadata": {},
   "source": [
    "`Time Complexity: O(n)`;\n",
    "\n",
    "`Space Complexity: O(1)`."
   ]
  },
  {
   "cell_type": "markdown",
   "metadata": {},
   "source": [
    "## 3. Partition"
   ]
  },
  {
   "cell_type": "markdown",
   "metadata": {},
   "source": [
    "Write code to partition a linked list around a value x, such that all nodes less than x come before all nodes greater than or equal to x."
   ]
  },
  {
   "cell_type": "code",
   "execution_count": null,
   "metadata": {},
   "outputs": [],
   "source": []
  },
  {
   "cell_type": "code",
   "execution_count": 35,
   "metadata": {},
   "outputs": [],
   "source": [
    "class Node:\n",
    "    def __init__(self, value):\n",
    "        self.value = value\n",
    "        self.next = None\n",
    "\n",
    "class LinkedList:\n",
    "    def __init__(self, value):\n",
    "        new_node = Node(value)\n",
    "        self.head = new_node\n",
    "        self.tail = new_node\n",
    "        self.length = 1\n",
    "\n",
    "    def __str__(self):\n",
    "        elements = ''\n",
    "        current_node = self.head\n",
    "        while current_node != None:\n",
    "            elements += str(current_node.value)\n",
    "            if current_node.next != None:\n",
    "                elements += ' -> '\n",
    "            current_node = current_node.next\n",
    "        return elements\n",
    "\n",
    "    def insertAtEnd(self, value):\n",
    "        new_node = Node(value)\n",
    "        if self.head == None:\n",
    "            self.head = new_node\n",
    "            self.tail = new_node\n",
    "        else:\n",
    "            self.tail.next = new_node\n",
    "            self.tail = new_node\n",
    "        self.length += 1\n",
    "\n",
    "    def kth_to_last(self, index):\n",
    "        length = 0\n",
    "        current_node = self.head\n",
    "        while current_node:\n",
    "            length += 1\n",
    "            current_node = current_node.next\n",
    "        current_index = 0\n",
    "        current_node = self.head\n",
    "        while current_index != length - index:\n",
    "            current_node = current_node.next\n",
    "            current_index += 1\n",
    "        return current_node.value\n",
    "    \n",
    "    def kth_to_last2(self, index):\n",
    "        pointer1 = self.head\n",
    "        pointer2 = self.head\n",
    "        current_index = 0\n",
    "        while current_index != index:\n",
    "            current_index += 1\n",
    "            pointer2 = pointer2.next\n",
    "        while pointer2:\n",
    "            pointer1 = pointer1.next\n",
    "            pointer2 = pointer2.next\n",
    "        return pointer1.value\n",
    "    \n",
    "    def partition(self, x):\n",
    "        current_node = self.head\n",
    "        new_list = LinkedList(self.head)\n",
    "        while current_node:\n",
    "            if current_node.value < x:\n",
    "                current_head = new_list.head\n",
    "                new_list.head = current_node\n",
    "                new_list.head.next = current_head\n",
    "            else:\n",
    "                new_list.tail.next = current_node\n",
    "                new_list.tail = current_node          \n",
    "            current_node = current_node.next\n",
    "        return new_list"
   ]
  },
  {
   "cell_type": "code",
   "execution_count": 36,
   "metadata": {},
   "outputs": [
    {
     "name": "stdout",
     "output_type": "stream",
     "text": [
      "11 -> 3 -> 9 -> 10 -> 15\n"
     ]
    },
    {
     "ename": "TypeError",
     "evalue": "int() argument must be a string, a bytes-like object or a number, not 'Node'",
     "output_type": "error",
     "traceback": [
      "\u001b[1;31m---------------------------------------------------------------------------\u001b[0m",
      "\u001b[1;31mTypeError\u001b[0m                                 Traceback (most recent call last)",
      "\u001b[1;32mc:\\Users\\L_L\\Documents\\GitHub Repositories\\Data-Structures-and-Algorithms\\Linked List\\Linked List Interview Questions\\LinkedListInterviewQuestions.ipynb Cell 17\u001b[0m line \u001b[0;36m<cell line: 9>\u001b[1;34m()\u001b[0m\n\u001b[0;32m      <a href='vscode-notebook-cell:/c%3A/Users/L_L/Documents/GitHub%20Repositories/Data-Structures-and-Algorithms/Linked%20List/Linked%20List%20Interview%20Questions/LinkedListInterviewQuestions.ipynb#X25sZmlsZQ%3D%3D?line=5'>6</a>\u001b[0m \u001b[39mprint\u001b[39m(ll)\n\u001b[0;32m      <a href='vscode-notebook-cell:/c%3A/Users/L_L/Documents/GitHub%20Repositories/Data-Structures-and-Algorithms/Linked%20List/Linked%20List%20Interview%20Questions/LinkedListInterviewQuestions.ipynb#X25sZmlsZQ%3D%3D?line=7'>8</a>\u001b[0m \u001b[39m# ll.kth_to_last2(2)\u001b[39;00m\n\u001b[1;32m----> <a href='vscode-notebook-cell:/c%3A/Users/L_L/Documents/GitHub%20Repositories/Data-Structures-and-Algorithms/Linked%20List/Linked%20List%20Interview%20Questions/LinkedListInterviewQuestions.ipynb#X25sZmlsZQ%3D%3D?line=8'>9</a>\u001b[0m ll\u001b[39m.\u001b[39;49mpartition(\u001b[39m10\u001b[39;49m)\n",
      "\u001b[1;32mc:\\Users\\L_L\\Documents\\GitHub Repositories\\Data-Structures-and-Algorithms\\Linked List\\Linked List Interview Questions\\LinkedListInterviewQuestions.ipynb Cell 17\u001b[0m line \u001b[0;36mLinkedList.partition\u001b[1;34m(self, x)\u001b[0m\n\u001b[0;32m     <a href='vscode-notebook-cell:/c%3A/Users/L_L/Documents/GitHub%20Repositories/Data-Structures-and-Algorithms/Linked%20List/Linked%20List%20Interview%20Questions/LinkedListInterviewQuestions.ipynb#X25sZmlsZQ%3D%3D?line=59'>60</a>\u001b[0m new_list \u001b[39m=\u001b[39m LinkedList(\u001b[39mself\u001b[39m\u001b[39m.\u001b[39mhead)\n\u001b[0;32m     <a href='vscode-notebook-cell:/c%3A/Users/L_L/Documents/GitHub%20Repositories/Data-Structures-and-Algorithms/Linked%20List/Linked%20List%20Interview%20Questions/LinkedListInterviewQuestions.ipynb#X25sZmlsZQ%3D%3D?line=60'>61</a>\u001b[0m \u001b[39mwhile\u001b[39;00m current_node:\n\u001b[1;32m---> <a href='vscode-notebook-cell:/c%3A/Users/L_L/Documents/GitHub%20Repositories/Data-Structures-and-Algorithms/Linked%20List/Linked%20List%20Interview%20Questions/LinkedListInterviewQuestions.ipynb#X25sZmlsZQ%3D%3D?line=61'>62</a>\u001b[0m     \u001b[39mif\u001b[39;00m \u001b[39mint\u001b[39;49m(current_node\u001b[39m.\u001b[39;49mvalue) \u001b[39m<\u001b[39m x:\n\u001b[0;32m     <a href='vscode-notebook-cell:/c%3A/Users/L_L/Documents/GitHub%20Repositories/Data-Structures-and-Algorithms/Linked%20List/Linked%20List%20Interview%20Questions/LinkedListInterviewQuestions.ipynb#X25sZmlsZQ%3D%3D?line=62'>63</a>\u001b[0m         current_head \u001b[39m=\u001b[39m new_list\u001b[39m.\u001b[39mhead\n\u001b[0;32m     <a href='vscode-notebook-cell:/c%3A/Users/L_L/Documents/GitHub%20Repositories/Data-Structures-and-Algorithms/Linked%20List/Linked%20List%20Interview%20Questions/LinkedListInterviewQuestions.ipynb#X25sZmlsZQ%3D%3D?line=63'>64</a>\u001b[0m         new_list\u001b[39m.\u001b[39mhead \u001b[39m=\u001b[39m current_node\n",
      "\u001b[1;31mTypeError\u001b[0m: int() argument must be a string, a bytes-like object or a number, not 'Node'"
     ]
    }
   ],
   "source": [
    "ll = LinkedList(11)\n",
    "ll.insertAtEnd(3)\n",
    "ll.insertAtEnd(9)\n",
    "ll.insertAtEnd(10)\n",
    "ll.insertAtEnd(15)\n",
    "print(ll)\n",
    "\n",
    "# ll.kth_to_last2(2)\n",
    "ll.partition(10)"
   ]
  },
  {
   "cell_type": "code",
   "execution_count": 23,
   "metadata": {},
   "outputs": [
    {
     "name": "stdout",
     "output_type": "stream",
     "text": [
      "3\n"
     ]
    }
   ],
   "source": [
    "new_list = LinkedList(3)\n",
    "print(new_list.head.value)"
   ]
  },
  {
   "cell_type": "code",
   "execution_count": 32,
   "metadata": {},
   "outputs": [],
   "source": [
    "def partition(self, x):\n",
    "    current_node = self.head\n",
    "    new_list = LinkedList(self.head)\n",
    "    while current_node:\n",
    "        if current_node.value < x:\n",
    "            current_head = new_list.head\n",
    "            new_list.head = current_node\n",
    "            new_list.head.next = current_head\n",
    "        else:\n",
    "            new_list.tail.next = current_node\n",
    "            new_list.tail = current_node          \n",
    "        current_node = current_node.next\n",
    "    return new_list"
   ]
  },
  {
   "cell_type": "code",
   "execution_count": null,
   "metadata": {},
   "outputs": [],
   "source": []
  }
 ],
 "metadata": {
  "kernelspec": {
   "display_name": "Python 3",
   "language": "python",
   "name": "python3"
  },
  "language_info": {
   "codemirror_mode": {
    "name": "ipython",
    "version": 3
   },
   "file_extension": ".py",
   "mimetype": "text/x-python",
   "name": "python",
   "nbconvert_exporter": "python",
   "pygments_lexer": "ipython3",
   "version": "3.9.13"
  }
 },
 "nbformat": 4,
 "nbformat_minor": 2
}
