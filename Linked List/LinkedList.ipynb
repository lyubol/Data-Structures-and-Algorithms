{
 "cells": [
  {
   "cell_type": "markdown",
   "metadata": {},
   "source": [
    "# What is a Linked List?"
   ]
  },
  {
   "cell_type": "markdown",
   "metadata": {},
   "source": [
    "A linked list is a linear data structure, in which the elements are not stored at contiguous memory locations. It is made up of independent nodes, which may contain any type of data. Each node has a reference to the next one in the link, as shown in the below image."
   ]
  },
  {
   "cell_type": "markdown",
   "metadata": {},
   "source": [
    "![My Local Image](Linked-List-Data-Structure.png)"
   ]
  },
  {
   "cell_type": "markdown",
   "metadata": {},
   "source": [
    "## Linked Lists vs. Lists / Arrays"
   ]
  },
  {
   "cell_type": "markdown",
   "metadata": {},
   "source": [
    "Lists are built-in data structures in Python that store a collection of elements in contiguous memory. They are indexed using integers and support operations such as appending, inserting, and removing elements. Linked lists are dynamic data structures that consist of a sequence of nodes, each containing an element and a reference to the next node in the sequence. They are not indexed using integers and support operations such as adding and removing nodes. Lists are generally more efficient for accessing elements by index, while linked lists are more efficient for inserting or removing elements in the middle of the list."
   ]
  },
  {
   "cell_type": "markdown",
   "metadata": {},
   "source": [
    "## Types of Linked Lists"
   ]
  },
  {
   "cell_type": "markdown",
   "metadata": {},
   "source": [
    "### 1. Singly Linked Lists"
   ]
  },
  {
   "cell_type": "markdown",
   "metadata": {},
   "source": [
    "Singly Linked List: A singly linked list is a data structure that consists of a sequence of nodes, each containing an element and a reference to the next node in the sequence. The last node in the sequence has a reference to `None`. Singly linked lists are simple and efficient, but they can be slow for certain operations, such as finding the last node in the list."
   ]
  },
  {
   "cell_type": "markdown",
   "metadata": {},
   "source": [
    "### 2. Circular Singly Linked List"
   ]
  },
  {
   "cell_type": "markdown",
   "metadata": {},
   "source": [
    "Circular Singly Linked List: A circular singly linked list is a singly linked list in which the last node in the sequence has a reference to the first node in the sequence, creating a circular structure. Circular singly linked lists can be useful for certain applications, such as implementing a circular buffer."
   ]
  },
  {
   "cell_type": "markdown",
   "metadata": {},
   "source": [
    "### 3. Doubly Linked List"
   ]
  },
  {
   "cell_type": "markdown",
   "metadata": {},
   "source": [
    "Doubly Linked List: A doubly linked list is a data structure that consists of a sequence of nodes, each containing an element, a reference to the next node in the sequence, and a reference to the previous node in the sequence. The first node in the sequence has a reference to `None` for the previous node, and the last node in the sequence has a reference to `None` for the next node. Doubly linked lists are more complex than singly linked lists, but they can be more efficient for certain operations, such as finding the last node in the list or traversing the list in reverse order."
   ]
  },
  {
   "cell_type": "markdown",
   "metadata": {},
   "source": [
    "### 4. Circular Doubly Linked List"
   ]
  },
  {
   "cell_type": "markdown",
   "metadata": {},
   "source": [
    "Circular Doubly Linked List: A circular doubly linked list is a doubly linked list in which the last node in the sequence has a reference to the first node in the sequence, and the first node in the sequence has a reference to the last node in the sequence, creating a circular structure. Circular doubly linked lists can be useful for certain applications, such as implementing a circular buffer with bidirectional access."
   ]
  },
  {
   "cell_type": "markdown",
   "metadata": {},
   "source": [
    "## Linked Lists in Memory"
   ]
  },
  {
   "cell_type": "markdown",
   "metadata": {},
   "source": [
    "![My Local Image](linkedlistmemoryallocation.jpg)"
   ]
  },
  {
   "cell_type": "markdown",
   "metadata": {},
   "source": [
    "The random allocation of memory allows us to add as many nodes as required, since the lenght of the linked list does not need to be specified at the time of declaration. It allows dynamic resizing at runtime.\n",
    "\n",
    "Because of the random allocation, we can't directly access a given element in the list. We have to traverse the linked list, starting from the head node, to find the element we are looking for, which is one of the disadvantages of linked lists."
   ]
  },
  {
   "cell_type": "markdown",
   "metadata": {},
   "source": [
    "## Node Class Constructor"
   ]
  },
  {
   "cell_type": "code",
   "execution_count": 6,
   "metadata": {},
   "outputs": [
    {
     "name": "stdout",
     "output_type": "stream",
     "text": [
      "<__main__.Node object at 0x000001C429B71CA0>\n"
     ]
    }
   ],
   "source": [
    "class Node:\n",
    "\n",
    "    def __init__(self, value):\n",
    "        self.value = value\n",
    "        self.next = None\n",
    "\n",
    "new_node = Node(10)\n",
    "print(new_node)"
   ]
  },
  {
   "cell_type": "markdown",
   "metadata": {},
   "source": [
    "`Time Complexity: O(1)`;\n",
    "\n",
    "`Space Complexity: O(1)`."
   ]
  },
  {
   "cell_type": "markdown",
   "metadata": {},
   "source": [
    "## Linked List Constructor"
   ]
  },
  {
   "cell_type": "code",
   "execution_count": null,
   "metadata": {},
   "outputs": [],
   "source": [
    "class LinkedList:\n",
    "\n",
    "    def __init__(self, value):\n",
    "       new_node = Node(value)\n",
    "       self.head = new_node\n",
    "       self.tail = new_node\n",
    "\n",
    "\n",
    "# class EmptyLinkedList:\n",
    "\n",
    "#     def __init__(self):\n",
    "#         self.head = None\n",
    "#         self.tail = None\n",
    "#         self.length = 0"
   ]
  },
  {
   "cell_type": "markdown",
   "metadata": {},
   "source": [
    "`Time Complexity: O(1)`;\n",
    "\n",
    "`Space Complexity: O(1)`."
   ]
  },
  {
   "cell_type": "markdown",
   "metadata": {},
   "source": [
    "## Insertion to Linked List"
   ]
  },
  {
   "cell_type": "markdown",
   "metadata": {},
   "source": [
    "### 1. Insertion at the Beginning"
   ]
  },
  {
   "cell_type": "code",
   "execution_count": null,
   "metadata": {},
   "outputs": [],
   "source": [
    "def insertAtBegin(self, value):\n",
    "    new_node = Node(value)\n",
    "    if self.head == None:\n",
    "        self.head = new_node\n",
    "        self.tail = new_node\n",
    "    else:\n",
    "        new_node.next = self.head\n",
    "        self.head = new_node\n",
    "    self.length += 1"
   ]
  },
  {
   "cell_type": "markdown",
   "metadata": {},
   "source": [
    "### 2. Insertion at the Middle"
   ]
  },
  {
   "cell_type": "code",
   "execution_count": null,
   "metadata": {},
   "outputs": [],
   "source": []
  },
  {
   "cell_type": "markdown",
   "metadata": {},
   "source": [
    "### 3. Insertion at the End"
   ]
  },
  {
   "cell_type": "code",
   "execution_count": null,
   "metadata": {},
   "outputs": [],
   "source": [
    "def insertAtEnd(self, value):\n",
    "    new_node = Node(value)\n",
    "    if self.head == None:\n",
    "        self.head = new_node\n",
    "        self.tail = new_node\n",
    "    else:\n",
    "        self.tail.next = new_node\n",
    "        self.tail = new_node\n",
    "    self.length += 1"
   ]
  },
  {
   "cell_type": "markdown",
   "metadata": {},
   "source": [
    "## Print Linked List Elements"
   ]
  },
  {
   "cell_type": "code",
   "execution_count": 71,
   "metadata": {},
   "outputs": [],
   "source": [
    "def __str__(self):\n",
    "    elements = ''\n",
    "    current_node = self.head\n",
    "    while current_node != None:\n",
    "        elements += str(current_node.value)\n",
    "        if current_node.next != None:\n",
    "            elements += ' -> '\n",
    "        current_node = current_node.next\n",
    "    return elements"
   ]
  },
  {
   "cell_type": "markdown",
   "metadata": {},
   "source": [
    "## Implementation"
   ]
  },
  {
   "cell_type": "code",
   "execution_count": 73,
   "metadata": {},
   "outputs": [],
   "source": [
    "class Node:\n",
    "\n",
    "    def __init__(self, value):\n",
    "        self.value = value\n",
    "        self.next = None\n",
    "\n",
    "\n",
    "class LinkedList:\n",
    "\n",
    "    def __init__(self, value):\n",
    "        new_node = Node(value)\n",
    "        self.head = new_node\n",
    "        self.tail = new_node\n",
    "        self.length = 1\n",
    "\n",
    "    def __str__(self):\n",
    "        elements = ''\n",
    "        current_node = self.head\n",
    "        while current_node != None:\n",
    "            elements += str(current_node.value)\n",
    "            if current_node.next != None:\n",
    "                elements += ' -> '\n",
    "            current_node = current_node.next\n",
    "        return elements\n",
    "\n",
    "    def insertAtEnd(self, value):\n",
    "        new_node = Node(value)\n",
    "        if self.head == None:\n",
    "            self.head = new_node\n",
    "            self.tail = new_node\n",
    "        else:\n",
    "            self.tail.next = new_node\n",
    "            self.tail = new_node\n",
    "        self.length += 1\n",
    "\n",
    "    def insertAtBegin(self, value):\n",
    "        new_node = Node(value)\n",
    "        if self.head == None:\n",
    "            self.head = new_node\n",
    "            self.tail = new_node\n",
    "        else:\n",
    "            new_node.next = self.head\n",
    "            self.head = new_node\n",
    "        self.length += 1\n",
    "\n",
    "    def insertAtIndex(self, value, index):\n",
    "        new_node = Node(value)\n",
    "        current_index = 0\n",
    "        current_node = self.head\n",
    "        while current_index != index:\n",
    "            current_index += 1\n",
    "            current_node = current_node.next\n",
    "        new_node.next = current_node\n",
    "        current_node.next = new_node\n",
    "        self.length += 1"
   ]
  },
  {
   "cell_type": "code",
   "execution_count": 70,
   "metadata": {},
   "outputs": [
    {
     "name": "stdout",
     "output_type": "stream",
     "text": [
      "\n",
      "1. Create a linked list:\n",
      "<__main__.Node object at 0x000001C42A60DC40>\n",
      "<__main__.Node object at 0x000001C42A60DC40>\n",
      "None\n",
      "1\n",
      "\n",
      "2. Append to the linked list:\n",
      "<__main__.Node object at 0x000001C42A60DC40>\n",
      "<__main__.Node object at 0x000001C42A1E1640>\n",
      "<__main__.Node object at 0x000001C42A1E1640>\n",
      "2\n",
      "\n",
      "3. Append to the linked list 2:\n",
      "<__main__.Node object at 0x000001C42A60DC40>\n",
      "<__main__.Node object at 0x000001C42B359AC0>\n",
      "<__main__.Node object at 0x000001C42A1E1640>\n",
      "3\n",
      "\n",
      "4. Print the linked list:\n",
      "10 -> 20 -> 30\n"
     ]
    }
   ],
   "source": [
    "\n",
    "print(\"\\n1. Create a linked list:\")\n",
    "llist = LinkedList(10)\n",
    "print(llist.head)\n",
    "print(llist.tail)\n",
    "print(llist.head.next)\n",
    "print(llist.length)\n",
    "\n",
    "print(\"\\n2. Append to the linked list:\")\n",
    "llist.insertAtEnd(20)\n",
    "print(llist.head)\n",
    "print(llist.tail)\n",
    "print(llist.head.next)\n",
    "print(llist.length)\n",
    "\n",
    "print(\"\\n3. Append to the linked list 2:\")\n",
    "llist.insertAtEnd(30)\n",
    "print(llist.head)\n",
    "print(llist.tail)\n",
    "print(llist.head.next)\n",
    "print(llist.length)\n",
    "\n",
    "print(\"\\n4. Print the linked list:\")\n",
    "print(llist)\n",
    "\n",
    "# print(\"Insert an element at the beginning\")\n",
    "# print(llist.insertAtBegin(5))\n",
    "# print(llist.head)\n",
    "# print(llist.tail)\n",
    "# print(llist.head.next)\n",
    "# print(llist.length)\n",
    "\n",
    "# print(\"Insert an element at a given index\")\n",
    "# print(llist.insertAtIndex(7, 1))\n",
    "# print(llist.head)\n",
    "# print(llist.tail)\n",
    "# print(llist.length)"
   ]
  },
  {
   "cell_type": "code",
   "execution_count": 72,
   "metadata": {},
   "outputs": [],
   "source": []
  }
 ],
 "metadata": {
  "kernelspec": {
   "display_name": "Python 3",
   "language": "python",
   "name": "python3"
  },
  "language_info": {
   "codemirror_mode": {
    "name": "ipython",
    "version": 3
   },
   "file_extension": ".py",
   "mimetype": "text/x-python",
   "name": "python",
   "nbconvert_exporter": "python",
   "pygments_lexer": "ipython3",
   "version": "3.9.13"
  }
 },
 "nbformat": 4,
 "nbformat_minor": 2
}
