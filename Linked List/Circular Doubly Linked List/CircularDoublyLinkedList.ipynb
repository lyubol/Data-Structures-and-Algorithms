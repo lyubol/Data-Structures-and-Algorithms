{
 "cells": [
  {
   "cell_type": "markdown",
   "metadata": {},
   "source": [
    "## What is Circular Doubly Linked List?"
   ]
  },
  {
   "cell_type": "markdown",
   "metadata": {},
   "source": [
    "A circular doubly linked list is defined as a circular linked list in which each node has two links connecting it to the previous node and the next node"
   ]
  },
  {
   "cell_type": "markdown",
   "metadata": {},
   "source": [
    "![My Local Image](Circular-doubly-linked-list.png)"
   ]
  },
  {
   "cell_type": "markdown",
   "metadata": {},
   "source": [
    "## Creating a Circular Doubly Linked List"
   ]
  },
  {
   "cell_type": "code",
   "execution_count": null,
   "metadata": {},
   "outputs": [],
   "source": [
    "class Node:\n",
    "    def __init__(self, value, next=None, prev=None)\n",
    "        self.value = value\n",
    "        self.next = next\n",
    "        self.prev = prev\n",
    "\n",
    "class CircularDoublyLinkedList:\n",
    "    def __init__(self, value):\n",
    "        self.head = None\n",
    "        self.tail = None\n",
    "        self.length = 0\n",
    "\n",
    "    def __iter__(self):\n",
    "        current_node = self.head\n",
    "        while current_node:\n",
    "            yield current_node.value\n",
    "            current_node = current_node.next\n",
    "            if current_node == self.tail.next:\n",
    "                break\n",
    "\n",
    "    def createCDLL(self, value):\n",
    "        new_node = Node(value)\n",
    "        self.head = new_node\n",
    "        self.tail = new_node\n",
    "        new_node.prev = new_node\n",
    "        new_node.next = new_node\n",
    "        self.length += 1"
   ]
  },
  {
   "cell_type": "markdown",
   "metadata": {},
   "source": [
    "`Time Complexity: O(1)`;\n",
    "\n",
    "`Space Complexity: O(1)`."
   ]
  },
  {
   "cell_type": "markdown",
   "metadata": {},
   "source": [
    "## Insertion"
   ]
  },
  {
   "cell_type": "markdown",
   "metadata": {},
   "source": [
    "### Insertion at the beginning"
   ]
  },
  {
   "cell_type": "code",
   "execution_count": null,
   "metadata": {},
   "outputs": [],
   "source": [
    "def prepand(self, value):\n",
    "    if self.head == None:\n",
    "        return self.createCDLL\n",
    "    new_node = Node(value)\n",
    "    new_node.next = self.head\n",
    "    new_node.prev= self.tail\n",
    "    self.tail.next = new_node\n",
    "    self.head.prev = new_node\n",
    "    self.head = new_node\n",
    "    self.length += 1"
   ]
  },
  {
   "cell_type": "markdown",
   "metadata": {},
   "source": [
    "`Time Complexity: O(1)`;\n",
    "\n",
    "`Space Complexity: O(1)`."
   ]
  },
  {
   "cell_type": "markdown",
   "metadata": {},
   "source": [
    "### Insertion at the end"
   ]
  },
  {
   "cell_type": "code",
   "execution_count": null,
   "metadata": {},
   "outputs": [],
   "source": [
    "def append(self, value):\n",
    "    if self.head == None:\n",
    "        return self.createCDLL\n",
    "    new_node = Node(value)\n",
    "    new_node.next = self.head\n",
    "    new_node.prev= self.tail\n",
    "    self.head.prev = new_node\n",
    "    self.tail.next = new_node\n",
    "    self.tail = new_node\n",
    "    self.length += 1"
   ]
  },
  {
   "cell_type": "markdown",
   "metadata": {},
   "source": [
    "`Time Complexity: O(1)`;\n",
    "\n",
    "`Space Complexity: O(1)`."
   ]
  },
  {
   "cell_type": "markdown",
   "metadata": {},
   "source": [
    "### Insertion at a given position"
   ]
  },
  {
   "cell_type": "code",
   "execution_count": null,
   "metadata": {},
   "outputs": [],
   "source": [
    "def insert(self, index, value):\n",
    "    if index < 0 or index > self.length:\n",
    "        print(\"Index do not exist!\")\n",
    "        return None\n",
    "    if self.head == None:\n",
    "        return self.createCDLL(value)\n",
    "    elif index == 0:\n",
    "        return self.prepand(value)\n",
    "    elif index == self.length:\n",
    "        return self.append(value)\n",
    "    else:\n",
    "        new_node = Node(value)\n",
    "        current_index = 0\n",
    "        current_node = self.head\n",
    "        while current_index != index - 1:\n",
    "            current_index += 1\n",
    "            current_node = current_node.next\n",
    "        next_node = current_node.next\n",
    "        current_node.next = new_node\n",
    "        new_node.prev = current_node\n",
    "        new_node.next = next_node\n",
    "        next_node.prev = new_node\n",
    "        self.length += 1"
   ]
  },
  {
   "cell_type": "markdown",
   "metadata": {},
   "source": [
    "`Time Complexity: O(n)`;\n",
    "\n",
    "`Space Complexity: O(1)`."
   ]
  },
  {
   "cell_type": "markdown",
   "metadata": {},
   "source": [
    "## Implementating All Methods"
   ]
  },
  {
   "cell_type": "code",
   "execution_count": 3,
   "metadata": {},
   "outputs": [],
   "source": [
    "class Node:\n",
    "    def __init__(self, value, next=None, prev=None):\n",
    "        self.value = value\n",
    "        self.next = next\n",
    "        self.prev = prev\n",
    "\n",
    "class CircularDoublyLinkedList:\n",
    "    def __init__(self):\n",
    "        self.head = None\n",
    "        self.tail = None\n",
    "        self.length = 0\n",
    "\n",
    "    def __iter__(self):\n",
    "        current_node = self.head\n",
    "        while current_node:\n",
    "            yield current_node\n",
    "            current_node = current_node.next\n",
    "            if current_node == self.tail.next:\n",
    "                break\n",
    "\n",
    "    def createCDLL(self, value):\n",
    "        new_node = Node(value)\n",
    "        self.head = new_node\n",
    "        self.tail = new_node\n",
    "        new_node.prev = new_node\n",
    "        new_node.next = new_node\n",
    "        self.length = 1\n",
    "\n",
    "    def prepand(self, value):\n",
    "        if self.head == None:\n",
    "            return self.createCDLL\n",
    "        new_node = Node(value)\n",
    "        new_node.next = self.head\n",
    "        new_node.prev= self.tail\n",
    "        self.tail.next = new_node\n",
    "        self.head.prev = new_node\n",
    "        self.head = new_node\n",
    "        self.length += 1\n",
    "\n",
    "    def append(self, value):\n",
    "        if self.head == None:\n",
    "            return self.createCDLL\n",
    "        new_node = Node(value)\n",
    "        new_node.next = self.head\n",
    "        new_node.prev= self.tail\n",
    "        self.head.prev = new_node\n",
    "        self.tail.next = new_node\n",
    "        self.tail = new_node\n",
    "        self.length += 1\n",
    "\n",
    "    def insert(self, index, value):\n",
    "        if index < 0 or index > self.length:\n",
    "            print(\"Index do not exist!\")\n",
    "            return None\n",
    "        if self.head == None:\n",
    "            return self.createCDLL(value)\n",
    "        elif index == 0:\n",
    "            return self.prepand(value)\n",
    "        elif index == self.length:\n",
    "            return self.append(value)\n",
    "        else:\n",
    "            new_node = Node(value)\n",
    "            current_index = 0\n",
    "            current_node = self.head\n",
    "            while current_index != index - 1:\n",
    "                current_index += 1\n",
    "                current_node = current_node.next\n",
    "            next_node = current_node.next\n",
    "            current_node.next = new_node\n",
    "            new_node.prev = current_node\n",
    "            new_node.next = next_node\n",
    "            next_node.prev = new_node\n",
    "            self.length += 1"
   ]
  },
  {
   "cell_type": "markdown",
   "metadata": {},
   "source": [
    "## Sample Execution"
   ]
  },
  {
   "cell_type": "code",
   "execution_count": 8,
   "metadata": {},
   "outputs": [
    {
     "name": "stdout",
     "output_type": "stream",
     "text": [
      "[10]\n"
     ]
    }
   ],
   "source": [
    "cdllist = CircularDoublyLinkedList()\n",
    "cdllist.createCDLL(10)\n",
    "print([i.value for i in cdllist])"
   ]
  },
  {
   "cell_type": "code",
   "execution_count": 42,
   "metadata": {},
   "outputs": [
    {
     "name": "stdout",
     "output_type": "stream",
     "text": [
      "\n",
      "1. Create a linked list:\n",
      "head:       <__main__.Node object at 0x00000280FA4FE730>\n",
      "tail:       <__main__.Node object at 0x00000280FA4FE730>\n",
      "head.next:  <__main__.Node object at 0x00000280FA4FE730>\n",
      "tail.next:  <__main__.Node object at 0x00000280FA4FE730>\n",
      "length:     1\n",
      "\n",
      "2. Append to linked list:\n",
      "head:       <__main__.Node object at 0x00000280FA4FE730>\n",
      "tail:       <__main__.Node object at 0x00000280FA42B610>\n",
      "head.next:  <__main__.Node object at 0x00000280FA42B610>\n",
      "tail.next:  <__main__.Node object at 0x00000280FA4FE730>\n",
      "length:     2\n",
      "\n",
      "3. Prepand to linked list:\n",
      "head:       <__main__.Node object at 0x00000280FA45DBB0>\n",
      "tail:       <__main__.Node object at 0x00000280FA42B610>\n",
      "head.next:  <__main__.Node object at 0x00000280FA4FE730>\n",
      "tail.next:  <__main__.Node object at 0x00000280FA45DBB0>\n",
      "length:     3\n",
      "\n",
      "4. Insert to linked list:\n",
      "head:       <__main__.Node object at 0x00000280FA45DBB0>\n",
      "tail:       <__main__.Node object at 0x00000280FA4650D0>\n",
      "head.next:  <__main__.Node object at 0x00000280FA4FE730>\n",
      "tail.next:  <__main__.Node object at 0x00000280FA45DBB0>\n",
      "length:     4\n",
      "\n",
      "11. Print the linked list:\n",
      "[5, 10, 15, 20]\n"
     ]
    }
   ],
   "source": [
    "cdllist = CircularDoublyLinkedList()\n",
    "\n",
    "print(\"\\n1. Create a linked list:\")\n",
    "cdllist.createCDLL(10)\n",
    "print(f\"head:       {cdllist.head}\")\n",
    "print(f\"tail:       {cdllist.tail}\")\n",
    "print(f\"head.next:  {cdllist.head.next}\")\n",
    "print(f\"tail.next:  {cdllist.tail.next}\")\n",
    "print(f\"length:     {cdllist.length}\")\n",
    "\n",
    "print(\"\\n2. Append to linked list:\")\n",
    "cdllist.append(15)\n",
    "print(f\"head:       {cdllist.head}\")\n",
    "print(f\"tail:       {cdllist.tail}\")\n",
    "print(f\"head.next:  {cdllist.head.next}\")\n",
    "print(f\"tail.next:  {cdllist.tail.next}\")\n",
    "print(f\"length:     {cdllist.length}\")\n",
    "\n",
    "print(\"\\n3. Prepand to linked list:\")\n",
    "cdllist.prepand(5)\n",
    "print(f\"head:       {cdllist.head}\")\n",
    "print(f\"tail:       {cdllist.tail}\")\n",
    "print(f\"head.next:  {cdllist.head.next}\")\n",
    "print(f\"tail.next:  {cdllist.tail.next}\")\n",
    "print(f\"length:     {cdllist.length}\")\n",
    "\n",
    "print(\"\\n4. Insert to linked list:\")\n",
    "cdllist.insert(3, 20)\n",
    "print(f\"head:       {cdllist.head}\")\n",
    "print(f\"tail:       {cdllist.tail}\")\n",
    "print(f\"head.next:  {cdllist.head.next}\")\n",
    "print(f\"tail.next:  {cdllist.tail.next}\")\n",
    "print(f\"length:     {cdllist.length}\")\n",
    "\n",
    "# print(\"\\n5. Traverse the linked list:\")\n",
    "# cdllist.traverse()\n",
    "\n",
    "# print(\"\\n6. Traverse (reverse order) the linked list:\")\n",
    "# cdllist.reverse_traversal()\n",
    "\n",
    "# print(\"\\n7. Search for an element in linked list:\")\n",
    "# print(cdllist.search(6))\n",
    "\n",
    "# print(\"\\n8. Delete an element in linked list:\")\n",
    "# cdllist.delete(2)\n",
    "\n",
    "# print(\"\\n9. Print the linked list:\")\n",
    "# print([current_node.value for current_node in cdllist])\n",
    "\n",
    "# print(\"\\n8. Delete all elements in the linked list:\")\n",
    "# cdllist.delete_all()\n",
    "\n",
    "print(\"\\n11. Print the linked list:\")\n",
    "print([current_node.value for current_node in cdllist])"
   ]
  },
  {
   "cell_type": "code",
   "execution_count": null,
   "metadata": {},
   "outputs": [],
   "source": []
  }
 ],
 "metadata": {
  "kernelspec": {
   "display_name": "Python 3",
   "language": "python",
   "name": "python3"
  },
  "language_info": {
   "codemirror_mode": {
    "name": "ipython",
    "version": 3
   },
   "file_extension": ".py",
   "mimetype": "text/x-python",
   "name": "python",
   "nbconvert_exporter": "python",
   "pygments_lexer": "ipython3",
   "version": "3.9.13"
  }
 },
 "nbformat": 4,
 "nbformat_minor": 2
}
