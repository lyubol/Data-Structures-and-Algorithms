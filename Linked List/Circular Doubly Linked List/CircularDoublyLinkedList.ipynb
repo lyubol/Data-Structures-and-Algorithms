{
 "cells": [
  {
   "cell_type": "markdown",
   "metadata": {},
   "source": [
    "## What is Circular Doubly Linked List?"
   ]
  },
  {
   "cell_type": "markdown",
   "metadata": {},
   "source": [
    "A circular doubly linked list is defined as a circular linked list in which each node has two links connecting it to the previous node and the next node"
   ]
  },
  {
   "cell_type": "markdown",
   "metadata": {},
   "source": [
    "![My Local Image](Circular-doubly-linked-list.png)"
   ]
  },
  {
   "cell_type": "markdown",
   "metadata": {},
   "source": [
    "## Creating a Circular Doubly Linked List"
   ]
  },
  {
   "cell_type": "code",
   "execution_count": null,
   "metadata": {},
   "outputs": [],
   "source": [
    "class Node:\n",
    "    def __init__(self, value, next=None, prev=None)\n",
    "        self.value = value\n",
    "        self.next = next\n",
    "        self.prev = prev\n",
    "\n",
    "class CircularDoublyLinkedList:\n",
    "    def __init__(self, value):\n",
    "        self.head = None\n",
    "        self.tail = None\n",
    "        self.length = 0\n",
    "\n",
    "    def __iter__(self):\n",
    "        current_node = self.head\n",
    "        while current_node:\n",
    "            yield current_node.value\n",
    "            current_node = current_node.next\n",
    "            if current_node == self.tail.next:\n",
    "                break\n",
    "\n",
    "    def createCDLL(self, value):\n",
    "        new_node = Node(value)\n",
    "        self.head = new_node\n",
    "        self.tail = new_node\n",
    "        new_node.prev = new_node\n",
    "        new_node.next = new_node\n",
    "        self.length += 1"
   ]
  },
  {
   "cell_type": "markdown",
   "metadata": {},
   "source": [
    "`Time Complexity: O(1)`;\n",
    "\n",
    "`Space Complexity: O(1)`."
   ]
  },
  {
   "cell_type": "markdown",
   "metadata": {},
   "source": [
    "## Insertion"
   ]
  },
  {
   "cell_type": "markdown",
   "metadata": {},
   "source": [
    "### Insertion at the beginning"
   ]
  },
  {
   "cell_type": "code",
   "execution_count": null,
   "metadata": {},
   "outputs": [],
   "source": [
    "def prepand(self, value):\n",
    "    if self.head == None:\n",
    "        return self.createCDLL\n",
    "    new_node = Node(value)\n",
    "    new_node.next = self.head\n",
    "    new_node.prev= self.tail\n",
    "    self.tail.next = new_node\n",
    "    self.head.prev = new_node\n",
    "    self.head = new_node\n",
    "    self.length += 1"
   ]
  },
  {
   "cell_type": "markdown",
   "metadata": {},
   "source": [
    "`Time Complexity: O(1)`;\n",
    "\n",
    "`Space Complexity: O(1)`."
   ]
  },
  {
   "cell_type": "markdown",
   "metadata": {},
   "source": [
    "### Insertion at the end"
   ]
  },
  {
   "cell_type": "code",
   "execution_count": null,
   "metadata": {},
   "outputs": [],
   "source": [
    "def append(self, value):\n",
    "    if self.head == None:\n",
    "        return self.createCDLL\n",
    "    new_node = Node(value)\n",
    "    new_node.next = self.head\n",
    "    new_node.prev= self.tail\n",
    "    self.head.prev = new_node\n",
    "    self.tail.next = new_node\n",
    "    self.tail = new_node\n",
    "    self.length += 1"
   ]
  },
  {
   "cell_type": "markdown",
   "metadata": {},
   "source": [
    "`Time Complexity: O(1)`;\n",
    "\n",
    "`Space Complexity: O(1)`."
   ]
  },
  {
   "cell_type": "markdown",
   "metadata": {},
   "source": [
    "### Insertion at a given position"
   ]
  },
  {
   "cell_type": "code",
   "execution_count": null,
   "metadata": {},
   "outputs": [],
   "source": [
    "def insert(self, index, value):\n",
    "    if index < 0 or index > self.length:\n",
    "        print(\"Index do not exist!\")\n",
    "        return None\n",
    "    if self.head == None:\n",
    "        return self.createCDLL(value)\n",
    "    elif index == 0:\n",
    "        return self.prepand(value)\n",
    "    elif index == self.length:\n",
    "        return self.append(value)\n",
    "    else:\n",
    "        new_node = Node(value)\n",
    "        current_index = 0\n",
    "        current_node = self.head\n",
    "        while current_index != index - 1:\n",
    "            current_index += 1\n",
    "            current_node = current_node.next\n",
    "        next_node = current_node.next\n",
    "        current_node.next = new_node\n",
    "        new_node.prev = current_node\n",
    "        new_node.next = next_node\n",
    "        next_node.prev = new_node\n",
    "        self.length += 1"
   ]
  },
  {
   "cell_type": "markdown",
   "metadata": {},
   "source": [
    "`Time Complexity: O(n)`;\n",
    "\n",
    "`Space Complexity: O(1)`."
   ]
  },
  {
   "cell_type": "markdown",
   "metadata": {},
   "source": [
    "## Traversal"
   ]
  },
  {
   "cell_type": "code",
   "execution_count": null,
   "metadata": {},
   "outputs": [],
   "source": [
    "def traverse(self):\n",
    "    if self.head == None:\n",
    "        return None\n",
    "    else:\n",
    "        current_node = self.head\n",
    "        while current_node:\n",
    "            print(current_node.value)\n",
    "            current_node = current_node.next\n",
    "            if current_node == self.tail.next:\n",
    "                break"
   ]
  },
  {
   "cell_type": "markdown",
   "metadata": {},
   "source": [
    "`Time Complexity: O(n)`;\n",
    "\n",
    "`Space Complexity: O(1)`."
   ]
  },
  {
   "cell_type": "markdown",
   "metadata": {},
   "source": [
    "## Reverse Traversal"
   ]
  },
  {
   "cell_type": "code",
   "execution_count": null,
   "metadata": {},
   "outputs": [],
   "source": [
    "def reverse_traversal(self):\n",
    "    if self.head == None:\n",
    "        return None\n",
    "    else:\n",
    "        current_node = self.tail\n",
    "        while current_node:\n",
    "            print(current_node.value)\n",
    "            current_node = current_node.prev\n",
    "            if current_node == self.tail:\n",
    "                break"
   ]
  },
  {
   "cell_type": "markdown",
   "metadata": {},
   "source": [
    "`Time Complexity: O(n)`;\n",
    "\n",
    "`Space Complexity: O(1)`."
   ]
  },
  {
   "cell_type": "markdown",
   "metadata": {},
   "source": [
    "## Searching for an Element"
   ]
  },
  {
   "cell_type": "code",
   "execution_count": null,
   "metadata": {},
   "outputs": [],
   "source": [
    "def search(self, index):\n",
    "    if index < 0 or index > self.length:\n",
    "        print(\"Index do not exist!\")\n",
    "    elif self.head == None:\n",
    "        return None\n",
    "    else:\n",
    "        current_index = 0\n",
    "        current_node = self.head\n",
    "        while current_index != index:\n",
    "            if current_index == self.length - 1:\n",
    "                return None\n",
    "            current_index += 1\n",
    "            current_node = current_node.next\n",
    "        return current_node.value"
   ]
  },
  {
   "cell_type": "markdown",
   "metadata": {},
   "source": [
    "`Time Complexity: O(n)`;\n",
    "\n",
    "`Space Complexity: O(1)`."
   ]
  },
  {
   "cell_type": "markdown",
   "metadata": {},
   "source": [
    "## Deleting an Element"
   ]
  },
  {
   "cell_type": "markdown",
   "metadata": {},
   "source": [
    "### Deleting the First Element"
   ]
  },
  {
   "cell_type": "code",
   "execution_count": null,
   "metadata": {},
   "outputs": [],
   "source": [
    "def pop_first(self):\n",
    "    if self.head == None:\n",
    "        return None\n",
    "    elif self.length == 1:\n",
    "        self.head = None\n",
    "        self.tail = None\n",
    "    else:\n",
    "        self.tail.next = self.head.next\n",
    "        self.head = self.head.next\n",
    "        self.head.prev = self.tail\n",
    "    self.length -= 1"
   ]
  },
  {
   "cell_type": "markdown",
   "metadata": {},
   "source": [
    "`Time Complexity: O(1)`;\n",
    "\n",
    "`Space Complexity: O(1)`."
   ]
  },
  {
   "cell_type": "markdown",
   "metadata": {},
   "source": [
    "### Deleting the Last Element"
   ]
  },
  {
   "cell_type": "code",
   "execution_count": null,
   "metadata": {},
   "outputs": [],
   "source": [
    "def pop(self):\n",
    "    if self.head == None:\n",
    "        return None\n",
    "    elif self.length == 1:\n",
    "        self.head = None\n",
    "        self.tail = None\n",
    "    else:\n",
    "        self.tail.prev.next = self.head\n",
    "        self.head.prev = self.tail.prev\n",
    "        self.tail = self.tail.prev\n",
    "    self.length -= 1"
   ]
  },
  {
   "cell_type": "markdown",
   "metadata": {},
   "source": [
    "`Time Complexity: O(1)`;\n",
    "\n",
    "`Space Complexity: O(1)`."
   ]
  },
  {
   "cell_type": "markdown",
   "metadata": {},
   "source": [
    "### Deleting an Element at a Given Position"
   ]
  },
  {
   "cell_type": "code",
   "execution_count": null,
   "metadata": {},
   "outputs": [],
   "source": [
    "def delete(self, index):\n",
    "    if index < 0 or index >= self.length:\n",
    "        print(\"Index do not exist!\")\n",
    "        return None\n",
    "    if self.head == None:\n",
    "        return None\n",
    "    else:\n",
    "        if index == 0:\n",
    "            return self.pop_first()\n",
    "        elif index == self.length - 1:\n",
    "            return self.pop()\n",
    "        else:\n",
    "            current_index = 0\n",
    "            current_node = self.head\n",
    "            while current_index != index - 1:\n",
    "                current_index += 1\n",
    "                current_node = current_node.next\n",
    "            current_node.next = current_node.next.next\n",
    "            current_node.next.prev = current_node\n",
    "            self.length -= 1"
   ]
  },
  {
   "cell_type": "markdown",
   "metadata": {},
   "source": [
    "`Time Complexity: O(n)`;\n",
    "\n",
    "`Space Complexity: O(1)`."
   ]
  },
  {
   "cell_type": "markdown",
   "metadata": {},
   "source": [
    "## Deleting all Elements"
   ]
  },
  {
   "cell_type": "code",
   "execution_count": null,
   "metadata": {},
   "outputs": [],
   "source": [
    "def delete_all(self):\n",
    "    if self.head == None:\n",
    "        return None\n",
    "    else:\n",
    "        current_node = self.head\n",
    "        while current_node:\n",
    "            next_node = current_node.next\n",
    "            current_node.prev = None\n",
    "            current_node.next = None\n",
    "            current_node = next_node\n",
    "            if current_node == self.tail.next:\n",
    "                break\n",
    "        self.head = None\n",
    "        self.tail = None\n",
    "        self.length = 0"
   ]
  },
  {
   "cell_type": "markdown",
   "metadata": {},
   "source": [
    "`Time Complexity: O(1)`;\n",
    "\n",
    "`Space Complexity: O(1)`."
   ]
  },
  {
   "cell_type": "markdown",
   "metadata": {},
   "source": [
    "## Time and Space Complexity of Circular Doubly Linked Lists"
   ]
  },
  {
   "cell_type": "markdown",
   "metadata": {},
   "source": [
    "| `Operation`                                   | `Time Complexity`                     | `Space complexity`                    |\n",
    "| --------------------------------------------- | ------------------------------------- | ------------------------------------- |\n",
    "| Create                                        | O(1)                                  | O(1)                                  |\n",
    "| Insert                                        | O(n)                                  | O(1)                                  |\n",
    "| Search                                        | O(n)                                  | O(1)                                  |\n",
    "| Traverse (forward, backward)                  | O(n)                                  | O(1)                                  |\n",
    "| Delete a node                                 | O(n)                                  | O(1)                                  |\n",
    "| Delete all nodes                              | O(n)                                  | O(1)                                  |"
   ]
  },
  {
   "cell_type": "markdown",
   "metadata": {},
   "source": [
    "## Implementating All Methods"
   ]
  },
  {
   "cell_type": "code",
   "execution_count": 150,
   "metadata": {},
   "outputs": [],
   "source": [
    "class Node:\n",
    "    def __init__(self, value, next=None, prev=None):\n",
    "        self.value = value\n",
    "        self.next = next\n",
    "        self.prev = prev\n",
    "\n",
    "class CircularDoublyLinkedList:\n",
    "    def __init__(self):\n",
    "        self.head = None\n",
    "        self.tail = None\n",
    "        self.length = 0\n",
    "\n",
    "    def __iter__(self):\n",
    "        current_node = self.head\n",
    "        while current_node:\n",
    "            yield current_node\n",
    "            current_node = current_node.next\n",
    "            if current_node == self.tail.next:\n",
    "                break\n",
    "\n",
    "    def createCDLL(self, value):\n",
    "        new_node = Node(value)\n",
    "        self.head = new_node\n",
    "        self.tail = new_node\n",
    "        new_node.prev = new_node\n",
    "        new_node.next = new_node\n",
    "        self.length = 1\n",
    "\n",
    "    def prepand(self, value):\n",
    "        if self.head == None:\n",
    "            return self.createCDLL\n",
    "        new_node = Node(value)\n",
    "        new_node.next = self.head\n",
    "        new_node.prev= self.tail\n",
    "        self.tail.next = new_node\n",
    "        self.head.prev = new_node\n",
    "        self.head = new_node\n",
    "        self.length += 1\n",
    "\n",
    "    def append(self, value):\n",
    "        if self.head == None:\n",
    "            return self.createCDLL\n",
    "        new_node = Node(value)\n",
    "        new_node.next = self.head\n",
    "        new_node.prev= self.tail\n",
    "        self.head.prev = new_node\n",
    "        self.tail.next = new_node\n",
    "        self.tail = new_node\n",
    "        self.length += 1\n",
    "\n",
    "    def insert(self, index, value):\n",
    "        if index < 0 or index > self.length:\n",
    "            print(\"Index do not exist!\")\n",
    "            return None\n",
    "        if self.head == None:\n",
    "            return self.createCDLL(value)\n",
    "        elif index == 0:\n",
    "            return self.prepand(value)\n",
    "        elif index == self.length:\n",
    "            return self.append(value)\n",
    "        else:\n",
    "            new_node = Node(value)\n",
    "            current_index = 0\n",
    "            current_node = self.head\n",
    "            while current_index != index - 1:\n",
    "                current_index += 1\n",
    "                current_node = current_node.next\n",
    "            next_node = current_node.next\n",
    "            current_node.next = new_node\n",
    "            new_node.prev = current_node\n",
    "            new_node.next = next_node\n",
    "            next_node.prev = new_node\n",
    "            self.length += 1\n",
    "\n",
    "    def traverse(self):\n",
    "        if self.head == None:\n",
    "            return None\n",
    "        else:\n",
    "            current_node = self.head\n",
    "            while current_node:\n",
    "                print(current_node.value)\n",
    "                current_node = current_node.next\n",
    "                if current_node == self.tail.next:\n",
    "                    break\n",
    "\n",
    "    def reverse_traversal(self):\n",
    "        if self.head == None:\n",
    "            return None\n",
    "        else:\n",
    "            current_node = self.tail\n",
    "            while current_node:\n",
    "                print(current_node.value)\n",
    "                current_node = current_node.prev\n",
    "                if current_node == self.tail:\n",
    "                    break\n",
    "\n",
    "    def search(self, index):\n",
    "        if index < 0 or index > self.length:\n",
    "            print(\"Index do not exist!\")\n",
    "        elif self.head == None:\n",
    "            return None\n",
    "        else:\n",
    "            current_index = 0\n",
    "            current_node = self.head\n",
    "            while current_index != index:\n",
    "                if current_index == self.length - 1:\n",
    "                    return None\n",
    "                current_index += 1\n",
    "                current_node = current_node.next\n",
    "            return current_node.value\n",
    "        \n",
    "    def pop(self):\n",
    "        if self.head == None:\n",
    "            return None\n",
    "        elif self.length == 1:\n",
    "            self.head = None\n",
    "            self.tail = None\n",
    "        else:\n",
    "            self.tail.prev.next = self.head\n",
    "            self.head.prev = self.tail.prev\n",
    "            self.tail = self.tail.prev\n",
    "        self.length -= 1\n",
    "\n",
    "    def pop_first(self):\n",
    "        if self.head == None:\n",
    "            return None\n",
    "        elif self.length == 1:\n",
    "            self.head = None\n",
    "            self.tail = None\n",
    "        else:\n",
    "            self.tail.next = self.head.next\n",
    "            self.head = self.head.next\n",
    "            self.head.prev = self.tail\n",
    "        self.length -= 1\n",
    "\n",
    "    def delete(self, index):\n",
    "        if index < 0 or index >= self.length:\n",
    "            print(\"Index do not exist!\")\n",
    "            return None\n",
    "        if self.head == None:\n",
    "            return None\n",
    "        else:\n",
    "            if index == 0:\n",
    "                return self.pop_first()\n",
    "            elif index == self.length - 1:\n",
    "                return self.pop()\n",
    "            else:\n",
    "                current_index = 0\n",
    "                current_node = self.head\n",
    "                while current_index != index - 1:\n",
    "                    current_index += 1\n",
    "                    current_node = current_node.next\n",
    "                current_node.next = current_node.next.next\n",
    "                current_node.next.prev = current_node\n",
    "                self.length -= 1\n",
    "\n",
    "    def delete_all(self):\n",
    "        if self.head == None:\n",
    "            return None\n",
    "        else:\n",
    "            current_node = self.head\n",
    "            while current_node:\n",
    "                next_node = current_node.next\n",
    "                current_node.prev = None\n",
    "                current_node.next = None\n",
    "                current_node = next_node\n",
    "                if current_node == self.tail.next:\n",
    "                    break\n",
    "            self.head = None\n",
    "            self.tail = None\n",
    "            self.length = 0"
   ]
  },
  {
   "cell_type": "code",
   "execution_count": 151,
   "metadata": {},
   "outputs": [],
   "source": [
    "def test_delete_all():\n",
    "    # Test delete_all method with empty list\n",
    "    cdl = CircularDoublyLinkedList()\n",
    "    cdl.delete_all()\n",
    "    assert cdl.length == 0\n",
    "    assert cdl.head == None\n",
    "    assert cdl.tail == None\n",
    "\n",
    "    # Test delete_all method with one element\n",
    "    cdl = CircularDoublyLinkedList()\n",
    "    cdl.createCDLL(1)\n",
    "    cdl.delete_all()\n",
    "    assert cdl.length == 0\n",
    "    assert cdl.head == None\n",
    "    assert cdl.tail == None\n",
    "\n",
    "    # Test delete_all method with multiple elements\n",
    "    cdl = CircularDoublyLinkedList()\n",
    "    cdl.createCDLL(1)\n",
    "    cdl.append(2)\n",
    "    cdl.append(3)\n",
    "    cdl.delete_all()\n",
    "    assert cdl.length == 0\n",
    "    assert cdl.head == None\n",
    "    assert cdl.tail == None\n",
    "\n",
    "test_delete_all()"
   ]
  },
  {
   "cell_type": "markdown",
   "metadata": {},
   "source": [
    "## Sample Execution"
   ]
  },
  {
   "cell_type": "code",
   "execution_count": 8,
   "metadata": {},
   "outputs": [
    {
     "name": "stdout",
     "output_type": "stream",
     "text": [
      "[10]\n"
     ]
    }
   ],
   "source": [
    "cdllist = CircularDoublyLinkedList()\n",
    "cdllist.createCDLL(10)\n",
    "print([i.value for i in cdllist])"
   ]
  },
  {
   "cell_type": "code",
   "execution_count": 154,
   "metadata": {},
   "outputs": [
    {
     "name": "stdout",
     "output_type": "stream",
     "text": [
      "\n",
      "1. Create a linked list:\n",
      "head:       <__main__.Node object at 0x0000026F12FC9AC0>\n",
      "tail:       <__main__.Node object at 0x0000026F12FC9AC0>\n",
      "head.next:  <__main__.Node object at 0x0000026F12FC9AC0>\n",
      "tail.next:  <__main__.Node object at 0x0000026F12FC9AC0>\n",
      "length:     1\n",
      "\n",
      "2. Append to linked list:\n",
      "head:       <__main__.Node object at 0x0000026F12FC9AC0>\n",
      "tail:       <__main__.Node object at 0x0000026F1302E040>\n",
      "head.next:  <__main__.Node object at 0x0000026F1302E040>\n",
      "tail.next:  <__main__.Node object at 0x0000026F12FC9AC0>\n",
      "length:     2\n",
      "\n",
      "3. Prepand to linked list:\n",
      "head:       <__main__.Node object at 0x0000026F12FF1220>\n",
      "tail:       <__main__.Node object at 0x0000026F1302E040>\n",
      "head.next:  <__main__.Node object at 0x0000026F12FC9AC0>\n",
      "tail.next:  <__main__.Node object at 0x0000026F12FF1220>\n",
      "length:     3\n",
      "\n",
      "4. Insert to linked list:\n",
      "head:       <__main__.Node object at 0x0000026F12FF1220>\n",
      "tail:       <__main__.Node object at 0x0000026F12FF14C0>\n",
      "head.next:  <__main__.Node object at 0x0000026F12FC9AC0>\n",
      "tail.next:  <__main__.Node object at 0x0000026F12FF1220>\n",
      "length:     4\n",
      "\n",
      "5. Traverse the linked list:\n",
      "5\n",
      "10\n",
      "15\n",
      "20\n",
      "\n",
      "6. Traverse (reverse order) the linked list:\n",
      "20\n",
      "15\n",
      "10\n",
      "5\n",
      "\n",
      "7. Search for an element in linked list:\n",
      "20\n",
      "\n",
      "8. Pop the last element in the linked list:\n",
      "\n",
      "9. Pop the first element in the linked list:\n",
      "\n",
      "10. Append elements to the linked list:\n",
      "\n",
      "12. Print the linked list:\n",
      "[10, 15, 20, 25]\n",
      "\n",
      "13. Delete an element in linked list:\n",
      "\n",
      "14. Print the linked list:\n",
      "[10, 15, 20]\n",
      "\n",
      "5. Delete all elements in the linked list:\n",
      "\n",
      "16. Print the linked list:\n",
      "[]\n"
     ]
    }
   ],
   "source": [
    "cdllist = CircularDoublyLinkedList()\n",
    "\n",
    "print(\"\\n1. Create a linked list:\")\n",
    "cdllist.createCDLL(10)\n",
    "print(f\"head:       {cdllist.head}\")\n",
    "print(f\"tail:       {cdllist.tail}\")\n",
    "print(f\"head.next:  {cdllist.head.next}\")\n",
    "print(f\"tail.next:  {cdllist.tail.next}\")\n",
    "print(f\"length:     {cdllist.length}\")\n",
    "\n",
    "print(\"\\n2. Append to linked list:\")\n",
    "cdllist.append(15)\n",
    "print(f\"head:       {cdllist.head}\")\n",
    "print(f\"tail:       {cdllist.tail}\")\n",
    "print(f\"head.next:  {cdllist.head.next}\")\n",
    "print(f\"tail.next:  {cdllist.tail.next}\")\n",
    "print(f\"length:     {cdllist.length}\")\n",
    "\n",
    "print(\"\\n3. Prepand to linked list:\")\n",
    "cdllist.prepand(5)\n",
    "print(f\"head:       {cdllist.head}\")\n",
    "print(f\"tail:       {cdllist.tail}\")\n",
    "print(f\"head.next:  {cdllist.head.next}\")\n",
    "print(f\"tail.next:  {cdllist.tail.next}\")\n",
    "print(f\"length:     {cdllist.length}\")\n",
    "\n",
    "print(\"\\n4. Insert to linked list:\")\n",
    "cdllist.insert(3, 20)\n",
    "print(f\"head:       {cdllist.head}\")\n",
    "print(f\"tail:       {cdllist.tail}\")\n",
    "print(f\"head.next:  {cdllist.head.next}\")\n",
    "print(f\"tail.next:  {cdllist.tail.next}\")\n",
    "print(f\"length:     {cdllist.length}\")\n",
    "\n",
    "print(\"\\n5. Traverse the linked list:\")\n",
    "cdllist.traverse()\n",
    "\n",
    "print(\"\\n6. Traverse (reverse order) the linked list:\")\n",
    "cdllist.reverse_traversal()\n",
    "\n",
    "print(\"\\n7. Search for an element in linked list:\")\n",
    "print(cdllist.search(3))\n",
    "\n",
    "print(\"\\n8. Pop the last element in the linked list:\")\n",
    "cdllist.pop()\n",
    "\n",
    "print(\"\\n9. Pop the first element in the linked list:\")\n",
    "cdllist.pop_first()\n",
    "\n",
    "print(\"\\n10. Append elements to the linked list:\")\n",
    "cdllist.append(20)\n",
    "cdllist.append(25)\n",
    "\n",
    "print(\"\\n12. Print the linked list:\")\n",
    "print([current_node.value for current_node in cdllist])\n",
    "\n",
    "print(\"\\n13. Delete an element in linked list:\")\n",
    "cdllist.delete(3)\n",
    "\n",
    "print(\"\\n14. Print the linked list:\")\n",
    "print([current_node.value for current_node in cdllist])\n",
    "\n",
    "print(\"\\n5. Delete all elements in the linked list:\")\n",
    "cdllist.delete_all()\n",
    "\n",
    "print(\"\\n16. Print the linked list:\")\n",
    "print([current_node.value for current_node in cdllist])"
   ]
  }
 ],
 "metadata": {
  "kernelspec": {
   "display_name": "Python 3",
   "language": "python",
   "name": "python3"
  },
  "language_info": {
   "codemirror_mode": {
    "name": "ipython",
    "version": 3
   },
   "file_extension": ".py",
   "mimetype": "text/x-python",
   "name": "python",
   "nbconvert_exporter": "python",
   "pygments_lexer": "ipython3",
   "version": "3.9.13"
  }
 },
 "nbformat": 4,
 "nbformat_minor": 2
}
