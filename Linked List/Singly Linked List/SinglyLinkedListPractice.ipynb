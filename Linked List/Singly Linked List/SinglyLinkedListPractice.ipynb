{
 "cells": [
  {
   "cell_type": "markdown",
   "metadata": {},
   "source": [
    "## Create Simple Singly Linked List DS"
   ]
  },
  {
   "cell_type": "markdown",
   "metadata": {},
   "source": [
    "Write a code in the language of your choice to implement a singly linked list. A singly linked list has the following properties:\n",
    "\n",
    "- Each node contains a piece of data. Node class constructor  takes a value as an argument and initializes the value attribute of the node;\n",
    "- Each node also holds a reference (or link) to the next node in the list. A  next attribute, initialized to None, which will store a reference to the next node in the list;\n",
    "- LinkedList class constructor  takes a value as an argument and creates new node object based on Node class with that value;\n",
    "- Head and tail attributes of the linked list to point to the new node;\n",
    "- A length attribute, initialized to 1, which represents the current number of nodes in the list."
   ]
  },
  {
   "cell_type": "code",
   "execution_count": 4,
   "metadata": {},
   "outputs": [],
   "source": [
    "class Node:\n",
    "\n",
    "    def __init__(self, value):\n",
    "        self.value = value\n",
    "        self.next = None\n",
    "\n",
    "class LinkedList:\n",
    "\n",
    "    def __init__(self, value):\n",
    "        new_node = Node(value)\n",
    "        self.head = new_node\n",
    "        self.tail = new_node\n",
    "        self.length = 1\n"
   ]
  },
  {
   "cell_type": "markdown",
   "metadata": {},
   "source": [
    "## Insertion at the Beginning of a Singly Linked List"
   ]
  },
  {
   "cell_type": "markdown",
   "metadata": {},
   "source": [
    "Write a function to insert a new element at the beginning of a singly linked list. LinkedList and Node class are already provided."
   ]
  },
  {
   "cell_type": "code",
   "execution_count": 10,
   "metadata": {},
   "outputs": [],
   "source": [
    "def prepend(self, value):\n",
    "    new_node = Node(value)\n",
    "    self.head = new_node\n",
    "    self.length += 1"
   ]
  },
  {
   "cell_type": "markdown",
   "metadata": {},
   "source": [
    "## Insertion at the End of a Singly Linked List"
   ]
  },
  {
   "cell_type": "markdown",
   "metadata": {},
   "source": [
    "Write a method to insert a new element at the end of a singly linked list. The logic should cover edge cases such as empty linked list or linked list with some elements in it."
   ]
  },
  {
   "cell_type": "code",
   "execution_count": null,
   "metadata": {},
   "outputs": [],
   "source": [
    "def append(self, value):\n",
    "    new_node = Node(value)\n",
    "    if self.length == 0:\n",
    "        self.head = new_node\n",
    "        self.tail = new_node\n",
    "    else:\n",
    "        self.tail.next = new_node\n",
    "        self.tail = new_node\n",
    "    self.length += 1"
   ]
  },
  {
   "cell_type": "markdown",
   "metadata": {},
   "source": [
    "## Deletion from a Singly Linked List"
   ]
  },
  {
   "cell_type": "markdown",
   "metadata": {},
   "source": [
    "Write a function to delete a node from a singly linked list. The function should take the index(starting from 0) of the node to be deleted as a parameter."
   ]
  },
  {
   "cell_type": "code",
   "execution_count": null,
   "metadata": {},
   "outputs": [],
   "source": [
    "def pop_first(self):\n",
    "    if self.length == 0:\n",
    "        return        \n",
    "    elif self.length == 1:\n",
    "        self.head = None\n",
    "        self.tail = None\n",
    "    else:\n",
    "        new_head = self.head.next\n",
    "        self.head.next = None\n",
    "        self.head = new_head\n",
    "    self.length -= 1\n",
    "    \n",
    "def pop(self):\n",
    "    if self.length == 0:\n",
    "        return None\n",
    "    popped_node = self.tail\n",
    "    if self.length == 1:\n",
    "        self.head = None\n",
    "        self.tail = None\n",
    "    else:\n",
    "        current_node = self.head\n",
    "        while current_node.next != popped_node:\n",
    "            current_node = current_node.next\n",
    "        current_node.next = None\n",
    "        self.tail = current_node\n",
    "    self.length -= 1\n",
    "    return popped_node\n",
    "\n",
    "def remove(self, index):\n",
    "    if index == 0:\n",
    "        return self.pop_first()\n",
    "    elif self.length == 0 or index >= self.length or index < 0:\n",
    "        return None\n",
    "    elif index == self.length - 1:\n",
    "        return self.pop()\n",
    "    else:\n",
    "        current_index = 0\n",
    "        current_node = self.head\n",
    "        while current_index != index - 1:\n",
    "            current_index += 1\n",
    "            current_node = current_node.next\n",
    "        node_to_delete = current_node.next\n",
    "        current_node.next = node_to_delete.next\n",
    "        node_to_delete.next = None\n",
    "    self.length -= 1"
   ]
  },
  {
   "cell_type": "markdown",
   "metadata": {},
   "source": [
    "## Reverse a Singly Linked List"
   ]
  },
  {
   "cell_type": "markdown",
   "metadata": {},
   "source": [
    "Write a function to reverse a singly linked list. The function should return a new linked list that is the reverse of the original list.\n",
    "\n",
    "`Example`:\n",
    "\n",
    "Original singly linked list:   1 -> 2 -> 3 -> 4 -> 5\n",
    "\n",
    "Reversed singly linked list:  5 -> 4 -> 3 -> 2 -> 1"
   ]
  },
  {
   "cell_type": "code",
   "execution_count": 15,
   "metadata": {},
   "outputs": [],
   "source": [
    "def reverse(self):\n",
    "    prev_node = None\n",
    "    current_node = self.head\n",
    "    while current_node != None:\n",
    "        # Saves the next node before overwriting current_node.next in the next step!\n",
    "        next_node = current_node.next\n",
    "        current_node.next = prev_node\n",
    "        prev_node = current_node\n",
    "        current_node = next_node\n",
    "    self.head, self.tail = self.tail, self.head"
   ]
  },
  {
   "cell_type": "markdown",
   "metadata": {},
   "source": [
    "## Middle of a Singly Linked List"
   ]
  },
  {
   "cell_type": "markdown",
   "metadata": {},
   "source": [
    "Write a function to find and return the middle node of a singly linked list. If the list has an even number of nodes, return the second of the two middle nodes."
   ]
  },
  {
   "cell_type": "code",
   "execution_count": 34,
   "metadata": {},
   "outputs": [],
   "source": [
    "# Method 1:\n",
    "def find_middle(self):\n",
    "    middle_index = int(self.length / 2)\n",
    "    current_index = 0\n",
    "    current_node = self.head\n",
    "    while current_index != middle_index:\n",
    "        current_index += 1\n",
    "        current_node = current_node.next\n",
    "    return current_node.value\n",
    "\n",
    "# Method 2: Fast and slow pointers \n",
    "# This approach allows you to traverse the list only once, \n",
    "# instead of first counting the elements and then accessing the middle one.\n",
    "def find_middle(self):\n",
    "        slow = self.head\n",
    "        fast = self.head\n",
    "        while fast is not None and fast.next is not None:\n",
    "            slow = slow.next\n",
    "            fast = fast.next.next\n",
    "        return slow.value\n",
    "\n",
    "# 'Fast and slow pointers' technique can also be used to detect cycles"
   ]
  },
  {
   "cell_type": "markdown",
   "metadata": {},
   "source": [
    "## Remove Duplicates from a Singly Linked List"
   ]
  },
  {
   "cell_type": "markdown",
   "metadata": {},
   "source": [
    "Given a singly linked list, write a function that removes all the duplicates. use this linked list .\n",
    "\n",
    "Original Linked List - \"1 -> 2 -> 4-> 3 -> 4->2\"\n",
    "\n",
    "Result Linked List - \"1 -> 2 -> 4 -> 3"
   ]
  },
  {
   "cell_type": "code",
   "execution_count": null,
   "metadata": {},
   "outputs": [],
   "source": [
    "# Method 1:\n",
    "def remove_duplicates(self):\n",
    "    if self.head == None:\n",
    "        return None\n",
    "    seen = set()\n",
    "    prev_node = None\n",
    "    current_node = self.head\n",
    "    while current_node != None:\n",
    "        next_node = current_node.next\n",
    "        if current_node.value not in seen:\n",
    "            seen.add(current_node.value)\n",
    "            prev_node = current_node\n",
    "        else:\n",
    "            prev_node.next = current_node.next\n",
    "            self.length -= 1\n",
    "        current_node = next_node\n",
    "\n",
    "# Method 2:\n",
    "def remove_duplicates(self):\n",
    "    if self.head is None:\n",
    "        return\n",
    "    node_values = set()  # set to store unique node values\n",
    "    current_node = self.head\n",
    "    node_values.add(current_node.value)\n",
    "    while current_node.next:\n",
    "        if current_node.next.value in node_values:  # duplicate found\n",
    "            current_node.next = current_node.next.next\n",
    "            self.length -= 1\n",
    "        else:\n",
    "            node_values.add(current_node.next.value)\n",
    "            current_node = current_node.next\n",
    "    self.tail = current_node"
   ]
  },
  {
   "cell_type": "markdown",
   "metadata": {},
   "source": [
    "## Implementing all Methods"
   ]
  },
  {
   "cell_type": "code",
   "execution_count": 81,
   "metadata": {},
   "outputs": [],
   "source": [
    "class Node:\n",
    "\n",
    "    def __init__(self, value):\n",
    "        self.value = value\n",
    "        self.next = None\n",
    "\n",
    "class LinkedList:\n",
    "\n",
    "    def __init__(self, value):\n",
    "        new_node = Node(value)\n",
    "        self.head = new_node\n",
    "        self.tail = new_node\n",
    "        self.length = 1\n",
    "\n",
    "    def __str__(self):\n",
    "        output = \"\"\n",
    "        current_node = self.head\n",
    "        while current_node != None:\n",
    "            output += str(current_node.value)\n",
    "            if current_node.next != None:\n",
    "                output += \" -> \"\n",
    "            current_node = current_node.next\n",
    "        return output\n",
    "\n",
    "    def prepend(self, value):\n",
    "        new_node = Node(value)\n",
    "        new_node.next = self.head\n",
    "        self.head = new_node\n",
    "        self.length += 1\n",
    "\n",
    "    def append(self, value):\n",
    "        new_node = Node(value)\n",
    "        if self.length == 0:\n",
    "            self.head = new_node\n",
    "            self.tail = new_node\n",
    "        else:\n",
    "            self.tail.next = new_node\n",
    "            self.tail = new_node\n",
    "        self.length += 1\n",
    "\n",
    "    def pop_first(self):\n",
    "        if self.length == 0:\n",
    "            return        \n",
    "        elif self.length == 1:\n",
    "            self.head = None\n",
    "            self.tail = None\n",
    "        else:\n",
    "            new_head = self.head.next\n",
    "            self.head.next = None\n",
    "            self.head = new_head\n",
    "        self.length -= 1\n",
    "\n",
    "    def pop(self):\n",
    "        if self.length == 0:\n",
    "            return None\n",
    "        popped_node = self.tail\n",
    "        if self.length == 1:\n",
    "            self.head = None\n",
    "            self.tail = None\n",
    "        else:\n",
    "            current_node = self.head\n",
    "            while current_node.next != popped_node:\n",
    "                current_node = current_node.next\n",
    "            current_node.next = None\n",
    "            self.tail = current_node\n",
    "        self.length -= 1\n",
    "        return popped_node\n",
    "\n",
    "    def remove(self, index):\n",
    "        if index == 0:\n",
    "            return self.pop_first()\n",
    "        elif self.length == 0 or index >= self.length or index < 0:\n",
    "            return None\n",
    "        elif index == self.length - 1:\n",
    "            return self.pop()\n",
    "        else:\n",
    "            current_index = 0\n",
    "            current_node = self.head\n",
    "            while current_index != index - 1:\n",
    "                current_index += 1\n",
    "                current_node = current_node.next\n",
    "            node_to_delete = current_node.next\n",
    "            current_node.next = node_to_delete.next\n",
    "            node_to_delete.next = None\n",
    "        self.length -= 1\n",
    "\n",
    "    def reverse(self):\n",
    "        prev_node = None\n",
    "        current_node = self.head\n",
    "        while current_node != None:\n",
    "            next_node = current_node.next\n",
    "            current_node.next = prev_node\n",
    "            prev_node = current_node\n",
    "            current_node = next_node\n",
    "        self.head, self.tail = self.tail, self.head\n",
    "        \n",
    "    def find_middle(self):\n",
    "        slow = self.head\n",
    "        fast = self.head\n",
    "        while fast is not None and fast.next is not None:\n",
    "            slow = slow.next\n",
    "            fast = fast.next.next\n",
    "        return slow.value\n",
    "    \n",
    "    def remove_duplicates(self):\n",
    "        if self.head == None:\n",
    "            return None\n",
    "        seen = set()\n",
    "        prev_node = None\n",
    "        current_node = self.head\n",
    "        while current_node != None:\n",
    "            next_node = current_node.next\n",
    "            if current_node.value not in seen:\n",
    "                seen.add(current_node.value)\n",
    "                prev_node = current_node\n",
    "            else:\n",
    "                prev_node.next = current_node.next\n",
    "                self.length -= 1\n",
    "            current_node = next_node"
   ]
  },
  {
   "cell_type": "code",
   "execution_count": 83,
   "metadata": {},
   "outputs": [
    {
     "name": "stdout",
     "output_type": "stream",
     "text": [
      "\n",
      "1. Create a linked list:\n",
      "head:       <__main__.Node object at 0x0000023C87D22850>\n",
      "tail:       <__main__.Node object at 0x0000023C87D22850>\n",
      "head.next:  None\n",
      "length:     1\n",
      "\n",
      "2. Prepand to the linked list:\n",
      "head:       <__main__.Node object at 0x0000023C87E35DC0>\n",
      "tail:       <__main__.Node object at 0x0000023C87D22850>\n",
      "head.next:  <__main__.Node object at 0x0000023C87D22850>\n",
      "length:     2\n",
      "\n",
      "3. Prepand to the linked list:\n",
      "head:       <__main__.Node object at 0x0000023C87E6B9A0>\n",
      "tail:       <__main__.Node object at 0x0000023C87D22850>\n",
      "head.next:  <__main__.Node object at 0x0000023C87E35DC0>\n",
      "length:     3\n",
      "\n",
      "4. Append to the linked list:\n",
      "head:       <__main__.Node object at 0x0000023C87E6B9A0>\n",
      "tail:       <__main__.Node object at 0x0000023C87E6B850>\n",
      "head.next:  <__main__.Node object at 0x0000023C87E35DC0>\n",
      "length:     4\n",
      "\n",
      "5. Delete an element in the linked list:\n",
      "length:     3\n",
      "\n",
      "6. Print the linked list:\n",
      "1 -> 3 -> 10\n",
      "\n",
      "8. Find the middle node in the linked list:\n",
      "3\n",
      "\n",
      "9. Remove duplicates in the linked list:\n",
      "None\n",
      "\n",
      "10. Print the linked list:\n",
      "1 -> 3 -> 10\n"
     ]
    }
   ],
   "source": [
    "print(\"\\n1. Create a linked list:\")\n",
    "llist = LinkedList(10)\n",
    "print(f\"head:       {llist.head}\")\n",
    "print(f\"tail:       {llist.tail}\")\n",
    "print(f\"head.next:  {llist.head.next}\")\n",
    "print(f\"length:     {llist.length}\")\n",
    "\n",
    "print(\"\\n2. Prepand to the linked list:\")\n",
    "llist.prepend(3)\n",
    "print(f\"head:       {llist.head}\")\n",
    "print(f\"tail:       {llist.tail}\")\n",
    "print(f\"head.next:  {llist.head.next}\")\n",
    "print(f\"length:     {llist.length}\")\n",
    "\n",
    "print(\"\\n3. Prepand to the linked list:\")\n",
    "llist.prepend(1)\n",
    "print(f\"head:       {llist.head}\")\n",
    "print(f\"tail:       {llist.tail}\")\n",
    "print(f\"head.next:  {llist.head.next}\")\n",
    "print(f\"length:     {llist.length}\")\n",
    "\n",
    "print(\"\\n4. Append to the linked list:\")\n",
    "llist.append(13)\n",
    "print(f\"head:       {llist.head}\")\n",
    "print(f\"tail:       {llist.tail}\")\n",
    "print(f\"head.next:  {llist.head.next}\")\n",
    "print(f\"length:     {llist.length}\")\n",
    "\n",
    "print(\"\\n5. Delete an element in the linked list:\")\n",
    "llist.remove(3)\n",
    "print(f\"length:     {llist.length}\")\n",
    "\n",
    "print(\"\\n6. Print the linked list:\")\n",
    "print(llist)\n",
    "\n",
    "# print(\"\\n7. Reverse the linked list:\")\n",
    "# print(llist.reverse())\n",
    "\n",
    "print(\"\\n8. Find the middle node in the linked list:\")\n",
    "print(llist.find_middle())\n",
    "\n",
    "print(\"\\n9. Remove duplicates in the linked list:\")\n",
    "print(llist.remove_duplicates())\n",
    "\n",
    "print(\"\\n10. Print the linked list:\")\n",
    "print(llist)"
   ]
  }
 ],
 "metadata": {
  "kernelspec": {
   "display_name": "Python 3",
   "language": "python",
   "name": "python3"
  },
  "language_info": {
   "codemirror_mode": {
    "name": "ipython",
    "version": 3
   },
   "file_extension": ".py",
   "mimetype": "text/x-python",
   "name": "python",
   "nbconvert_exporter": "python",
   "pygments_lexer": "ipython3",
   "version": "3.9.13"
  }
 },
 "nbformat": 4,
 "nbformat_minor": 2
}
