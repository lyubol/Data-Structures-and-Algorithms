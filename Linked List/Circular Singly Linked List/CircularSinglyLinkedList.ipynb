{
 "cells": [
  {
   "cell_type": "markdown",
   "metadata": {},
   "source": [
    "# What is Circular Singly Linked List?"
   ]
  },
  {
   "cell_type": "markdown",
   "metadata": {},
   "source": [
    "Unlike a singly linked list, which has a NULL pointer at the end of the list, a circular linked list has a pointer that points back to the first node in the list"
   ]
  },
  {
   "cell_type": "markdown",
   "metadata": {},
   "source": [
    "![My Local Image](Circular_LL.png)"
   ]
  },
  {
   "cell_type": "markdown",
   "metadata": {},
   "source": [
    "## Node and CircularLinkedList Class Constructors"
   ]
  },
  {
   "cell_type": "code",
   "execution_count": 1,
   "metadata": {},
   "outputs": [],
   "source": [
    "class Node:\n",
    "    def __init__(self, value, next=None):\n",
    "        self.val = value\n",
    "        self.next = next\n",
    "\n",
    "class CircularLinkedList:\n",
    "    def __init__(self, value):\n",
    "        new_node = Node(value)\n",
    "        new_node.next = new_node\n",
    "        self.head = new_node\n",
    "        self.tail = new_node\n",
    "        self.length = 1\n",
    "\n",
    "    # Initialize an empty circular linked list\n",
    "    # def __init__(self):\n",
    "    #     self.head = None\n",
    "    #     self.tail = None\n",
    "    #     self.length = 0"
   ]
  },
  {
   "cell_type": "code",
   "execution_count": 2,
   "metadata": {},
   "outputs": [
    {
     "name": "stdout",
     "output_type": "stream",
     "text": [
      "<__main__.Node object at 0x0000025BDC25C820>\n",
      "<__main__.Node object at 0x0000025BDC25C820>\n",
      "<__main__.Node object at 0x0000025BDC25C820>\n"
     ]
    }
   ],
   "source": [
    "cllist = CircularLinkedList(1)\n",
    "print(cllist.head)\n",
    "print(cllist.head.next)\n",
    "print(cllist.tail)"
   ]
  },
  {
   "cell_type": "markdown",
   "metadata": {},
   "source": [
    "`Time Complexity: O(1)`;\n",
    "\n",
    "`Space Complexity: O(1)`."
   ]
  },
  {
   "cell_type": "markdown",
   "metadata": {},
   "source": [
    "## Appending to Circular Singly Linked List"
   ]
  },
  {
   "cell_type": "code",
   "execution_count": 3,
   "metadata": {},
   "outputs": [],
   "source": [
    "def append(self, value):\n",
    "    new_node = Node(value)\n",
    "    if self.length == 0:\n",
    "        self.head = new_node\n",
    "        self.tail = new_node\n",
    "        new_node.next = new_node\n",
    "    else:\n",
    "        self.tail.next = new_node\n",
    "        new_node.next = self.head\n",
    "        self.tail = new_node\n",
    "    self.length += 1"
   ]
  },
  {
   "cell_type": "markdown",
   "metadata": {},
   "source": [
    "`Time Complexity: O(1)`;\n",
    "\n",
    "`Space Complexity: O(1)`."
   ]
  },
  {
   "cell_type": "markdown",
   "metadata": {},
   "source": [
    "## Printing Circular Singly Linked List"
   ]
  },
  {
   "cell_type": "code",
   "execution_count": 4,
   "metadata": {},
   "outputs": [],
   "source": [
    "def __str__(self):\n",
    "    elements = ''\n",
    "    current_node = self.head\n",
    "    while current_node.next != None:\n",
    "        elements += str(current_node.val)\n",
    "        current_node = current_node.next\n",
    "        if current_node == self.head:\n",
    "            break\n",
    "        elements += ' -> '\n",
    "    return elements"
   ]
  },
  {
   "cell_type": "markdown",
   "metadata": {},
   "source": [
    "`Time Complexity: O(n)`;\n",
    "\n",
    "`Space Complexity: O(1)`."
   ]
  },
  {
   "cell_type": "markdown",
   "metadata": {},
   "source": [
    "## Prepanding to Circular Singly Linked List"
   ]
  },
  {
   "cell_type": "code",
   "execution_count": 5,
   "metadata": {},
   "outputs": [],
   "source": [
    "def prepand(self, value):\n",
    "    new_node = Node(value)\n",
    "    if self.length == 0:\n",
    "        self.head = new_node\n",
    "        self.tail = new_node\n",
    "        new_node.next = new_node\n",
    "    else:\n",
    "        new_node.next = self.head\n",
    "        self.head = new_node\n",
    "        self.tail.next = new_node\n",
    "    self.length += 1"
   ]
  },
  {
   "cell_type": "markdown",
   "metadata": {},
   "source": [
    "`Time Complexity: O(1)`;\n",
    "\n",
    "`Space Complexity: O(1)`."
   ]
  },
  {
   "cell_type": "markdown",
   "metadata": {},
   "source": [
    "## Inserting an Element at a Given Index"
   ]
  },
  {
   "cell_type": "code",
   "execution_count": null,
   "metadata": {},
   "outputs": [],
   "source": [
    "def insert(self, index, value):\n",
    "    if index == 0 or self.length == 0:\n",
    "        return self.prepand(value)\n",
    "    elif self.length == index:\n",
    "        return self.append(value) \n",
    "    elif index < 0 or index > self.length:\n",
    "        print(\"Index do not exist!\")\n",
    "    else:\n",
    "        new_node = Node(value)\n",
    "        current_index = 0\n",
    "        current_node = self.head\n",
    "        while current_index != index - 1:\n",
    "            current_index += 1\n",
    "            current_node = current_node.next\n",
    "        new_node.next = current_node.next\n",
    "        current_node.next = new_node\n",
    "        self.length += 1"
   ]
  },
  {
   "cell_type": "markdown",
   "metadata": {},
   "source": [
    "`Time Complexity: O(n)`;\n",
    "\n",
    "`Space Complexity: O(1)`."
   ]
  },
  {
   "cell_type": "markdown",
   "metadata": {},
   "source": [
    "## Transversing"
   ]
  },
  {
   "cell_type": "code",
   "execution_count": null,
   "metadata": {},
   "outputs": [],
   "source": [
    "def traverse(self):\n",
    "    current_node = self.head\n",
    "    while current_node != None:\n",
    "        print(current_node.value)\n",
    "        current_node = current_node.next\n",
    "        if current_node == self.head:\n",
    "            break"
   ]
  },
  {
   "cell_type": "markdown",
   "metadata": {},
   "source": [
    "`Time Complexity: O(n)`;\n",
    "\n",
    "`Space Complexity: O(1)`."
   ]
  },
  {
   "cell_type": "markdown",
   "metadata": {},
   "source": [
    "## Searching for an Element"
   ]
  },
  {
   "cell_type": "code",
   "execution_count": null,
   "metadata": {},
   "outputs": [],
   "source": [
    "def search(self, value):\n",
    "    current_node = self.head\n",
    "    while current_node != None:\n",
    "        if current_node.value == value:\n",
    "            return True\n",
    "        current_node = current_node.next\n",
    "        if current_node == self.head:\n",
    "            return False"
   ]
  },
  {
   "cell_type": "markdown",
   "metadata": {},
   "source": [
    "`Time Complexity: O(n)`;\n",
    "\n",
    "`Space Complexity: O(1)`."
   ]
  },
  {
   "cell_type": "markdown",
   "metadata": {},
   "source": [
    "## Getting an Element at a Given Index"
   ]
  },
  {
   "cell_type": "code",
   "execution_count": null,
   "metadata": {},
   "outputs": [],
   "source": [
    "def get(self, index):\n",
    "    if index < 0 or index >= self.length:\n",
    "        print(\"Index do not exist!\")\n",
    "    elif index == self.length - 1:\n",
    "        return self.tail\n",
    "    elif index == 0:\n",
    "        return self.head\n",
    "    else:\n",
    "        current_index = 0\n",
    "        current_node = self.head\n",
    "        while current_node != None:\n",
    "            if current_index == index:\n",
    "                return current_node\n",
    "            current_index += 1\n",
    "            current_node = current_node.next\n",
    "            if current_node == self.head:\n",
    "                return None"
   ]
  },
  {
   "cell_type": "markdown",
   "metadata": {},
   "source": [
    "`Time Complexity: O(n)`;\n",
    "\n",
    "`Space Complexity: O(1)`."
   ]
  },
  {
   "cell_type": "markdown",
   "metadata": {},
   "source": [
    "## Setting an Element at a Given Index"
   ]
  },
  {
   "cell_type": "code",
   "execution_count": null,
   "metadata": {},
   "outputs": [],
   "source": [
    "def set(self, index, value):\n",
    "    node_to_update = self.get(index)\n",
    "    if node_to_update != None:\n",
    "        node_to_update.value = value\n",
    "        return True\n",
    "    return False"
   ]
  },
  {
   "cell_type": "markdown",
   "metadata": {},
   "source": [
    "`Time Complexity: O(n)`;\n",
    "\n",
    "`Space Complexity: O(1)`."
   ]
  },
  {
   "cell_type": "markdown",
   "metadata": {},
   "source": [
    "## Pop the First Element"
   ]
  },
  {
   "cell_type": "code",
   "execution_count": null,
   "metadata": {},
   "outputs": [],
   "source": [
    "def pop_first(self):\n",
    "    if self.length == 0:\n",
    "        return None\n",
    "    head_node = self.head\n",
    "    if self.length == 1:\n",
    "        self.head = None\n",
    "        self.tail = None\n",
    "    else:\n",
    "        self.head = self.head.next\n",
    "        self.tail.next = self.head\n",
    "        head_node.next = None\n",
    "    self.length -= 1\n",
    "    return head_node"
   ]
  },
  {
   "cell_type": "markdown",
   "metadata": {},
   "source": [
    "`Time Complexity: O(1)`;\n",
    "\n",
    "`Space Complexity: O(1)`."
   ]
  },
  {
   "cell_type": "markdown",
   "metadata": {},
   "source": [
    "## Pop the Last Element"
   ]
  },
  {
   "cell_type": "code",
   "execution_count": 70,
   "metadata": {},
   "outputs": [],
   "source": [
    "def pop(self):\n",
    "    if self.length == 0:\n",
    "        return None\n",
    "    current_node = self.head\n",
    "    if self.length == 1:\n",
    "        self.head = None\n",
    "        self.tail = None\n",
    "    else:\n",
    "        while current_node.next != self.tail:\n",
    "            current_node = current_node.next\n",
    "        node_to_pop = current_node.next\n",
    "        current_node.next = self.head\n",
    "        node_to_pop.next = None\n",
    "    self.length -= 1\n",
    "    return node_to_pop"
   ]
  },
  {
   "cell_type": "markdown",
   "metadata": {},
   "source": [
    "`Time Complexity: O(n)`;\n",
    "\n",
    "`Space Complexity: O(1)`."
   ]
  },
  {
   "cell_type": "markdown",
   "metadata": {},
   "source": [
    "## Remove an Element at a Given Index"
   ]
  },
  {
   "cell_type": "code",
   "execution_count": 92,
   "metadata": {},
   "outputs": [],
   "source": [
    "def remove(self, index):\n",
    "    if index < 0 or index >= self.length:\n",
    "        return None\n",
    "    elif index == 0:\n",
    "        return self.pop_first()\n",
    "    elif index == self.length - 1:\n",
    "        return self.pop()\n",
    "    else:\n",
    "        current_index = 0\n",
    "        current_node = self.head\n",
    "        while current_index != index - 1:\n",
    "            current_index += 1\n",
    "            current_node = current_node.next\n",
    "        node_to_remove = current_node.next\n",
    "        current_node.next = node_to_remove.next\n",
    "        node_to_remove.next = None\n",
    "    self.length -= 1\n",
    "    return node_to_remove"
   ]
  },
  {
   "cell_type": "markdown",
   "metadata": {},
   "source": [
    "`Time Complexity: O(n)`;\n",
    "\n",
    "`Space Complexity: O(1)`."
   ]
  },
  {
   "cell_type": "markdown",
   "metadata": {},
   "source": [
    "## Delete all Elements"
   ]
  },
  {
   "cell_type": "code",
   "execution_count": null,
   "metadata": {},
   "outputs": [],
   "source": [
    "def delete_all(self):\n",
    "    self.tail.next = None\n",
    "    self.head = None\n",
    "    self.tail = None\n",
    "    self.length = 0"
   ]
  },
  {
   "cell_type": "markdown",
   "metadata": {},
   "source": [
    "`Time Complexity: O(1)`;\n",
    "\n",
    "`Space Complexity: O(1)`."
   ]
  },
  {
   "cell_type": "markdown",
   "metadata": {},
   "source": [
    "## Time and Space Complexity of Circular Singly Linked Lists"
   ]
  },
  {
   "cell_type": "markdown",
   "metadata": {},
   "source": [
    "| `Operation`                                   | `Time Complexity`                     | `Space complexity`                    |\n",
    "| --------------------------------------------- | ------------------------------------- | ------------------------------------- |\n",
    "| Create                                        | O(1)                                  | O(1)                                  |\n",
    "| Append                                        | O(1)                                  | O(1)                                  |\n",
    "| Prepend                                       | O(1)                                  | O(1)                                  |\n",
    "| Insert                                        | O(n)                                  | O(1)                                  |\n",
    "| Search                                        | O(n)                                  | O(1)                                  |\n",
    "| Traverse                                      | O(n)                                  | O(1)                                  |\n",
    "| Get                                           | O(n)                                  | O(1)                                  |\n",
    "| Set                                           | O(n)                                  | O(1)                                  |\n",
    "| Pop First                                     | O(1)                                  | O(1)                                  |\n",
    "| Pop                                           | O(n)                                  | O(1)                                  |\n",
    "| Remove                                        | O(n)                                  | O(1)                                  |\n",
    "| Delete all nodes                              | O(1)                                  | O(1)                                  |"
   ]
  },
  {
   "cell_type": "markdown",
   "metadata": {},
   "source": [
    "## Implementating All Methods"
   ]
  },
  {
   "cell_type": "code",
   "execution_count": 102,
   "metadata": {},
   "outputs": [],
   "source": [
    "class Node:\n",
    "    def __init__(self, value, next=None):\n",
    "        self.value = value\n",
    "        self.next = next\n",
    "\n",
    "class CircularLinkedList:\n",
    "    # def __init__(self):\n",
    "    #     self.head = None\n",
    "    #     self.tail = None\n",
    "    #     self.length = 0\n",
    "\n",
    "    def __init__(self, value):\n",
    "        new_node = Node(value)\n",
    "        new_node.next = new_node\n",
    "        self.head = new_node\n",
    "        self.tail = new_node\n",
    "        self.length = 1\n",
    "\n",
    "    def append(self, value):\n",
    "        new_node = Node(value)\n",
    "        if self.length == 0:\n",
    "            self.head = new_node\n",
    "            self.tail = new_node\n",
    "            new_node.next = new_node\n",
    "        else:\n",
    "            self.tail.next = new_node\n",
    "            new_node.next = self.head\n",
    "            self.tail = new_node\n",
    "        self.length += 1\n",
    "\n",
    "    def __str__(self):\n",
    "        if self.length == 0:\n",
    "            return 'List is empty!'\n",
    "        elements = ''\n",
    "        current_node = self.head\n",
    "        while current_node.next != None:\n",
    "            elements += str(current_node.value)\n",
    "            current_node = current_node.next\n",
    "            if current_node == self.head:\n",
    "                break\n",
    "            elements += ' -> '\n",
    "        return elements\n",
    "    \n",
    "    def prepand(self, value):\n",
    "        new_node = Node(value)\n",
    "        if self.length == 0:\n",
    "            self.head = new_node\n",
    "            self.tail = new_node\n",
    "            new_node.next = new_node\n",
    "        else:\n",
    "            new_node.next = self.head\n",
    "            self.head = new_node\n",
    "            self.tail.next = new_node\n",
    "        self.length += 1\n",
    "\n",
    "    def insert(self, index, value):\n",
    "        if index == 0 or self.length == 0:\n",
    "            return self.prepand(value)\n",
    "        elif self.length == index:\n",
    "            return self.append(value) \n",
    "        elif index < 0 or index > self.length:\n",
    "            print(\"Index do not exist!\")\n",
    "        else:\n",
    "            new_node = Node(value)\n",
    "            current_index = 0\n",
    "            current_node = self.head\n",
    "            while current_index != index - 1:\n",
    "                current_index += 1\n",
    "                current_node = current_node.next\n",
    "            new_node.next = current_node.next\n",
    "            current_node.next = new_node\n",
    "            self.length += 1\n",
    "\n",
    "    def traverse(self):\n",
    "        current_node = self.head\n",
    "        while current_node != None:\n",
    "            print(current_node.value)\n",
    "            current_node = current_node.next\n",
    "            if current_node == self.head:\n",
    "                break\n",
    "\n",
    "    def search(self, value):\n",
    "        current_node = self.head\n",
    "        while current_node != None:\n",
    "            if current_node.value == value:\n",
    "                return True\n",
    "            current_node = current_node.next\n",
    "            if current_node == self.head:\n",
    "                return False\n",
    "            \n",
    "    def get(self, index):\n",
    "        if index < 0 or index >= self.length:\n",
    "            print(\"Index do not exist!\")\n",
    "        elif index == self.length - 1:\n",
    "            return self.tail\n",
    "        elif index == 0:\n",
    "            return self.head\n",
    "        else:\n",
    "            current_index = 0\n",
    "            current_node = self.head\n",
    "            while current_node != None:\n",
    "                if current_index == index:\n",
    "                    return current_node\n",
    "                current_index += 1\n",
    "                current_node = current_node.next\n",
    "                if current_node == self.head:\n",
    "                    return None\n",
    "                \n",
    "    def set(self, index, value):\n",
    "        node_to_update = self.get(index)\n",
    "        if node_to_update != None:\n",
    "            node_to_update.value = value\n",
    "            return True\n",
    "        return False\n",
    "    \n",
    "    def pop_first(self):\n",
    "        if self.length == 0:\n",
    "            return None\n",
    "        head_node = self.head\n",
    "        if self.length == 1:\n",
    "            self.head = None\n",
    "            self.tail = None\n",
    "        else:\n",
    "            self.head = self.head.next\n",
    "            self.tail.next = self.head\n",
    "            head_node.next = None\n",
    "        self.length -= 1\n",
    "        return head_node\n",
    "    \n",
    "    def pop(self):\n",
    "        if self.length == 0:\n",
    "            return None\n",
    "        if self.length == 1:\n",
    "            node_to_pop = self.head\n",
    "            self.head = None\n",
    "            self.tail = None\n",
    "        else:\n",
    "            current_node = self.head\n",
    "            while current_node.next != self.tail:\n",
    "                current_node = current_node.next\n",
    "            node_to_pop = current_node.next\n",
    "            current_node.next = self.head\n",
    "            self.tail = current_node\n",
    "            node_to_pop.next = None\n",
    "        self.length -= 1\n",
    "        return node_to_pop\n",
    "    \n",
    "    def remove(self, index):\n",
    "        if index < 0 or index >= self.length:\n",
    "            return None\n",
    "        elif index == 0:\n",
    "            return self.pop_first()\n",
    "        elif index == self.length - 1:\n",
    "            return self.pop()\n",
    "        else:\n",
    "            current_index = 0\n",
    "            current_node = self.head\n",
    "            while current_index != index - 1:\n",
    "                current_index += 1\n",
    "                current_node = current_node.next\n",
    "            node_to_remove = current_node.next\n",
    "            current_node.next = node_to_remove.next\n",
    "            node_to_remove.next = None\n",
    "        self.length -= 1\n",
    "        return node_to_remove\n",
    "    \n",
    "    def delete_all(self):\n",
    "        self.tail.next = None\n",
    "        self.head = None\n",
    "        self.tail = None\n",
    "        self.length = 0"
   ]
  },
  {
   "cell_type": "markdown",
   "metadata": {},
   "source": [
    "## Sample Execution"
   ]
  },
  {
   "cell_type": "code",
   "execution_count": 103,
   "metadata": {},
   "outputs": [
    {
     "name": "stdout",
     "output_type": "stream",
     "text": [
      "\n",
      "1. Create a circular linked list:\n",
      "head:       <__main__.Node object at 0x0000029362847070>\n",
      "tail:       <__main__.Node object at 0x0000029362847070>\n",
      "head.next:  <__main__.Node object at 0x0000029362847070>\n",
      "tail.next:  <__main__.Node object at 0x0000029362847070>\n",
      "length:     1\n",
      "\n",
      "2. Append to a circular linked list:\n",
      "head:       <__main__.Node object at 0x0000029362847070>\n",
      "tail:       <__main__.Node object at 0x0000029362779790>\n",
      "head.next:  <__main__.Node object at 0x0000029362779790>\n",
      "tail.next:  <__main__.Node object at 0x0000029362847070>\n",
      "length:     2\n",
      "\n",
      "3. Append to a circular linked list:\n",
      "head:       <__main__.Node object at 0x0000029362847070>\n",
      "tail:       <__main__.Node object at 0x0000029362551B50>\n",
      "head.next:  <__main__.Node object at 0x0000029362779790>\n",
      "tail.next:  <__main__.Node object at 0x0000029362847070>\n",
      "length:     3\n",
      "\n",
      "4. Prepand to a circular linked list:\n",
      "head:       <__main__.Node object at 0x0000029362551AF0>\n",
      "tail:       <__main__.Node object at 0x0000029362551B50>\n",
      "head.next:  <__main__.Node object at 0x0000029362847070>\n",
      "tail.next:  <__main__.Node object at 0x0000029362551AF0>\n",
      "length:     4\n",
      "\n",
      "5. Insert to a circular linked list:\n",
      "head:       <__main__.Node object at 0x0000029362551AF0>\n",
      "tail:       <__main__.Node object at 0x0000029362551B50>\n",
      "head.next:  <__main__.Node object at 0x0000029362847070>\n",
      "tail.next:  <__main__.Node object at 0x0000029362551AF0>\n",
      "length:     5\n",
      "\n",
      "6. Traverse the linked list:\n",
      "5\n",
      "10\n",
      "13\n",
      "13\n",
      "17\n",
      "\n",
      "7. Search for an element in the linked list:\n",
      "True\n",
      "\\8. Get an element in the linked list:\n",
      "<__main__.Node object at 0x0000029362551B50>\n",
      "\n",
      "9. Set an element in the linked list:\n",
      "True\n",
      "\n",
      "10. Pop (remove) the first element in the linked list:\n",
      "<__main__.Node object at 0x0000029362551AF0>\n",
      "\n",
      "10. Pop (remove) the last element in the linked list:\n",
      "<__main__.Node object at 0x0000029362551B50>\n",
      "\n",
      "11. Remove an element in the linked list:\n",
      "<__main__.Node object at 0x000002936269C370>\n",
      "\n",
      "12. Print the linked list:\n",
      "10 -> 15\n",
      "\n",
      "13. Delete all elements in the linked list:\n",
      "None\n",
      "head:       None\n",
      "tail:       None\n",
      "\n",
      "14. Print the linked list:\n",
      "List is empty!\n"
     ]
    }
   ],
   "source": [
    "print(\"\\n1. Create a circular linked list:\")\n",
    "cllist = CircularLinkedList(10)\n",
    "print(f\"head:       {cllist.head}\")\n",
    "print(f\"tail:       {cllist.tail}\")\n",
    "print(f\"head.next:  {cllist.head.next}\")\n",
    "print(f\"tail.next:  {cllist.tail.next}\")\n",
    "print(f\"length:     {cllist.length}\")\n",
    "\n",
    "print(\"\\n2. Append to a circular linked list:\")\n",
    "cllist.append(13)\n",
    "print(f\"head:       {cllist.head}\")\n",
    "print(f\"tail:       {cllist.tail}\")\n",
    "print(f\"head.next:  {cllist.head.next}\")\n",
    "print(f\"tail.next:  {cllist.tail.next}\")\n",
    "print(f\"length:     {cllist.length}\")\n",
    "\n",
    "print(\"\\n3. Append to a circular linked list:\")\n",
    "cllist.append(17)\n",
    "print(f\"head:       {cllist.head}\")\n",
    "print(f\"tail:       {cllist.tail}\")\n",
    "print(f\"head.next:  {cllist.head.next}\")\n",
    "print(f\"tail.next:  {cllist.tail.next}\")\n",
    "print(f\"length:     {cllist.length}\")\n",
    "\n",
    "print(\"\\n4. Prepand to a circular linked list:\")\n",
    "cllist.prepand(5)\n",
    "print(f\"head:       {cllist.head}\")\n",
    "print(f\"tail:       {cllist.tail}\")\n",
    "print(f\"head.next:  {cllist.head.next}\")\n",
    "print(f\"tail.next:  {cllist.tail.next}\")\n",
    "print(f\"length:     {cllist.length}\")\n",
    "\n",
    "print(\"\\n5. Insert to a circular linked list:\")\n",
    "cllist.insert(2, 13)\n",
    "print(f\"head:       {cllist.head}\")\n",
    "print(f\"tail:       {cllist.tail}\")\n",
    "print(f\"head.next:  {cllist.head.next}\")\n",
    "print(f\"tail.next:  {cllist.tail.next}\")\n",
    "print(f\"length:     {cllist.length}\")\n",
    "\n",
    "print(\"\\n6. Traverse the linked list:\")\n",
    "cllist.traverse()\n",
    "\n",
    "print(\"\\n7. Search for an element in the linked list:\")\n",
    "print(cllist.search(17))\n",
    "\n",
    "print(\"\\8. Get an element in the linked list:\")\n",
    "print(cllist.get(4))\n",
    "\n",
    "print(\"\\n9. Set an element in the linked list:\")\n",
    "print(cllist.set(3, 15))\n",
    "\n",
    "print(\"\\n10. Pop (remove) the first element in the linked list:\")\n",
    "print(cllist.pop_first())\n",
    "\n",
    "print(\"\\n10. Pop (remove) the last element in the linked list:\")\n",
    "print(cllist.pop())\n",
    "\n",
    "print(\"\\n11. Remove an element in the linked list:\")\n",
    "print(cllist.remove(1))\n",
    "\n",
    "print(\"\\n12. Print the linked list:\")\n",
    "print(cllist)\n",
    "\n",
    "print(\"\\n13. Delete all elements in the linked list:\")\n",
    "print(cllist.delete_all())\n",
    "print(f\"head:       {cllist.head}\")\n",
    "print(f\"tail:       {cllist.tail}\")\n",
    "\n",
    "print(\"\\n14. Print the linked list:\")\n",
    "print(cllist)"
   ]
  }
 ],
 "metadata": {
  "kernelspec": {
   "display_name": "Python 3",
   "language": "python",
   "name": "python3"
  },
  "language_info": {
   "codemirror_mode": {
    "name": "ipython",
    "version": 3
   },
   "file_extension": ".py",
   "mimetype": "text/x-python",
   "name": "python",
   "nbconvert_exporter": "python",
   "pygments_lexer": "ipython3",
   "version": "3.9.13"
  }
 },
 "nbformat": 4,
 "nbformat_minor": 2
}
