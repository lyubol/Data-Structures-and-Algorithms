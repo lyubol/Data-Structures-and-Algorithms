{
 "cells": [
  {
   "cell_type": "markdown",
   "metadata": {},
   "source": [
    "# What is a queue?"
   ]
  },
  {
   "cell_type": "markdown",
   "metadata": {},
   "source": [
    "A Queue is defined as a linear data structure that is open at both ends and the operations are performed in First In First Out (FIFO) order."
   ]
  },
  {
   "cell_type": "markdown",
   "metadata": {},
   "source": [
    "![My Local Image](Queue-Data-Structures.png))"
   ]
  },
  {
   "cell_type": "markdown",
   "metadata": {},
   "source": [
    "`FIFO Principle of Queue:`\n",
    "- A Queue is like a line waiting to purchase tickets, where the first person in line is the first person served. (i.e. First come first serve);\n",
    "- Position of the entry in a queue ready to be served, that is, the first entry that will be removed from the queue, is called the front of the queue(sometimes, head of the queue), similarly, the position of the last entry in the queue, that is, the one most recently added, is called the rear (or the tail) of the queue. See the below figure.\n",
    "\n",
    "`Characteristics of Queue:`\n",
    "- Queue can handle multiple data.\n",
    "- We can access both ends.\n",
    "- They are fast and flexible. \n"
   ]
  },
  {
   "cell_type": "markdown",
   "metadata": {},
   "source": [
    "## Implementing queue using Python list"
   ]
  },
  {
   "cell_type": "markdown",
   "metadata": {},
   "source": [
    "A queue can be implemented using either Python list or a linked list. The disadvantage of using a Python list is that it is not efficient. The reason is that when we remove an item from the front of the list, the remaining items have to be shifted to the left by one position. This is an expensive operation."
   ]
  },
  {
   "cell_type": "markdown",
   "metadata": {},
   "source": [
    "`Operations:`\n",
    "\n",
    "- Create queue;\n",
    "- Enqueue;\n",
    "- Dequeue;\n",
    "- Peek;\n",
    "- isEmpty;\n",
    "- isFull;\n",
    "- deleteQueue;"
   ]
  },
  {
   "cell_type": "code",
   "execution_count": 39,
   "metadata": {},
   "outputs": [],
   "source": [
    "class Queue:\n",
    "    def __init__(self):\n",
    "        self.queue = []\n",
    "\n",
    "    def __str__(self):\n",
    "        elements = [str(i) for i in self.queue]\n",
    "        return '\\n'.join(elements)\n",
    "\n",
    "    def isEmpty(self):\n",
    "        if self.queue == []:\n",
    "            return True\n",
    "        else:\n",
    "            return False\n",
    "\n",
    "    def enqueue(self, value):\n",
    "        self.queue.append(value)\n",
    "\n",
    "    def dequeue(self):\n",
    "        if self.isEmpty() == True:\n",
    "            return None\n",
    "        else:\n",
    "            return self.queue.pop(0)\n",
    "\n",
    "    def peek(self):\n",
    "        if self.isEmpty() == True:\n",
    "            return None\n",
    "        else:\n",
    "            return self.queue[0]\n",
    "    \n",
    "    def delete(self):\n",
    "        self.queue = []"
   ]
  },
  {
   "cell_type": "code",
   "execution_count": 40,
   "metadata": {},
   "outputs": [
    {
     "name": "stdout",
     "output_type": "stream",
     "text": [
      "\n",
      "1. Create a linked list:\n",
      "\n",
      "2. Check if queue is empty:\n",
      "True\n",
      "\n",
      "3. Enqueue an element:\n",
      "None\n",
      "\n",
      "4. Enqueue an element:\n",
      "None\n",
      "\n",
      "5. Enqueue an element:\n",
      "None\n",
      "\n",
      "6. Enqueue an element:\n",
      "None\n",
      "\n",
      "7. Enqueue an element:\n",
      "None\n",
      "\n",
      "8. Print the queue before dequeue:\n",
      "1\n",
      "2\n",
      "3\n",
      "4\n",
      "5\n",
      "\n",
      "9. Dequeue an element:\n",
      "1\n",
      "\n",
      "10. Print the queue after dequeue:\n",
      "2\n",
      "3\n",
      "4\n",
      "5\n",
      "\n",
      "11. Peek at the queue:\n",
      "2\n",
      "\n",
      "12. Delete the queue:\n",
      "None\n",
      "\n",
      "2. Check if queue is empty:\n",
      "True\n"
     ]
    }
   ],
   "source": [
    "print(\"\\n1. Create a linked list:\")\n",
    "myqueue = Queue()\n",
    "\n",
    "print(\"\\n2. Check if queue is empty:\")\n",
    "print(myqueue.isEmpty())\n",
    "\n",
    "print(\"\\n3. Enqueue an element:\")\n",
    "print(myqueue.enqueue(1))\n",
    "\n",
    "print(\"\\n4. Enqueue an element:\")\n",
    "print(myqueue.enqueue(2))\n",
    "\n",
    "print(\"\\n5. Enqueue an element:\")\n",
    "print(myqueue.enqueue(3))\n",
    "\n",
    "print(\"\\n6. Enqueue an element:\")\n",
    "print(myqueue.enqueue(4))\n",
    "\n",
    "print(\"\\n7. Enqueue an element:\")\n",
    "print(myqueue.enqueue(5))\n",
    "\n",
    "print(\"\\n8. Print the queue before dequeue:\")\n",
    "print(myqueue)\n",
    "\n",
    "print(\"\\n9. Dequeue an element:\")\n",
    "print(myqueue.dequeue())\n",
    "\n",
    "print(\"\\n10. Print the queue after dequeue:\")\n",
    "print(myqueue)\n",
    "\n",
    "print(\"\\n11. Peek at the queue:\")\n",
    "print(myqueue.peek())\n",
    "\n",
    "print(\"\\n12. Delete the queue:\")\n",
    "print(myqueue.delete())\n",
    "\n",
    "print(\"\\n2. Check if queue is empty after delete:\")\n",
    "print(myqueue.isEmpty())"
   ]
  },
  {
   "cell_type": "markdown",
   "metadata": {},
   "source": [
    "### Time and Space Complexity of Queue operations with Python List"
   ]
  },
  {
   "cell_type": "markdown",
   "metadata": {},
   "source": [
    "| `Operation`                                   | `Time Complexity`                     | `Space complexity`                    |\n",
    "| --------------------------------------------- | ------------------------------------- | ------------------------------------- |\n",
    "| Create                                        | O(1)                                  | O(1)                                  |\n",
    "| Push                                          | O(n)                                  | O(1)                                  |\n",
    "| Pop                                           | O(n)                                  | O(1)                                  |\n",
    "| Peak                                          | O(1)                                  | O(1)                                  |\n",
    "| isEmpty                                       | O(1)                                  | O(1)                                  |\n",
    "| Delete Entire Stack                           | O(1)                                  | O(1)                                  |"
   ]
  },
  {
   "cell_type": "markdown",
   "metadata": {},
   "source": [
    "## Implementing queue with fixed size, using Python list"
   ]
  },
  {
   "cell_type": "code",
   "execution_count": 71,
   "metadata": {},
   "outputs": [],
   "source": [
    "class CircularQueue:\n",
    "    def __init__(self, max_size):\n",
    "        self.queue = [None] * max_size\n",
    "        self.max_size = max_size\n",
    "        self.start = -1\n",
    "        self.top = -1\n",
    "\n",
    "    def __str__(self):\n",
    "        elements = [str(i) for i in self.queue]\n",
    "        return ' '.join(elements)\n",
    "    \n",
    "    def isFull(self):\n",
    "        if self.top + 1 == self.start:\n",
    "            return True\n",
    "        elif self.start == 0 and self.top + 1 == self.max_size:\n",
    "            return True\n",
    "        else:\n",
    "            return False\n",
    "        \n",
    "    def isEmpty(self):\n",
    "        if self.top == -1 and self.top == -1:\n",
    "            return True\n",
    "        else:\n",
    "            return False\n",
    "    \n",
    "    def enqueue(self, value):\n",
    "        if self.isFull() == True:\n",
    "            return 'Queue is full!'\n",
    "        elif self.isEmpty() == True:\n",
    "            self.start += 1\n",
    "            self.top += 1\n",
    "        else:\n",
    "            self.top += 1\n",
    "        self.queue[self.top] = value\n",
    "\n",
    "    def dequeue(self):\n",
    "        if self.isEmpty() == True:\n",
    "            return \"Queue is empty!\"\n",
    "        else:\n",
    "            self.queue[self.start] = None\n",
    "            self.start += 1 \n",
    "\n",
    "    def peek(self):\n",
    "        if self.isEmpty() == True:\n",
    "            return None\n",
    "        else:\n",
    "            return self.queue[self.start]\n",
    "        \n",
    "    def delete(self):\n",
    "        if self.isEmpty() == False:\n",
    "            self.queue = [None] * self.max_size"
   ]
  },
  {
   "cell_type": "code",
   "execution_count": 75,
   "metadata": {},
   "outputs": [
    {
     "name": "stdout",
     "output_type": "stream",
     "text": [
      "\n",
      "1. Create a linked list:\n",
      "\n",
      "2. Check if queue is full:\n",
      "False\n",
      "\n",
      "3. Check if queue is empty:\n",
      "True\n",
      "\n",
      "4. Enqueue an element:\n",
      "None\n",
      "\n",
      "5. Enqueue an element:\n",
      "None\n",
      "\n",
      "6. Enqueue an element:\n",
      "None\n",
      "\n",
      "7. Enqueue an element:\n",
      "Queue is full!\n",
      "\n",
      "8. Print the queue:\n",
      "1 2 3\n",
      "\n",
      "9. Dequeue an element:\n",
      "None\n",
      "\n",
      "9. Dequeue an element:\n",
      "None\n",
      "\n",
      "9. Dequeue an element:\n",
      "None\n",
      "\n",
      "9. Dequeue an element:\n"
     ]
    },
    {
     "ename": "IndexError",
     "evalue": "list assignment index out of range",
     "output_type": "error",
     "traceback": [
      "\u001b[1;31m---------------------------------------------------------------------------\u001b[0m",
      "\u001b[1;31mIndexError\u001b[0m                                Traceback (most recent call last)",
      "\u001b[1;32mc:\\Users\\L_L\\Documents\\GitHub Repositories\\Data-Structures-and-Algorithms\\Queue\\Queue.ipynb Cell 14\u001b[0m line \u001b[0;36m<cell line: 35>\u001b[1;34m()\u001b[0m\n\u001b[0;32m     <a href='vscode-notebook-cell:/c%3A/Users/L_L/Documents/GitHub%20Repositories/Data-Structures-and-Algorithms/Queue/Queue.ipynb#X23sZmlsZQ%3D%3D?line=31'>32</a>\u001b[0m \u001b[39mprint\u001b[39m(myqueue\u001b[39m.\u001b[39mdequeue())\n\u001b[0;32m     <a href='vscode-notebook-cell:/c%3A/Users/L_L/Documents/GitHub%20Repositories/Data-Structures-and-Algorithms/Queue/Queue.ipynb#X23sZmlsZQ%3D%3D?line=33'>34</a>\u001b[0m \u001b[39mprint\u001b[39m(\u001b[39m\"\u001b[39m\u001b[39m\\n\u001b[39;00m\u001b[39m9. Dequeue an element:\u001b[39m\u001b[39m\"\u001b[39m)\n\u001b[1;32m---> <a href='vscode-notebook-cell:/c%3A/Users/L_L/Documents/GitHub%20Repositories/Data-Structures-and-Algorithms/Queue/Queue.ipynb#X23sZmlsZQ%3D%3D?line=34'>35</a>\u001b[0m \u001b[39mprint\u001b[39m(myqueue\u001b[39m.\u001b[39;49mdequeue())\n\u001b[0;32m     <a href='vscode-notebook-cell:/c%3A/Users/L_L/Documents/GitHub%20Repositories/Data-Structures-and-Algorithms/Queue/Queue.ipynb#X23sZmlsZQ%3D%3D?line=36'>37</a>\u001b[0m \u001b[39mprint\u001b[39m(\u001b[39m\"\u001b[39m\u001b[39m\\n\u001b[39;00m\u001b[39m13. Print the queue:\u001b[39m\u001b[39m\"\u001b[39m)\n\u001b[0;32m     <a href='vscode-notebook-cell:/c%3A/Users/L_L/Documents/GitHub%20Repositories/Data-Structures-and-Algorithms/Queue/Queue.ipynb#X23sZmlsZQ%3D%3D?line=37'>38</a>\u001b[0m \u001b[39mprint\u001b[39m(myqueue)\n",
      "\u001b[1;32mc:\\Users\\L_L\\Documents\\GitHub Repositories\\Data-Structures-and-Algorithms\\Queue\\Queue.ipynb Cell 14\u001b[0m line \u001b[0;36mCircularQueue.dequeue\u001b[1;34m(self)\u001b[0m\n\u001b[0;32m     <a href='vscode-notebook-cell:/c%3A/Users/L_L/Documents/GitHub%20Repositories/Data-Structures-and-Algorithms/Queue/Queue.ipynb#X23sZmlsZQ%3D%3D?line=37'>38</a>\u001b[0m     \u001b[39mreturn\u001b[39;00m \u001b[39m\"\u001b[39m\u001b[39mQueue is empty!\u001b[39m\u001b[39m\"\u001b[39m\n\u001b[0;32m     <a href='vscode-notebook-cell:/c%3A/Users/L_L/Documents/GitHub%20Repositories/Data-Structures-and-Algorithms/Queue/Queue.ipynb#X23sZmlsZQ%3D%3D?line=38'>39</a>\u001b[0m \u001b[39melse\u001b[39;00m:\n\u001b[1;32m---> <a href='vscode-notebook-cell:/c%3A/Users/L_L/Documents/GitHub%20Repositories/Data-Structures-and-Algorithms/Queue/Queue.ipynb#X23sZmlsZQ%3D%3D?line=39'>40</a>\u001b[0m     \u001b[39mself\u001b[39m\u001b[39m.\u001b[39mqueue[\u001b[39mself\u001b[39m\u001b[39m.\u001b[39mstart] \u001b[39m=\u001b[39m \u001b[39mNone\u001b[39;00m\n\u001b[0;32m     <a href='vscode-notebook-cell:/c%3A/Users/L_L/Documents/GitHub%20Repositories/Data-Structures-and-Algorithms/Queue/Queue.ipynb#X23sZmlsZQ%3D%3D?line=40'>41</a>\u001b[0m     \u001b[39mself\u001b[39m\u001b[39m.\u001b[39mstart \u001b[39m+\u001b[39m\u001b[39m=\u001b[39m \u001b[39m1\u001b[39m\n",
      "\u001b[1;31mIndexError\u001b[0m: list assignment index out of range"
     ]
    }
   ],
   "source": [
    "print(\"\\n1. Create a linked list:\")\n",
    "myqueue = CircularQueue(3)\n",
    "\n",
    "print(\"\\n2. Check if queue is full:\")\n",
    "print(myqueue.isFull())\n",
    "\n",
    "print(\"\\n3. Check if queue is empty:\")\n",
    "print(myqueue.isEmpty())\n",
    "\n",
    "print(\"\\n4. Enqueue an element:\")\n",
    "print(myqueue.enqueue(1))\n",
    "\n",
    "print(\"\\n5. Enqueue an element:\")\n",
    "print(myqueue.enqueue(2))\n",
    "\n",
    "print(\"\\n6. Enqueue an element:\")\n",
    "print(myqueue.enqueue(3))\n",
    "\n",
    "print(\"\\n7. Enqueue an element:\")\n",
    "print(myqueue.enqueue(4))\n",
    "\n",
    "print(\"\\n8. Print the queue:\")\n",
    "print(myqueue)\n",
    "\n",
    "print(\"\\n9. Dequeue an element:\")\n",
    "print(myqueue.dequeue())\n",
    "\n",
    "print(\"\\n9. Dequeue an element:\")\n",
    "print(myqueue.dequeue())\n",
    "\n",
    "print(\"\\n9. Dequeue an element:\")\n",
    "print(myqueue.dequeue())\n",
    "\n",
    "print(\"\\n9. Dequeue an element:\")\n",
    "print(myqueue.dequeue())\n",
    "\n",
    "print(\"\\n13. Print the queue:\")\n",
    "print(myqueue)\n",
    "\n",
    "\n",
    "# print(\"\\n10. Print the queue after dequeue:\")\n",
    "# print(myqueue)\n",
    "\n",
    "# print(\"\\n11. Peek at the queue:\")\n",
    "# print(myqueue.peek())\n",
    "\n",
    "# print(\"\\n12. Delete the queue:\")\n",
    "# print(myqueue.delete())\n",
    "\n",
    "# print(\"\\n2. Check if queue is empty after delete:\")\n",
    "# print(myqueue.isEmpty())"
   ]
  },
  {
   "cell_type": "code",
   "execution_count": 77,
   "metadata": {},
   "outputs": [
    {
     "name": "stdout",
     "output_type": "stream",
     "text": [
      "None\n"
     ]
    }
   ],
   "source": [
    "lst = [1,2,3]\n",
    "lst = None\n",
    "print(lst)"
   ]
  },
  {
   "cell_type": "code",
   "execution_count": null,
   "metadata": {},
   "outputs": [],
   "source": []
  }
 ],
 "metadata": {
  "kernelspec": {
   "display_name": "Python 3",
   "language": "python",
   "name": "python3"
  },
  "language_info": {
   "codemirror_mode": {
    "name": "ipython",
    "version": 3
   },
   "file_extension": ".py",
   "mimetype": "text/x-python",
   "name": "python",
   "nbconvert_exporter": "python",
   "pygments_lexer": "ipython3",
   "version": "3.9.13"
  }
 },
 "nbformat": 4,
 "nbformat_minor": 2
}
