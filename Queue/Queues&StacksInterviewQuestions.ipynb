{
 "cells": [
  {
   "cell_type": "markdown",
   "metadata": {},
   "source": [
    "# Queues and Stacks Interview Questions"
   ]
  },
  {
   "cell_type": "markdown",
   "metadata": {},
   "source": [
    "## 1. Three in One"
   ]
  },
  {
   "cell_type": "markdown",
   "metadata": {},
   "source": [
    "Describe how you could use a single array to implement three stacks."
   ]
  },
  {
   "cell_type": "code",
   "execution_count": 285,
   "metadata": {},
   "outputs": [],
   "source": [
    "class ThreeStack:\n",
    "    def __init__(self, capacity):\n",
    "        capacity = capacity * 3\n",
    "        self.stack = [None] * capacity\n",
    "        self.start = [0, capacity//3, 2*(capacity//3)]\n",
    "        self.end = [capacity//3, 2*(capacity//3), capacity]\n",
    "\n",
    "    def __str__(self):\n",
    "        # elements = self.stack.reverse()\n",
    "        elements = [str(i) for i in self.stack]\n",
    "        return ' '.join(elements)\n",
    "    \n",
    "    def isEmpty(self, stack):\n",
    "        if self.stack[self.start[stack-1] - 1] == None:\n",
    "            return True\n",
    "        else:\n",
    "            return False\n",
    "        \n",
    "    def isFull(self, stack):\n",
    "        if self.stack[self.end[stack-1] - 1] != None:\n",
    "            return True\n",
    "        else:\n",
    "            return False\n",
    "    \n",
    "    def push(self, stack, value):\n",
    "        if self.isFull(stack) == False:\n",
    "            self.stack[self.start[stack-1]] = value\n",
    "            self.start[stack-1] += 1\n",
    "\n",
    "    def pop(self, stack):\n",
    "        if self.isEmpty(stack) != True:\n",
    "            top = self.start[stack-1] - 1\n",
    "            item = self.stack[top]\n",
    "            self.stack[top] = None\n",
    "            self.start[stack-1] = top\n",
    "            return item"
   ]
  },
  {
   "cell_type": "code",
   "execution_count": 289,
   "metadata": {},
   "outputs": [
    {
     "name": "stdout",
     "output_type": "stream",
     "text": [
      "\n",
      "1. Create an empty three stack:\n",
      "\n",
      "7. Push an element to the second stack:\n",
      "None\n",
      "\n",
      "8. Push an element to the second stack:\n",
      "None\n",
      "\n",
      "8. Push an element to the second stack:\n",
      "None\n",
      "\n",
      "2. Print the stack:\n",
      "None None None 1 2 3 None None None\n",
      "\n",
      "5. Check if the second stack is full:\n",
      "True\n",
      "\n",
      "5. Check if the second stack is empty:\n",
      "False\n",
      "\n",
      "8. Pop the first element in the second stack:\n",
      "3\n",
      "\n",
      "2. Print the stack:\n",
      "None None None 1 2 None None None None\n",
      "\n",
      "8. Pop the first element in the second stack:\n",
      "2\n",
      "\n",
      "2. Print the stack:\n",
      "None None None 1 None None None None None\n",
      "\n",
      "8. Pop the first element in the second stack:\n",
      "1\n",
      "\n",
      "2. Print the stack:\n",
      "None None None None None None None None None\n",
      "[0, 3, 6]\n",
      "[3, 6, 9]\n"
     ]
    }
   ],
   "source": [
    "print(\"\\n1. Create an empty three stack:\")\n",
    "myThreeStack = ThreeStack(3)\n",
    "\n",
    "print(\"\\n2. Push an element to the second stack:\")\n",
    "print(myThreeStack.push(2,1))\n",
    "\n",
    "print(\"\\n3. Push an element to the second stack:\")\n",
    "print(myThreeStack.push(2,2))\n",
    "\n",
    "print(\"\\n4. Push an element to the second stack:\")\n",
    "print(myThreeStack.push(2,3))\n",
    "\n",
    "print(\"\\n5. Print the stack:\")\n",
    "print(myThreeStack)\n",
    "\n",
    "print(\"\\n6. Check if the second stack is full:\")\n",
    "print(myThreeStack.isFull(2))\n",
    "\n",
    "print(\"\\n7. Check if the second stack is empty:\")\n",
    "print(myThreeStack.isEmpty(2))\n",
    "\n",
    "print(\"\\n8. Pop the first element in the second stack:\")\n",
    "print(myThreeStack.pop(2))\n",
    "\n",
    "print(\"\\n9. Print the stack:\")\n",
    "print(myThreeStack)\n",
    "\n",
    "print(\"\\n10. Pop the first element in the second stack:\")\n",
    "print(myThreeStack.pop(2))\n",
    "\n",
    "print(\"\\n11. Print the stack:\")\n",
    "print(myThreeStack)\n",
    "\n",
    "print(\"\\n12. Pop the first element in the second stack:\")\n",
    "print(myThreeStack.pop(2))\n",
    "\n",
    "print(\"\\n13. Print the stack:\")\n",
    "print(myThreeStack)\n",
    "\n",
    "# print(myThreeStack.start)\n",
    "# print(myThreeStack.end)"
   ]
  },
  {
   "cell_type": "markdown",
   "metadata": {},
   "source": [
    "## 2. Stack Minimum"
   ]
  },
  {
   "cell_type": "markdown",
   "metadata": {},
   "source": [
    "How would you design a stack which, in addition to push and pop, has a function min which returns the minimum element? Push, pop and min should all operate in 0(1) time."
   ]
  },
  {
   "cell_type": "code",
   "execution_count": 337,
   "metadata": {},
   "outputs": [],
   "source": [
    "class Node:\n",
    "    def __init__(self, value, next=None):\n",
    "        self.value = value\n",
    "        self.next = next\n",
    "\n",
    "    def __str__(self):\n",
    "        string = str(self.value)\n",
    "        if self.next:\n",
    "            string += ', ' + str(self.next)\n",
    "        return string\n",
    "    \n",
    "class Stack:\n",
    "    def __init__(self):\n",
    "        self.head = None\n",
    "        self.min = None\n",
    "\n",
    "    def min(self):\n",
    "        if self.min == None:\n",
    "            return None\n",
    "        else:\n",
    "            return self.min.value\n",
    "\n",
    "    def push(self, item):\n",
    "        if self.min and (self.min.value < item):\n",
    "            self.min = Node(value=self.min.value, next=self.min)\n",
    "        else:\n",
    "            self.min = Node(value=item, next=self.min)\n",
    "        self.head = Node(value=item, next=self.head)\n",
    "\n",
    "    def pop(self):\n",
    "        if self.head == None:\n",
    "            return None\n",
    "        else:\n",
    "            self.min = self.min.next\n",
    "            item = self.head.value\n",
    "            self.head = self.head.next\n",
    "        return item"
   ]
  },
  {
   "cell_type": "code",
   "execution_count": 338,
   "metadata": {},
   "outputs": [
    {
     "name": "stdout",
     "output_type": "stream",
     "text": [
      "\n",
      "1. Create an empty stack:\n",
      "\n",
      "2. Push an element to the stack:\n",
      "5\n",
      "\n",
      "3. Push an element to the stack:\n",
      "5, 5\n",
      "\n",
      "4. Push an element to the stack:\n",
      "3, 5, 5\n",
      "\n",
      "5. Pop an element from the stack:\n",
      "5, 5\n"
     ]
    }
   ],
   "source": [
    "print(\"\\n1. Create an empty stack:\")\n",
    "mystack = Stack()\n",
    "\n",
    "print(\"\\n2. Push an element to the stack:\")\n",
    "mystack.push(5)\n",
    "print(mystack.min)\n",
    "\n",
    "print(\"\\n3. Push an element to the stack:\")\n",
    "mystack.push(6)\n",
    "print(mystack.min)\n",
    "\n",
    "print(\"\\n4. Push an element to the stack:\")\n",
    "mystack.push(3)\n",
    "print(mystack.min)\n",
    "\n",
    "print(\"\\n5. Pop an element from the stack:\")\n",
    "mystack.pop()\n",
    "print(mystack.min)"
   ]
  },
  {
   "cell_type": "markdown",
   "metadata": {},
   "source": [
    "## 3. Animal Shelter"
   ]
  },
  {
   "cell_type": "markdown",
   "metadata": {},
   "source": [
    "An animal shelter, which holds only dogs and cats, operates on a strictly\"first in, first out\" basis. People must adopt either the \"oldest\" (based on arrival time) of all animals at the shelter, or they can select whether they would prefer a dog or a cat (and will receive the oldest animal of that type). They cannot select which specific animal they would like. Create the data structures to maintain this system and implement operations such as enqueue, dequeueAny, dequeueDog and dequeueCat. You may use the built-in Linked List data structure."
   ]
  },
  {
   "cell_type": "code",
   "execution_count": 351,
   "metadata": {},
   "outputs": [],
   "source": [
    "class Queue:\n",
    "    def __init__(self):\n",
    "        self.dog = []\n",
    "        self.cat = []\n",
    "\n",
    "    def enqueue(self, animal, type):\n",
    "        if type == \"cat\":\n",
    "            self.cat.append(animal)\n",
    "        else:\n",
    "            self.dog.append(animal)\n",
    "\n",
    "    def dequeueCat(self):\n",
    "        if self.cat != []:\n",
    "            cat = self.cat.pop()\n",
    "            return cat\n",
    "        \n",
    "    def dequeueDog(self):\n",
    "        if self.dog != []:\n",
    "            dog = self.dog.pop()\n",
    "            return dog\n",
    "        \n",
    "    def dequeueAny(self):\n",
    "        if self.cat == [] and self.dog == []:\n",
    "            return None\n",
    "        elif self.cat == []:\n",
    "            animal = self.dog.pop()\n",
    "        else:\n",
    "            animal = self.cat.pop()\n",
    "        return animal     "
   ]
  },
  {
   "cell_type": "code",
   "execution_count": 354,
   "metadata": {},
   "outputs": [
    {
     "name": "stdout",
     "output_type": "stream",
     "text": [
      "\n",
      "1. Create a queue:\n",
      "\n",
      "2. Enqueue a cat:\n",
      "None\n",
      "\n",
      "3. Enqueue a cat:\n",
      "None\n",
      "\n",
      "4. Enqueue a dog:\n",
      "None\n",
      "\n",
      "5. Enqueue a cat:\n",
      "None\n",
      "\n",
      "6. Enqueue a dog:\n",
      "None\n",
      "\n",
      "2. Dequeue a cat:\n",
      "Cat3\n",
      "\n",
      "2. Dequeue a cat:\n",
      "Cat2\n",
      "\n",
      "2. Dequeue a cat:\n",
      "Cat1\n",
      "\n",
      "2. Dequeue any animal:\n",
      "Dog2\n"
     ]
    }
   ],
   "source": [
    "print(\"\\n1. Create a queue:\")\n",
    "myqueue = Queue()\n",
    "\n",
    "print(\"\\n2. Enqueue a cat:\")\n",
    "print(myqueue.enqueue(\"Cat1\", \"cat\"))\n",
    "\n",
    "print(\"\\n3. Enqueue a cat:\")\n",
    "print(myqueue.enqueue(\"Cat2\", \"cat\"))\n",
    "\n",
    "print(\"\\n4. Enqueue a dog:\")\n",
    "print(myqueue.enqueue(\"Dog1\", \"dog\"))\n",
    "\n",
    "print(\"\\n5. Enqueue a cat:\")\n",
    "print(myqueue.enqueue(\"Cat3\", \"cat\"))\n",
    "\n",
    "print(\"\\n6. Enqueue a dog:\")\n",
    "print(myqueue.enqueue(\"Dog2\", \"dog\"))\n",
    "\n",
    "print(\"\\n2. Dequeue a cat:\")\n",
    "print(myqueue.dequeueCat())\n",
    "\n",
    "print(\"\\n2. Dequeue a cat:\")\n",
    "print(myqueue.dequeueCat())\n",
    "\n",
    "print(\"\\n2. Dequeue a cat:\")\n",
    "print(myqueue.dequeueCat())\n",
    "\n",
    "print(\"\\n2. Dequeue any animal:\")\n",
    "print(myqueue.dequeueAny())"
   ]
  },
  {
   "cell_type": "markdown",
   "metadata": {},
   "source": [
    "## 4. Queue via Stacks"
   ]
  },
  {
   "cell_type": "markdown",
   "metadata": {},
   "source": [
    "Implement a Queue class which implements a queue using two stacks."
   ]
  },
  {
   "cell_type": "code",
   "execution_count": 355,
   "metadata": {},
   "outputs": [],
   "source": [
    "class Queue:\n",
    "    def __init__(self):\n",
    "        self.stack1 = []\n",
    "        self.stack2 = []\n",
    "\n",
    "    def enqueue(self, value):\n",
    "        self.stack1.append(value)\n",
    "\n",
    "    def dequeue(self, value):\n",
    "        self.stack2 = self.stack1.reverse()\n",
    "        self.stack1 = self.stack2.reverse()\n",
    "        return self.stack2.pop()"
   ]
  },
  {
   "cell_type": "code",
   "execution_count": 357,
   "metadata": {},
   "outputs": [],
   "source": [
    "class Stack:\n",
    "    def __init__(self):\n",
    "        self.stack = []\n",
    "\n",
    "    def __len__(self):\n",
    "        return len(self.stack)\n",
    "    \n",
    "    def push(self, value):\n",
    "        self.stack.append(value)\n",
    "\n",
    "    def pop(self):\n",
    "        if len(self.stack) == 0:\n",
    "            return None\n",
    "        else:\n",
    "            return self.stack.pop()\n",
    "        \n",
    "class QueueViaStack:\n",
    "    def __init__(self):\n",
    "        self.stack1 = Stack()\n",
    "        self.stack2 = Stack()\n",
    "\n",
    "    def enqueue(self, value):\n",
    "        self.stack1.push(value)\n",
    "\n",
    "    def dequeue(self):\n",
    "        while len(self.stack1) != 0:\n",
    "            item = self.stack1.pop()\n",
    "            self.stack2.push(item)\n",
    "        popped_item = self.stack2.pop()\n",
    "        while len(self.stack2) != 0:\n",
    "            item = self.stack2.pop()\n",
    "            self.stack1.push(item)\n",
    "        return popped_item"
   ]
  },
  {
   "cell_type": "code",
   "execution_count": 369,
   "metadata": {},
   "outputs": [
    {
     "name": "stdout",
     "output_type": "stream",
     "text": [
      "\n",
      "1. Create queue via stack:\n",
      "\n",
      "2. Enqueue an element to the queue:\n",
      "None\n",
      "\n",
      "3. Enqueue an element to the queue:\n",
      "None\n",
      "\n",
      "4. Enqueue an element to the queue:\n",
      "None\n",
      "\n",
      "5. Dequeue an element from the queue:\n",
      "1\n",
      "\n",
      "6. Dequeue an element from the queue:\n",
      "2\n",
      "\n",
      "7. Dequeue an element from the queue:\n",
      "3\n"
     ]
    }
   ],
   "source": [
    "print(\"\\n1. Create queue via stack:\")\n",
    "myqueue = QueueViaStack()\n",
    "\n",
    "print(\"\\n2. Enqueue an element to the queue:\")\n",
    "print(myqueue.enqueue(1))\n",
    "\n",
    "print(\"\\n3. Enqueue an element to the queue:\")\n",
    "print(myqueue.enqueue(2))\n",
    "\n",
    "print(\"\\n4. Enqueue an element to the queue:\")\n",
    "print(myqueue.enqueue(3))\n",
    "\n",
    "print(\"\\n5. Dequeue an element from the queue:\")\n",
    "print(myqueue.dequeue())\n",
    "\n",
    "print(\"\\n6. Dequeue an element from the queue:\")\n",
    "print(myqueue.dequeue())\n",
    "\n",
    "print(\"\\n7. Dequeue an element from the queue:\")\n",
    "print(myqueue.dequeue())"
   ]
  }
 ],
 "metadata": {
  "kernelspec": {
   "display_name": "Python 3",
   "language": "python",
   "name": "python3"
  },
  "language_info": {
   "codemirror_mode": {
    "name": "ipython",
    "version": 3
   },
   "file_extension": ".py",
   "mimetype": "text/x-python",
   "name": "python",
   "nbconvert_exporter": "python",
   "pygments_lexer": "ipython3",
   "version": "3.9.13"
  }
 },
 "nbformat": 4,
 "nbformat_minor": 2
}
