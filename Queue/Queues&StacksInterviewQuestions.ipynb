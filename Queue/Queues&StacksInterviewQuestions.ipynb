{
 "cells": [
  {
   "cell_type": "markdown",
   "metadata": {},
   "source": [
    "# Queues and Stacks Interview Questions"
   ]
  },
  {
   "cell_type": "markdown",
   "metadata": {},
   "source": [
    "## 1. Three in One"
   ]
  },
  {
   "cell_type": "markdown",
   "metadata": {},
   "source": [
    "Describe how you could use a single array to implement three stacks."
   ]
  },
  {
   "cell_type": "code",
   "execution_count": 26,
   "metadata": {},
   "outputs": [],
   "source": [
    "class MultiStack:\n",
    "    def __init__(self, stack_size):\n",
    "        self.number_stacks = 3\n",
    "        self.stack = [0] * (stack_size * self.number_stacks)\n",
    "        self.sizes = [0] * self.number_stacks\n",
    "        self.stack_size = stack_size\n",
    "\n",
    "    def __str__(self):\n",
    "        elements = self.stack.reverse()\n",
    "        elements = [str(i) for i in self.stack]\n",
    "        return ' '.join(elements)\n",
    "        \n",
    "    def isEmpty(self):\n",
    "        if self.stack == [0] * (self.stack_size * self.number_stacks):\n",
    "            return True\n",
    "        else:\n",
    "            return False\n",
    "        \n",
    "    def isFull(self):\n",
    "        if self.sizes[number_stacks] == self.stack_size:"
   ]
  },
  {
   "cell_type": "code",
   "execution_count": 43,
   "metadata": {},
   "outputs": [
    {
     "name": "stdout",
     "output_type": "stream",
     "text": [
      "0 0 0 0 0 0 0 0 0\n",
      "True\n",
      "0\n",
      "3\n"
     ]
    }
   ],
   "source": [
    "mystacks = MultiStack(3)\n",
    "print(mystacks)\n",
    "print(mystacks.isEmpty())\n",
    "print(mystacks.sizes[mystacks.number_stacks -1])\n",
    "print(mystacks.stack_size)"
   ]
  },
  {
   "cell_type": "code",
   "execution_count": 194,
   "metadata": {},
   "outputs": [],
   "source": [
    "class ThreeStack:\n",
    "    def __init__(self, capacity):\n",
    "        capacity = capacity * 3\n",
    "        self.stack = [None] * capacity\n",
    "        self.start = [0, capacity//3, 2*(capacity//3)]\n",
    "        self.end = [capacity//3, 2*(capacity//3), capacity]\n",
    "\n",
    "    def __str__(self):\n",
    "        elements = self.stack.reverse()\n",
    "        elements = [str(i) for i in self.stack]\n",
    "        return ' '.join(elements)\n",
    "    \n",
    "    def isEmpty(self, stack):\n",
    "        if self.stack[self.start[stack-1] - 1] == None:\n",
    "            return True\n",
    "        else:\n",
    "            return False\n",
    "        \n",
    "    def isFull(self, stack):\n",
    "        if self.stack[self.end[stack-1] - 1] != None:\n",
    "            return True\n",
    "        else:\n",
    "            return False\n",
    "    \n",
    "    def push(self, stack, value):\n",
    "        if self.isFull(stack) == False:\n",
    "            self.stack[self.start[stack-1]] = value\n",
    "            self.start[stack-1] += 1\n",
    "\n",
    "    def pop(self, stack, value):\n",
    "        if self.isEmpty() != True:\n",
    "            self.stack[self.end[stack-1]] = None\n",
    "            \n",
    "        \n"
   ]
  },
  {
   "cell_type": "code",
   "execution_count": 210,
   "metadata": {},
   "outputs": [
    {
     "name": "stdout",
     "output_type": "stream",
     "text": [
      "\n",
      "1. Create an empty three stack:\n",
      "\n",
      "2. Print the stack:\n",
      "None None None None None None None None None\n",
      "\n",
      "3. Check if the second stack is empty:\n",
      "True\n",
      "\n",
      "4. Push an element to the second stack:\n",
      "None\n",
      "\n",
      "5. Check if the second stack is empty:\n",
      "False\n",
      "\n",
      "6. Print the stack:\n",
      "None None None None None 1 None None None\n",
      "\n",
      "7. Push an element to the second stack:\n",
      "None\n",
      "\n",
      "8. Push an element to the second stack:\n",
      "None\n",
      "\n",
      "9. Print the stack:\n",
      "None None None 1 None None None None None\n"
     ]
    }
   ],
   "source": [
    "print(\"\\n1. Create an empty three stack:\")\n",
    "myThreeStack = ThreeStack(3)\n",
    "\n",
    "print(\"\\n2. Print the stack:\")\n",
    "print(myThreeStack)\n",
    "\n",
    "print(\"\\n3. Check if the second stack is empty:\")\n",
    "print(myThreeStack.isEmpty(2))\n",
    "\n",
    "print(\"\\n4. Push an element to the second stack:\")\n",
    "print(myThreeStack.push(2,1))\n",
    "\n",
    "print(\"\\n5. Check if the second stack is empty:\")\n",
    "print(myThreeStack.isEmpty(2))\n",
    "\n",
    "print(\"\\n6. Print the stack:\")\n",
    "print(myThreeStack)\n",
    "\n",
    "print(\"\\n7. Push an element to the second stack:\")\n",
    "print(myThreeStack.push(2,2))\n",
    "\n",
    "print(\"\\n8. Push an element to the second stack:\")\n",
    "print(myThreeStack.push(2,3))\n",
    "\n",
    "print(\"\\n9. Print the stack:\")\n",
    "print(myThreeStack)\n",
    "\n",
    "# print(\"\\n8. Push an element to the second stack:\")\n",
    "# print(myThreeStack.push(2,3))\n",
    "\n",
    "# print(myThreeStack.start)\n",
    "# print(myThreeStack.end)\n",
    "\n",
    "# myThreeStack.push(2,1)\n",
    "# print(myThreeStack)"
   ]
  },
  {
   "cell_type": "code",
   "execution_count": 213,
   "metadata": {},
   "outputs": [
    {
     "name": "stdout",
     "output_type": "stream",
     "text": [
      "\n",
      "1. Create an empty three stack:\n",
      "\n",
      "7. Push an element to the second stack:\n",
      "None\n",
      "\n",
      "8. Push an element to the second stack:\n",
      "None\n",
      "\n",
      "8. Push an element to the second stack:\n",
      "None\n",
      "\n",
      "2. Print the stack:\n",
      "None None None 4 3 2 None None None\n"
     ]
    },
    {
     "data": {
      "text/plain": [
       "True"
      ]
     },
     "execution_count": 213,
     "metadata": {},
     "output_type": "execute_result"
    }
   ],
   "source": [
    "print(\"\\n1. Create an empty three stack:\")\n",
    "myThreeStack = ThreeStack(3)\n",
    "\n",
    "print(\"\\n7. Push an element to the second stack:\")\n",
    "print(myThreeStack.push(2,2))\n",
    "\n",
    "print(\"\\n8. Push an element to the second stack:\")\n",
    "print(myThreeStack.push(2,3))\n",
    "\n",
    "print(\"\\n8. Push an element to the second stack:\")\n",
    "print(myThreeStack.push(2,4))\n",
    "\n",
    "print(\"\\n2. Print the stack:\")\n",
    "print(myThreeStack)\n",
    "\n",
    "myThreeStack.isFull(2)"
   ]
  },
  {
   "cell_type": "code",
   "execution_count": 104,
   "metadata": {},
   "outputs": [
    {
     "data": {
      "text/plain": [
       "[1, 2]"
      ]
     },
     "execution_count": 104,
     "metadata": {},
     "output_type": "execute_result"
    }
   ],
   "source": [
    "lst = [1,2,3]\n",
    "lst[0:2]"
   ]
  },
  {
   "cell_type": "code",
   "execution_count": 100,
   "metadata": {},
   "outputs": [
    {
     "data": {
      "text/plain": [
       "[0, 0, 0]"
      ]
     },
     "execution_count": 100,
     "metadata": {},
     "output_type": "execute_result"
    }
   ],
   "source": [
    "lst = [None, None, None]\n",
    "[lst.index(i) for i in lst]"
   ]
  },
  {
   "cell_type": "code",
   "execution_count": 182,
   "metadata": {},
   "outputs": [
    {
     "data": {
      "text/plain": [
       "3"
      ]
     },
     "execution_count": 182,
     "metadata": {},
     "output_type": "execute_result"
    }
   ],
   "source": [
    "9//3"
   ]
  },
  {
   "cell_type": "code",
   "execution_count": null,
   "metadata": {},
   "outputs": [],
   "source": []
  }
 ],
 "metadata": {
  "kernelspec": {
   "display_name": "Python 3",
   "language": "python",
   "name": "python3"
  },
  "language_info": {
   "codemirror_mode": {
    "name": "ipython",
    "version": 3
   },
   "file_extension": ".py",
   "mimetype": "text/x-python",
   "name": "python",
   "nbconvert_exporter": "python",
   "pygments_lexer": "ipython3",
   "version": "3.9.13"
  }
 },
 "nbformat": 4,
 "nbformat_minor": 2
}
