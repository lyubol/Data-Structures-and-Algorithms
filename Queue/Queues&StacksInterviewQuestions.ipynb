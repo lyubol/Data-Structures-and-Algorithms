{
 "cells": [
  {
   "cell_type": "markdown",
   "metadata": {},
   "source": [
    "# Queues and Stacks Interview Questions"
   ]
  },
  {
   "cell_type": "markdown",
   "metadata": {},
   "source": [
    "## 1. Three in One"
   ]
  },
  {
   "cell_type": "markdown",
   "metadata": {},
   "source": [
    "Describe how you could use a single array to implement three stacks."
   ]
  },
  {
   "cell_type": "code",
   "execution_count": 285,
   "metadata": {},
   "outputs": [],
   "source": [
    "class ThreeStack:\n",
    "    def __init__(self, capacity):\n",
    "        capacity = capacity * 3\n",
    "        self.stack = [None] * capacity\n",
    "        self.start = [0, capacity//3, 2*(capacity//3)]\n",
    "        self.end = [capacity//3, 2*(capacity//3), capacity]\n",
    "\n",
    "    def __str__(self):\n",
    "        # elements = self.stack.reverse()\n",
    "        elements = [str(i) for i in self.stack]\n",
    "        return ' '.join(elements)\n",
    "    \n",
    "    def isEmpty(self, stack):\n",
    "        if self.stack[self.start[stack-1] - 1] == None:\n",
    "            return True\n",
    "        else:\n",
    "            return False\n",
    "        \n",
    "    def isFull(self, stack):\n",
    "        if self.stack[self.end[stack-1] - 1] != None:\n",
    "            return True\n",
    "        else:\n",
    "            return False\n",
    "    \n",
    "    def push(self, stack, value):\n",
    "        if self.isFull(stack) == False:\n",
    "            self.stack[self.start[stack-1]] = value\n",
    "            self.start[stack-1] += 1\n",
    "\n",
    "    def pop(self, stack):\n",
    "        if self.isEmpty(stack) != True:\n",
    "            top = self.start[stack-1] - 1\n",
    "            item = self.stack[top]\n",
    "            self.stack[top] = None\n",
    "            self.start[stack-1] = top\n",
    "            return item"
   ]
  },
  {
   "cell_type": "code",
   "execution_count": 289,
   "metadata": {},
   "outputs": [
    {
     "name": "stdout",
     "output_type": "stream",
     "text": [
      "\n",
      "1. Create an empty three stack:\n",
      "\n",
      "7. Push an element to the second stack:\n",
      "None\n",
      "\n",
      "8. Push an element to the second stack:\n",
      "None\n",
      "\n",
      "8. Push an element to the second stack:\n",
      "None\n",
      "\n",
      "2. Print the stack:\n",
      "None None None 1 2 3 None None None\n",
      "\n",
      "5. Check if the second stack is full:\n",
      "True\n",
      "\n",
      "5. Check if the second stack is empty:\n",
      "False\n",
      "\n",
      "8. Pop the first element in the second stack:\n",
      "3\n",
      "\n",
      "2. Print the stack:\n",
      "None None None 1 2 None None None None\n",
      "\n",
      "8. Pop the first element in the second stack:\n",
      "2\n",
      "\n",
      "2. Print the stack:\n",
      "None None None 1 None None None None None\n",
      "\n",
      "8. Pop the first element in the second stack:\n",
      "1\n",
      "\n",
      "2. Print the stack:\n",
      "None None None None None None None None None\n",
      "[0, 3, 6]\n",
      "[3, 6, 9]\n"
     ]
    }
   ],
   "source": [
    "print(\"\\n1. Create an empty three stack:\")\n",
    "myThreeStack = ThreeStack(3)\n",
    "\n",
    "print(\"\\n2. Push an element to the second stack:\")\n",
    "print(myThreeStack.push(2,1))\n",
    "\n",
    "print(\"\\n3. Push an element to the second stack:\")\n",
    "print(myThreeStack.push(2,2))\n",
    "\n",
    "print(\"\\n4. Push an element to the second stack:\")\n",
    "print(myThreeStack.push(2,3))\n",
    "\n",
    "print(\"\\n5. Print the stack:\")\n",
    "print(myThreeStack)\n",
    "\n",
    "print(\"\\n6. Check if the second stack is full:\")\n",
    "print(myThreeStack.isFull(2))\n",
    "\n",
    "print(\"\\n7. Check if the second stack is empty:\")\n",
    "print(myThreeStack.isEmpty(2))\n",
    "\n",
    "print(\"\\n8. Pop the first element in the second stack:\")\n",
    "print(myThreeStack.pop(2))\n",
    "\n",
    "print(\"\\n9. Print the stack:\")\n",
    "print(myThreeStack)\n",
    "\n",
    "print(\"\\n10. Pop the first element in the second stack:\")\n",
    "print(myThreeStack.pop(2))\n",
    "\n",
    "print(\"\\n11. Print the stack:\")\n",
    "print(myThreeStack)\n",
    "\n",
    "print(\"\\n12. Pop the first element in the second stack:\")\n",
    "print(myThreeStack.pop(2))\n",
    "\n",
    "print(\"\\n13. Print the stack:\")\n",
    "print(myThreeStack)\n",
    "\n",
    "# print(myThreeStack.start)\n",
    "# print(myThreeStack.end)"
   ]
  },
  {
   "cell_type": "markdown",
   "metadata": {},
   "source": [
    "## 2. Stack Minimum"
   ]
  },
  {
   "cell_type": "markdown",
   "metadata": {},
   "source": [
    "How would you design a stack which, in addition to push and pop, has a function min which returns the minimum element? Push, pop and min should all operate in 0(1) time."
   ]
  },
  {
   "cell_type": "code",
   "execution_count": 337,
   "metadata": {},
   "outputs": [],
   "source": [
    "class Node:\n",
    "    def __init__(self, value, next=None):\n",
    "        self.value = value\n",
    "        self.next = next\n",
    "\n",
    "    def __str__(self):\n",
    "        string = str(self.value)\n",
    "        if self.next:\n",
    "            string += ', ' + str(self.next)\n",
    "        return string\n",
    "    \n",
    "class Stack:\n",
    "    def __init__(self):\n",
    "        self.head = None\n",
    "        self.min = None\n",
    "\n",
    "    def min(self):\n",
    "        if self.min == None:\n",
    "            return None\n",
    "        else:\n",
    "            return self.min.value\n",
    "\n",
    "    def push(self, item):\n",
    "        if self.min and (self.min.value < item):\n",
    "            self.min = Node(value=self.min.value, next=self.min)\n",
    "        else:\n",
    "            self.min = Node(value=item, next=self.min)\n",
    "        self.head = Node(value=item, next=self.head)\n",
    "\n",
    "    def pop(self):\n",
    "        if self.head == None:\n",
    "            return None\n",
    "        else:\n",
    "            self.min = self.min.next\n",
    "            item = self.head.value\n",
    "            self.head = self.head.next\n",
    "        return item"
   ]
  },
  {
   "cell_type": "code",
   "execution_count": 338,
   "metadata": {},
   "outputs": [
    {
     "name": "stdout",
     "output_type": "stream",
     "text": [
      "\n",
      "1. Create an empty stack:\n",
      "\n",
      "2. Push an element to the stack:\n",
      "5\n",
      "\n",
      "3. Push an element to the stack:\n",
      "5, 5\n",
      "\n",
      "4. Push an element to the stack:\n",
      "3, 5, 5\n",
      "\n",
      "5. Pop an element from the stack:\n",
      "5, 5\n"
     ]
    }
   ],
   "source": [
    "print(\"\\n1. Create an empty stack:\")\n",
    "mystack = Stack()\n",
    "\n",
    "print(\"\\n2. Push an element to the stack:\")\n",
    "mystack.push(5)\n",
    "print(mystack.min)\n",
    "\n",
    "print(\"\\n3. Push an element to the stack:\")\n",
    "mystack.push(6)\n",
    "print(mystack.min)\n",
    "\n",
    "print(\"\\n4. Push an element to the stack:\")\n",
    "mystack.push(3)\n",
    "print(mystack.min)\n",
    "\n",
    "print(\"\\n5. Pop an element from the stack:\")\n",
    "mystack.pop()\n",
    "print(mystack.min)"
   ]
  }
 ],
 "metadata": {
  "kernelspec": {
   "display_name": "Python 3",
   "language": "python",
   "name": "python3"
  },
  "language_info": {
   "codemirror_mode": {
    "name": "ipython",
    "version": 3
   },
   "file_extension": ".py",
   "mimetype": "text/x-python",
   "name": "python",
   "nbconvert_exporter": "python",
   "pygments_lexer": "ipython3",
   "version": "3.9.13"
  }
 },
 "nbformat": 4,
 "nbformat_minor": 2
}
